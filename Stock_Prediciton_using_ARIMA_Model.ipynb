{
  "nbformat": 4,
  "nbformat_minor": 0,
  "metadata": {
    "colab": {
      "provenance": [],
      "collapsed_sections": [
        "D5ZinvEnwUQm",
        "6undgrRCXcC5",
        "IfClMucm1xyP",
        "ClJpNAiG2KBX",
        "9tX1xT2BIISe",
        "aqqohcCxMP-M"
      ]
    },
    "kernelspec": {
      "name": "python3",
      "display_name": "Python 3"
    },
    "language_info": {
      "name": "python"
    }
  },
  "cells": [
    {
      "cell_type": "code",
      "source": [],
      "metadata": {
        "id": "eTd4Ze8PXIIA"
      },
      "execution_count": null,
      "outputs": []
    },
    {
      "cell_type": "markdown",
      "metadata": {
        "id": "D5ZinvEnwUQm"
      },
      "source": [
        "# Data"
      ]
    },
    {
      "cell_type": "code",
      "execution_count": null,
      "metadata": {
        "id": "snwpMYOaGZBz"
      },
      "outputs": [],
      "source": [
        "import yfinance as yf\n",
        "import pandas as pd\n",
        "import time\n",
        "\n",
        "def download_multiple_tickers(tickers):\n",
        "    start_date = \"2015-03-01\"\n",
        "    end_date = \"2025-07-01\"\n",
        "\n",
        "    for ticker in tickers:\n",
        "        file_name = f\"{ticker}.csv\"\n",
        "        print(f\"\\nDownloading data for {ticker}...\")\n",
        "\n",
        "        attempt = 0\n",
        "        max_retries = 3\n",
        "\n",
        "        while attempt < max_retries:\n",
        "            try:\n",
        "                data = yf.download(ticker, start=start_date, end=end_date)\n",
        "\n",
        "                if data.empty:\n",
        "                    print(f\" No data found for {ticker}. Skipping.\")\n",
        "                    break\n",
        "\n",
        "                # Reset index\n",
        "                data.reset_index(inplace=True)\n",
        "\n",
        "                # Save to CSV\n",
        "                data.to_csv(file_name, index=False)\n",
        "                print(f\" Saved to {file_name}\")\n",
        "                break\n",
        "\n",
        "            except Exception as e:\n",
        "                print(f\"Error downloading {ticker}: {e}\")\n",
        "                if \"Rate limited\" in str(e) or \"Too Many Requests\" in str(e):\n",
        "                    attempt += 1\n",
        "                    wait_time = 10 * attempt\n",
        "                    print(f\" Rate limit hit. Retrying after {wait_time} seconds...\")\n",
        "                    time.sleep(wait_time)\n",
        "                else:\n",
        "                    break\n",
        "        else:\n",
        "            print(f\" Failed to download {ticker} after {max_retries} attempts.\")"
      ]
    },
    {
      "cell_type": "code",
      "execution_count": null,
      "metadata": {
        "colab": {
          "base_uri": "https://localhost:8080/"
        },
        "id": "pZe9q0nZG2lr",
        "outputId": "443cb25a-03a3-4d56-ea62-96b628c74b9c"
      },
      "outputs": [
        {
          "output_type": "stream",
          "name": "stdout",
          "text": [
            "\n",
            "Downloading data for NKE...\n"
          ]
        },
        {
          "output_type": "stream",
          "name": "stderr",
          "text": [
            "/tmp/ipython-input-1-1129366842.py:18: FutureWarning: YF.download() has changed argument auto_adjust default to True\n",
            "  data = yf.download(ticker, start=start_date, end=end_date)\n",
            "[*********************100%***********************]  1 of 1 completed\n",
            "/tmp/ipython-input-1-1129366842.py:18: FutureWarning: YF.download() has changed argument auto_adjust default to True\n",
            "  data = yf.download(ticker, start=start_date, end=end_date)\n"
          ]
        },
        {
          "output_type": "stream",
          "name": "stdout",
          "text": [
            " Saved to NKE.csv\n",
            "\n",
            "Downloading data for GS...\n"
          ]
        },
        {
          "output_type": "stream",
          "name": "stderr",
          "text": [
            "\r[*********************100%***********************]  1 of 1 completed\n",
            "/tmp/ipython-input-1-1129366842.py:18: FutureWarning: YF.download() has changed argument auto_adjust default to True\n",
            "  data = yf.download(ticker, start=start_date, end=end_date)\n"
          ]
        },
        {
          "output_type": "stream",
          "name": "stdout",
          "text": [
            " Saved to GS.csv\n",
            "\n",
            "Downloading data for JNJ...\n"
          ]
        },
        {
          "output_type": "stream",
          "name": "stderr",
          "text": [
            "\r[*********************100%***********************]  1 of 1 completed\n",
            "/tmp/ipython-input-1-1129366842.py:18: FutureWarning: YF.download() has changed argument auto_adjust default to True\n",
            "  data = yf.download(ticker, start=start_date, end=end_date)\n"
          ]
        },
        {
          "output_type": "stream",
          "name": "stdout",
          "text": [
            " Saved to JNJ.csv\n",
            "\n",
            "Downloading data for PFE...\n"
          ]
        },
        {
          "output_type": "stream",
          "name": "stderr",
          "text": [
            "\r[*********************100%***********************]  1 of 1 completed\n",
            "/tmp/ipython-input-1-1129366842.py:18: FutureWarning: YF.download() has changed argument auto_adjust default to True\n",
            "  data = yf.download(ticker, start=start_date, end=end_date)\n"
          ]
        },
        {
          "output_type": "stream",
          "name": "stdout",
          "text": [
            " Saved to PFE.csv\n",
            "\n",
            "Downloading data for JPM...\n"
          ]
        },
        {
          "output_type": "stream",
          "name": "stderr",
          "text": [
            "\r[*********************100%***********************]  1 of 1 completed"
          ]
        },
        {
          "output_type": "stream",
          "name": "stdout",
          "text": [
            " Saved to JPM.csv\n"
          ]
        },
        {
          "output_type": "stream",
          "name": "stderr",
          "text": [
            "\n"
          ]
        }
      ],
      "source": [
        "if __name__ == \"__main__\":\n",
        "    tickers = [\"NKE\", \"GS\", \"JNJ\", \"PFE\", \"JPM\"]\n",
        "    download_multiple_tickers(tickers)"
      ]
    },
    {
      "cell_type": "code",
      "execution_count": null,
      "metadata": {
        "colab": {
          "base_uri": "https://localhost:8080/"
        },
        "id": "SuAC6w9DG6LD",
        "outputId": "77de1e4c-95b6-4be5-a586-1f9b7ae7b49a"
      },
      "outputs": [
        {
          "output_type": "execute_result",
          "data": {
            "text/plain": [
              "         Date               Close                High                 Low  \\\n",
              "1  2015-03-03  156.70370483398438  158.01454546486528   156.1302112766476   \n",
              "2  2015-03-04  155.39285278320312  156.33503238509022  154.82754752231529   \n",
              "3  2015-03-05  155.72879028320312  156.25312913932603  154.90132173718513   \n",
              "4  2015-03-06   153.1316680908203  156.81022825790632  152.86130411953826   \n",
              "5  2015-03-09  153.96731567382812  154.67189711699416  152.85310664867774   \n",
              "\n",
              "                 Open   Volume  \n",
              "1  156.23670918651032  1487800  \n",
              "2   155.9499697436513  1648500  \n",
              "3  155.76975679564893  1330100  \n",
              "4  153.68058433509935  4103600  \n",
              "5  153.45117766981835  2233700  "
            ],
            "text/html": [
              "\n",
              "  <div id=\"df-ba39feaf-4767-4103-9d5c-005550a68f76\" class=\"colab-df-container\">\n",
              "    <div>\n",
              "<style scoped>\n",
              "    .dataframe tbody tr th:only-of-type {\n",
              "        vertical-align: middle;\n",
              "    }\n",
              "\n",
              "    .dataframe tbody tr th {\n",
              "        vertical-align: top;\n",
              "    }\n",
              "\n",
              "    .dataframe thead th {\n",
              "        text-align: right;\n",
              "    }\n",
              "</style>\n",
              "<table border=\"1\" class=\"dataframe\">\n",
              "  <thead>\n",
              "    <tr style=\"text-align: right;\">\n",
              "      <th></th>\n",
              "      <th>Date</th>\n",
              "      <th>Close</th>\n",
              "      <th>High</th>\n",
              "      <th>Low</th>\n",
              "      <th>Open</th>\n",
              "      <th>Volume</th>\n",
              "    </tr>\n",
              "  </thead>\n",
              "  <tbody>\n",
              "    <tr>\n",
              "      <th>1</th>\n",
              "      <td>2015-03-03</td>\n",
              "      <td>156.70370483398438</td>\n",
              "      <td>158.01454546486528</td>\n",
              "      <td>156.1302112766476</td>\n",
              "      <td>156.23670918651032</td>\n",
              "      <td>1487800</td>\n",
              "    </tr>\n",
              "    <tr>\n",
              "      <th>2</th>\n",
              "      <td>2015-03-04</td>\n",
              "      <td>155.39285278320312</td>\n",
              "      <td>156.33503238509022</td>\n",
              "      <td>154.82754752231529</td>\n",
              "      <td>155.9499697436513</td>\n",
              "      <td>1648500</td>\n",
              "    </tr>\n",
              "    <tr>\n",
              "      <th>3</th>\n",
              "      <td>2015-03-05</td>\n",
              "      <td>155.72879028320312</td>\n",
              "      <td>156.25312913932603</td>\n",
              "      <td>154.90132173718513</td>\n",
              "      <td>155.76975679564893</td>\n",
              "      <td>1330100</td>\n",
              "    </tr>\n",
              "    <tr>\n",
              "      <th>4</th>\n",
              "      <td>2015-03-06</td>\n",
              "      <td>153.1316680908203</td>\n",
              "      <td>156.81022825790632</td>\n",
              "      <td>152.86130411953826</td>\n",
              "      <td>153.68058433509935</td>\n",
              "      <td>4103600</td>\n",
              "    </tr>\n",
              "    <tr>\n",
              "      <th>5</th>\n",
              "      <td>2015-03-09</td>\n",
              "      <td>153.96731567382812</td>\n",
              "      <td>154.67189711699416</td>\n",
              "      <td>152.85310664867774</td>\n",
              "      <td>153.45117766981835</td>\n",
              "      <td>2233700</td>\n",
              "    </tr>\n",
              "  </tbody>\n",
              "</table>\n",
              "</div>\n",
              "    <div class=\"colab-df-buttons\">\n",
              "\n",
              "  <div class=\"colab-df-container\">\n",
              "    <button class=\"colab-df-convert\" onclick=\"convertToInteractive('df-ba39feaf-4767-4103-9d5c-005550a68f76')\"\n",
              "            title=\"Convert this dataframe to an interactive table.\"\n",
              "            style=\"display:none;\">\n",
              "\n",
              "  <svg xmlns=\"http://www.w3.org/2000/svg\" height=\"24px\" viewBox=\"0 -960 960 960\">\n",
              "    <path d=\"M120-120v-720h720v720H120Zm60-500h600v-160H180v160Zm220 220h160v-160H400v160Zm0 220h160v-160H400v160ZM180-400h160v-160H180v160Zm440 0h160v-160H620v160ZM180-180h160v-160H180v160Zm440 0h160v-160H620v160Z\"/>\n",
              "  </svg>\n",
              "    </button>\n",
              "\n",
              "  <style>\n",
              "    .colab-df-container {\n",
              "      display:flex;\n",
              "      gap: 12px;\n",
              "    }\n",
              "\n",
              "    .colab-df-convert {\n",
              "      background-color: #E8F0FE;\n",
              "      border: none;\n",
              "      border-radius: 50%;\n",
              "      cursor: pointer;\n",
              "      display: none;\n",
              "      fill: #1967D2;\n",
              "      height: 32px;\n",
              "      padding: 0 0 0 0;\n",
              "      width: 32px;\n",
              "    }\n",
              "\n",
              "    .colab-df-convert:hover {\n",
              "      background-color: #E2EBFA;\n",
              "      box-shadow: 0px 1px 2px rgba(60, 64, 67, 0.3), 0px 1px 3px 1px rgba(60, 64, 67, 0.15);\n",
              "      fill: #174EA6;\n",
              "    }\n",
              "\n",
              "    .colab-df-buttons div {\n",
              "      margin-bottom: 4px;\n",
              "    }\n",
              "\n",
              "    [theme=dark] .colab-df-convert {\n",
              "      background-color: #3B4455;\n",
              "      fill: #D2E3FC;\n",
              "    }\n",
              "\n",
              "    [theme=dark] .colab-df-convert:hover {\n",
              "      background-color: #434B5C;\n",
              "      box-shadow: 0px 1px 3px 1px rgba(0, 0, 0, 0.15);\n",
              "      filter: drop-shadow(0px 1px 2px rgba(0, 0, 0, 0.3));\n",
              "      fill: #FFFFFF;\n",
              "    }\n",
              "  </style>\n",
              "\n",
              "    <script>\n",
              "      const buttonEl =\n",
              "        document.querySelector('#df-ba39feaf-4767-4103-9d5c-005550a68f76 button.colab-df-convert');\n",
              "      buttonEl.style.display =\n",
              "        google.colab.kernel.accessAllowed ? 'block' : 'none';\n",
              "\n",
              "      async function convertToInteractive(key) {\n",
              "        const element = document.querySelector('#df-ba39feaf-4767-4103-9d5c-005550a68f76');\n",
              "        const dataTable =\n",
              "          await google.colab.kernel.invokeFunction('convertToInteractive',\n",
              "                                                    [key], {});\n",
              "        if (!dataTable) return;\n",
              "\n",
              "        const docLinkHtml = 'Like what you see? Visit the ' +\n",
              "          '<a target=\"_blank\" href=https://colab.research.google.com/notebooks/data_table.ipynb>data table notebook</a>'\n",
              "          + ' to learn more about interactive tables.';\n",
              "        element.innerHTML = '';\n",
              "        dataTable['output_type'] = 'display_data';\n",
              "        await google.colab.output.renderOutput(dataTable, element);\n",
              "        const docLink = document.createElement('div');\n",
              "        docLink.innerHTML = docLinkHtml;\n",
              "        element.appendChild(docLink);\n",
              "      }\n",
              "    </script>\n",
              "  </div>\n",
              "\n",
              "\n",
              "    <div id=\"df-5c2c9c1c-d5c1-4098-867e-cce459adcbff\">\n",
              "      <button class=\"colab-df-quickchart\" onclick=\"quickchart('df-5c2c9c1c-d5c1-4098-867e-cce459adcbff')\"\n",
              "                title=\"Suggest charts\"\n",
              "                style=\"display:none;\">\n",
              "\n",
              "<svg xmlns=\"http://www.w3.org/2000/svg\" height=\"24px\"viewBox=\"0 0 24 24\"\n",
              "     width=\"24px\">\n",
              "    <g>\n",
              "        <path d=\"M19 3H5c-1.1 0-2 .9-2 2v14c0 1.1.9 2 2 2h14c1.1 0 2-.9 2-2V5c0-1.1-.9-2-2-2zM9 17H7v-7h2v7zm4 0h-2V7h2v10zm4 0h-2v-4h2v4z\"/>\n",
              "    </g>\n",
              "</svg>\n",
              "      </button>\n",
              "\n",
              "<style>\n",
              "  .colab-df-quickchart {\n",
              "      --bg-color: #E8F0FE;\n",
              "      --fill-color: #1967D2;\n",
              "      --hover-bg-color: #E2EBFA;\n",
              "      --hover-fill-color: #174EA6;\n",
              "      --disabled-fill-color: #AAA;\n",
              "      --disabled-bg-color: #DDD;\n",
              "  }\n",
              "\n",
              "  [theme=dark] .colab-df-quickchart {\n",
              "      --bg-color: #3B4455;\n",
              "      --fill-color: #D2E3FC;\n",
              "      --hover-bg-color: #434B5C;\n",
              "      --hover-fill-color: #FFFFFF;\n",
              "      --disabled-bg-color: #3B4455;\n",
              "      --disabled-fill-color: #666;\n",
              "  }\n",
              "\n",
              "  .colab-df-quickchart {\n",
              "    background-color: var(--bg-color);\n",
              "    border: none;\n",
              "    border-radius: 50%;\n",
              "    cursor: pointer;\n",
              "    display: none;\n",
              "    fill: var(--fill-color);\n",
              "    height: 32px;\n",
              "    padding: 0;\n",
              "    width: 32px;\n",
              "  }\n",
              "\n",
              "  .colab-df-quickchart:hover {\n",
              "    background-color: var(--hover-bg-color);\n",
              "    box-shadow: 0 1px 2px rgba(60, 64, 67, 0.3), 0 1px 3px 1px rgba(60, 64, 67, 0.15);\n",
              "    fill: var(--button-hover-fill-color);\n",
              "  }\n",
              "\n",
              "  .colab-df-quickchart-complete:disabled,\n",
              "  .colab-df-quickchart-complete:disabled:hover {\n",
              "    background-color: var(--disabled-bg-color);\n",
              "    fill: var(--disabled-fill-color);\n",
              "    box-shadow: none;\n",
              "  }\n",
              "\n",
              "  .colab-df-spinner {\n",
              "    border: 2px solid var(--fill-color);\n",
              "    border-color: transparent;\n",
              "    border-bottom-color: var(--fill-color);\n",
              "    animation:\n",
              "      spin 1s steps(1) infinite;\n",
              "  }\n",
              "\n",
              "  @keyframes spin {\n",
              "    0% {\n",
              "      border-color: transparent;\n",
              "      border-bottom-color: var(--fill-color);\n",
              "      border-left-color: var(--fill-color);\n",
              "    }\n",
              "    20% {\n",
              "      border-color: transparent;\n",
              "      border-left-color: var(--fill-color);\n",
              "      border-top-color: var(--fill-color);\n",
              "    }\n",
              "    30% {\n",
              "      border-color: transparent;\n",
              "      border-left-color: var(--fill-color);\n",
              "      border-top-color: var(--fill-color);\n",
              "      border-right-color: var(--fill-color);\n",
              "    }\n",
              "    40% {\n",
              "      border-color: transparent;\n",
              "      border-right-color: var(--fill-color);\n",
              "      border-top-color: var(--fill-color);\n",
              "    }\n",
              "    60% {\n",
              "      border-color: transparent;\n",
              "      border-right-color: var(--fill-color);\n",
              "    }\n",
              "    80% {\n",
              "      border-color: transparent;\n",
              "      border-right-color: var(--fill-color);\n",
              "      border-bottom-color: var(--fill-color);\n",
              "    }\n",
              "    90% {\n",
              "      border-color: transparent;\n",
              "      border-bottom-color: var(--fill-color);\n",
              "    }\n",
              "  }\n",
              "</style>\n",
              "\n",
              "      <script>\n",
              "        async function quickchart(key) {\n",
              "          const quickchartButtonEl =\n",
              "            document.querySelector('#' + key + ' button');\n",
              "          quickchartButtonEl.disabled = true;  // To prevent multiple clicks.\n",
              "          quickchartButtonEl.classList.add('colab-df-spinner');\n",
              "          try {\n",
              "            const charts = await google.colab.kernel.invokeFunction(\n",
              "                'suggestCharts', [key], {});\n",
              "          } catch (error) {\n",
              "            console.error('Error during call to suggestCharts:', error);\n",
              "          }\n",
              "          quickchartButtonEl.classList.remove('colab-df-spinner');\n",
              "          quickchartButtonEl.classList.add('colab-df-quickchart-complete');\n",
              "        }\n",
              "        (() => {\n",
              "          let quickchartButtonEl =\n",
              "            document.querySelector('#df-5c2c9c1c-d5c1-4098-867e-cce459adcbff button');\n",
              "          quickchartButtonEl.style.display =\n",
              "            google.colab.kernel.accessAllowed ? 'block' : 'none';\n",
              "        })();\n",
              "      </script>\n",
              "    </div>\n",
              "\n",
              "    </div>\n",
              "  </div>\n"
            ],
            "application/vnd.google.colaboratory.intrinsic+json": {
              "type": "dataframe",
              "variable_name": "df_GS",
              "repr_error": "0"
            }
          },
          "metadata": {},
          "execution_count": 3
        }
      ],
      "source": [
        "df_GS=pd.read_csv('GS.csv')\n",
        "df_GS= df_GS.drop(index=[0,1]).reset_index(drop=True)\n",
        "df_GS.index = range(1, len(df_GS) + 1)\n",
        "df_GS.to_csv(\"GS_data.csv\", index=False)\n",
        "df_GS.head()"
      ]
    },
    {
      "cell_type": "code",
      "execution_count": null,
      "metadata": {
        "colab": {
          "base_uri": "https://localhost:8080/"
        },
        "id": "GZjaNpU3w5Y6",
        "outputId": "2fc8ff1d-a61f-4676-dc31-276e1c98f68d"
      },
      "outputs": [
        {
          "output_type": "execute_result",
          "data": {
            "text/plain": [
              "         Date               Close                High                 Low  \\\n",
              "1  2015-03-03  46.781707763671875   46.79680628798701   46.42689964163884   \n",
              "2  2015-03-04   46.90249252319336   46.93268669171712  46.313661600870134   \n",
              "3  2015-03-05   46.80435562133789   46.97798433694392   46.50239088478443   \n",
              "4  2015-03-06  45.966400146484375   47.46111934767661   45.89845823371433   \n",
              "5  2015-03-09   46.42689514160156  46.525034100263056   45.89845836078805   \n",
              "\n",
              "                 Open    Volume  \n",
              "1  46.540137134127825  13706900  \n",
              "2   46.53258588122429  16625500  \n",
              "3   46.95533798961461  10931300  \n",
              "4  46.925134746795564  22719200  \n",
              "5  45.928655406491394  13001500  "
            ],
            "text/html": [
              "\n",
              "  <div id=\"df-cb5048ea-ae1c-4932-9c9b-f6d52b08ec97\" class=\"colab-df-container\">\n",
              "    <div>\n",
              "<style scoped>\n",
              "    .dataframe tbody tr th:only-of-type {\n",
              "        vertical-align: middle;\n",
              "    }\n",
              "\n",
              "    .dataframe tbody tr th {\n",
              "        vertical-align: top;\n",
              "    }\n",
              "\n",
              "    .dataframe thead th {\n",
              "        text-align: right;\n",
              "    }\n",
              "</style>\n",
              "<table border=\"1\" class=\"dataframe\">\n",
              "  <thead>\n",
              "    <tr style=\"text-align: right;\">\n",
              "      <th></th>\n",
              "      <th>Date</th>\n",
              "      <th>Close</th>\n",
              "      <th>High</th>\n",
              "      <th>Low</th>\n",
              "      <th>Open</th>\n",
              "      <th>Volume</th>\n",
              "    </tr>\n",
              "  </thead>\n",
              "  <tbody>\n",
              "    <tr>\n",
              "      <th>1</th>\n",
              "      <td>2015-03-03</td>\n",
              "      <td>46.781707763671875</td>\n",
              "      <td>46.79680628798701</td>\n",
              "      <td>46.42689964163884</td>\n",
              "      <td>46.540137134127825</td>\n",
              "      <td>13706900</td>\n",
              "    </tr>\n",
              "    <tr>\n",
              "      <th>2</th>\n",
              "      <td>2015-03-04</td>\n",
              "      <td>46.90249252319336</td>\n",
              "      <td>46.93268669171712</td>\n",
              "      <td>46.313661600870134</td>\n",
              "      <td>46.53258588122429</td>\n",
              "      <td>16625500</td>\n",
              "    </tr>\n",
              "    <tr>\n",
              "      <th>3</th>\n",
              "      <td>2015-03-05</td>\n",
              "      <td>46.80435562133789</td>\n",
              "      <td>46.97798433694392</td>\n",
              "      <td>46.50239088478443</td>\n",
              "      <td>46.95533798961461</td>\n",
              "      <td>10931300</td>\n",
              "    </tr>\n",
              "    <tr>\n",
              "      <th>4</th>\n",
              "      <td>2015-03-06</td>\n",
              "      <td>45.966400146484375</td>\n",
              "      <td>47.46111934767661</td>\n",
              "      <td>45.89845823371433</td>\n",
              "      <td>46.925134746795564</td>\n",
              "      <td>22719200</td>\n",
              "    </tr>\n",
              "    <tr>\n",
              "      <th>5</th>\n",
              "      <td>2015-03-09</td>\n",
              "      <td>46.42689514160156</td>\n",
              "      <td>46.525034100263056</td>\n",
              "      <td>45.89845836078805</td>\n",
              "      <td>45.928655406491394</td>\n",
              "      <td>13001500</td>\n",
              "    </tr>\n",
              "  </tbody>\n",
              "</table>\n",
              "</div>\n",
              "    <div class=\"colab-df-buttons\">\n",
              "\n",
              "  <div class=\"colab-df-container\">\n",
              "    <button class=\"colab-df-convert\" onclick=\"convertToInteractive('df-cb5048ea-ae1c-4932-9c9b-f6d52b08ec97')\"\n",
              "            title=\"Convert this dataframe to an interactive table.\"\n",
              "            style=\"display:none;\">\n",
              "\n",
              "  <svg xmlns=\"http://www.w3.org/2000/svg\" height=\"24px\" viewBox=\"0 -960 960 960\">\n",
              "    <path d=\"M120-120v-720h720v720H120Zm60-500h600v-160H180v160Zm220 220h160v-160H400v160Zm0 220h160v-160H400v160ZM180-400h160v-160H180v160Zm440 0h160v-160H620v160ZM180-180h160v-160H180v160Zm440 0h160v-160H620v160Z\"/>\n",
              "  </svg>\n",
              "    </button>\n",
              "\n",
              "  <style>\n",
              "    .colab-df-container {\n",
              "      display:flex;\n",
              "      gap: 12px;\n",
              "    }\n",
              "\n",
              "    .colab-df-convert {\n",
              "      background-color: #E8F0FE;\n",
              "      border: none;\n",
              "      border-radius: 50%;\n",
              "      cursor: pointer;\n",
              "      display: none;\n",
              "      fill: #1967D2;\n",
              "      height: 32px;\n",
              "      padding: 0 0 0 0;\n",
              "      width: 32px;\n",
              "    }\n",
              "\n",
              "    .colab-df-convert:hover {\n",
              "      background-color: #E2EBFA;\n",
              "      box-shadow: 0px 1px 2px rgba(60, 64, 67, 0.3), 0px 1px 3px 1px rgba(60, 64, 67, 0.15);\n",
              "      fill: #174EA6;\n",
              "    }\n",
              "\n",
              "    .colab-df-buttons div {\n",
              "      margin-bottom: 4px;\n",
              "    }\n",
              "\n",
              "    [theme=dark] .colab-df-convert {\n",
              "      background-color: #3B4455;\n",
              "      fill: #D2E3FC;\n",
              "    }\n",
              "\n",
              "    [theme=dark] .colab-df-convert:hover {\n",
              "      background-color: #434B5C;\n",
              "      box-shadow: 0px 1px 3px 1px rgba(0, 0, 0, 0.15);\n",
              "      filter: drop-shadow(0px 1px 2px rgba(0, 0, 0, 0.3));\n",
              "      fill: #FFFFFF;\n",
              "    }\n",
              "  </style>\n",
              "\n",
              "    <script>\n",
              "      const buttonEl =\n",
              "        document.querySelector('#df-cb5048ea-ae1c-4932-9c9b-f6d52b08ec97 button.colab-df-convert');\n",
              "      buttonEl.style.display =\n",
              "        google.colab.kernel.accessAllowed ? 'block' : 'none';\n",
              "\n",
              "      async function convertToInteractive(key) {\n",
              "        const element = document.querySelector('#df-cb5048ea-ae1c-4932-9c9b-f6d52b08ec97');\n",
              "        const dataTable =\n",
              "          await google.colab.kernel.invokeFunction('convertToInteractive',\n",
              "                                                    [key], {});\n",
              "        if (!dataTable) return;\n",
              "\n",
              "        const docLinkHtml = 'Like what you see? Visit the ' +\n",
              "          '<a target=\"_blank\" href=https://colab.research.google.com/notebooks/data_table.ipynb>data table notebook</a>'\n",
              "          + ' to learn more about interactive tables.';\n",
              "        element.innerHTML = '';\n",
              "        dataTable['output_type'] = 'display_data';\n",
              "        await google.colab.output.renderOutput(dataTable, element);\n",
              "        const docLink = document.createElement('div');\n",
              "        docLink.innerHTML = docLinkHtml;\n",
              "        element.appendChild(docLink);\n",
              "      }\n",
              "    </script>\n",
              "  </div>\n",
              "\n",
              "\n",
              "    <div id=\"df-267dda69-f9d5-4d9d-97b3-1707b840f5e7\">\n",
              "      <button class=\"colab-df-quickchart\" onclick=\"quickchart('df-267dda69-f9d5-4d9d-97b3-1707b840f5e7')\"\n",
              "                title=\"Suggest charts\"\n",
              "                style=\"display:none;\">\n",
              "\n",
              "<svg xmlns=\"http://www.w3.org/2000/svg\" height=\"24px\"viewBox=\"0 0 24 24\"\n",
              "     width=\"24px\">\n",
              "    <g>\n",
              "        <path d=\"M19 3H5c-1.1 0-2 .9-2 2v14c0 1.1.9 2 2 2h14c1.1 0 2-.9 2-2V5c0-1.1-.9-2-2-2zM9 17H7v-7h2v7zm4 0h-2V7h2v10zm4 0h-2v-4h2v4z\"/>\n",
              "    </g>\n",
              "</svg>\n",
              "      </button>\n",
              "\n",
              "<style>\n",
              "  .colab-df-quickchart {\n",
              "      --bg-color: #E8F0FE;\n",
              "      --fill-color: #1967D2;\n",
              "      --hover-bg-color: #E2EBFA;\n",
              "      --hover-fill-color: #174EA6;\n",
              "      --disabled-fill-color: #AAA;\n",
              "      --disabled-bg-color: #DDD;\n",
              "  }\n",
              "\n",
              "  [theme=dark] .colab-df-quickchart {\n",
              "      --bg-color: #3B4455;\n",
              "      --fill-color: #D2E3FC;\n",
              "      --hover-bg-color: #434B5C;\n",
              "      --hover-fill-color: #FFFFFF;\n",
              "      --disabled-bg-color: #3B4455;\n",
              "      --disabled-fill-color: #666;\n",
              "  }\n",
              "\n",
              "  .colab-df-quickchart {\n",
              "    background-color: var(--bg-color);\n",
              "    border: none;\n",
              "    border-radius: 50%;\n",
              "    cursor: pointer;\n",
              "    display: none;\n",
              "    fill: var(--fill-color);\n",
              "    height: 32px;\n",
              "    padding: 0;\n",
              "    width: 32px;\n",
              "  }\n",
              "\n",
              "  .colab-df-quickchart:hover {\n",
              "    background-color: var(--hover-bg-color);\n",
              "    box-shadow: 0 1px 2px rgba(60, 64, 67, 0.3), 0 1px 3px 1px rgba(60, 64, 67, 0.15);\n",
              "    fill: var(--button-hover-fill-color);\n",
              "  }\n",
              "\n",
              "  .colab-df-quickchart-complete:disabled,\n",
              "  .colab-df-quickchart-complete:disabled:hover {\n",
              "    background-color: var(--disabled-bg-color);\n",
              "    fill: var(--disabled-fill-color);\n",
              "    box-shadow: none;\n",
              "  }\n",
              "\n",
              "  .colab-df-spinner {\n",
              "    border: 2px solid var(--fill-color);\n",
              "    border-color: transparent;\n",
              "    border-bottom-color: var(--fill-color);\n",
              "    animation:\n",
              "      spin 1s steps(1) infinite;\n",
              "  }\n",
              "\n",
              "  @keyframes spin {\n",
              "    0% {\n",
              "      border-color: transparent;\n",
              "      border-bottom-color: var(--fill-color);\n",
              "      border-left-color: var(--fill-color);\n",
              "    }\n",
              "    20% {\n",
              "      border-color: transparent;\n",
              "      border-left-color: var(--fill-color);\n",
              "      border-top-color: var(--fill-color);\n",
              "    }\n",
              "    30% {\n",
              "      border-color: transparent;\n",
              "      border-left-color: var(--fill-color);\n",
              "      border-top-color: var(--fill-color);\n",
              "      border-right-color: var(--fill-color);\n",
              "    }\n",
              "    40% {\n",
              "      border-color: transparent;\n",
              "      border-right-color: var(--fill-color);\n",
              "      border-top-color: var(--fill-color);\n",
              "    }\n",
              "    60% {\n",
              "      border-color: transparent;\n",
              "      border-right-color: var(--fill-color);\n",
              "    }\n",
              "    80% {\n",
              "      border-color: transparent;\n",
              "      border-right-color: var(--fill-color);\n",
              "      border-bottom-color: var(--fill-color);\n",
              "    }\n",
              "    90% {\n",
              "      border-color: transparent;\n",
              "      border-bottom-color: var(--fill-color);\n",
              "    }\n",
              "  }\n",
              "</style>\n",
              "\n",
              "      <script>\n",
              "        async function quickchart(key) {\n",
              "          const quickchartButtonEl =\n",
              "            document.querySelector('#' + key + ' button');\n",
              "          quickchartButtonEl.disabled = true;  // To prevent multiple clicks.\n",
              "          quickchartButtonEl.classList.add('colab-df-spinner');\n",
              "          try {\n",
              "            const charts = await google.colab.kernel.invokeFunction(\n",
              "                'suggestCharts', [key], {});\n",
              "          } catch (error) {\n",
              "            console.error('Error during call to suggestCharts:', error);\n",
              "          }\n",
              "          quickchartButtonEl.classList.remove('colab-df-spinner');\n",
              "          quickchartButtonEl.classList.add('colab-df-quickchart-complete');\n",
              "        }\n",
              "        (() => {\n",
              "          let quickchartButtonEl =\n",
              "            document.querySelector('#df-267dda69-f9d5-4d9d-97b3-1707b840f5e7 button');\n",
              "          quickchartButtonEl.style.display =\n",
              "            google.colab.kernel.accessAllowed ? 'block' : 'none';\n",
              "        })();\n",
              "      </script>\n",
              "    </div>\n",
              "\n",
              "    </div>\n",
              "  </div>\n"
            ],
            "application/vnd.google.colaboratory.intrinsic+json": {
              "type": "dataframe",
              "variable_name": "df_JPM",
              "repr_error": "0"
            }
          },
          "metadata": {},
          "execution_count": 4
        }
      ],
      "source": [
        "df_JPM=pd.read_csv('JPM.csv')\n",
        "df_JPM= df_JPM.drop(index=[0,1]).reset_index(drop=True)\n",
        "df_JPM.index = range(1, len(df_JPM) + 1)\n",
        "df_JPM.to_csv(\"JPM_data.csv\", index=False)\n",
        "df_JPM.head()"
      ]
    },
    {
      "cell_type": "code",
      "execution_count": null,
      "metadata": {
        "colab": {
          "base_uri": "https://localhost:8080/"
        },
        "id": "cevKm2rq6ICy",
        "outputId": "ce9744e6-74f9-454f-9213-d821998b898e"
      },
      "outputs": [
        {
          "output_type": "execute_result",
          "data": {
            "text/plain": [
              "         Date               Close                High                 Low  \\\n",
              "1  2015-03-03   43.28240966796875  43.503305907269926   42.90688673527859   \n",
              "2  2015-03-04  43.083595275878906   43.23822531922424   42.83619259950024   \n",
              "3  2015-03-05  43.498878479003906  43.596073344467875  43.202878385533424   \n",
              "4  2015-03-06  42.814109802246094   43.60049985801778   42.67715184479855   \n",
              "5  2015-03-09   43.04384231567383  43.216141116645346   42.82736493994716   \n",
              "\n",
              "                Open   Volume  \n",
              "1  43.49005267220931  7038400  \n",
              "2  43.14986481293995  4853000  \n",
              "3  43.27798228317069  6633600  \n",
              "4   43.4988861070476  7174600  \n",
              "5  42.89363111677529  5938800  "
            ],
            "text/html": [
              "\n",
              "  <div id=\"df-9ef7bb2f-61bf-4b77-b61d-28df90403230\" class=\"colab-df-container\">\n",
              "    <div>\n",
              "<style scoped>\n",
              "    .dataframe tbody tr th:only-of-type {\n",
              "        vertical-align: middle;\n",
              "    }\n",
              "\n",
              "    .dataframe tbody tr th {\n",
              "        vertical-align: top;\n",
              "    }\n",
              "\n",
              "    .dataframe thead th {\n",
              "        text-align: right;\n",
              "    }\n",
              "</style>\n",
              "<table border=\"1\" class=\"dataframe\">\n",
              "  <thead>\n",
              "    <tr style=\"text-align: right;\">\n",
              "      <th></th>\n",
              "      <th>Date</th>\n",
              "      <th>Close</th>\n",
              "      <th>High</th>\n",
              "      <th>Low</th>\n",
              "      <th>Open</th>\n",
              "      <th>Volume</th>\n",
              "    </tr>\n",
              "  </thead>\n",
              "  <tbody>\n",
              "    <tr>\n",
              "      <th>1</th>\n",
              "      <td>2015-03-03</td>\n",
              "      <td>43.28240966796875</td>\n",
              "      <td>43.503305907269926</td>\n",
              "      <td>42.90688673527859</td>\n",
              "      <td>43.49005267220931</td>\n",
              "      <td>7038400</td>\n",
              "    </tr>\n",
              "    <tr>\n",
              "      <th>2</th>\n",
              "      <td>2015-03-04</td>\n",
              "      <td>43.083595275878906</td>\n",
              "      <td>43.23822531922424</td>\n",
              "      <td>42.83619259950024</td>\n",
              "      <td>43.14986481293995</td>\n",
              "      <td>4853000</td>\n",
              "    </tr>\n",
              "    <tr>\n",
              "      <th>3</th>\n",
              "      <td>2015-03-05</td>\n",
              "      <td>43.498878479003906</td>\n",
              "      <td>43.596073344467875</td>\n",
              "      <td>43.202878385533424</td>\n",
              "      <td>43.27798228317069</td>\n",
              "      <td>6633600</td>\n",
              "    </tr>\n",
              "    <tr>\n",
              "      <th>4</th>\n",
              "      <td>2015-03-06</td>\n",
              "      <td>42.814109802246094</td>\n",
              "      <td>43.60049985801778</td>\n",
              "      <td>42.67715184479855</td>\n",
              "      <td>43.4988861070476</td>\n",
              "      <td>7174600</td>\n",
              "    </tr>\n",
              "    <tr>\n",
              "      <th>5</th>\n",
              "      <td>2015-03-09</td>\n",
              "      <td>43.04384231567383</td>\n",
              "      <td>43.216141116645346</td>\n",
              "      <td>42.82736493994716</td>\n",
              "      <td>42.89363111677529</td>\n",
              "      <td>5938800</td>\n",
              "    </tr>\n",
              "  </tbody>\n",
              "</table>\n",
              "</div>\n",
              "    <div class=\"colab-df-buttons\">\n",
              "\n",
              "  <div class=\"colab-df-container\">\n",
              "    <button class=\"colab-df-convert\" onclick=\"convertToInteractive('df-9ef7bb2f-61bf-4b77-b61d-28df90403230')\"\n",
              "            title=\"Convert this dataframe to an interactive table.\"\n",
              "            style=\"display:none;\">\n",
              "\n",
              "  <svg xmlns=\"http://www.w3.org/2000/svg\" height=\"24px\" viewBox=\"0 -960 960 960\">\n",
              "    <path d=\"M120-120v-720h720v720H120Zm60-500h600v-160H180v160Zm220 220h160v-160H400v160Zm0 220h160v-160H400v160ZM180-400h160v-160H180v160Zm440 0h160v-160H620v160ZM180-180h160v-160H180v160Zm440 0h160v-160H620v160Z\"/>\n",
              "  </svg>\n",
              "    </button>\n",
              "\n",
              "  <style>\n",
              "    .colab-df-container {\n",
              "      display:flex;\n",
              "      gap: 12px;\n",
              "    }\n",
              "\n",
              "    .colab-df-convert {\n",
              "      background-color: #E8F0FE;\n",
              "      border: none;\n",
              "      border-radius: 50%;\n",
              "      cursor: pointer;\n",
              "      display: none;\n",
              "      fill: #1967D2;\n",
              "      height: 32px;\n",
              "      padding: 0 0 0 0;\n",
              "      width: 32px;\n",
              "    }\n",
              "\n",
              "    .colab-df-convert:hover {\n",
              "      background-color: #E2EBFA;\n",
              "      box-shadow: 0px 1px 2px rgba(60, 64, 67, 0.3), 0px 1px 3px 1px rgba(60, 64, 67, 0.15);\n",
              "      fill: #174EA6;\n",
              "    }\n",
              "\n",
              "    .colab-df-buttons div {\n",
              "      margin-bottom: 4px;\n",
              "    }\n",
              "\n",
              "    [theme=dark] .colab-df-convert {\n",
              "      background-color: #3B4455;\n",
              "      fill: #D2E3FC;\n",
              "    }\n",
              "\n",
              "    [theme=dark] .colab-df-convert:hover {\n",
              "      background-color: #434B5C;\n",
              "      box-shadow: 0px 1px 3px 1px rgba(0, 0, 0, 0.15);\n",
              "      filter: drop-shadow(0px 1px 2px rgba(0, 0, 0, 0.3));\n",
              "      fill: #FFFFFF;\n",
              "    }\n",
              "  </style>\n",
              "\n",
              "    <script>\n",
              "      const buttonEl =\n",
              "        document.querySelector('#df-9ef7bb2f-61bf-4b77-b61d-28df90403230 button.colab-df-convert');\n",
              "      buttonEl.style.display =\n",
              "        google.colab.kernel.accessAllowed ? 'block' : 'none';\n",
              "\n",
              "      async function convertToInteractive(key) {\n",
              "        const element = document.querySelector('#df-9ef7bb2f-61bf-4b77-b61d-28df90403230');\n",
              "        const dataTable =\n",
              "          await google.colab.kernel.invokeFunction('convertToInteractive',\n",
              "                                                    [key], {});\n",
              "        if (!dataTable) return;\n",
              "\n",
              "        const docLinkHtml = 'Like what you see? Visit the ' +\n",
              "          '<a target=\"_blank\" href=https://colab.research.google.com/notebooks/data_table.ipynb>data table notebook</a>'\n",
              "          + ' to learn more about interactive tables.';\n",
              "        element.innerHTML = '';\n",
              "        dataTable['output_type'] = 'display_data';\n",
              "        await google.colab.output.renderOutput(dataTable, element);\n",
              "        const docLink = document.createElement('div');\n",
              "        docLink.innerHTML = docLinkHtml;\n",
              "        element.appendChild(docLink);\n",
              "      }\n",
              "    </script>\n",
              "  </div>\n",
              "\n",
              "\n",
              "    <div id=\"df-15a8f0a1-e0ba-489a-bc5c-2a6012658bb0\">\n",
              "      <button class=\"colab-df-quickchart\" onclick=\"quickchart('df-15a8f0a1-e0ba-489a-bc5c-2a6012658bb0')\"\n",
              "                title=\"Suggest charts\"\n",
              "                style=\"display:none;\">\n",
              "\n",
              "<svg xmlns=\"http://www.w3.org/2000/svg\" height=\"24px\"viewBox=\"0 0 24 24\"\n",
              "     width=\"24px\">\n",
              "    <g>\n",
              "        <path d=\"M19 3H5c-1.1 0-2 .9-2 2v14c0 1.1.9 2 2 2h14c1.1 0 2-.9 2-2V5c0-1.1-.9-2-2-2zM9 17H7v-7h2v7zm4 0h-2V7h2v10zm4 0h-2v-4h2v4z\"/>\n",
              "    </g>\n",
              "</svg>\n",
              "      </button>\n",
              "\n",
              "<style>\n",
              "  .colab-df-quickchart {\n",
              "      --bg-color: #E8F0FE;\n",
              "      --fill-color: #1967D2;\n",
              "      --hover-bg-color: #E2EBFA;\n",
              "      --hover-fill-color: #174EA6;\n",
              "      --disabled-fill-color: #AAA;\n",
              "      --disabled-bg-color: #DDD;\n",
              "  }\n",
              "\n",
              "  [theme=dark] .colab-df-quickchart {\n",
              "      --bg-color: #3B4455;\n",
              "      --fill-color: #D2E3FC;\n",
              "      --hover-bg-color: #434B5C;\n",
              "      --hover-fill-color: #FFFFFF;\n",
              "      --disabled-bg-color: #3B4455;\n",
              "      --disabled-fill-color: #666;\n",
              "  }\n",
              "\n",
              "  .colab-df-quickchart {\n",
              "    background-color: var(--bg-color);\n",
              "    border: none;\n",
              "    border-radius: 50%;\n",
              "    cursor: pointer;\n",
              "    display: none;\n",
              "    fill: var(--fill-color);\n",
              "    height: 32px;\n",
              "    padding: 0;\n",
              "    width: 32px;\n",
              "  }\n",
              "\n",
              "  .colab-df-quickchart:hover {\n",
              "    background-color: var(--hover-bg-color);\n",
              "    box-shadow: 0 1px 2px rgba(60, 64, 67, 0.3), 0 1px 3px 1px rgba(60, 64, 67, 0.15);\n",
              "    fill: var(--button-hover-fill-color);\n",
              "  }\n",
              "\n",
              "  .colab-df-quickchart-complete:disabled,\n",
              "  .colab-df-quickchart-complete:disabled:hover {\n",
              "    background-color: var(--disabled-bg-color);\n",
              "    fill: var(--disabled-fill-color);\n",
              "    box-shadow: none;\n",
              "  }\n",
              "\n",
              "  .colab-df-spinner {\n",
              "    border: 2px solid var(--fill-color);\n",
              "    border-color: transparent;\n",
              "    border-bottom-color: var(--fill-color);\n",
              "    animation:\n",
              "      spin 1s steps(1) infinite;\n",
              "  }\n",
              "\n",
              "  @keyframes spin {\n",
              "    0% {\n",
              "      border-color: transparent;\n",
              "      border-bottom-color: var(--fill-color);\n",
              "      border-left-color: var(--fill-color);\n",
              "    }\n",
              "    20% {\n",
              "      border-color: transparent;\n",
              "      border-left-color: var(--fill-color);\n",
              "      border-top-color: var(--fill-color);\n",
              "    }\n",
              "    30% {\n",
              "      border-color: transparent;\n",
              "      border-left-color: var(--fill-color);\n",
              "      border-top-color: var(--fill-color);\n",
              "      border-right-color: var(--fill-color);\n",
              "    }\n",
              "    40% {\n",
              "      border-color: transparent;\n",
              "      border-right-color: var(--fill-color);\n",
              "      border-top-color: var(--fill-color);\n",
              "    }\n",
              "    60% {\n",
              "      border-color: transparent;\n",
              "      border-right-color: var(--fill-color);\n",
              "    }\n",
              "    80% {\n",
              "      border-color: transparent;\n",
              "      border-right-color: var(--fill-color);\n",
              "      border-bottom-color: var(--fill-color);\n",
              "    }\n",
              "    90% {\n",
              "      border-color: transparent;\n",
              "      border-bottom-color: var(--fill-color);\n",
              "    }\n",
              "  }\n",
              "</style>\n",
              "\n",
              "      <script>\n",
              "        async function quickchart(key) {\n",
              "          const quickchartButtonEl =\n",
              "            document.querySelector('#' + key + ' button');\n",
              "          quickchartButtonEl.disabled = true;  // To prevent multiple clicks.\n",
              "          quickchartButtonEl.classList.add('colab-df-spinner');\n",
              "          try {\n",
              "            const charts = await google.colab.kernel.invokeFunction(\n",
              "                'suggestCharts', [key], {});\n",
              "          } catch (error) {\n",
              "            console.error('Error during call to suggestCharts:', error);\n",
              "          }\n",
              "          quickchartButtonEl.classList.remove('colab-df-spinner');\n",
              "          quickchartButtonEl.classList.add('colab-df-quickchart-complete');\n",
              "        }\n",
              "        (() => {\n",
              "          let quickchartButtonEl =\n",
              "            document.querySelector('#df-15a8f0a1-e0ba-489a-bc5c-2a6012658bb0 button');\n",
              "          quickchartButtonEl.style.display =\n",
              "            google.colab.kernel.accessAllowed ? 'block' : 'none';\n",
              "        })();\n",
              "      </script>\n",
              "    </div>\n",
              "\n",
              "    </div>\n",
              "  </div>\n"
            ],
            "application/vnd.google.colaboratory.intrinsic+json": {
              "type": "dataframe",
              "variable_name": "df_NKE",
              "repr_error": "0"
            }
          },
          "metadata": {},
          "execution_count": 5
        }
      ],
      "source": [
        "df_NKE=pd.read_csv('NKE.csv')\n",
        "df_NKE= df_NKE.drop(index=[0,1]).reset_index(drop=True)\n",
        "df_NKE.index = range(1, len(df_NKE) + 1)\n",
        "df_NKE.to_csv(\"NKE_data.csv\", index=False)\n",
        "df_NKE.head()"
      ]
    },
    {
      "cell_type": "code",
      "execution_count": null,
      "metadata": {
        "colab": {
          "base_uri": "https://localhost:8080/"
        },
        "id": "ayTzM5eZ6M-8",
        "outputId": "c53f7c3b-55a3-4eee-cb75-830a65d1bc49"
      },
      "outputs": [
        {
          "output_type": "execute_result",
          "data": {
            "text/plain": [
              "         Date              Close               High                Low  \\\n",
              "1  2015-03-03   76.9201889038086  77.49141726005294  76.52183432416113   \n",
              "2  2015-03-04   76.4015884399414  76.75484804930096  76.04081108258057   \n",
              "3  2015-03-05  77.05548858642578   77.5741042418037  76.66465170867708   \n",
              "4  2015-03-06  75.24408721923828  76.98783168354417  75.07121345493586   \n",
              "5  2015-03-09  75.65747833251953  75.85289387048776  74.98102449319737   \n",
              "\n",
              "                Open   Volume  \n",
              "1  77.49141726005294  6419700  \n",
              "2  76.75484804930096  8665500  \n",
              "3  76.71726447557329  8042300  \n",
              "4  76.73227991036153  9287600  \n",
              "5  75.31173079903002  5701100  "
            ],
            "text/html": [
              "\n",
              "  <div id=\"df-aa6ce3bd-0dcb-4d53-8143-f0de2f1c6494\" class=\"colab-df-container\">\n",
              "    <div>\n",
              "<style scoped>\n",
              "    .dataframe tbody tr th:only-of-type {\n",
              "        vertical-align: middle;\n",
              "    }\n",
              "\n",
              "    .dataframe tbody tr th {\n",
              "        vertical-align: top;\n",
              "    }\n",
              "\n",
              "    .dataframe thead th {\n",
              "        text-align: right;\n",
              "    }\n",
              "</style>\n",
              "<table border=\"1\" class=\"dataframe\">\n",
              "  <thead>\n",
              "    <tr style=\"text-align: right;\">\n",
              "      <th></th>\n",
              "      <th>Date</th>\n",
              "      <th>Close</th>\n",
              "      <th>High</th>\n",
              "      <th>Low</th>\n",
              "      <th>Open</th>\n",
              "      <th>Volume</th>\n",
              "    </tr>\n",
              "  </thead>\n",
              "  <tbody>\n",
              "    <tr>\n",
              "      <th>1</th>\n",
              "      <td>2015-03-03</td>\n",
              "      <td>76.9201889038086</td>\n",
              "      <td>77.49141726005294</td>\n",
              "      <td>76.52183432416113</td>\n",
              "      <td>77.49141726005294</td>\n",
              "      <td>6419700</td>\n",
              "    </tr>\n",
              "    <tr>\n",
              "      <th>2</th>\n",
              "      <td>2015-03-04</td>\n",
              "      <td>76.4015884399414</td>\n",
              "      <td>76.75484804930096</td>\n",
              "      <td>76.04081108258057</td>\n",
              "      <td>76.75484804930096</td>\n",
              "      <td>8665500</td>\n",
              "    </tr>\n",
              "    <tr>\n",
              "      <th>3</th>\n",
              "      <td>2015-03-05</td>\n",
              "      <td>77.05548858642578</td>\n",
              "      <td>77.5741042418037</td>\n",
              "      <td>76.66465170867708</td>\n",
              "      <td>76.71726447557329</td>\n",
              "      <td>8042300</td>\n",
              "    </tr>\n",
              "    <tr>\n",
              "      <th>4</th>\n",
              "      <td>2015-03-06</td>\n",
              "      <td>75.24408721923828</td>\n",
              "      <td>76.98783168354417</td>\n",
              "      <td>75.07121345493586</td>\n",
              "      <td>76.73227991036153</td>\n",
              "      <td>9287600</td>\n",
              "    </tr>\n",
              "    <tr>\n",
              "      <th>5</th>\n",
              "      <td>2015-03-09</td>\n",
              "      <td>75.65747833251953</td>\n",
              "      <td>75.85289387048776</td>\n",
              "      <td>74.98102449319737</td>\n",
              "      <td>75.31173079903002</td>\n",
              "      <td>5701100</td>\n",
              "    </tr>\n",
              "  </tbody>\n",
              "</table>\n",
              "</div>\n",
              "    <div class=\"colab-df-buttons\">\n",
              "\n",
              "  <div class=\"colab-df-container\">\n",
              "    <button class=\"colab-df-convert\" onclick=\"convertToInteractive('df-aa6ce3bd-0dcb-4d53-8143-f0de2f1c6494')\"\n",
              "            title=\"Convert this dataframe to an interactive table.\"\n",
              "            style=\"display:none;\">\n",
              "\n",
              "  <svg xmlns=\"http://www.w3.org/2000/svg\" height=\"24px\" viewBox=\"0 -960 960 960\">\n",
              "    <path d=\"M120-120v-720h720v720H120Zm60-500h600v-160H180v160Zm220 220h160v-160H400v160Zm0 220h160v-160H400v160ZM180-400h160v-160H180v160Zm440 0h160v-160H620v160ZM180-180h160v-160H180v160Zm440 0h160v-160H620v160Z\"/>\n",
              "  </svg>\n",
              "    </button>\n",
              "\n",
              "  <style>\n",
              "    .colab-df-container {\n",
              "      display:flex;\n",
              "      gap: 12px;\n",
              "    }\n",
              "\n",
              "    .colab-df-convert {\n",
              "      background-color: #E8F0FE;\n",
              "      border: none;\n",
              "      border-radius: 50%;\n",
              "      cursor: pointer;\n",
              "      display: none;\n",
              "      fill: #1967D2;\n",
              "      height: 32px;\n",
              "      padding: 0 0 0 0;\n",
              "      width: 32px;\n",
              "    }\n",
              "\n",
              "    .colab-df-convert:hover {\n",
              "      background-color: #E2EBFA;\n",
              "      box-shadow: 0px 1px 2px rgba(60, 64, 67, 0.3), 0px 1px 3px 1px rgba(60, 64, 67, 0.15);\n",
              "      fill: #174EA6;\n",
              "    }\n",
              "\n",
              "    .colab-df-buttons div {\n",
              "      margin-bottom: 4px;\n",
              "    }\n",
              "\n",
              "    [theme=dark] .colab-df-convert {\n",
              "      background-color: #3B4455;\n",
              "      fill: #D2E3FC;\n",
              "    }\n",
              "\n",
              "    [theme=dark] .colab-df-convert:hover {\n",
              "      background-color: #434B5C;\n",
              "      box-shadow: 0px 1px 3px 1px rgba(0, 0, 0, 0.15);\n",
              "      filter: drop-shadow(0px 1px 2px rgba(0, 0, 0, 0.3));\n",
              "      fill: #FFFFFF;\n",
              "    }\n",
              "  </style>\n",
              "\n",
              "    <script>\n",
              "      const buttonEl =\n",
              "        document.querySelector('#df-aa6ce3bd-0dcb-4d53-8143-f0de2f1c6494 button.colab-df-convert');\n",
              "      buttonEl.style.display =\n",
              "        google.colab.kernel.accessAllowed ? 'block' : 'none';\n",
              "\n",
              "      async function convertToInteractive(key) {\n",
              "        const element = document.querySelector('#df-aa6ce3bd-0dcb-4d53-8143-f0de2f1c6494');\n",
              "        const dataTable =\n",
              "          await google.colab.kernel.invokeFunction('convertToInteractive',\n",
              "                                                    [key], {});\n",
              "        if (!dataTable) return;\n",
              "\n",
              "        const docLinkHtml = 'Like what you see? Visit the ' +\n",
              "          '<a target=\"_blank\" href=https://colab.research.google.com/notebooks/data_table.ipynb>data table notebook</a>'\n",
              "          + ' to learn more about interactive tables.';\n",
              "        element.innerHTML = '';\n",
              "        dataTable['output_type'] = 'display_data';\n",
              "        await google.colab.output.renderOutput(dataTable, element);\n",
              "        const docLink = document.createElement('div');\n",
              "        docLink.innerHTML = docLinkHtml;\n",
              "        element.appendChild(docLink);\n",
              "      }\n",
              "    </script>\n",
              "  </div>\n",
              "\n",
              "\n",
              "    <div id=\"df-418c103a-b802-4536-b688-55067aaea626\">\n",
              "      <button class=\"colab-df-quickchart\" onclick=\"quickchart('df-418c103a-b802-4536-b688-55067aaea626')\"\n",
              "                title=\"Suggest charts\"\n",
              "                style=\"display:none;\">\n",
              "\n",
              "<svg xmlns=\"http://www.w3.org/2000/svg\" height=\"24px\"viewBox=\"0 0 24 24\"\n",
              "     width=\"24px\">\n",
              "    <g>\n",
              "        <path d=\"M19 3H5c-1.1 0-2 .9-2 2v14c0 1.1.9 2 2 2h14c1.1 0 2-.9 2-2V5c0-1.1-.9-2-2-2zM9 17H7v-7h2v7zm4 0h-2V7h2v10zm4 0h-2v-4h2v4z\"/>\n",
              "    </g>\n",
              "</svg>\n",
              "      </button>\n",
              "\n",
              "<style>\n",
              "  .colab-df-quickchart {\n",
              "      --bg-color: #E8F0FE;\n",
              "      --fill-color: #1967D2;\n",
              "      --hover-bg-color: #E2EBFA;\n",
              "      --hover-fill-color: #174EA6;\n",
              "      --disabled-fill-color: #AAA;\n",
              "      --disabled-bg-color: #DDD;\n",
              "  }\n",
              "\n",
              "  [theme=dark] .colab-df-quickchart {\n",
              "      --bg-color: #3B4455;\n",
              "      --fill-color: #D2E3FC;\n",
              "      --hover-bg-color: #434B5C;\n",
              "      --hover-fill-color: #FFFFFF;\n",
              "      --disabled-bg-color: #3B4455;\n",
              "      --disabled-fill-color: #666;\n",
              "  }\n",
              "\n",
              "  .colab-df-quickchart {\n",
              "    background-color: var(--bg-color);\n",
              "    border: none;\n",
              "    border-radius: 50%;\n",
              "    cursor: pointer;\n",
              "    display: none;\n",
              "    fill: var(--fill-color);\n",
              "    height: 32px;\n",
              "    padding: 0;\n",
              "    width: 32px;\n",
              "  }\n",
              "\n",
              "  .colab-df-quickchart:hover {\n",
              "    background-color: var(--hover-bg-color);\n",
              "    box-shadow: 0 1px 2px rgba(60, 64, 67, 0.3), 0 1px 3px 1px rgba(60, 64, 67, 0.15);\n",
              "    fill: var(--button-hover-fill-color);\n",
              "  }\n",
              "\n",
              "  .colab-df-quickchart-complete:disabled,\n",
              "  .colab-df-quickchart-complete:disabled:hover {\n",
              "    background-color: var(--disabled-bg-color);\n",
              "    fill: var(--disabled-fill-color);\n",
              "    box-shadow: none;\n",
              "  }\n",
              "\n",
              "  .colab-df-spinner {\n",
              "    border: 2px solid var(--fill-color);\n",
              "    border-color: transparent;\n",
              "    border-bottom-color: var(--fill-color);\n",
              "    animation:\n",
              "      spin 1s steps(1) infinite;\n",
              "  }\n",
              "\n",
              "  @keyframes spin {\n",
              "    0% {\n",
              "      border-color: transparent;\n",
              "      border-bottom-color: var(--fill-color);\n",
              "      border-left-color: var(--fill-color);\n",
              "    }\n",
              "    20% {\n",
              "      border-color: transparent;\n",
              "      border-left-color: var(--fill-color);\n",
              "      border-top-color: var(--fill-color);\n",
              "    }\n",
              "    30% {\n",
              "      border-color: transparent;\n",
              "      border-left-color: var(--fill-color);\n",
              "      border-top-color: var(--fill-color);\n",
              "      border-right-color: var(--fill-color);\n",
              "    }\n",
              "    40% {\n",
              "      border-color: transparent;\n",
              "      border-right-color: var(--fill-color);\n",
              "      border-top-color: var(--fill-color);\n",
              "    }\n",
              "    60% {\n",
              "      border-color: transparent;\n",
              "      border-right-color: var(--fill-color);\n",
              "    }\n",
              "    80% {\n",
              "      border-color: transparent;\n",
              "      border-right-color: var(--fill-color);\n",
              "      border-bottom-color: var(--fill-color);\n",
              "    }\n",
              "    90% {\n",
              "      border-color: transparent;\n",
              "      border-bottom-color: var(--fill-color);\n",
              "    }\n",
              "  }\n",
              "</style>\n",
              "\n",
              "      <script>\n",
              "        async function quickchart(key) {\n",
              "          const quickchartButtonEl =\n",
              "            document.querySelector('#' + key + ' button');\n",
              "          quickchartButtonEl.disabled = true;  // To prevent multiple clicks.\n",
              "          quickchartButtonEl.classList.add('colab-df-spinner');\n",
              "          try {\n",
              "            const charts = await google.colab.kernel.invokeFunction(\n",
              "                'suggestCharts', [key], {});\n",
              "          } catch (error) {\n",
              "            console.error('Error during call to suggestCharts:', error);\n",
              "          }\n",
              "          quickchartButtonEl.classList.remove('colab-df-spinner');\n",
              "          quickchartButtonEl.classList.add('colab-df-quickchart-complete');\n",
              "        }\n",
              "        (() => {\n",
              "          let quickchartButtonEl =\n",
              "            document.querySelector('#df-418c103a-b802-4536-b688-55067aaea626 button');\n",
              "          quickchartButtonEl.style.display =\n",
              "            google.colab.kernel.accessAllowed ? 'block' : 'none';\n",
              "        })();\n",
              "      </script>\n",
              "    </div>\n",
              "\n",
              "    </div>\n",
              "  </div>\n"
            ],
            "application/vnd.google.colaboratory.intrinsic+json": {
              "type": "dataframe",
              "variable_name": "df_JNJ",
              "repr_error": "0"
            }
          },
          "metadata": {},
          "execution_count": 6
        }
      ],
      "source": [
        "df_JNJ=pd.read_csv('JNJ.csv')\n",
        "df_JNJ= df_JNJ.drop(index=[0,1]).reset_index(drop=True)\n",
        "df_JNJ.index = range(1, len(df_JNJ) + 1)\n",
        "df_JNJ.to_csv(\"JNJ_data.csv\", index=False)\n",
        "df_JNJ.head()"
      ]
    },
    {
      "cell_type": "code",
      "execution_count": null,
      "metadata": {
        "colab": {
          "base_uri": "https://localhost:8080/"
        },
        "id": "kiPdoA6q6Qny",
        "outputId": "6b655948-6b97-4847-ec61-58cefecdf7f0"
      },
      "outputs": [
        {
          "output_type": "execute_result",
          "data": {
            "text/plain": [
              "         Date               Close                High                 Low  \\\n",
              "1  2015-03-03  21.528932571411133   21.73450284994385  21.435491080321032   \n",
              "2  2015-03-04  21.578765869140625  21.659746650503497  21.342047613932575   \n",
              "3  2015-03-05  21.472867965698242  21.684669870293128  21.429261764889414   \n",
              "4  2015-03-06   21.16139793395996  21.466638834506366   21.02435023228687   \n",
              "5  2015-03-09  21.198774337768555  21.292215835622823  20.968283890418455   \n",
              "\n",
              "                 Open    Volume  \n",
              "1  21.647290457637922  25343641  \n",
              "2  21.485324386698935  20434636  \n",
              "3  21.634834570035043  24717354  \n",
              "4   21.33582023227332  42080528  \n",
              "5  21.099101236015247  32858028  "
            ],
            "text/html": [
              "\n",
              "  <div id=\"df-ffeb6c02-d791-42be-a46e-02d25e664b5c\" class=\"colab-df-container\">\n",
              "    <div>\n",
              "<style scoped>\n",
              "    .dataframe tbody tr th:only-of-type {\n",
              "        vertical-align: middle;\n",
              "    }\n",
              "\n",
              "    .dataframe tbody tr th {\n",
              "        vertical-align: top;\n",
              "    }\n",
              "\n",
              "    .dataframe thead th {\n",
              "        text-align: right;\n",
              "    }\n",
              "</style>\n",
              "<table border=\"1\" class=\"dataframe\">\n",
              "  <thead>\n",
              "    <tr style=\"text-align: right;\">\n",
              "      <th></th>\n",
              "      <th>Date</th>\n",
              "      <th>Close</th>\n",
              "      <th>High</th>\n",
              "      <th>Low</th>\n",
              "      <th>Open</th>\n",
              "      <th>Volume</th>\n",
              "    </tr>\n",
              "  </thead>\n",
              "  <tbody>\n",
              "    <tr>\n",
              "      <th>1</th>\n",
              "      <td>2015-03-03</td>\n",
              "      <td>21.528932571411133</td>\n",
              "      <td>21.73450284994385</td>\n",
              "      <td>21.435491080321032</td>\n",
              "      <td>21.647290457637922</td>\n",
              "      <td>25343641</td>\n",
              "    </tr>\n",
              "    <tr>\n",
              "      <th>2</th>\n",
              "      <td>2015-03-04</td>\n",
              "      <td>21.578765869140625</td>\n",
              "      <td>21.659746650503497</td>\n",
              "      <td>21.342047613932575</td>\n",
              "      <td>21.485324386698935</td>\n",
              "      <td>20434636</td>\n",
              "    </tr>\n",
              "    <tr>\n",
              "      <th>3</th>\n",
              "      <td>2015-03-05</td>\n",
              "      <td>21.472867965698242</td>\n",
              "      <td>21.684669870293128</td>\n",
              "      <td>21.429261764889414</td>\n",
              "      <td>21.634834570035043</td>\n",
              "      <td>24717354</td>\n",
              "    </tr>\n",
              "    <tr>\n",
              "      <th>4</th>\n",
              "      <td>2015-03-06</td>\n",
              "      <td>21.16139793395996</td>\n",
              "      <td>21.466638834506366</td>\n",
              "      <td>21.02435023228687</td>\n",
              "      <td>21.33582023227332</td>\n",
              "      <td>42080528</td>\n",
              "    </tr>\n",
              "    <tr>\n",
              "      <th>5</th>\n",
              "      <td>2015-03-09</td>\n",
              "      <td>21.198774337768555</td>\n",
              "      <td>21.292215835622823</td>\n",
              "      <td>20.968283890418455</td>\n",
              "      <td>21.099101236015247</td>\n",
              "      <td>32858028</td>\n",
              "    </tr>\n",
              "  </tbody>\n",
              "</table>\n",
              "</div>\n",
              "    <div class=\"colab-df-buttons\">\n",
              "\n",
              "  <div class=\"colab-df-container\">\n",
              "    <button class=\"colab-df-convert\" onclick=\"convertToInteractive('df-ffeb6c02-d791-42be-a46e-02d25e664b5c')\"\n",
              "            title=\"Convert this dataframe to an interactive table.\"\n",
              "            style=\"display:none;\">\n",
              "\n",
              "  <svg xmlns=\"http://www.w3.org/2000/svg\" height=\"24px\" viewBox=\"0 -960 960 960\">\n",
              "    <path d=\"M120-120v-720h720v720H120Zm60-500h600v-160H180v160Zm220 220h160v-160H400v160Zm0 220h160v-160H400v160ZM180-400h160v-160H180v160Zm440 0h160v-160H620v160ZM180-180h160v-160H180v160Zm440 0h160v-160H620v160Z\"/>\n",
              "  </svg>\n",
              "    </button>\n",
              "\n",
              "  <style>\n",
              "    .colab-df-container {\n",
              "      display:flex;\n",
              "      gap: 12px;\n",
              "    }\n",
              "\n",
              "    .colab-df-convert {\n",
              "      background-color: #E8F0FE;\n",
              "      border: none;\n",
              "      border-radius: 50%;\n",
              "      cursor: pointer;\n",
              "      display: none;\n",
              "      fill: #1967D2;\n",
              "      height: 32px;\n",
              "      padding: 0 0 0 0;\n",
              "      width: 32px;\n",
              "    }\n",
              "\n",
              "    .colab-df-convert:hover {\n",
              "      background-color: #E2EBFA;\n",
              "      box-shadow: 0px 1px 2px rgba(60, 64, 67, 0.3), 0px 1px 3px 1px rgba(60, 64, 67, 0.15);\n",
              "      fill: #174EA6;\n",
              "    }\n",
              "\n",
              "    .colab-df-buttons div {\n",
              "      margin-bottom: 4px;\n",
              "    }\n",
              "\n",
              "    [theme=dark] .colab-df-convert {\n",
              "      background-color: #3B4455;\n",
              "      fill: #D2E3FC;\n",
              "    }\n",
              "\n",
              "    [theme=dark] .colab-df-convert:hover {\n",
              "      background-color: #434B5C;\n",
              "      box-shadow: 0px 1px 3px 1px rgba(0, 0, 0, 0.15);\n",
              "      filter: drop-shadow(0px 1px 2px rgba(0, 0, 0, 0.3));\n",
              "      fill: #FFFFFF;\n",
              "    }\n",
              "  </style>\n",
              "\n",
              "    <script>\n",
              "      const buttonEl =\n",
              "        document.querySelector('#df-ffeb6c02-d791-42be-a46e-02d25e664b5c button.colab-df-convert');\n",
              "      buttonEl.style.display =\n",
              "        google.colab.kernel.accessAllowed ? 'block' : 'none';\n",
              "\n",
              "      async function convertToInteractive(key) {\n",
              "        const element = document.querySelector('#df-ffeb6c02-d791-42be-a46e-02d25e664b5c');\n",
              "        const dataTable =\n",
              "          await google.colab.kernel.invokeFunction('convertToInteractive',\n",
              "                                                    [key], {});\n",
              "        if (!dataTable) return;\n",
              "\n",
              "        const docLinkHtml = 'Like what you see? Visit the ' +\n",
              "          '<a target=\"_blank\" href=https://colab.research.google.com/notebooks/data_table.ipynb>data table notebook</a>'\n",
              "          + ' to learn more about interactive tables.';\n",
              "        element.innerHTML = '';\n",
              "        dataTable['output_type'] = 'display_data';\n",
              "        await google.colab.output.renderOutput(dataTable, element);\n",
              "        const docLink = document.createElement('div');\n",
              "        docLink.innerHTML = docLinkHtml;\n",
              "        element.appendChild(docLink);\n",
              "      }\n",
              "    </script>\n",
              "  </div>\n",
              "\n",
              "\n",
              "    <div id=\"df-baf5dacf-00a8-462a-8141-ab29b0ebd1c2\">\n",
              "      <button class=\"colab-df-quickchart\" onclick=\"quickchart('df-baf5dacf-00a8-462a-8141-ab29b0ebd1c2')\"\n",
              "                title=\"Suggest charts\"\n",
              "                style=\"display:none;\">\n",
              "\n",
              "<svg xmlns=\"http://www.w3.org/2000/svg\" height=\"24px\"viewBox=\"0 0 24 24\"\n",
              "     width=\"24px\">\n",
              "    <g>\n",
              "        <path d=\"M19 3H5c-1.1 0-2 .9-2 2v14c0 1.1.9 2 2 2h14c1.1 0 2-.9 2-2V5c0-1.1-.9-2-2-2zM9 17H7v-7h2v7zm4 0h-2V7h2v10zm4 0h-2v-4h2v4z\"/>\n",
              "    </g>\n",
              "</svg>\n",
              "      </button>\n",
              "\n",
              "<style>\n",
              "  .colab-df-quickchart {\n",
              "      --bg-color: #E8F0FE;\n",
              "      --fill-color: #1967D2;\n",
              "      --hover-bg-color: #E2EBFA;\n",
              "      --hover-fill-color: #174EA6;\n",
              "      --disabled-fill-color: #AAA;\n",
              "      --disabled-bg-color: #DDD;\n",
              "  }\n",
              "\n",
              "  [theme=dark] .colab-df-quickchart {\n",
              "      --bg-color: #3B4455;\n",
              "      --fill-color: #D2E3FC;\n",
              "      --hover-bg-color: #434B5C;\n",
              "      --hover-fill-color: #FFFFFF;\n",
              "      --disabled-bg-color: #3B4455;\n",
              "      --disabled-fill-color: #666;\n",
              "  }\n",
              "\n",
              "  .colab-df-quickchart {\n",
              "    background-color: var(--bg-color);\n",
              "    border: none;\n",
              "    border-radius: 50%;\n",
              "    cursor: pointer;\n",
              "    display: none;\n",
              "    fill: var(--fill-color);\n",
              "    height: 32px;\n",
              "    padding: 0;\n",
              "    width: 32px;\n",
              "  }\n",
              "\n",
              "  .colab-df-quickchart:hover {\n",
              "    background-color: var(--hover-bg-color);\n",
              "    box-shadow: 0 1px 2px rgba(60, 64, 67, 0.3), 0 1px 3px 1px rgba(60, 64, 67, 0.15);\n",
              "    fill: var(--button-hover-fill-color);\n",
              "  }\n",
              "\n",
              "  .colab-df-quickchart-complete:disabled,\n",
              "  .colab-df-quickchart-complete:disabled:hover {\n",
              "    background-color: var(--disabled-bg-color);\n",
              "    fill: var(--disabled-fill-color);\n",
              "    box-shadow: none;\n",
              "  }\n",
              "\n",
              "  .colab-df-spinner {\n",
              "    border: 2px solid var(--fill-color);\n",
              "    border-color: transparent;\n",
              "    border-bottom-color: var(--fill-color);\n",
              "    animation:\n",
              "      spin 1s steps(1) infinite;\n",
              "  }\n",
              "\n",
              "  @keyframes spin {\n",
              "    0% {\n",
              "      border-color: transparent;\n",
              "      border-bottom-color: var(--fill-color);\n",
              "      border-left-color: var(--fill-color);\n",
              "    }\n",
              "    20% {\n",
              "      border-color: transparent;\n",
              "      border-left-color: var(--fill-color);\n",
              "      border-top-color: var(--fill-color);\n",
              "    }\n",
              "    30% {\n",
              "      border-color: transparent;\n",
              "      border-left-color: var(--fill-color);\n",
              "      border-top-color: var(--fill-color);\n",
              "      border-right-color: var(--fill-color);\n",
              "    }\n",
              "    40% {\n",
              "      border-color: transparent;\n",
              "      border-right-color: var(--fill-color);\n",
              "      border-top-color: var(--fill-color);\n",
              "    }\n",
              "    60% {\n",
              "      border-color: transparent;\n",
              "      border-right-color: var(--fill-color);\n",
              "    }\n",
              "    80% {\n",
              "      border-color: transparent;\n",
              "      border-right-color: var(--fill-color);\n",
              "      border-bottom-color: var(--fill-color);\n",
              "    }\n",
              "    90% {\n",
              "      border-color: transparent;\n",
              "      border-bottom-color: var(--fill-color);\n",
              "    }\n",
              "  }\n",
              "</style>\n",
              "\n",
              "      <script>\n",
              "        async function quickchart(key) {\n",
              "          const quickchartButtonEl =\n",
              "            document.querySelector('#' + key + ' button');\n",
              "          quickchartButtonEl.disabled = true;  // To prevent multiple clicks.\n",
              "          quickchartButtonEl.classList.add('colab-df-spinner');\n",
              "          try {\n",
              "            const charts = await google.colab.kernel.invokeFunction(\n",
              "                'suggestCharts', [key], {});\n",
              "          } catch (error) {\n",
              "            console.error('Error during call to suggestCharts:', error);\n",
              "          }\n",
              "          quickchartButtonEl.classList.remove('colab-df-spinner');\n",
              "          quickchartButtonEl.classList.add('colab-df-quickchart-complete');\n",
              "        }\n",
              "        (() => {\n",
              "          let quickchartButtonEl =\n",
              "            document.querySelector('#df-baf5dacf-00a8-462a-8141-ab29b0ebd1c2 button');\n",
              "          quickchartButtonEl.style.display =\n",
              "            google.colab.kernel.accessAllowed ? 'block' : 'none';\n",
              "        })();\n",
              "      </script>\n",
              "    </div>\n",
              "\n",
              "    </div>\n",
              "  </div>\n"
            ],
            "application/vnd.google.colaboratory.intrinsic+json": {
              "type": "dataframe",
              "variable_name": "df_PFE",
              "repr_error": "0"
            }
          },
          "metadata": {},
          "execution_count": 7
        }
      ],
      "source": [
        "df_PFE=pd.read_csv('PFE.csv')\n",
        "df_PFE= df_PFE.drop(index=[0,1]).reset_index(drop=True)\n",
        "df_PFE.index = range(1, len(df_PFE) + 1)\n",
        "df_PFE.to_csv(\"PFE_data.csv\", index=False)\n",
        "df_PFE.head()"
      ]
    },
    {
      "cell_type": "markdown",
      "source": [
        "# Model"
      ],
      "metadata": {
        "id": "6undgrRCXcC5"
      }
    },
    {
      "cell_type": "code",
      "source": [
        "df_GS.head()"
      ],
      "metadata": {
        "colab": {
          "base_uri": "https://localhost:8080/",
          "height": 206
        },
        "id": "aQN2mDFZpMHA",
        "outputId": "5b29734b-85a1-4322-a30d-484aa20efe56"
      },
      "execution_count": null,
      "outputs": [
        {
          "output_type": "execute_result",
          "data": {
            "text/plain": [
              "         Date               Close                High                 Low  \\\n",
              "1  2015-03-03  156.70370483398438  158.01454546486528   156.1302112766476   \n",
              "2  2015-03-04  155.39291381835938  156.33509379031548   154.8276083354311   \n",
              "3  2015-03-05    155.728759765625  156.25309851899524  154.90129138176286   \n",
              "4  2015-03-06  153.13165283203125  156.81021263256753   152.8612888876896   \n",
              "5  2015-03-09  153.96734619140625  154.67192777422608  152.85313694541054   \n",
              "\n",
              "                 Open   Volume  \n",
              "1  156.23670918651032  1487800  \n",
              "2  155.95003099763179  1648500  \n",
              "3  155.76972627004278  1330100  \n",
              "4  153.68056902161362  4103600  \n",
              "5   153.4512080850937  2233700  "
            ],
            "text/html": [
              "\n",
              "  <div id=\"df-502fc77b-5872-4cb5-bea5-0d232eb0fc68\" class=\"colab-df-container\">\n",
              "    <div>\n",
              "<style scoped>\n",
              "    .dataframe tbody tr th:only-of-type {\n",
              "        vertical-align: middle;\n",
              "    }\n",
              "\n",
              "    .dataframe tbody tr th {\n",
              "        vertical-align: top;\n",
              "    }\n",
              "\n",
              "    .dataframe thead th {\n",
              "        text-align: right;\n",
              "    }\n",
              "</style>\n",
              "<table border=\"1\" class=\"dataframe\">\n",
              "  <thead>\n",
              "    <tr style=\"text-align: right;\">\n",
              "      <th></th>\n",
              "      <th>Date</th>\n",
              "      <th>Close</th>\n",
              "      <th>High</th>\n",
              "      <th>Low</th>\n",
              "      <th>Open</th>\n",
              "      <th>Volume</th>\n",
              "    </tr>\n",
              "  </thead>\n",
              "  <tbody>\n",
              "    <tr>\n",
              "      <th>1</th>\n",
              "      <td>2015-03-03</td>\n",
              "      <td>156.70370483398438</td>\n",
              "      <td>158.01454546486528</td>\n",
              "      <td>156.1302112766476</td>\n",
              "      <td>156.23670918651032</td>\n",
              "      <td>1487800</td>\n",
              "    </tr>\n",
              "    <tr>\n",
              "      <th>2</th>\n",
              "      <td>2015-03-04</td>\n",
              "      <td>155.39291381835938</td>\n",
              "      <td>156.33509379031548</td>\n",
              "      <td>154.8276083354311</td>\n",
              "      <td>155.95003099763179</td>\n",
              "      <td>1648500</td>\n",
              "    </tr>\n",
              "    <tr>\n",
              "      <th>3</th>\n",
              "      <td>2015-03-05</td>\n",
              "      <td>155.728759765625</td>\n",
              "      <td>156.25309851899524</td>\n",
              "      <td>154.90129138176286</td>\n",
              "      <td>155.76972627004278</td>\n",
              "      <td>1330100</td>\n",
              "    </tr>\n",
              "    <tr>\n",
              "      <th>4</th>\n",
              "      <td>2015-03-06</td>\n",
              "      <td>153.13165283203125</td>\n",
              "      <td>156.81021263256753</td>\n",
              "      <td>152.8612888876896</td>\n",
              "      <td>153.68056902161362</td>\n",
              "      <td>4103600</td>\n",
              "    </tr>\n",
              "    <tr>\n",
              "      <th>5</th>\n",
              "      <td>2015-03-09</td>\n",
              "      <td>153.96734619140625</td>\n",
              "      <td>154.67192777422608</td>\n",
              "      <td>152.85313694541054</td>\n",
              "      <td>153.4512080850937</td>\n",
              "      <td>2233700</td>\n",
              "    </tr>\n",
              "  </tbody>\n",
              "</table>\n",
              "</div>\n",
              "    <div class=\"colab-df-buttons\">\n",
              "\n",
              "  <div class=\"colab-df-container\">\n",
              "    <button class=\"colab-df-convert\" onclick=\"convertToInteractive('df-502fc77b-5872-4cb5-bea5-0d232eb0fc68')\"\n",
              "            title=\"Convert this dataframe to an interactive table.\"\n",
              "            style=\"display:none;\">\n",
              "\n",
              "  <svg xmlns=\"http://www.w3.org/2000/svg\" height=\"24px\" viewBox=\"0 -960 960 960\">\n",
              "    <path d=\"M120-120v-720h720v720H120Zm60-500h600v-160H180v160Zm220 220h160v-160H400v160Zm0 220h160v-160H400v160ZM180-400h160v-160H180v160Zm440 0h160v-160H620v160ZM180-180h160v-160H180v160Zm440 0h160v-160H620v160Z\"/>\n",
              "  </svg>\n",
              "    </button>\n",
              "\n",
              "  <style>\n",
              "    .colab-df-container {\n",
              "      display:flex;\n",
              "      gap: 12px;\n",
              "    }\n",
              "\n",
              "    .colab-df-convert {\n",
              "      background-color: #E8F0FE;\n",
              "      border: none;\n",
              "      border-radius: 50%;\n",
              "      cursor: pointer;\n",
              "      display: none;\n",
              "      fill: #1967D2;\n",
              "      height: 32px;\n",
              "      padding: 0 0 0 0;\n",
              "      width: 32px;\n",
              "    }\n",
              "\n",
              "    .colab-df-convert:hover {\n",
              "      background-color: #E2EBFA;\n",
              "      box-shadow: 0px 1px 2px rgba(60, 64, 67, 0.3), 0px 1px 3px 1px rgba(60, 64, 67, 0.15);\n",
              "      fill: #174EA6;\n",
              "    }\n",
              "\n",
              "    .colab-df-buttons div {\n",
              "      margin-bottom: 4px;\n",
              "    }\n",
              "\n",
              "    [theme=dark] .colab-df-convert {\n",
              "      background-color: #3B4455;\n",
              "      fill: #D2E3FC;\n",
              "    }\n",
              "\n",
              "    [theme=dark] .colab-df-convert:hover {\n",
              "      background-color: #434B5C;\n",
              "      box-shadow: 0px 1px 3px 1px rgba(0, 0, 0, 0.15);\n",
              "      filter: drop-shadow(0px 1px 2px rgba(0, 0, 0, 0.3));\n",
              "      fill: #FFFFFF;\n",
              "    }\n",
              "  </style>\n",
              "\n",
              "    <script>\n",
              "      const buttonEl =\n",
              "        document.querySelector('#df-502fc77b-5872-4cb5-bea5-0d232eb0fc68 button.colab-df-convert');\n",
              "      buttonEl.style.display =\n",
              "        google.colab.kernel.accessAllowed ? 'block' : 'none';\n",
              "\n",
              "      async function convertToInteractive(key) {\n",
              "        const element = document.querySelector('#df-502fc77b-5872-4cb5-bea5-0d232eb0fc68');\n",
              "        const dataTable =\n",
              "          await google.colab.kernel.invokeFunction('convertToInteractive',\n",
              "                                                    [key], {});\n",
              "        if (!dataTable) return;\n",
              "\n",
              "        const docLinkHtml = 'Like what you see? Visit the ' +\n",
              "          '<a target=\"_blank\" href=https://colab.research.google.com/notebooks/data_table.ipynb>data table notebook</a>'\n",
              "          + ' to learn more about interactive tables.';\n",
              "        element.innerHTML = '';\n",
              "        dataTable['output_type'] = 'display_data';\n",
              "        await google.colab.output.renderOutput(dataTable, element);\n",
              "        const docLink = document.createElement('div');\n",
              "        docLink.innerHTML = docLinkHtml;\n",
              "        element.appendChild(docLink);\n",
              "      }\n",
              "    </script>\n",
              "  </div>\n",
              "\n",
              "\n",
              "    <div id=\"df-1a91af13-11ad-4e36-a2e9-757395de810e\">\n",
              "      <button class=\"colab-df-quickchart\" onclick=\"quickchart('df-1a91af13-11ad-4e36-a2e9-757395de810e')\"\n",
              "                title=\"Suggest charts\"\n",
              "                style=\"display:none;\">\n",
              "\n",
              "<svg xmlns=\"http://www.w3.org/2000/svg\" height=\"24px\"viewBox=\"0 0 24 24\"\n",
              "     width=\"24px\">\n",
              "    <g>\n",
              "        <path d=\"M19 3H5c-1.1 0-2 .9-2 2v14c0 1.1.9 2 2 2h14c1.1 0 2-.9 2-2V5c0-1.1-.9-2-2-2zM9 17H7v-7h2v7zm4 0h-2V7h2v10zm4 0h-2v-4h2v4z\"/>\n",
              "    </g>\n",
              "</svg>\n",
              "      </button>\n",
              "\n",
              "<style>\n",
              "  .colab-df-quickchart {\n",
              "      --bg-color: #E8F0FE;\n",
              "      --fill-color: #1967D2;\n",
              "      --hover-bg-color: #E2EBFA;\n",
              "      --hover-fill-color: #174EA6;\n",
              "      --disabled-fill-color: #AAA;\n",
              "      --disabled-bg-color: #DDD;\n",
              "  }\n",
              "\n",
              "  [theme=dark] .colab-df-quickchart {\n",
              "      --bg-color: #3B4455;\n",
              "      --fill-color: #D2E3FC;\n",
              "      --hover-bg-color: #434B5C;\n",
              "      --hover-fill-color: #FFFFFF;\n",
              "      --disabled-bg-color: #3B4455;\n",
              "      --disabled-fill-color: #666;\n",
              "  }\n",
              "\n",
              "  .colab-df-quickchart {\n",
              "    background-color: var(--bg-color);\n",
              "    border: none;\n",
              "    border-radius: 50%;\n",
              "    cursor: pointer;\n",
              "    display: none;\n",
              "    fill: var(--fill-color);\n",
              "    height: 32px;\n",
              "    padding: 0;\n",
              "    width: 32px;\n",
              "  }\n",
              "\n",
              "  .colab-df-quickchart:hover {\n",
              "    background-color: var(--hover-bg-color);\n",
              "    box-shadow: 0 1px 2px rgba(60, 64, 67, 0.3), 0 1px 3px 1px rgba(60, 64, 67, 0.15);\n",
              "    fill: var(--button-hover-fill-color);\n",
              "  }\n",
              "\n",
              "  .colab-df-quickchart-complete:disabled,\n",
              "  .colab-df-quickchart-complete:disabled:hover {\n",
              "    background-color: var(--disabled-bg-color);\n",
              "    fill: var(--disabled-fill-color);\n",
              "    box-shadow: none;\n",
              "  }\n",
              "\n",
              "  .colab-df-spinner {\n",
              "    border: 2px solid var(--fill-color);\n",
              "    border-color: transparent;\n",
              "    border-bottom-color: var(--fill-color);\n",
              "    animation:\n",
              "      spin 1s steps(1) infinite;\n",
              "  }\n",
              "\n",
              "  @keyframes spin {\n",
              "    0% {\n",
              "      border-color: transparent;\n",
              "      border-bottom-color: var(--fill-color);\n",
              "      border-left-color: var(--fill-color);\n",
              "    }\n",
              "    20% {\n",
              "      border-color: transparent;\n",
              "      border-left-color: var(--fill-color);\n",
              "      border-top-color: var(--fill-color);\n",
              "    }\n",
              "    30% {\n",
              "      border-color: transparent;\n",
              "      border-left-color: var(--fill-color);\n",
              "      border-top-color: var(--fill-color);\n",
              "      border-right-color: var(--fill-color);\n",
              "    }\n",
              "    40% {\n",
              "      border-color: transparent;\n",
              "      border-right-color: var(--fill-color);\n",
              "      border-top-color: var(--fill-color);\n",
              "    }\n",
              "    60% {\n",
              "      border-color: transparent;\n",
              "      border-right-color: var(--fill-color);\n",
              "    }\n",
              "    80% {\n",
              "      border-color: transparent;\n",
              "      border-right-color: var(--fill-color);\n",
              "      border-bottom-color: var(--fill-color);\n",
              "    }\n",
              "    90% {\n",
              "      border-color: transparent;\n",
              "      border-bottom-color: var(--fill-color);\n",
              "    }\n",
              "  }\n",
              "</style>\n",
              "\n",
              "      <script>\n",
              "        async function quickchart(key) {\n",
              "          const quickchartButtonEl =\n",
              "            document.querySelector('#' + key + ' button');\n",
              "          quickchartButtonEl.disabled = true;  // To prevent multiple clicks.\n",
              "          quickchartButtonEl.classList.add('colab-df-spinner');\n",
              "          try {\n",
              "            const charts = await google.colab.kernel.invokeFunction(\n",
              "                'suggestCharts', [key], {});\n",
              "          } catch (error) {\n",
              "            console.error('Error during call to suggestCharts:', error);\n",
              "          }\n",
              "          quickchartButtonEl.classList.remove('colab-df-spinner');\n",
              "          quickchartButtonEl.classList.add('colab-df-quickchart-complete');\n",
              "        }\n",
              "        (() => {\n",
              "          let quickchartButtonEl =\n",
              "            document.querySelector('#df-1a91af13-11ad-4e36-a2e9-757395de810e button');\n",
              "          quickchartButtonEl.style.display =\n",
              "            google.colab.kernel.accessAllowed ? 'block' : 'none';\n",
              "        })();\n",
              "      </script>\n",
              "    </div>\n",
              "\n",
              "    </div>\n",
              "  </div>\n"
            ],
            "application/vnd.google.colaboratory.intrinsic+json": {
              "type": "dataframe",
              "variable_name": "df_GS",
              "repr_error": "0"
            }
          },
          "metadata": {},
          "execution_count": 8
        }
      ]
    },
    {
      "cell_type": "markdown",
      "source": [
        "# Goldman Sachs"
      ],
      "metadata": {
        "id": "IfClMucm1xyP"
      }
    },
    {
      "cell_type": "code",
      "source": [
        "df_GS = df_GS[['Date', 'Close']]\n",
        "# Clean 'Close' column: remove commas, convert to float\n",
        "df_GS['Close'] = df_GS['Close'].astype(str).str.replace(',', '', regex=False)\n",
        "df_GS = df_GS[df_GS['Close'].str.replace('.', '', regex=False).str.isnumeric()]\n",
        "df_GS['Close'] = df_GS['Close'].astype(float)\n",
        "\n",
        "# Convert 'Date' to datetime format (optional but useful)\n",
        "df_GS['Date'] = pd.to_datetime(df_GS['Date'])\n",
        "\n",
        "df_GS.set_index('Date', inplace=True)\n",
        "\n",
        "# Display the cleaned DataFrame\n",
        "print(df_GS.head())"
      ],
      "metadata": {
        "colab": {
          "base_uri": "https://localhost:8080/"
        },
        "id": "nhzw59qSpVd3",
        "outputId": "4d92bc35-8d4d-40d3-afc9-8eab53b07bd5"
      },
      "execution_count": null,
      "outputs": [
        {
          "output_type": "stream",
          "name": "stdout",
          "text": [
            "                 Close\n",
            "Date                  \n",
            "2015-03-03  156.703751\n",
            "2015-03-04  155.392899\n",
            "2015-03-05  155.728806\n",
            "2015-03-06  153.131638\n",
            "2015-03-09  153.967316\n"
          ]
        },
        {
          "output_type": "stream",
          "name": "stderr",
          "text": [
            "/tmp/ipython-input-8-1939186216.py:3: SettingWithCopyWarning: \n",
            "A value is trying to be set on a copy of a slice from a DataFrame.\n",
            "Try using .loc[row_indexer,col_indexer] = value instead\n",
            "\n",
            "See the caveats in the documentation: https://pandas.pydata.org/pandas-docs/stable/user_guide/indexing.html#returning-a-view-versus-a-copy\n",
            "  df_GS['Close'] = df_GS['Close'].astype(str).str.replace(',', '', regex=False)\n"
          ]
        }
      ]
    },
    {
      "cell_type": "code",
      "source": [
        "import matplotlib.pyplot as plt"
      ],
      "metadata": {
        "id": "2X2DyZZWqhlC"
      },
      "execution_count": null,
      "outputs": []
    },
    {
      "cell_type": "code",
      "source": [
        "df_GS.plot(figsize=(10,5), linewidth=5)\n",
        "plt.xlabel('Year')"
      ],
      "metadata": {
        "colab": {
          "base_uri": "https://localhost:8080/",
          "height": 453
        },
        "id": "hFRkwSBMpzio",
        "outputId": "3dd21c60-0dfa-4422-b1f3-ec183a5c49cf"
      },
      "execution_count": null,
      "outputs": [
        {
          "output_type": "execute_result",
          "data": {
            "text/plain": [
              "Text(0.5, 0, 'Year')"
            ]
          },
          "metadata": {},
          "execution_count": 10
        },
        {
          "output_type": "display_data",
          "data": {
            "text/plain": [
              "<Figure size 1000x500 with 1 Axes>"
            ],
            "image/png": "[encoded data removed]"
          },
          "metadata": {}
        }
      ]
    },
    {
      "cell_type": "code",
      "source": [
        "#First-order differencing\n",
        "df_GS.diff().plot(figsize=(10,5))\n",
        "plt.xlabel('Year')"
      ],
      "metadata": {
        "colab": {
          "base_uri": "https://localhost:8080/",
          "height": 453
        },
        "id": "fiOQuUFtqgsv",
        "outputId": "1928c921-113a-4344-80b1-18eaf95af0d6"
      },
      "execution_count": null,
      "outputs": [
        {
          "output_type": "execute_result",
          "data": {
            "text/plain": [
              "Text(0.5, 0, 'Year')"
            ]
          },
          "metadata": {},
          "execution_count": 11
        },
        {
          "output_type": "display_data",
          "data": {
            "text/plain": [
              "<Figure size 1000x500 with 1 Axes>"
            ],
            "image/png": "[encoded data removed]"
          },
          "metadata": {}
        }
      ]
    },
    {
      "cell_type": "code",
      "source": [
        "from statsmodels.graphics.tsaplots import plot_acf, plot_pacf\n",
        "plot_acf(df_GS, lags=5)\n",
        "plot_pacf(df_GS, lags=5)"
      ],
      "metadata": {
        "colab": {
          "base_uri": "https://localhost:8080/",
          "height": 1000
        },
        "id": "mVrLlT2JrBD3",
        "outputId": "d2077765-cb9b-42b0-8aa8-ddea0a7b2d70"
      },
      "execution_count": null,
      "outputs": [
        {
          "output_type": "execute_result",
          "data": {
            "text/plain": [
              "<Figure size 640x480 with 1 Axes>"
            ],
            "image/png": "[encoded data removed]"
          },
          "metadata": {},
          "execution_count": 12
        },
        {
          "output_type": "display_data",
          "data": {
            "text/plain": [
              "<Figure size 640x480 with 1 Axes>"
            ],
            "image/png": "[encoded data removed]"
          },
          "metadata": {}
        },
        {
          "output_type": "display_data",
          "data": {
            "text/plain": [
              "<Figure size 640x480 with 1 Axes>"
            ],
            "image/png": "[encoded data removed]"
          },
          "metadata": {}
        }
      ]
    },
    {
      "cell_type": "code",
      "source": [],
      "metadata": {
        "id": "eZ86GW-nr2AU"
      },
      "execution_count": null,
      "outputs": []
    },
    {
      "cell_type": "code",
      "source": [
        "train_data, test_data = df_GS[0:int(len(df_GS)*0.85)], df_GS[int(len(df_GS)*0.85):]\n",
        "plt.figure(figsize=(12,7))\n",
        "plt.title('GS Prices')\n",
        "plt.xlabel('Dates')\n",
        "plt.ylabel('Prices')\n",
        "plt.plot(df_GS, 'blue', label='Training Data')\n",
        "plt.plot(test_data, 'green', label='Testing Data')\n",
        "plt.legend()"
      ],
      "metadata": {
        "colab": {
          "base_uri": "https://localhost:8080/",
          "height": 626
        },
        "id": "1HVrkf3-rSZ5",
        "outputId": "cd104cf4-ee97-4bdc-b7bd-7dbd9c931ed6"
      },
      "execution_count": null,
      "outputs": [
        {
          "output_type": "execute_result",
          "data": {
            "text/plain": [
              "<matplotlib.legend.Legend at 0x7e62d8b69390>"
            ]
          },
          "metadata": {},
          "execution_count": 13
        },
        {
          "output_type": "display_data",
          "data": {
            "text/plain": [
              "<Figure size 1200x700 with 1 Axes>"
            ],
            "image/png": "[encoded data removed]"
          },
          "metadata": {}
        }
      ]
    },
    {
      "cell_type": "code",
      "source": [
        "import pandas as pd\n",
        "import numpy as np\n",
        "import os\n",
        "from subprocess import check_output\n",
        "import seaborn as sns\n",
        "import matplotlib.pyplot as plt\n",
        "import warnings\n",
        "from pandas.plotting import lag_plot\n",
        "from statsmodels.tsa.arima_model import ARIMA\n",
        "from sklearn.metrics import mean_squared_error\n",
        "import statsmodels.api as sm\n",
        "warnings.filterwarnings('ignore')"
      ],
      "metadata": {
        "id": "OxjsgEc8sOY7"
      },
      "execution_count": null,
      "outputs": []
    },
    {
      "cell_type": "code",
      "source": [
        "from pmdarima import auto_arima\n",
        "\n",
        "auto_model = auto_arima(df_GS['Close'], seasonal=False, stepwise=True, trace=True)\n",
        "print(auto_model.summary())"
      ],
      "metadata": {
        "colab": {
          "base_uri": "https://localhost:8080/"
        },
        "id": "1lc9eavH3miR",
        "outputId": "ca15e5ed-82bb-435a-84e4-6ed269bfb95c"
      },
      "execution_count": null,
      "outputs": [
        {
          "output_type": "stream",
          "name": "stdout",
          "text": [
            "Performing stepwise search to minimize aic\n",
            " ARIMA(2,1,2)(0,0,0)[0] intercept   : AIC=16022.596, Time=8.25 sec\n",
            " ARIMA(0,1,0)(0,0,0)[0] intercept   : AIC=16038.584, Time=0.26 sec\n",
            " ARIMA(1,1,0)(0,0,0)[0] intercept   : AIC=16036.622, Time=0.49 sec\n",
            " ARIMA(0,1,1)(0,0,0)[0] intercept   : AIC=16036.846, Time=0.64 sec\n",
            " ARIMA(0,1,0)(0,0,0)[0]             : AIC=16040.739, Time=0.08 sec\n",
            " ARIMA(1,1,2)(0,0,0)[0] intercept   : AIC=16037.767, Time=1.80 sec\n",
            " ARIMA(2,1,1)(0,0,0)[0] intercept   : AIC=16038.480, Time=1.64 sec\n",
            " ARIMA(3,1,2)(0,0,0)[0] intercept   : AIC=16040.091, Time=3.69 sec\n",
            " ARIMA(2,1,3)(0,0,0)[0] intercept   : AIC=16024.480, Time=7.25 sec\n",
            " ARIMA(1,1,1)(0,0,0)[0] intercept   : AIC=16037.817, Time=1.10 sec\n",
            " ARIMA(1,1,3)(0,0,0)[0] intercept   : AIC=16037.911, Time=3.21 sec\n",
            " ARIMA(3,1,1)(0,0,0)[0] intercept   : AIC=16038.217, Time=1.98 sec\n",
            " ARIMA(3,1,3)(0,0,0)[0] intercept   : AIC=16026.581, Time=10.94 sec\n",
            " ARIMA(2,1,2)(0,0,0)[0]             : AIC=16024.616, Time=2.14 sec\n",
            "\n",
            "Best model:  ARIMA(2,1,2)(0,0,0)[0] intercept\n",
            "Total fit time: 43.513 seconds\n",
            "                               SARIMAX Results                                \n",
            "==============================================================================\n",
            "Dep. Variable:                      y   No. Observations:                 2598\n",
            "Model:               SARIMAX(2, 1, 2)   Log Likelihood               -8005.298\n",
            "Date:                Wed, 02 Jul 2025   AIC                          16022.596\n",
            "Time:                        11:21:53   BIC                          16057.769\n",
            "Sample:                             0   HQIC                         16035.341\n",
            "                               - 2598                                         \n",
            "Covariance Type:                  opg                                         \n",
            "==============================================================================\n",
            "                 coef    std err          z      P>|z|      [0.025      0.975]\n",
            "------------------------------------------------------------------------------\n",
            "intercept      0.2694      0.142      1.898      0.058      -0.009       0.548\n",
            "ar.L1          0.6624      0.017     38.622      0.000       0.629       0.696\n",
            "ar.L2         -0.9442      0.014    -67.941      0.000      -0.971      -0.917\n",
            "ma.L1         -0.6317      0.018    -34.881      0.000      -0.667      -0.596\n",
            "ma.L2          0.9411      0.014     68.648      0.000       0.914       0.968\n",
            "sigma2        27.8874      0.259    107.678      0.000      27.380      28.395\n",
            "===================================================================================\n",
            "Ljung-Box (L1) (Q):                   0.08   Jarque-Bera (JB):             52561.70\n",
            "Prob(Q):                              0.77   Prob(JB):                         0.00\n",
            "Heteroskedasticity (H):               9.35   Skew:                             0.49\n",
            "Prob(H) (two-sided):                  0.00   Kurtosis:                        25.02\n",
            "===================================================================================\n",
            "\n",
            "Warnings:\n",
            "[1] Covariance matrix calculated using the outer product of gradients (complex-step).\n"
          ]
        }
      ]
    },
    {
      "cell_type": "code",
      "source": [
        "import numpy as np\n",
        "import pandas as pd\n",
        "from statsmodels.tsa.arima.model import ARIMA\n",
        "from sklearn.metrics import mean_squared_error\n",
        "\n",
        "# Define SMAPE\n",
        "def smape_kun(y_true, y_pred):\n",
        "    y_true, y_pred = np.array(y_true), np.array(y_pred)\n",
        "    return np.mean((np.abs(y_pred - y_true) * 200 / (np.abs(y_pred) + np.abs(y_true) + 1e-8)))  # avoid div by zero\n",
        "\n",
        "# Ensure train_data and test_data are Series\n",
        "train_ar = np.array(train_data.values, dtype=float).flatten()\n",
        "test_ar = np.array(test_data.values, dtype=float).flatten()\n",
        "\n",
        "history = list(train_ar)\n",
        "predictions = []\n",
        "\n",
        "for t in range(len(test_ar)):\n",
        "    model = ARIMA(history, order=(2,1,2))\n",
        "    model_fit = model.fit()\n",
        "    yhat = float(model_fit.forecast()[0])  # safe cast to scalar\n",
        "    predictions.append(yhat)\n",
        "    history.append(test_ar[t])\n",
        "\n",
        "# Evaluation\n",
        "error = mean_squared_error(test_ar, predictions)\n",
        "print(f'Testing Mean Squared Error: {error:.3f}')\n",
        "\n",
        "error2 = smape_kun(test_ar, predictions)\n",
        "print(f'Symmetric Mean Absolute Percentage Error (SMAPE): {error2:.3f}')"
      ],
      "metadata": {
        "colab": {
          "base_uri": "https://localhost:8080/"
        },
        "id": "xxNCEtfP4j0H",
        "outputId": "d7c1c2bb-381f-4f5b-dfd5-f2079748ce67"
      },
      "execution_count": null,
      "outputs": [
        {
          "output_type": "stream",
          "name": "stdout",
          "text": [
            "Testing Mean Squared Error: 98.388\n",
            "Symmetric Mean Absolute Percentage Error (SMAPE): 1.280\n"
          ]
        }
      ]
    },
    {
      "cell_type": "code",
      "source": [
        "import numpy as np\n",
        "import pandas as pd\n",
        "from statsmodels.tsa.arima.model import ARIMA\n",
        "from sklearn.metrics import mean_squared_error, mean_absolute_percentage_error\n",
        "\n",
        "# Define SMAPE\n",
        "def smape_kun(y_true, y_pred):\n",
        "    y_true = np.array(y_true, dtype=float).flatten()\n",
        "    y_pred = np.array(y_pred, dtype=float).flatten()\n",
        "    return np.mean((np.abs(y_pred - y_true) * 200 / (np.abs(y_pred) + np.abs(y_true) + 1e-8)))\n",
        "\n",
        "# Define MBE\n",
        "def mean_bias_error(y_true, y_pred):\n",
        "    y_true = np.array(y_true, dtype=float).flatten()\n",
        "    y_pred = np.array(y_pred, dtype=float).flatten()\n",
        "    return np.mean(y_pred - y_true)\n",
        "\n",
        "# Ensure train_data and test_data are flat float arrays\n",
        "train_ar = np.array(train_data.values, dtype=float).flatten()\n",
        "test_ar = np.array(test_data.values, dtype=float).flatten()\n",
        "\n",
        "history = list(train_ar)\n",
        "predictions = []\n",
        "\n",
        "for t in range(len(test_ar)):\n",
        "    try:\n",
        "        model = ARIMA(history, order=(2,1,2))\n",
        "        model_fit = model.fit()\n",
        "        yhat = float(model_fit.forecast()[0])  # ensure scalar\n",
        "        predictions.append(yhat)\n",
        "        history.append(test_ar[t])\n",
        "    except Exception as e:\n",
        "        print(f\"Error at step {t}: {e}\")\n",
        "        predictions.append(history[-1])  # fallback prediction\n",
        "\n",
        "# Evaluation\n",
        "mse = mean_squared_error(test_ar, predictions)\n",
        "rmse = np.sqrt(mse)\n",
        "mape = mean_absolute_percentage_error(test_ar, predictions) * 100  # in percentage\n",
        "smape = smape_kun(test_ar, predictions)\n",
        "mbe = mean_bias_error(test_ar, predictions)\n",
        "\n",
        "# Print metrics\n",
        "print(f' RMSE: {rmse:.2f}')\n",
        "print(f' MAPE: {mape:.2f}%')\n",
        "print(f' MBE : {mbe:.2f}')\n",
        "print(f' SMAPE: {smape:.2f}%')"
      ],
      "metadata": {
        "colab": {
          "base_uri": "https://localhost:8080/"
        },
        "id": "C7_WTsN-xi0P",
        "outputId": "e667975b-5d45-49ca-cf29-67189cad0c66"
      },
      "execution_count": null,
      "outputs": [
        {
          "output_type": "stream",
          "name": "stdout",
          "text": [
            " RMSE: 9.91\n",
            " MAPE: 1.28%\n",
            " MBE : -0.96\n",
            " SMAPE: 1.28%\n"
          ]
        }
      ]
    },
    {
      "cell_type": "code",
      "source": [
        "plt.figure(figsize=(12,7))\n",
        "plt.plot(df_GS,'green', color='blue', label='Training Data')\n",
        "plt.plot(test_data.index, predictions, color='green', marker='o', linestyle='dashed',\n",
        "         label='Predicted Price')\n",
        "plt.plot(test_data.index, test_data, color='red', label='Actual Price')\n",
        "plt.title('GS Prices Prediction')\n",
        "plt.xlabel('Dates')\n",
        "plt.ylabel('Prices')\n",
        "plt.legend()"
      ],
      "metadata": {
        "colab": {
          "base_uri": "https://localhost:8080/",
          "height": 626
        },
        "id": "bR9f0ZQ4siGR",
        "outputId": "0ff3622e-03e2-4963-fc23-032cf0febc4e"
      },
      "execution_count": null,
      "outputs": [
        {
          "output_type": "execute_result",
          "data": {
            "text/plain": [
              "<matplotlib.legend.Legend at 0x7e62d3535e50>"
            ]
          },
          "metadata": {},
          "execution_count": 16
        },
        {
          "output_type": "display_data",
          "data": {
            "text/plain": [
              "<Figure size 1200x700 with 1 Axes>"
            ],
            "image/png": "[encoded data removed]"
          },
          "metadata": {}
        }
      ]
    },
    {
      "cell_type": "code",
      "source": [
        "import numpy as np\n",
        "import plotly.graph_objects as go\n",
        "\n",
        "# Ensure predictions is a flat array\n",
        "predictions = np.array(predictions).flatten()\n",
        "\n",
        "# Ensure test_data is a Series with proper index\n",
        "if isinstance(test_data, pd.DataFrame):\n",
        "    test_data = test_data.squeeze()\n",
        "\n",
        "# Ensure lengths match\n",
        "min_len = min(len(predictions), len(test_data))\n",
        "predictions = predictions[:min_len]\n",
        "actual = test_data.values[:min_len]\n",
        "dates = test_data.index[:min_len]\n",
        "\n",
        "# Plot with Plotly\n",
        "fig = go.Figure()\n",
        "\n",
        "fig.add_trace(go.Scatter(\n",
        "    x=dates,\n",
        "    y=predictions,\n",
        "    mode='lines',\n",
        "    name='Predicted Price',\n",
        "    line=dict(color='green', width=4)\n",
        "))\n",
        "\n",
        "fig.add_trace(go.Scatter(\n",
        "    x=dates,\n",
        "    y=actual,\n",
        "    mode='lines',\n",
        "    name='Actual Price',\n",
        "    line=dict(color='red')\n",
        "))\n",
        "\n",
        "fig.update_layout(\n",
        "    title='GS Prices Prediction',\n",
        "    xaxis_title='Dates',\n",
        "    yaxis_title='Close Price (USD)',\n",
        "    legend=dict(x=0, y=1),\n",
        "    template='plotly_white',\n",
        "    width=900,\n",
        "    height=500\n",
        ")\n",
        "\n",
        "fig.show()"
      ],
      "metadata": {
        "colab": {
          "base_uri": "https://localhost:8080/",
          "height": 517
        },
        "id": "jGrbcAqN0GKL",
        "outputId": "f0c91b92-1d15-44b8-de87-8f0d1219fe53"
      },
      "execution_count": null,
      "outputs": [
        {
          "output_type": "display_data",
          "data": {
            "text/html": [
              "<html>\n",
              "<head><meta charset=\"utf-8\" /></head>\n",
              "<body>\n",
              "    <div>            <script src=\"https://cdnjs.cloudflare.com/ajax/libs/mathjax/2.7.5/MathJax.js?config=TeX-AMS-MML_SVG\"></script><script type=\"text/javascript\">if (window.MathJax && window.MathJax.Hub && window.MathJax.Hub.Config) {window.MathJax.Hub.Config({SVG: {font: \"STIX-Web\"}});}</script>                <script type=\"text/javascript\">window.PlotlyConfig = {MathJaxConfig: 'local'};</script>\n",
              "        <script charset=\"utf-8\" src=\"https://cdn.plot.ly/plotly-2.35.2.min.js\"></script>                <div id=\"e5362787-5077-437e-a088-8e035d6f2dc8\" class=\"plotly-graph-div\" style=\"height:500px; width:900px;\"></div>            <script type=\"text/javascript\">                                    window.PLOTLYENV=window.PLOTLYENV || {};                                    if (document.getElementById(\"e5362787-5077-437e-a088-8e035d6f2dc8\")) {                    Plotly.newPlot(                        \"e5362787-5077-437e-a088-8e035d6f2dc8\",                        [{\"line\":{\"color\":\"green\",\"width\":4},\"mode\":\"lines\",\"name\":\"Predicted Price\",\"x\":[\"2023-12-07T00:00:00\",\"2023-12-08T00:00:00\",\"2023-12-11T00:00:00\",\"2023-12-12T00:00:00\",\"2023-12-13T00:00:00\",\"2023-12-14T00:00:00\",\"2023-12-15T00:00:00\",\"2023-12-18T00:00:00\",\"2023-12-19T00:00:00\",\"2023-12-20T00:00:00\",\"2023-12-21T00:00:00\",\"2023-12-22T00:00:00\",\"2023-12-26T00:00:00\",\"2023-12-27T00:00:00\",\"2023-12-28T00:00:00\",\"2023-12-29T00:00:00\",\"2024-01-02T00:00:00\",\"2024-01-03T00:00:00\",\"2024-01-04T00:00:00\",\"2024-01-05T00:00:00\",\"2024-01-08T00:00:00\",\"2024-01-09T00:00:00\",\"2024-01-10T00:00:00\",\"2024-01-11T00:00:00\",\"2024-01-12T00:00:00\",\"2024-01-16T00:00:00\",\"2024-01-17T00:00:00\",\"2024-01-18T00:00:00\",\"2024-01-19T00:00:00\",\"2024-01-22T00:00:00\",\"2024-01-23T00:00:00\",\"2024-01-24T00:00:00\",\"2024-01-25T00:00:00\",\"2024-01-26T00:00:00\",\"2024-01-29T00:00:00\",\"2024-01-30T00:00:00\",\"2024-01-31T00:00:00\",\"2024-02-01T00:00:00\",\"2024-02-02T00:00:00\",\"2024-02-05T00:00:00\",\"2024-02-06T00:00:00\",\"2024-02-07T00:00:00\",\"2024-02-08T00:00:00\",\"2024-02-09T00:00:00\",\"2024-02-12T00:00:00\",\"2024-02-13T00:00:00\",\"2024-02-14T00:00:00\",\"2024-02-15T00:00:00\",\"2024-02-16T00:00:00\",\"2024-02-20T00:00:00\",\"2024-02-21T00:00:00\",\"2024-02-22T00:00:00\",\"2024-02-23T00:00:00\",\"2024-02-26T00:00:00\",\"2024-02-27T00:00:00\",\"2024-02-28T00:00:00\",\"2024-02-29T00:00:00\",\"2024-03-01T00:00:00\",\"2024-03-04T00:00:00\",\"2024-03-05T00:00:00\",\"2024-03-06T00:00:00\",\"2024-03-07T00:00:00\",\"2024-03-08T00:00:00\",\"2024-03-11T00:00:00\",\"2024-03-12T00:00:00\",\"2024-03-13T00:00:00\",\"2024-03-14T00:00:00\",\"2024-03-15T00:00:00\",\"2024-03-18T00:00:00\",\"2024-03-19T00:00:00\",\"2024-03-20T00:00:00\",\"2024-03-21T00:00:00\",\"2024-03-22T00:00:00\",\"2024-03-25T00:00:00\",\"2024-03-26T00:00:00\",\"2024-03-27T00:00:00\",\"2024-03-28T00:00:00\",\"2024-04-01T00:00:00\",\"2024-04-02T00:00:00\",\"2024-04-03T00:00:00\",\"2024-04-04T00:00:00\",\"2024-04-05T00:00:00\",\"2024-04-08T00:00:00\",\"2024-04-09T00:00:00\",\"2024-04-10T00:00:00\",\"2024-04-11T00:00:00\",\"2024-04-12T00:00:00\",\"2024-04-15T00:00:00\",\"2024-04-16T00:00:00\",\"2024-04-17T00:00:00\",\"2024-04-18T00:00:00\",\"2024-04-19T00:00:00\",\"2024-04-22T00:00:00\",\"2024-04-23T00:00:00\",\"2024-04-24T00:00:00\",\"2024-04-25T00:00:00\",\"2024-04-26T00:00:00\",\"2024-04-29T00:00:00\",\"2024-04-30T00:00:00\",\"2024-05-01T00:00:00\",\"2024-05-02T00:00:00\",\"2024-05-03T00:00:00\",\"2024-05-06T00:00:00\",\"2024-05-07T00:00:00\",\"2024-05-08T00:00:00\",\"2024-05-09T00:00:00\",\"2024-05-10T00:00:00\",\"2024-05-13T00:00:00\",\"2024-05-14T00:00:00\",\"2024-05-15T00:00:00\",\"2024-05-16T00:00:00\",\"2024-05-17T00:00:00\",\"2024-05-20T00:00:00\",\"2024-05-21T00:00:00\",\"2024-05-22T00:00:00\",\"2024-05-23T00:00:00\",\"2024-05-24T00:00:00\",\"2024-05-28T00:00:00\",\"2024-05-29T00:00:00\",\"2024-05-30T00:00:00\",\"2024-05-31T00:00:00\",\"2024-06-03T00:00:00\",\"2024-06-04T00:00:00\",\"2024-06-05T00:00:00\",\"2024-06-06T00:00:00\",\"2024-06-07T00:00:00\",\"2024-06-10T00:00:00\",\"2024-06-11T00:00:00\",\"2024-06-12T00:00:00\",\"2024-06-13T00:00:00\",\"2024-06-14T00:00:00\",\"2024-06-17T00:00:00\",\"2024-06-18T00:00:00\",\"2024-06-20T00:00:00\",\"2024-06-21T00:00:00\",\"2024-06-24T00:00:00\",\"2024-06-25T00:00:00\",\"2024-06-26T00:00:00\",\"2024-06-27T00:00:00\",\"2024-06-28T00:00:00\",\"2024-07-01T00:00:00\",\"2024-07-02T00:00:00\",\"2024-07-03T00:00:00\",\"2024-07-05T00:00:00\",\"2024-07-08T00:00:00\",\"2024-07-09T00:00:00\",\"2024-07-10T00:00:00\",\"2024-07-11T00:00:00\",\"2024-07-12T00:00:00\",\"2024-07-15T00:00:00\",\"2024-07-16T00:00:00\",\"2024-07-17T00:00:00\",\"2024-07-18T00:00:00\",\"2024-07-19T00:00:00\",\"2024-07-22T00:00:00\",\"2024-07-23T00:00:00\",\"2024-07-24T00:00:00\",\"2024-07-25T00:00:00\",\"2024-07-26T00:00:00\",\"2024-07-29T00:00:00\",\"2024-07-30T00:00:00\",\"2024-07-31T00:00:00\",\"2024-08-01T00:00:00\",\"2024-08-02T00:00:00\",\"2024-08-05T00:00:00\",\"2024-08-06T00:00:00\",\"2024-08-07T00:00:00\",\"2024-08-08T00:00:00\",\"2024-08-09T00:00:00\",\"2024-08-12T00:00:00\",\"2024-08-13T00:00:00\",\"2024-08-14T00:00:00\",\"2024-08-15T00:00:00\",\"2024-08-16T00:00:00\",\"2024-08-19T00:00:00\",\"2024-08-20T00:00:00\",\"2024-08-21T00:00:00\",\"2024-08-22T00:00:00\",\"2024-08-23T00:00:00\",\"2024-08-26T00:00:00\",\"2024-08-27T00:00:00\",\"2024-08-28T00:00:00\",\"2024-08-29T00:00:00\",\"2024-08-30T00:00:00\",\"2024-09-03T00:00:00\",\"2024-09-04T00:00:00\",\"2024-09-05T00:00:00\",\"2024-09-06T00:00:00\",\"2024-09-09T00:00:00\",\"2024-09-10T00:00:00\",\"2024-09-11T00:00:00\",\"2024-09-12T00:00:00\",\"2024-09-13T00:00:00\",\"2024-09-16T00:00:00\",\"2024-09-17T00:00:00\",\"2024-09-18T00:00:00\",\"2024-09-19T00:00:00\",\"2024-09-20T00:00:00\",\"2024-09-23T00:00:00\",\"2024-09-24T00:00:00\",\"2024-09-25T00:00:00\",\"2024-09-26T00:00:00\",\"2024-09-27T00:00:00\",\"2024-09-30T00:00:00\",\"2024-10-01T00:00:00\",\"2024-10-02T00:00:00\",\"2024-10-03T00:00:00\",\"2024-10-04T00:00:00\",\"2024-10-07T00:00:00\",\"2024-10-08T00:00:00\",\"2024-10-09T00:00:00\",\"2024-10-10T00:00:00\",\"2024-10-11T00:00:00\",\"2024-10-14T00:00:00\",\"2024-10-15T00:00:00\",\"2024-10-16T00:00:00\",\"2024-10-17T00:00:00\",\"2024-10-18T00:00:00\",\"2024-10-21T00:00:00\",\"2024-10-22T00:00:00\",\"2024-10-23T00:00:00\",\"2024-10-24T00:00:00\",\"2024-10-25T00:00:00\",\"2024-10-28T00:00:00\",\"2024-10-29T00:00:00\",\"2024-10-30T00:00:00\",\"2024-10-31T00:00:00\",\"2024-11-01T00:00:00\",\"2024-11-04T00:00:00\",\"2024-11-05T00:00:00\",\"2024-11-06T00:00:00\",\"2024-11-07T00:00:00\",\"2024-11-08T00:00:00\",\"2024-11-11T00:00:00\",\"2024-11-12T00:00:00\",\"2024-11-13T00:00:00\",\"2024-11-14T00:00:00\",\"2024-11-15T00:00:00\",\"2024-11-18T00:00:00\",\"2024-11-19T00:00:00\",\"2024-11-20T00:00:00\",\"2024-11-21T00:00:00\",\"2024-11-22T00:00:00\",\"2024-11-25T00:00:00\",\"2024-11-26T00:00:00\",\"2024-11-27T00:00:00\",\"2024-11-29T00:00:00\",\"2024-12-02T00:00:00\",\"2024-12-03T00:00:00\",\"2024-12-04T00:00:00\",\"2024-12-05T00:00:00\",\"2024-12-06T00:00:00\",\"2024-12-09T00:00:00\",\"2024-12-10T00:00:00\",\"2024-12-11T00:00:00\",\"2024-12-12T00:00:00\",\"2024-12-13T00:00:00\",\"2024-12-16T00:00:00\",\"2024-12-17T00:00:00\",\"2024-12-18T00:00:00\",\"2024-12-19T00:00:00\",\"2024-12-20T00:00:00\",\"2024-12-23T00:00:00\",\"2024-12-24T00:00:00\",\"2024-12-26T00:00:00\",\"2024-12-27T00:00:00\",\"2024-12-30T00:00:00\",\"2024-12-31T00:00:00\",\"2025-01-02T00:00:00\",\"2025-01-03T00:00:00\",\"2025-01-06T00:00:00\",\"2025-01-07T00:00:00\",\"2025-01-08T00:00:00\",\"2025-01-10T00:00:00\",\"2025-01-13T00:00:00\",\"2025-01-14T00:00:00\",\"2025-01-15T00:00:00\",\"2025-01-16T00:00:00\",\"2025-01-17T00:00:00\",\"2025-01-21T00:00:00\",\"2025-01-22T00:00:00\",\"2025-01-23T00:00:00\",\"2025-01-24T00:00:00\",\"2025-01-27T00:00:00\",\"2025-01-28T00:00:00\",\"2025-01-29T00:00:00\",\"2025-01-30T00:00:00\",\"2025-01-31T00:00:00\",\"2025-02-03T00:00:00\",\"2025-02-04T00:00:00\",\"2025-02-05T00:00:00\",\"2025-02-06T00:00:00\",\"2025-02-07T00:00:00\",\"2025-02-10T00:00:00\",\"2025-02-11T00:00:00\",\"2025-02-12T00:00:00\",\"2025-02-13T00:00:00\",\"2025-02-14T00:00:00\",\"2025-02-18T00:00:00\",\"2025-02-19T00:00:00\",\"2025-02-20T00:00:00\",\"2025-02-21T00:00:00\",\"2025-02-24T00:00:00\",\"2025-02-25T00:00:00\",\"2025-02-26T00:00:00\",\"2025-02-27T00:00:00\",\"2025-02-28T00:00:00\",\"2025-03-03T00:00:00\",\"2025-03-04T00:00:00\",\"2025-03-05T00:00:00\",\"2025-03-06T00:00:00\",\"2025-03-07T00:00:00\",\"2025-03-10T00:00:00\",\"2025-03-11T00:00:00\",\"2025-03-12T00:00:00\",\"2025-03-13T00:00:00\",\"2025-03-14T00:00:00\",\"2025-03-17T00:00:00\",\"2025-03-18T00:00:00\",\"2025-03-19T00:00:00\",\"2025-03-20T00:00:00\",\"2025-03-21T00:00:00\",\"2025-03-24T00:00:00\",\"2025-03-25T00:00:00\",\"2025-03-26T00:00:00\",\"2025-03-27T00:00:00\",\"2025-03-28T00:00:00\",\"2025-03-31T00:00:00\",\"2025-04-01T00:00:00\",\"2025-04-02T00:00:00\",\"2025-04-03T00:00:00\",\"2025-04-04T00:00:00\",\"2025-04-07T00:00:00\",\"2025-04-08T00:00:00\",\"2025-04-09T00:00:00\",\"2025-04-10T00:00:00\",\"2025-04-11T00:00:00\",\"2025-04-14T00:00:00\",\"2025-04-15T00:00:00\",\"2025-04-16T00:00:00\",\"2025-04-17T00:00:00\",\"2025-04-21T00:00:00\",\"2025-04-22T00:00:00\",\"2025-04-23T00:00:00\",\"2025-04-24T00:00:00\",\"2025-04-25T00:00:00\",\"2025-04-28T00:00:00\",\"2025-04-29T00:00:00\",\"2025-04-30T00:00:00\",\"2025-05-01T00:00:00\",\"2025-05-02T00:00:00\",\"2025-05-05T00:00:00\",\"2025-05-06T00:00:00\",\"2025-05-07T00:00:00\",\"2025-05-08T00:00:00\",\"2025-05-09T00:00:00\",\"2025-05-12T00:00:00\",\"2025-05-13T00:00:00\",\"2025-05-14T00:00:00\",\"2025-05-15T00:00:00\",\"2025-05-16T00:00:00\",\"2025-05-19T00:00:00\",\"2025-05-20T00:00:00\",\"2025-05-21T00:00:00\",\"2025-05-22T00:00:00\",\"2025-05-23T00:00:00\",\"2025-05-27T00:00:00\",\"2025-05-28T00:00:00\",\"2025-05-29T00:00:00\",\"2025-05-30T00:00:00\",\"2025-06-02T00:00:00\",\"2025-06-03T00:00:00\",\"2025-06-04T00:00:00\",\"2025-06-05T00:00:00\",\"2025-06-06T00:00:00\",\"2025-06-09T00:00:00\",\"2025-06-10T00:00:00\",\"2025-06-11T00:00:00\",\"2025-06-12T00:00:00\",\"2025-06-13T00:00:00\",\"2025-06-16T00:00:00\",\"2025-06-17T00:00:00\",\"2025-06-18T00:00:00\",\"2025-06-20T00:00:00\",\"2025-06-23T00:00:00\",\"2025-06-24T00:00:00\",\"2025-06-25T00:00:00\",\"2025-06-26T00:00:00\",\"2025-06-27T00:00:00\",\"2025-06-30T00:00:00\"],\"y\":[332.28920022528445,334.5901436400674,340.7550784483268,341.97353517728834,342.82135136559015,352.42954552000725,372.702266643758,369.8806337397918,365.59021660751796,371.3388071497684,366.71877754997706,369.91208263209614,370.0097838413864,370.70974008869234,373.3615707261743,375.38556358551693,374.95418850400677,377.3997210108149,370.80358310500156,371.7723692332659,375.4225524760182,378.1166455695464,372.9936824948811,370.8138413846197,368.5469903541162,366.9713604080221,370.00576282018585,366.69754912271543,365.93244847375433,370.9690747538246,375.0996729608025,370.316056962672,368.54564178923886,371.47384325568794,366.73349531373987,369.8188571553048,376.31179186006534,373.11124917841056,372.5834752782886,376.44224796054533,372.1981779100089,374.43022533261313,375.8861090231402,373.860611360588,372.9082572582005,381.56105005114813,368.3379041618592,367.326069814862,374.17227273259715,373.3359098045519,373.7362162070442,377.4904718594674,379.44875310982434,379.7141247517472,378.88419499603503,379.73642697181106,385.0103992793617,380.80838353777244,379.4629441661978,383.4939860840855,382.5698902513441,381.4836778890139,380.13310142953713,378.34860194290417,377.53305674545317,379.9118440435106,384.26752259838923,380.38373421714823,378.4932092040215,375.64257870411785,380.369149515656,388.48920829039537,405.3416221142768,397.8260952715897,395.44871481571965,397.12672409442246,406.9733495632519,409.46333789672553,404.1347902110236,400.29837493950606,404.61531175960175,398.12352249352017,399.88016331772064,401.6091486978452,400.97098232293587,391.54675826457003,389.229412867741,381.73522400277005,392.397503463806,387.8043424400707,394.7638332941059,394.6658002472617,395.84324802384475,408.6373140392912,414.6434161708614,413.53765338862087,410.88991283705184,418.71522055316865,421.94027791845775,417.38698480451507,417.20433214996604,423.0729106597482,429.25980079782164,434.70930005593596,434.13221648496625,436.6868410060788,445.23451566585743,445.47697662569567,444.2999104672561,449.12539532072856,455.52818752642594,454.39283940085073,457.0848394642715,452.56011275587167,460.08269680168763,451.90815546367907,447.993612656624,451.5342100373019,450.35269724365907,447.25942279645653,442.60945814049774,449.78005945560835,448.3710468476908,448.3375439852966,454.4601093474597,450.40819956730576,447.3782972814463,446.6041313239713,437.716836058467,442.0298724068317,439.3216904736279,439.0852909518429,443.3273258662391,450.3287961463522,451.26501120810667,443.42780498841626,454.4122005159136,450.46168286320267,449.25409850393885,438.9684835076382,445.07571131039924,456.2292245174509,458.8852233415761,461.1748185246456,457.26267119546236,456.80802228281595,465.2376627885938,472.1169468260132,472.4119492226987,472.09587311356995,484.7421556227326,495.6687396321087,494.50414088892177,478.125565366446,477.0512942244411,479.33286763319467,484.593635950114,479.5082174890926,483.9544909342177,491.8434891867416,484.6457242952402,497.7788942853136,501.44688714896483,491.93687334971,463.84496957230556,451.23997670842897,463.0482003034146,466.1025434580759,478.4913563814248,482.4544867903049,477.07633212805086,483.47843922359806,492.4921428884251,491.9731528696145,495.2378161795564,495.5497582378988,489.68022336949014,490.02477069428465,490.71366107793466,500.8304537177653,498.6969904645419,499.16050151758895,496.4444859120043,502.90715663067886,504.8907468854754,481.1376179170058,485.2512115539306,484.14820734296853,475.98751885598966,483.59880358655687,462.2711354971656,466.4650798075785,469.65350309439816,475.75729431173465,480.3486098354762,479.1283824997011,478.88404742268835,499.1139770032582,493.69526024076583,492.31632661507933,492.9663742212641,485.54093271022015,493.11424757965426,494.96258112823625,489.9341508927607,483.6904528264117,486.3603145144957,482.2704417803686,490.3234219330233,489.0612315555801,491.6570928302112,499.44265825985724,499.6435700121874,512.7903660608156,517.8014455969399,515.764307629216,524.6043630999304,523.9653399797816,523.2047312119848,512.6241597157497,511.933245721951,511.40500127386167,520.2564556968831,508.4888468151726,518.1162067140812,518.0998801977834,518.530378592771,512.5341457922941,514.6616146198598,506.12198590307,521.8205778536827,591.0310246831999,575.0646502122679,583.6652500120459,596.5092282553333,588.6450602096266,588.5380743073534,582.7305343425061,587.8825614555817,581.9539447485068,575.7950058490843,576.0689610096689,590.6098616978122,596.6301495699589,597.3566071286303,599.3653484338885,599.6812044157107,602.4623929788974,598.8217174619009,599.0478645772107,595.7662235826771,593.8093223573195,596.8097809030693,591.0048018339971,582.1446665970758,589.730371037672,588.5784849564961,582.5912633893452,583.4342640225378,571.6234173930487,547.1496136178583,551.4406908809373,563.2272035098982,568.1144266730112,579.9691444363823,578.2789982668331,573.3288800083357,570.6844280592438,569.8177784197472,572.1541818552711,577.3354521590977,580.4940007630012,577.20906649396,577.1999905077976,556.8735410920344,560.6194872357497,568.4340489952784,604.0364573152656,609.0975904495742,620.9170166730123,630.4103098960942,630.0919650841035,638.0886317228525,635.1741317270167,629.9358677225422,633.1321393115381,634.3756429492163,643.6544687922351,638.5863570408516,630.6780165130476,630.1535702122682,642.8810388867635,656.4349775772586,652.8453063889899,648.0478214785091,643.084143748175,646.499339673039,645.2022933332943,658.4725517021568,668.1934883594685,665.2049932677962,636.5804667441147,621.8124833538054,625.3336434594876,614.7738245787492,616.6194461682619,604.130787922099,620.4476962334509,602.7188630089294,579.8404177863529,592.584192096541,567.0653406758605,559.3568776834205,530.9485877492806,530.6664761795204,535.764677078302,524.0237063725405,542.062557852909,551.3778686918808,552.2034107538688,557.3498738912398,563.15319814623,565.0678577996249,581.008596950827,585.9289202094174,573.9378214382824,558.0677187702648,542.6052177042259,546.0929102360482,548.5687403106197,563.9148682947364,510.06997982537325,468.9904889050765,464.27240254865825,462.2763884713046,524.2469350834203,486.74530509343737,490.0883369933147,501.54994764978085,511.55441762071007,500.81187830555007,507.8732398086554,498.2852336205837,520.4038223171182,532.1523544049239,547.098161501295,542.6578516326198,543.5650436108597,550.657178116701,548.7231808596813,555.5485306681898,564.9586433897748,556.726855104424,548.4470329401586,554.3243023424942,568.4749425220042,566.2959127668394,589.0630975984499,602.8959405434445,613.1827056473599,617.7624493921871,618.735787328909,610.0829464157291,605.356403080274,594.4686523646658,600.3305888682961,598.8407662773602,614.5863366858125,606.8583854100381,604.9596692130914,601.8855340991055,599.596591691662,603.2709607582993,597.7832206235199,605.8300823507345,615.4962842294992,614.3355735734726,614.0379011840009,623.1836078787207,625.1124804734482,614.0035274846616,628.8335286762767,624.409278596456,634.6275253655693,640.6048223274449,647.4572055473568,663.0429395632193,669.9420570921761,686.8531546769353,690.3830080953417],\"type\":\"scatter\"},{\"line\":{\"color\":\"red\"},\"mode\":\"lines\",\"name\":\"Actual Price\",\"x\":[\"2023-12-07T00:00:00\",\"2023-12-08T00:00:00\",\"2023-12-11T00:00:00\",\"2023-12-12T00:00:00\",\"2023-12-13T00:00:00\",\"2023-12-14T00:00:00\",\"2023-12-15T00:00:00\",\"2023-12-18T00:00:00\",\"2023-12-19T00:00:00\",\"2023-12-20T00:00:00\",\"2023-12-21T00:00:00\",\"2023-12-22T00:00:00\",\"2023-12-26T00:00:00\",\"2023-12-27T00:00:00\",\"2023-12-28T00:00:00\",\"2023-12-29T00:00:00\",\"2024-01-02T00:00:00\",\"2024-01-03T00:00:00\",\"2024-01-04T00:00:00\",\"2024-01-05T00:00:00\",\"2024-01-08T00:00:00\",\"2024-01-09T00:00:00\",\"2024-01-10T00:00:00\",\"2024-01-11T00:00:00\",\"2024-01-12T00:00:00\",\"2024-01-16T00:00:00\",\"2024-01-17T00:00:00\",\"2024-01-18T00:00:00\",\"2024-01-19T00:00:00\",\"2024-01-22T00:00:00\",\"2024-01-23T00:00:00\",\"2024-01-24T00:00:00\",\"2024-01-25T00:00:00\",\"2024-01-26T00:00:00\",\"2024-01-29T00:00:00\",\"2024-01-30T00:00:00\",\"2024-01-31T00:00:00\",\"2024-02-01T00:00:00\",\"2024-02-02T00:00:00\",\"2024-02-05T00:00:00\",\"2024-02-06T00:00:00\",\"2024-02-07T00:00:00\",\"2024-02-08T00:00:00\",\"2024-02-09T00:00:00\",\"2024-02-12T00:00:00\",\"2024-02-13T00:00:00\",\"2024-02-14T00:00:00\",\"2024-02-15T00:00:00\",\"2024-02-16T00:00:00\",\"2024-02-20T00:00:00\",\"2024-02-21T00:00:00\",\"2024-02-22T00:00:00\",\"2024-02-23T00:00:00\",\"2024-02-26T00:00:00\",\"2024-02-27T00:00:00\",\"2024-02-28T00:00:00\",\"2024-02-29T00:00:00\",\"2024-03-01T00:00:00\",\"2024-03-04T00:00:00\",\"2024-03-05T00:00:00\",\"2024-03-06T00:00:00\",\"2024-03-07T00:00:00\",\"2024-03-08T00:00:00\",\"2024-03-11T00:00:00\",\"2024-03-12T00:00:00\",\"2024-03-13T00:00:00\",\"2024-03-14T00:00:00\",\"2024-03-15T00:00:00\",\"2024-03-18T00:00:00\",\"2024-03-19T00:00:00\",\"2024-03-20T00:00:00\",\"2024-03-21T00:00:00\",\"2024-03-22T00:00:00\",\"2024-03-25T00:00:00\",\"2024-03-26T00:00:00\",\"2024-03-27T00:00:00\",\"2024-03-28T00:00:00\",\"2024-04-01T00:00:00\",\"2024-04-02T00:00:00\",\"2024-04-03T00:00:00\",\"2024-04-04T00:00:00\",\"2024-04-05T00:00:00\",\"2024-04-08T00:00:00\",\"2024-04-09T00:00:00\",\"2024-04-10T00:00:00\",\"2024-04-11T00:00:00\",\"2024-04-12T00:00:00\",\"2024-04-15T00:00:00\",\"2024-04-16T00:00:00\",\"2024-04-17T00:00:00\",\"2024-04-18T00:00:00\",\"2024-04-19T00:00:00\",\"2024-04-22T00:00:00\",\"2024-04-23T00:00:00\",\"2024-04-24T00:00:00\",\"2024-04-25T00:00:00\",\"2024-04-26T00:00:00\",\"2024-04-29T00:00:00\",\"2024-04-30T00:00:00\",\"2024-05-01T00:00:00\",\"2024-05-02T00:00:00\",\"2024-05-03T00:00:00\",\"2024-05-06T00:00:00\",\"2024-05-07T00:00:00\",\"2024-05-08T00:00:00\",\"2024-05-09T00:00:00\",\"2024-05-10T00:00:00\",\"2024-05-13T00:00:00\",\"2024-05-14T00:00:00\",\"2024-05-15T00:00:00\",\"2024-05-16T00:00:00\",\"2024-05-17T00:00:00\",\"2024-05-20T00:00:00\",\"2024-05-21T00:00:00\",\"2024-05-22T00:00:00\",\"2024-05-23T00:00:00\",\"2024-05-24T00:00:00\",\"2024-05-28T00:00:00\",\"2024-05-29T00:00:00\",\"2024-05-30T00:00:00\",\"2024-05-31T00:00:00\",\"2024-06-03T00:00:00\",\"2024-06-04T00:00:00\",\"2024-06-05T00:00:00\",\"2024-06-06T00:00:00\",\"2024-06-07T00:00:00\",\"2024-06-10T00:00:00\",\"2024-06-11T00:00:00\",\"2024-06-12T00:00:00\",\"2024-06-13T00:00:00\",\"2024-06-14T00:00:00\",\"2024-06-17T00:00:00\",\"2024-06-18T00:00:00\",\"2024-06-20T00:00:00\",\"2024-06-21T00:00:00\",\"2024-06-24T00:00:00\",\"2024-06-25T00:00:00\",\"2024-06-26T00:00:00\",\"2024-06-27T00:00:00\",\"2024-06-28T00:00:00\",\"2024-07-01T00:00:00\",\"2024-07-02T00:00:00\",\"2024-07-03T00:00:00\",\"2024-07-05T00:00:00\",\"2024-07-08T00:00:00\",\"2024-07-09T00:00:00\",\"2024-07-10T00:00:00\",\"2024-07-11T00:00:00\",\"2024-07-12T00:00:00\",\"2024-07-15T00:00:00\",\"2024-07-16T00:00:00\",\"2024-07-17T00:00:00\",\"2024-07-18T00:00:00\",\"2024-07-19T00:00:00\",\"2024-07-22T00:00:00\",\"2024-07-23T00:00:00\",\"2024-07-24T00:00:00\",\"2024-07-25T00:00:00\",\"2024-07-26T00:00:00\",\"2024-07-29T00:00:00\",\"2024-07-30T00:00:00\",\"2024-07-31T00:00:00\",\"2024-08-01T00:00:00\",\"2024-08-02T00:00:00\",\"2024-08-05T00:00:00\",\"2024-08-06T00:00:00\",\"2024-08-07T00:00:00\",\"2024-08-08T00:00:00\",\"2024-08-09T00:00:00\",\"2024-08-12T00:00:00\",\"2024-08-13T00:00:00\",\"2024-08-14T00:00:00\",\"2024-08-15T00:00:00\",\"2024-08-16T00:00:00\",\"2024-08-19T00:00:00\",\"2024-08-20T00:00:00\",\"2024-08-21T00:00:00\",\"2024-08-22T00:00:00\",\"2024-08-23T00:00:00\",\"2024-08-26T00:00:00\",\"2024-08-27T00:00:00\",\"2024-08-28T00:00:00\",\"2024-08-29T00:00:00\",\"2024-08-30T00:00:00\",\"2024-09-03T00:00:00\",\"2024-09-04T00:00:00\",\"2024-09-05T00:00:00\",\"2024-09-06T00:00:00\",\"2024-09-09T00:00:00\",\"2024-09-10T00:00:00\",\"2024-09-11T00:00:00\",\"2024-09-12T00:00:00\",\"2024-09-13T00:00:00\",\"2024-09-16T00:00:00\",\"2024-09-17T00:00:00\",\"2024-09-18T00:00:00\",\"2024-09-19T00:00:00\",\"2024-09-20T00:00:00\",\"2024-09-23T00:00:00\",\"2024-09-24T00:00:00\",\"2024-09-25T00:00:00\",\"2024-09-26T00:00:00\",\"2024-09-27T00:00:00\",\"2024-09-30T00:00:00\",\"2024-10-01T00:00:00\",\"2024-10-02T00:00:00\",\"2024-10-03T00:00:00\",\"2024-10-04T00:00:00\",\"2024-10-07T00:00:00\",\"2024-10-08T00:00:00\",\"2024-10-09T00:00:00\",\"2024-10-10T00:00:00\",\"2024-10-11T00:00:00\",\"2024-10-14T00:00:00\",\"2024-10-15T00:00:00\",\"2024-10-16T00:00:00\",\"2024-10-17T00:00:00\",\"2024-10-18T00:00:00\",\"2024-10-21T00:00:00\",\"2024-10-22T00:00:00\",\"2024-10-23T00:00:00\",\"2024-10-24T00:00:00\",\"2024-10-25T00:00:00\",\"2024-10-28T00:00:00\",\"2024-10-29T00:00:00\",\"2024-10-30T00:00:00\",\"2024-10-31T00:00:00\",\"2024-11-01T00:00:00\",\"2024-11-04T00:00:00\",\"2024-11-05T00:00:00\",\"2024-11-06T00:00:00\",\"2024-11-07T00:00:00\",\"2024-11-08T00:00:00\",\"2024-11-11T00:00:00\",\"2024-11-12T00:00:00\",\"2024-11-13T00:00:00\",\"2024-11-14T00:00:00\",\"2024-11-15T00:00:00\",\"2024-11-18T00:00:00\",\"2024-11-19T00:00:00\",\"2024-11-20T00:00:00\",\"2024-11-21T00:00:00\",\"2024-11-22T00:00:00\",\"2024-11-25T00:00:00\",\"2024-11-26T00:00:00\",\"2024-11-27T00:00:00\",\"2024-11-29T00:00:00\",\"2024-12-02T00:00:00\",\"2024-12-03T00:00:00\",\"2024-12-04T00:00:00\",\"2024-12-05T00:00:00\",\"2024-12-06T00:00:00\",\"2024-12-09T00:00:00\",\"2024-12-10T00:00:00\",\"2024-12-11T00:00:00\",\"2024-12-12T00:00:00\",\"2024-12-13T00:00:00\",\"2024-12-16T00:00:00\",\"2024-12-17T00:00:00\",\"2024-12-18T00:00:00\",\"2024-12-19T00:00:00\",\"2024-12-20T00:00:00\",\"2024-12-23T00:00:00\",\"2024-12-24T00:00:00\",\"2024-12-26T00:00:00\",\"2024-12-27T00:00:00\",\"2024-12-30T00:00:00\",\"2024-12-31T00:00:00\",\"2025-01-02T00:00:00\",\"2025-01-03T00:00:00\",\"2025-01-06T00:00:00\",\"2025-01-07T00:00:00\",\"2025-01-08T00:00:00\",\"2025-01-10T00:00:00\",\"2025-01-13T00:00:00\",\"2025-01-14T00:00:00\",\"2025-01-15T00:00:00\",\"2025-01-16T00:00:00\",\"2025-01-17T00:00:00\",\"2025-01-21T00:00:00\",\"2025-01-22T00:00:00\",\"2025-01-23T00:00:00\",\"2025-01-24T00:00:00\",\"2025-01-27T00:00:00\",\"2025-01-28T00:00:00\",\"2025-01-29T00:00:00\",\"2025-01-30T00:00:00\",\"2025-01-31T00:00:00\",\"2025-02-03T00:00:00\",\"2025-02-04T00:00:00\",\"2025-02-05T00:00:00\",\"2025-02-06T00:00:00\",\"2025-02-07T00:00:00\",\"2025-02-10T00:00:00\",\"2025-02-11T00:00:00\",\"2025-02-12T00:00:00\",\"2025-02-13T00:00:00\",\"2025-02-14T00:00:00\",\"2025-02-18T00:00:00\",\"2025-02-19T00:00:00\",\"2025-02-20T00:00:00\",\"2025-02-21T00:00:00\",\"2025-02-24T00:00:00\",\"2025-02-25T00:00:00\",\"2025-02-26T00:00:00\",\"2025-02-27T00:00:00\",\"2025-02-28T00:00:00\",\"2025-03-03T00:00:00\",\"2025-03-04T00:00:00\",\"2025-03-05T00:00:00\",\"2025-03-06T00:00:00\",\"2025-03-07T00:00:00\",\"2025-03-10T00:00:00\",\"2025-03-11T00:00:00\",\"2025-03-12T00:00:00\",\"2025-03-13T00:00:00\",\"2025-03-14T00:00:00\",\"2025-03-17T00:00:00\",\"2025-03-18T00:00:00\",\"2025-03-19T00:00:00\",\"2025-03-20T00:00:00\",\"2025-03-21T00:00:00\",\"2025-03-24T00:00:00\",\"2025-03-25T00:00:00\",\"2025-03-26T00:00:00\",\"2025-03-27T00:00:00\",\"2025-03-28T00:00:00\",\"2025-03-31T00:00:00\",\"2025-04-01T00:00:00\",\"2025-04-02T00:00:00\",\"2025-04-03T00:00:00\",\"2025-04-04T00:00:00\",\"2025-04-07T00:00:00\",\"2025-04-08T00:00:00\",\"2025-04-09T00:00:00\",\"2025-04-10T00:00:00\",\"2025-04-11T00:00:00\",\"2025-04-14T00:00:00\",\"2025-04-15T00:00:00\",\"2025-04-16T00:00:00\",\"2025-04-17T00:00:00\",\"2025-04-21T00:00:00\",\"2025-04-22T00:00:00\",\"2025-04-23T00:00:00\",\"2025-04-24T00:00:00\",\"2025-04-25T00:00:00\",\"2025-04-28T00:00:00\",\"2025-04-29T00:00:00\",\"2025-04-30T00:00:00\",\"2025-05-01T00:00:00\",\"2025-05-02T00:00:00\",\"2025-05-05T00:00:00\",\"2025-05-06T00:00:00\",\"2025-05-07T00:00:00\",\"2025-05-08T00:00:00\",\"2025-05-09T00:00:00\",\"2025-05-12T00:00:00\",\"2025-05-13T00:00:00\",\"2025-05-14T00:00:00\",\"2025-05-15T00:00:00\",\"2025-05-16T00:00:00\",\"2025-05-19T00:00:00\",\"2025-05-20T00:00:00\",\"2025-05-21T00:00:00\",\"2025-05-22T00:00:00\",\"2025-05-23T00:00:00\",\"2025-05-27T00:00:00\",\"2025-05-28T00:00:00\",\"2025-05-29T00:00:00\",\"2025-05-30T00:00:00\",\"2025-06-02T00:00:00\",\"2025-06-03T00:00:00\",\"2025-06-04T00:00:00\",\"2025-06-05T00:00:00\",\"2025-06-06T00:00:00\",\"2025-06-09T00:00:00\",\"2025-06-10T00:00:00\",\"2025-06-11T00:00:00\",\"2025-06-12T00:00:00\",\"2025-06-13T00:00:00\",\"2025-06-16T00:00:00\",\"2025-06-17T00:00:00\",\"2025-06-18T00:00:00\",\"2025-06-20T00:00:00\",\"2025-06-23T00:00:00\",\"2025-06-24T00:00:00\",\"2025-06-25T00:00:00\",\"2025-06-26T00:00:00\",\"2025-06-27T00:00:00\",\"2025-06-30T00:00:00\"],\"y\":[334.80914306640625,340.84234619140625,341.7458801269531,342.5716857910156,352.40362548828125,372.5531311035156,369.6773986816406,365.6844482421875,371.56219482421875,366.77252197265625,369.7357177734375,369.81341552734375,370.7460632324219,373.5343933105469,375.409423828125,374.78765869140625,377.2456359863281,370.9209899902344,372.0479431152344,375.4385986328125,377.7897033691406,372.8154602050781,371.08612060546875,368.93902587890625,366.9960021972656,369.6191101074219,366.44219970703125,366.1799011230469,371.3193054199219,374.9722595214844,369.92999267578125,368.5989990234375,371.8050537109375,367.03485107421875,369.7259826660156,375.8563537597656,373.0777893066406,372.92230224609375,376.8181457519531,372.1159362792969,374.0298767089844,375.65228271484375,374.07843017578125,373.3206787109375,381.46209716796875,367.9674987792969,367.2777404785156,374.4476623535156,373.4955139160156,373.5732421875,377.21649169921875,379.3538513183594,379.9173278808594,379.1109924316406,379.6841735839844,384.6936340332031,380.65283203125,379.7233581542969,383.7837829589844,382.4726867675781,381.16162109375,380.04620361328125,378.6372375488281,377.8252258300781,379.80157470703125,383.8424377441406,380.2222900390625,378.8525085449219,376.0738525390625,380.271240234375,387.91265869140625,404.7805480957031,398.0392761230469,396.1998291015625,397.4130554199219,406.2873229980469,408.6746520996094,404.5848693847656,401.2973937988281,405.0643310546875,397.4815673828125,399.2622985839844,401.6789855957031,401.8453063964844,392.1100769042969,388.90087890625,381.0833435058594,392.2275085449219,388.29425048828125,395.19207763671875,394.4093322753906,395.2801513671875,408.34197998046875,414.84844970703125,413.9092102050781,410.98370361328125,418.3414306640625,421.511474609375,417.49993896484375,417.7347717285156,423.2334899902344,428.7223815917969,434.0939025878906,434.2210998535156,437.3031311035156,445.727294921875,444.9151916503906,443.77044677734375,448.5744323730469,456.0299987792969,454.4938659667969,457.62481689453125,452.947998046875,460.25677490234375,452.40008544921875,448.2613525390625,451.2259521484375,449.8855285644531,447.3025207519531,443.17816162109375,449.36962890625,447.853759765625,448.168701171875,454.44879150390625,450.9248962402344,447.78485107421875,446.4461364746094,437.3114929199219,441.672119140625,439.35894775390625,439.4671936035156,443.12890625,450.2653503417969,450.8756408691406,443.12890625,454.85235595703125,450.2161560058594,448.7199401855469,438.97503662109375,445.23541259765625,456.3977966308594,458.3172302246094,460.591064453125,457.470703125,457.5396423339844,465.42413330078125,471.3892517089844,471.72393798828125,472.3637390136719,484.5203552246094,495.14129638671875,494.314453125,478.5945739746094,477.3346252441406,479.41162109375,484.4415283203125,479.0769348144531,484.0084533691406,491.21380615234375,485.00262451171875,497.74981689453125,501.05718994140625,492.2867431640625,463.26849365234375,451.8304443359375,462.85504150390625,465.6013488769531,478.1614685058594,482.5811767578125,477.8957214355469,484.2348327636719,490.88897705078125,491.2039794921875,496.36187744140625,496.7752685546875,489.5502624511719,488.68402099609375,489.953857421875,501.4410705566406,499.9153137207031,499.3149108886719,495.4464111328125,502.11041259765625,505.22943115234375,482.66363525390625,485.8123779296875,483.07952880859375,474.890869140625,483.76275634765625,462.53369140625,466.533935546875,469.3955078125,474.2769775390625,480.38629150390625,480.614013671875,479.8119812011719,498.8725891113281,493.52569580078125,492.5157470703125,493.1197204589844,486.3074645996094,492.03057861328125,493.60491943359375,490.23834228515625,485.34698486328125,487.1490478515625,481.3170471191406,490.2878723144531,489.753173828125,491.68402099609375,500.20928955078125,498.7636413574219,511.2198486328125,517.6063842773438,517.2400512695312,524.6464233398438,523.794921875,523.2998657226562,512.705078125,513.2001953125,512.111083984375,519.3391723632812,507.5562744140625,518.4282836914062,519.1213989257812,519.240234375,512.6951904296875,514.2398681640625,506.4374084472656,521.7750244140625,590.1158447265625,576.4417114257812,583.4619750976562,596.413330078125,586.75927734375,588.3731689453125,582.818359375,587.6998901367188,582.2044677734375,575.6595458984375,576.2041015625,590.2445678710938,596.8489990234375,597.0964965820312,599.542236328125,599.4728393554688,602.58203125,598.7410888671875,599.1092529296875,595.755859375,593.8552856445312,596.7210693359375,591.1884765625,582.1433715820312,589.6361694335938,588.6908569335938,582.5911254882812,583.4369506835938,571.8444213867188,547.5349731445312,551.2564697265625,563.3067016601562,567.9636840820312,579.9143676757812,578.362060546875,573.3370361328125,570.719970703125,569.7945556640625,572.1329345703125,577.2675170898438,580.511474609375,577.257568359375,577.1580810546875,557.2368774414062,560.1723022460938,568.7099609375,602.9302368164062,609.9653930664062,622.8515014648438,631.6080322265625,629.6079711914062,636.3446044921875,633.7574462890625,630.1553344726562,634.6529541015625,634.2350463867188,642.5139770507812,637.2401733398438,629.249755859375,631.0508422851562,642.2652587890625,654.97216796875,652.6636962890625,647.3201904296875,644.04638671875,645.7977294921875,645.7479858398438,657.2907104492188,668.873291015625,664.853271484375,639.0910034179688,622.5131225585938,623.050537109375,611.8759155273438,614.7218017578125,605.0,622.2899780273438,605.260009765625,581.1400146484375,593.0700073242188,567.6699829101562,559.6699829101562,531.6599731445312,531.4299926757812,535.7100219726562,524.8099975585938,541.4099731445312,551.3400268554688,551.780029296875,557.3400268554688,562.6799926757812,565.1400146484375,580.0999755859375,585.9400024414062,573.9199829101562,558.9199829101562,543.1199951171875,546.2899780273438,548.4500122070312,563.0999755859375,511.2300109863281,470.80999755859375,465.510009765625,462.2200012207031,516.8699951171875,489.79998779296875,494.44000244140625,503.9800109863281,507.8900146484375,499.04998779296875,509.489990234375,501.3599853515625,519.989990234375,529.3099975585938,545.3699951171875,544.8599853515625,546.4000244140625,548.9199829101562,547.5499877929688,553.8300170898438,566.0999755859375,559.5599975585938,549.3599853515625,551.9199829101562,565.7000122070312,567.0999755859375,591.3400268554688,603.8099975585938,611.5999755859375,615.9000244140625,619.030029296875,612.2999877929688,606.52001953125,593.4600219726562,598.22998046875,598.5399780273438,615.72998046875,608.4400024414062,604.8599853515625,600.4500122070312,598.719970703125,603.8300170898438,599.2100219726562,605.8800048828125,614.0,613.52001953125,614.8699951171875,624.1699829101562,625.1099853515625,613.5399780273438,627.8499755859375,624.6400146484375,635.239990234375,640.7999877929688,646.8800048828125,662.1099853515625,669.8699951171875,687.1599731445312,690.8099975585938,707.75],\"type\":\"scatter\"}],                        {\"template\":{\"data\":{\"barpolar\":[{\"marker\":{\"line\":{\"color\":\"white\",\"width\":0.5},\"pattern\":{\"fillmode\":\"overlay\",\"size\":10,\"solidity\":0.2}},\"type\":\"barpolar\"}],\"bar\":[{\"error_x\":{\"color\":\"#2a3f5f\"},\"error_y\":{\"color\":\"#2a3f5f\"},\"marker\":{\"line\":{\"color\":\"white\",\"width\":0.5},\"pattern\":{\"fillmode\":\"overlay\",\"size\":10,\"solidity\":0.2}},\"type\":\"bar\"}],\"carpet\":[{\"aaxis\":{\"endlinecolor\":\"#2a3f5f\",\"gridcolor\":\"#C8D4E3\",\"linecolor\":\"#C8D4E3\",\"minorgridcolor\":\"#C8D4E3\",\"startlinecolor\":\"#2a3f5f\"},\"baxis\":{\"endlinecolor\":\"#2a3f5f\",\"gridcolor\":\"#C8D4E3\",\"linecolor\":\"#C8D4E3\",\"minorgridcolor\":\"#C8D4E3\",\"startlinecolor\":\"#2a3f5f\"},\"type\":\"carpet\"}],\"choropleth\":[{\"colorbar\":{\"outlinewidth\":0,\"ticks\":\"\"},\"type\":\"choropleth\"}],\"contourcarpet\":[{\"colorbar\":{\"outlinewidth\":0,\"ticks\":\"\"},\"type\":\"contourcarpet\"}],\"contour\":[{\"colorbar\":{\"outlinewidth\":0,\"ticks\":\"\"},\"colorscale\":[[0.0,\"#0d0887\"],[0.1111111111111111,\"#46039f\"],[0.2222222222222222,\"#7201a8\"],[0.3333333333333333,\"#9c179e\"],[0.4444444444444444,\"#bd3786\"],[0.5555555555555556,\"#d8576b\"],[0.6666666666666666,\"#ed7953\"],[0.7777777777777778,\"#fb9f3a\"],[0.8888888888888888,\"#fdca26\"],[1.0,\"#f0f921\"]],\"type\":\"contour\"}],\"heatmapgl\":[{\"colorbar\":{\"outlinewidth\":0,\"ticks\":\"\"},\"colorscale\":[[0.0,\"#0d0887\"],[0.1111111111111111,\"#46039f\"],[0.2222222222222222,\"#7201a8\"],[0.3333333333333333,\"#9c179e\"],[0.4444444444444444,\"#bd3786\"],[0.5555555555555556,\"#d8576b\"],[0.6666666666666666,\"#ed7953\"],[0.7777777777777778,\"#fb9f3a\"],[0.8888888888888888,\"#fdca26\"],[1.0,\"#f0f921\"]],\"type\":\"heatmapgl\"}],\"heatmap\":[{\"colorbar\":{\"outlinewidth\":0,\"ticks\":\"\"},\"colorscale\":[[0.0,\"#0d0887\"],[0.1111111111111111,\"#46039f\"],[0.2222222222222222,\"#7201a8\"],[0.3333333333333333,\"#9c179e\"],[0.4444444444444444,\"#bd3786\"],[0.5555555555555556,\"#d8576b\"],[0.6666666666666666,\"#ed7953\"],[0.7777777777777778,\"#fb9f3a\"],[0.8888888888888888,\"#fdca26\"],[1.0,\"#f0f921\"]],\"type\":\"heatmap\"}],\"histogram2dcontour\":[{\"colorbar\":{\"outlinewidth\":0,\"ticks\":\"\"},\"colorscale\":[[0.0,\"#0d0887\"],[0.1111111111111111,\"#46039f\"],[0.2222222222222222,\"#7201a8\"],[0.3333333333333333,\"#9c179e\"],[0.4444444444444444,\"#bd3786\"],[0.5555555555555556,\"#d8576b\"],[0.6666666666666666,\"#ed7953\"],[0.7777777777777778,\"#fb9f3a\"],[0.8888888888888888,\"#fdca26\"],[1.0,\"#f0f921\"]],\"type\":\"histogram2dcontour\"}],\"histogram2d\":[{\"colorbar\":{\"outlinewidth\":0,\"ticks\":\"\"},\"colorscale\":[[0.0,\"#0d0887\"],[0.1111111111111111,\"#46039f\"],[0.2222222222222222,\"#7201a8\"],[0.3333333333333333,\"#9c179e\"],[0.4444444444444444,\"#bd3786\"],[0.5555555555555556,\"#d8576b\"],[0.6666666666666666,\"#ed7953\"],[0.7777777777777778,\"#fb9f3a\"],[0.8888888888888888,\"#fdca26\"],[1.0,\"#f0f921\"]],\"type\":\"histogram2d\"}],\"histogram\":[{\"marker\":{\"pattern\":{\"fillmode\":\"overlay\",\"size\":10,\"solidity\":0.2}},\"type\":\"histogram\"}],\"mesh3d\":[{\"colorbar\":{\"outlinewidth\":0,\"ticks\":\"\"},\"type\":\"mesh3d\"}],\"parcoords\":[{\"line\":{\"colorbar\":{\"outlinewidth\":0,\"ticks\":\"\"}},\"type\":\"parcoords\"}],\"pie\":[{\"automargin\":true,\"type\":\"pie\"}],\"scatter3d\":[{\"line\":{\"colorbar\":{\"outlinewidth\":0,\"ticks\":\"\"}},\"marker\":{\"colorbar\":{\"outlinewidth\":0,\"ticks\":\"\"}},\"type\":\"scatter3d\"}],\"scattercarpet\":[{\"marker\":{\"colorbar\":{\"outlinewidth\":0,\"ticks\":\"\"}},\"type\":\"scattercarpet\"}],\"scattergeo\":[{\"marker\":{\"colorbar\":{\"outlinewidth\":0,\"ticks\":\"\"}},\"type\":\"scattergeo\"}],\"scattergl\":[{\"marker\":{\"colorbar\":{\"outlinewidth\":0,\"ticks\":\"\"}},\"type\":\"scattergl\"}],\"scattermapbox\":[{\"marker\":{\"colorbar\":{\"outlinewidth\":0,\"ticks\":\"\"}},\"type\":\"scattermapbox\"}],\"scatterpolargl\":[{\"marker\":{\"colorbar\":{\"outlinewidth\":0,\"ticks\":\"\"}},\"type\":\"scatterpolargl\"}],\"scatterpolar\":[{\"marker\":{\"colorbar\":{\"outlinewidth\":0,\"ticks\":\"\"}},\"type\":\"scatterpolar\"}],\"scatter\":[{\"fillpattern\":{\"fillmode\":\"overlay\",\"size\":10,\"solidity\":0.2},\"type\":\"scatter\"}],\"scatterternary\":[{\"marker\":{\"colorbar\":{\"outlinewidth\":0,\"ticks\":\"\"}},\"type\":\"scatterternary\"}],\"surface\":[{\"colorbar\":{\"outlinewidth\":0,\"ticks\":\"\"},\"colorscale\":[[0.0,\"#0d0887\"],[0.1111111111111111,\"#46039f\"],[0.2222222222222222,\"#7201a8\"],[0.3333333333333333,\"#9c179e\"],[0.4444444444444444,\"#bd3786\"],[0.5555555555555556,\"#d8576b\"],[0.6666666666666666,\"#ed7953\"],[0.7777777777777778,\"#fb9f3a\"],[0.8888888888888888,\"#fdca26\"],[1.0,\"#f0f921\"]],\"type\":\"surface\"}],\"table\":[{\"cells\":{\"fill\":{\"color\":\"#EBF0F8\"},\"line\":{\"color\":\"white\"}},\"header\":{\"fill\":{\"color\":\"#C8D4E3\"},\"line\":{\"color\":\"white\"}},\"type\":\"table\"}]},\"layout\":{\"annotationdefaults\":{\"arrowcolor\":\"#2a3f5f\",\"arrowhead\":0,\"arrowwidth\":1},\"autotypenumbers\":\"strict\",\"coloraxis\":{\"colorbar\":{\"outlinewidth\":0,\"ticks\":\"\"}},\"colorscale\":{\"diverging\":[[0,\"#8e0152\"],[0.1,\"#c51b7d\"],[0.2,\"#de77ae\"],[0.3,\"#f1b6da\"],[0.4,\"#fde0ef\"],[0.5,\"#f7f7f7\"],[0.6,\"#e6f5d0\"],[0.7,\"#b8e186\"],[0.8,\"#7fbc41\"],[0.9,\"#4d9221\"],[1,\"#276419\"]],\"sequential\":[[0.0,\"#0d0887\"],[0.1111111111111111,\"#46039f\"],[0.2222222222222222,\"#7201a8\"],[0.3333333333333333,\"#9c179e\"],[0.4444444444444444,\"#bd3786\"],[0.5555555555555556,\"#d8576b\"],[0.6666666666666666,\"#ed7953\"],[0.7777777777777778,\"#fb9f3a\"],[0.8888888888888888,\"#fdca26\"],[1.0,\"#f0f921\"]],\"sequentialminus\":[[0.0,\"#0d0887\"],[0.1111111111111111,\"#46039f\"],[0.2222222222222222,\"#7201a8\"],[0.3333333333333333,\"#9c179e\"],[0.4444444444444444,\"#bd3786\"],[0.5555555555555556,\"#d8576b\"],[0.6666666666666666,\"#ed7953\"],[0.7777777777777778,\"#fb9f3a\"],[0.8888888888888888,\"#fdca26\"],[1.0,\"#f0f921\"]]},\"colorway\":[\"#636efa\",\"#EF553B\",\"#00cc96\",\"#ab63fa\",\"#FFA15A\",\"#19d3f3\",\"#FF6692\",\"#B6E880\",\"#FF97FF\",\"#FECB52\"],\"font\":{\"color\":\"#2a3f5f\"},\"geo\":{\"bgcolor\":\"white\",\"lakecolor\":\"white\",\"landcolor\":\"white\",\"showlakes\":true,\"showland\":true,\"subunitcolor\":\"#C8D4E3\"},\"hoverlabel\":{\"align\":\"left\"},\"hovermode\":\"closest\",\"mapbox\":{\"style\":\"light\"},\"paper_bgcolor\":\"white\",\"plot_bgcolor\":\"white\",\"polar\":{\"angularaxis\":{\"gridcolor\":\"#EBF0F8\",\"linecolor\":\"#EBF0F8\",\"ticks\":\"\"},\"bgcolor\":\"white\",\"radialaxis\":{\"gridcolor\":\"#EBF0F8\",\"linecolor\":\"#EBF0F8\",\"ticks\":\"\"}},\"scene\":{\"xaxis\":{\"backgroundcolor\":\"white\",\"gridcolor\":\"#DFE8F3\",\"gridwidth\":2,\"linecolor\":\"#EBF0F8\",\"showbackground\":true,\"ticks\":\"\",\"zerolinecolor\":\"#EBF0F8\"},\"yaxis\":{\"backgroundcolor\":\"white\",\"gridcolor\":\"#DFE8F3\",\"gridwidth\":2,\"linecolor\":\"#EBF0F8\",\"showbackground\":true,\"ticks\":\"\",\"zerolinecolor\":\"#EBF0F8\"},\"zaxis\":{\"backgroundcolor\":\"white\",\"gridcolor\":\"#DFE8F3\",\"gridwidth\":2,\"linecolor\":\"#EBF0F8\",\"showbackground\":true,\"ticks\":\"\",\"zerolinecolor\":\"#EBF0F8\"}},\"shapedefaults\":{\"line\":{\"color\":\"#2a3f5f\"}},\"ternary\":{\"aaxis\":{\"gridcolor\":\"#DFE8F3\",\"linecolor\":\"#A2B1C6\",\"ticks\":\"\"},\"baxis\":{\"gridcolor\":\"#DFE8F3\",\"linecolor\":\"#A2B1C6\",\"ticks\":\"\"},\"bgcolor\":\"white\",\"caxis\":{\"gridcolor\":\"#DFE8F3\",\"linecolor\":\"#A2B1C6\",\"ticks\":\"\"}},\"title\":{\"x\":0.05},\"xaxis\":{\"automargin\":true,\"gridcolor\":\"#EBF0F8\",\"linecolor\":\"#EBF0F8\",\"ticks\":\"\",\"title\":{\"standoff\":15},\"zerolinecolor\":\"#EBF0F8\",\"zerolinewidth\":2},\"yaxis\":{\"automargin\":true,\"gridcolor\":\"#EBF0F8\",\"linecolor\":\"#EBF0F8\",\"ticks\":\"\",\"title\":{\"standoff\":15},\"zerolinecolor\":\"#EBF0F8\",\"zerolinewidth\":2}}},\"legend\":{\"x\":0,\"y\":1},\"title\":{\"text\":\"GS Prices Prediction\"},\"xaxis\":{\"title\":{\"text\":\"Dates\"}},\"yaxis\":{\"title\":{\"text\":\"Close Price (USD)\"}},\"width\":900,\"height\":500},                        {\"responsive\": true}                    ).then(function(){\n",
              "                            \n",
              "var gd = document.getElementById('e5362787-5077-437e-a088-8e035d6f2dc8');\n",
              "var x = new MutationObserver(function (mutations, observer) {{\n",
              "        var display = window.getComputedStyle(gd).display;\n",
              "        if (!display || display === 'none') {{\n",
              "            console.log([gd, 'removed!']);\n",
              "            Plotly.purge(gd);\n",
              "            observer.disconnect();\n",
              "        }}\n",
              "}});\n",
              "\n",
              "// Listen for the removal of the full notebook cells\n",
              "var notebookContainer = gd.closest('#notebook-container');\n",
              "if (notebookContainer) {{\n",
              "    x.observe(notebookContainer, {childList: true});\n",
              "}}\n",
              "\n",
              "// Listen for the clearing of the current output cell\n",
              "var outputEl = gd.closest('.output');\n",
              "if (outputEl) {{\n",
              "    x.observe(outputEl, {childList: true});\n",
              "}}\n",
              "\n",
              "                        })                };                            </script>        </div>\n",
              "</body>\n",
              "</html>"
            ]
          },
          "metadata": {}
        }
      ]
    },
    {
      "cell_type": "markdown",
      "source": [
        "# NIKE"
      ],
      "metadata": {
        "id": "ClJpNAiG2KBX"
      }
    },
    {
      "cell_type": "code",
      "source": [
        "df_NKE = df_NKE[['Date', 'Close']]\n",
        "\n",
        "# Clean 'Close' column: remove commas, convert to float\n",
        "df_NKE['Close'] = df_NKE['Close'].astype(str).str.replace(',', '', regex=False)\n",
        "df_NKE = df_NKE[df_NKE['Close'].str.replace('.', '', regex=False).str.isnumeric()]\n",
        "df_NKE['Close'] = df_NKE['Close'].astype(float)\n",
        "\n",
        "# Convert 'Date' to datetime format (optional but useful)\n",
        "df_NKE['Date'] = pd.to_datetime(df_NKE['Date'])\n",
        "\n",
        "# Set 'Date' as index\n",
        "df_NKE.set_index('Date', inplace=True)\n",
        "\n",
        "# Display the cleaned DataFrame\n",
        "print(df_NKE.head())"
      ],
      "metadata": {
        "colab": {
          "base_uri": "https://localhost:8080/"
        },
        "id": "5ayOx9O90eTg",
        "outputId": "fa8372f2-24be-46bf-f5f2-9292c5c6cdc2"
      },
      "execution_count": null,
      "outputs": [
        {
          "output_type": "stream",
          "name": "stdout",
          "text": [
            "                Close\n",
            "Date                 \n",
            "2015-03-03  43.282398\n",
            "2015-03-04  43.083611\n",
            "2015-03-05  43.498894\n",
            "2015-03-06  42.814106\n",
            "2015-03-09  43.043842\n"
          ]
        }
      ]
    },
    {
      "cell_type": "code",
      "source": [
        "import matplotlib.pyplot as plt"
      ],
      "metadata": {
        "id": "BlnCoe-k9ush"
      },
      "execution_count": null,
      "outputs": []
    },
    {
      "cell_type": "code",
      "source": [
        "#First-order differencing\n",
        "df_NKE.diff().plot(figsize=(10,5))\n",
        "plt.xlabel('Year')"
      ],
      "metadata": {
        "colab": {
          "base_uri": "https://localhost:8080/",
          "height": 453
        },
        "id": "ugX6GuWs2Na1",
        "outputId": "52d09412-b619-46e8-c688-fd5669f5f7e0"
      },
      "execution_count": null,
      "outputs": [
        {
          "output_type": "execute_result",
          "data": {
            "text/plain": [
              "Text(0.5, 0, 'Year')"
            ]
          },
          "metadata": {},
          "execution_count": 20
        },
        {
          "output_type": "display_data",
          "data": {
            "text/plain": [
              "<Figure size 1000x500 with 1 Axes>"
            ],
            "image/png": "[encoded data removed]"
          },
          "metadata": {}
        }
      ]
    },
    {
      "cell_type": "code",
      "source": [
        "from pmdarima import auto_arima\n",
        "\n",
        "auto_model = auto_arima(df_NKE['Close'], seasonal=False, stepwise=True, trace=True)\n",
        "print(auto_model.summary())"
      ],
      "metadata": {
        "colab": {
          "base_uri": "https://localhost:8080/"
        },
        "id": "0EhqaYQx2aZQ",
        "outputId": "320d594f-11ae-458f-8c6d-a8ce57255ebe"
      },
      "execution_count": null,
      "outputs": [
        {
          "output_type": "stream",
          "name": "stderr",
          "text": [
            "/usr/local/lib/python3.11/dist-packages/sklearn/utils/deprecation.py:132: FutureWarning: 'force_all_finite' was renamed to 'ensure_all_finite' in 1.6 and will be removed in 1.8.\n",
            "  warnings.warn(\n",
            "/usr/local/lib/python3.11/dist-packages/sklearn/utils/deprecation.py:132: FutureWarning: 'force_all_finite' was renamed to 'ensure_all_finite' in 1.6 and will be removed in 1.8.\n",
            "  warnings.warn(\n",
            "/usr/local/lib/python3.11/dist-packages/sklearn/utils/deprecation.py:132: FutureWarning: 'force_all_finite' was renamed to 'ensure_all_finite' in 1.6 and will be removed in 1.8.\n",
            "  warnings.warn(\n",
            "/usr/local/lib/python3.11/dist-packages/sklearn/utils/deprecation.py:132: FutureWarning: 'force_all_finite' was renamed to 'ensure_all_finite' in 1.6 and will be removed in 1.8.\n",
            "  warnings.warn(\n",
            "/usr/local/lib/python3.11/dist-packages/sklearn/utils/deprecation.py:132: FutureWarning: 'force_all_finite' was renamed to 'ensure_all_finite' in 1.6 and will be removed in 1.8.\n",
            "  warnings.warn(\n",
            "/usr/local/lib/python3.11/dist-packages/sklearn/utils/deprecation.py:132: FutureWarning: 'force_all_finite' was renamed to 'ensure_all_finite' in 1.6 and will be removed in 1.8.\n",
            "  warnings.warn(\n",
            "/usr/local/lib/python3.11/dist-packages/sklearn/utils/deprecation.py:132: FutureWarning: 'force_all_finite' was renamed to 'ensure_all_finite' in 1.6 and will be removed in 1.8.\n",
            "  warnings.warn(\n",
            "/usr/local/lib/python3.11/dist-packages/sklearn/utils/deprecation.py:132: FutureWarning: 'force_all_finite' was renamed to 'ensure_all_finite' in 1.6 and will be removed in 1.8.\n",
            "  warnings.warn(\n",
            "/usr/local/lib/python3.11/dist-packages/sklearn/utils/deprecation.py:132: FutureWarning: 'force_all_finite' was renamed to 'ensure_all_finite' in 1.6 and will be removed in 1.8.\n",
            "  warnings.warn(\n"
          ]
        },
        {
          "output_type": "stream",
          "name": "stdout",
          "text": [
            "Performing stepwise search to minimize aic\n",
            " ARIMA(2,1,2)(0,0,0)[0] intercept   : AIC=10256.588, Time=5.50 sec\n",
            " ARIMA(0,1,0)(0,0,0)[0] intercept   : AIC=10265.207, Time=0.15 sec\n"
          ]
        },
        {
          "output_type": "stream",
          "name": "stderr",
          "text": [
            "/usr/local/lib/python3.11/dist-packages/sklearn/utils/deprecation.py:132: FutureWarning: 'force_all_finite' was renamed to 'ensure_all_finite' in 1.6 and will be removed in 1.8.\n",
            "  warnings.warn(\n",
            "/usr/local/lib/python3.11/dist-packages/sklearn/utils/deprecation.py:132: FutureWarning: 'force_all_finite' was renamed to 'ensure_all_finite' in 1.6 and will be removed in 1.8.\n",
            "  warnings.warn(\n"
          ]
        },
        {
          "output_type": "stream",
          "name": "stdout",
          "text": [
            " ARIMA(1,1,0)(0,0,0)[0] intercept   : AIC=10265.698, Time=0.32 sec\n"
          ]
        },
        {
          "output_type": "stream",
          "name": "stderr",
          "text": [
            "/usr/local/lib/python3.11/dist-packages/sklearn/utils/deprecation.py:132: FutureWarning: 'force_all_finite' was renamed to 'ensure_all_finite' in 1.6 and will be removed in 1.8.\n",
            "  warnings.warn(\n"
          ]
        },
        {
          "output_type": "stream",
          "name": "stdout",
          "text": [
            " ARIMA(0,1,1)(0,0,0)[0] intercept   : AIC=10265.735, Time=0.64 sec\n"
          ]
        },
        {
          "output_type": "stream",
          "name": "stderr",
          "text": [
            "/usr/local/lib/python3.11/dist-packages/sklearn/utils/deprecation.py:132: FutureWarning: 'force_all_finite' was renamed to 'ensure_all_finite' in 1.6 and will be removed in 1.8.\n",
            "  warnings.warn(\n"
          ]
        },
        {
          "output_type": "stream",
          "name": "stdout",
          "text": [
            " ARIMA(0,1,0)(0,0,0)[0]             : AIC=10263.304, Time=0.23 sec\n"
          ]
        },
        {
          "output_type": "stream",
          "name": "stderr",
          "text": [
            "/usr/local/lib/python3.11/dist-packages/sklearn/utils/deprecation.py:132: FutureWarning: 'force_all_finite' was renamed to 'ensure_all_finite' in 1.6 and will be removed in 1.8.\n",
            "  warnings.warn(\n"
          ]
        },
        {
          "output_type": "stream",
          "name": "stdout",
          "text": [
            " ARIMA(1,1,2)(0,0,0)[0] intercept   : AIC=10268.300, Time=4.63 sec\n"
          ]
        },
        {
          "output_type": "stream",
          "name": "stderr",
          "text": [
            "/usr/local/lib/python3.11/dist-packages/sklearn/utils/deprecation.py:132: FutureWarning: 'force_all_finite' was renamed to 'ensure_all_finite' in 1.6 and will be removed in 1.8.\n",
            "  warnings.warn(\n"
          ]
        },
        {
          "output_type": "stream",
          "name": "stdout",
          "text": [
            " ARIMA(2,1,1)(0,0,0)[0] intercept   : AIC=10268.152, Time=3.87 sec\n"
          ]
        },
        {
          "output_type": "stream",
          "name": "stderr",
          "text": [
            "/usr/local/lib/python3.11/dist-packages/sklearn/utils/deprecation.py:132: FutureWarning: 'force_all_finite' was renamed to 'ensure_all_finite' in 1.6 and will be removed in 1.8.\n",
            "  warnings.warn(\n"
          ]
        },
        {
          "output_type": "stream",
          "name": "stdout",
          "text": [
            " ARIMA(3,1,2)(0,0,0)[0] intercept   : AIC=10256.321, Time=13.81 sec\n"
          ]
        },
        {
          "output_type": "stream",
          "name": "stderr",
          "text": [
            "/usr/local/lib/python3.11/dist-packages/sklearn/utils/deprecation.py:132: FutureWarning: 'force_all_finite' was renamed to 'ensure_all_finite' in 1.6 and will be removed in 1.8.\n",
            "  warnings.warn(\n"
          ]
        },
        {
          "output_type": "stream",
          "name": "stdout",
          "text": [
            " ARIMA(3,1,1)(0,0,0)[0] intercept   : AIC=10270.645, Time=3.64 sec\n"
          ]
        },
        {
          "output_type": "stream",
          "name": "stderr",
          "text": [
            "/usr/local/lib/python3.11/dist-packages/sklearn/utils/deprecation.py:132: FutureWarning: 'force_all_finite' was renamed to 'ensure_all_finite' in 1.6 and will be removed in 1.8.\n",
            "  warnings.warn(\n"
          ]
        },
        {
          "output_type": "stream",
          "name": "stdout",
          "text": [
            " ARIMA(4,1,2)(0,0,0)[0] intercept   : AIC=10256.610, Time=11.19 sec\n"
          ]
        },
        {
          "output_type": "stream",
          "name": "stderr",
          "text": [
            "/usr/local/lib/python3.11/dist-packages/sklearn/utils/deprecation.py:132: FutureWarning: 'force_all_finite' was renamed to 'ensure_all_finite' in 1.6 and will be removed in 1.8.\n",
            "  warnings.warn(\n"
          ]
        },
        {
          "output_type": "stream",
          "name": "stdout",
          "text": [
            " ARIMA(3,1,3)(0,0,0)[0] intercept   : AIC=10260.077, Time=8.07 sec\n"
          ]
        },
        {
          "output_type": "stream",
          "name": "stderr",
          "text": [
            "/usr/local/lib/python3.11/dist-packages/sklearn/utils/deprecation.py:132: FutureWarning: 'force_all_finite' was renamed to 'ensure_all_finite' in 1.6 and will be removed in 1.8.\n",
            "  warnings.warn(\n"
          ]
        },
        {
          "output_type": "stream",
          "name": "stdout",
          "text": [
            " ARIMA(2,1,3)(0,0,0)[0] intercept   : AIC=10256.434, Time=6.85 sec\n"
          ]
        },
        {
          "output_type": "stream",
          "name": "stderr",
          "text": [
            "/usr/local/lib/python3.11/dist-packages/sklearn/utils/deprecation.py:132: FutureWarning: 'force_all_finite' was renamed to 'ensure_all_finite' in 1.6 and will be removed in 1.8.\n",
            "  warnings.warn(\n"
          ]
        },
        {
          "output_type": "stream",
          "name": "stdout",
          "text": [
            " ARIMA(4,1,1)(0,0,0)[0] intercept   : AIC=10266.104, Time=5.16 sec\n"
          ]
        },
        {
          "output_type": "stream",
          "name": "stderr",
          "text": [
            "/usr/local/lib/python3.11/dist-packages/sklearn/utils/deprecation.py:132: FutureWarning: 'force_all_finite' was renamed to 'ensure_all_finite' in 1.6 and will be removed in 1.8.\n",
            "  warnings.warn(\n"
          ]
        },
        {
          "output_type": "stream",
          "name": "stdout",
          "text": [
            " ARIMA(4,1,3)(0,0,0)[0] intercept   : AIC=10260.187, Time=8.67 sec\n"
          ]
        },
        {
          "output_type": "stream",
          "name": "stderr",
          "text": [
            "/usr/local/lib/python3.11/dist-packages/sklearn/utils/deprecation.py:132: FutureWarning: 'force_all_finite' was renamed to 'ensure_all_finite' in 1.6 and will be removed in 1.8.\n",
            "  warnings.warn(\n"
          ]
        },
        {
          "output_type": "stream",
          "name": "stdout",
          "text": [
            " ARIMA(3,1,2)(0,0,0)[0]             : AIC=10254.424, Time=3.69 sec\n"
          ]
        },
        {
          "output_type": "stream",
          "name": "stderr",
          "text": [
            "/usr/local/lib/python3.11/dist-packages/sklearn/utils/deprecation.py:132: FutureWarning: 'force_all_finite' was renamed to 'ensure_all_finite' in 1.6 and will be removed in 1.8.\n",
            "  warnings.warn(\n"
          ]
        },
        {
          "output_type": "stream",
          "name": "stdout",
          "text": [
            " ARIMA(2,1,2)(0,0,0)[0]             : AIC=10254.684, Time=3.94 sec\n"
          ]
        },
        {
          "output_type": "stream",
          "name": "stderr",
          "text": [
            "/usr/local/lib/python3.11/dist-packages/sklearn/utils/deprecation.py:132: FutureWarning: 'force_all_finite' was renamed to 'ensure_all_finite' in 1.6 and will be removed in 1.8.\n",
            "  warnings.warn(\n"
          ]
        },
        {
          "output_type": "stream",
          "name": "stdout",
          "text": [
            " ARIMA(3,1,1)(0,0,0)[0]             : AIC=10268.749, Time=0.97 sec\n"
          ]
        },
        {
          "output_type": "stream",
          "name": "stderr",
          "text": [
            "/usr/local/lib/python3.11/dist-packages/sklearn/utils/deprecation.py:132: FutureWarning: 'force_all_finite' was renamed to 'ensure_all_finite' in 1.6 and will be removed in 1.8.\n",
            "  warnings.warn(\n"
          ]
        },
        {
          "output_type": "stream",
          "name": "stdout",
          "text": [
            " ARIMA(4,1,2)(0,0,0)[0]             : AIC=10254.725, Time=4.01 sec\n"
          ]
        },
        {
          "output_type": "stream",
          "name": "stderr",
          "text": [
            "/usr/local/lib/python3.11/dist-packages/sklearn/utils/deprecation.py:132: FutureWarning: 'force_all_finite' was renamed to 'ensure_all_finite' in 1.6 and will be removed in 1.8.\n",
            "  warnings.warn(\n"
          ]
        },
        {
          "output_type": "stream",
          "name": "stdout",
          "text": [
            " ARIMA(3,1,3)(0,0,0)[0]             : AIC=10258.138, Time=3.39 sec\n"
          ]
        },
        {
          "output_type": "stream",
          "name": "stderr",
          "text": [
            "/usr/local/lib/python3.11/dist-packages/sklearn/utils/deprecation.py:132: FutureWarning: 'force_all_finite' was renamed to 'ensure_all_finite' in 1.6 and will be removed in 1.8.\n",
            "  warnings.warn(\n"
          ]
        },
        {
          "output_type": "stream",
          "name": "stdout",
          "text": [
            " ARIMA(2,1,1)(0,0,0)[0]             : AIC=10266.255, Time=1.20 sec\n"
          ]
        },
        {
          "output_type": "stream",
          "name": "stderr",
          "text": [
            "/usr/local/lib/python3.11/dist-packages/sklearn/utils/deprecation.py:132: FutureWarning: 'force_all_finite' was renamed to 'ensure_all_finite' in 1.6 and will be removed in 1.8.\n",
            "  warnings.warn(\n"
          ]
        },
        {
          "output_type": "stream",
          "name": "stdout",
          "text": [
            " ARIMA(2,1,3)(0,0,0)[0]             : AIC=10254.537, Time=3.96 sec\n"
          ]
        },
        {
          "output_type": "stream",
          "name": "stderr",
          "text": [
            "/usr/local/lib/python3.11/dist-packages/sklearn/utils/deprecation.py:132: FutureWarning: 'force_all_finite' was renamed to 'ensure_all_finite' in 1.6 and will be removed in 1.8.\n",
            "  warnings.warn(\n"
          ]
        },
        {
          "output_type": "stream",
          "name": "stdout",
          "text": [
            " ARIMA(4,1,1)(0,0,0)[0]             : AIC=10264.209, Time=1.20 sec\n"
          ]
        },
        {
          "output_type": "stream",
          "name": "stderr",
          "text": [
            "/usr/local/lib/python3.11/dist-packages/sklearn/utils/deprecation.py:132: FutureWarning: 'force_all_finite' was renamed to 'ensure_all_finite' in 1.6 and will be removed in 1.8.\n",
            "  warnings.warn(\n"
          ]
        },
        {
          "output_type": "stream",
          "name": "stdout",
          "text": [
            " ARIMA(4,1,3)(0,0,0)[0]             : AIC=10258.295, Time=3.34 sec\n",
            "\n",
            "Best model:  ARIMA(3,1,2)(0,0,0)[0]          \n",
            "Total fit time: 98.494 seconds\n",
            "                               SARIMAX Results                                \n",
            "==============================================================================\n",
            "Dep. Variable:                      y   No. Observations:                 2598\n",
            "Model:               SARIMAX(3, 1, 2)   Log Likelihood               -5121.212\n",
            "Date:                Wed, 02 Jul 2025   AIC                          10254.424\n",
            "Time:                        11:49:46   BIC                          10289.596\n",
            "Sample:                             0   HQIC                         10267.168\n",
            "                               - 2598                                         \n",
            "Covariance Type:                  opg                                         \n",
            "==============================================================================\n",
            "                 coef    std err          z      P>|z|      [0.025      0.975]\n",
            "------------------------------------------------------------------------------\n",
            "ar.L1         -1.9200      0.022    -88.350      0.000      -1.963      -1.877\n",
            "ar.L2         -1.0228      0.033    -30.667      0.000      -1.088      -0.957\n",
            "ar.L3         -0.0301      0.016     -1.839      0.066      -0.062       0.002\n",
            "ma.L1          1.9021      0.014    138.167      0.000       1.875       1.929\n",
            "ma.L2          0.9719      0.013     72.145      0.000       0.945       0.998\n",
            "sigma2         3.0221      0.029    103.200      0.000       2.965       3.079\n",
            "===================================================================================\n",
            "Ljung-Box (L1) (Q):                   0.00   Jarque-Bera (JB):             32544.20\n",
            "Prob(Q):                              0.97   Prob(JB):                         0.00\n",
            "Heteroskedasticity (H):               7.47   Skew:                            -0.17\n",
            "Prob(H) (two-sided):                  0.00   Kurtosis:                        20.34\n",
            "===================================================================================\n",
            "\n",
            "Warnings:\n",
            "[1] Covariance matrix calculated using the outer product of gradients (complex-step).\n"
          ]
        }
      ]
    },
    {
      "cell_type": "code",
      "source": [
        "train_data, test_data = df_NKE[0:int(len(df_NKE)*0.85)], df_NKE[int(len(df_NKE)*0.85):]"
      ],
      "metadata": {
        "id": "Y83V-wBt3Gge"
      },
      "execution_count": null,
      "outputs": []
    },
    {
      "cell_type": "code",
      "source": [
        "import pandas as pd\n",
        "import numpy as np\n",
        "import os\n",
        "from subprocess import check_output\n",
        "import seaborn as sns\n",
        "import matplotlib.pyplot as plt\n",
        "import warnings\n",
        "from pandas.plotting import lag_plot\n",
        "from statsmodels.tsa.arima_model import ARIMA\n",
        "from sklearn.metrics import mean_squared_error\n",
        "import statsmodels.api as sm\n",
        "warnings.filterwarnings('ignore')"
      ],
      "metadata": {
        "id": "CGZF5mVnDq_5"
      },
      "execution_count": null,
      "outputs": []
    },
    {
      "cell_type": "code",
      "source": [
        "import numpy as np\n",
        "import pandas as pd\n",
        "from statsmodels.tsa.arima.model import ARIMA\n",
        "from sklearn.metrics import mean_squared_error\n",
        "\n",
        "# Define SMAPE\n",
        "def smape_kun(y_true, y_pred):\n",
        "    y_true, y_pred = np.array(y_true), np.array(y_pred)\n",
        "    return np.mean((np.abs(y_pred - y_true) * 200 / (np.abs(y_pred) + np.abs(y_true) + 1e-8)))  # add small epsilon to avoid divide-by-zero\n",
        "\n",
        "# Assuming train_data and test_data are Series\n",
        "train_ar = train_data.values\n",
        "test_ar = test_data.values\n",
        "\n",
        "history = list(train_ar)\n",
        "predictions = []\n",
        "\n",
        "for t in range(len(test_ar)):\n",
        "    model = ARIMA(history, order=(3,1,2))\n",
        "    model_fit = model.fit()\n",
        "    yhat = model_fit.forecast()[0]  # Use the new API: forecast() returns array\n",
        "    predictions.append(yhat)\n",
        "    history.append(test_ar[t])\n",
        "\n",
        "# Evaluation\n",
        "error = mean_squared_error(test_ar, predictions)\n",
        "print(f'Testing Mean Squared Error: {error:.3f}')\n",
        "\n",
        "error2 = smape_kun(test_ar, predictions)\n",
        "print(f'Symmetric Mean Absolute Percentage Error (SMAPE): {error2:.3f}')\n"
      ],
      "metadata": {
        "colab": {
          "base_uri": "https://localhost:8080/"
        },
        "id": "Eo6GFQ7wD2Wg",
        "outputId": "f44a0457-8d71-4bcc-f6fd-e7a1b86d2db7"
      },
      "execution_count": null,
      "outputs": [
        {
          "output_type": "stream",
          "name": "stdout",
          "text": [
            "Testing Mean Squared Error: 3.829\n",
            "Symmetric Mean Absolute Percentage Error (SMAPE): 20.279\n"
          ]
        }
      ]
    },
    {
      "cell_type": "code",
      "source": [
        "import numpy as np\n",
        "import pandas as pd\n",
        "from statsmodels.tsa.arima.model import ARIMA\n",
        "from sklearn.metrics import mean_squared_error, mean_absolute_percentage_error\n",
        "\n",
        "# Define SMAPE\n",
        "def smape_kun(y_true, y_pred):\n",
        "    y_true = np.array(y_true, dtype=float).flatten()\n",
        "    y_pred = np.array(y_pred, dtype=float).flatten()\n",
        "    return np.mean((np.abs(y_pred - y_true) * 200 / (np.abs(y_pred) + np.abs(y_true) + 1e-8)))\n",
        "\n",
        "# Define MBE\n",
        "def mean_bias_error(y_true, y_pred):\n",
        "    y_true = np.array(y_true, dtype=float).flatten()\n",
        "    y_pred = np.array(y_pred, dtype=float).flatten()\n",
        "    return np.mean(y_pred - y_true)\n",
        "\n",
        "# Ensure train_data and test_data are flat float arrays\n",
        "train_ar = np.array(train_data.values, dtype=float).flatten()\n",
        "test_ar = np.array(test_data.values, dtype=float).flatten()\n",
        "\n",
        "history = list(train_ar)\n",
        "predictions = []\n",
        "\n",
        "for t in range(len(test_ar)):\n",
        "    try:\n",
        "        model = ARIMA(history, order=(3,1,2))\n",
        "        model_fit = model.fit()\n",
        "        yhat = float(model_fit.forecast()[0])  # ensure scalar\n",
        "        predictions.append(yhat)\n",
        "        history.append(test_ar[t])\n",
        "    except Exception as e:\n",
        "        print(f\"Error at step {t}: {e}\")\n",
        "        predictions.append(history[-1])  # fallback prediction\n",
        "\n",
        "# Evaluation\n",
        "mse = mean_squared_error(test_ar, predictions)\n",
        "rmse = np.sqrt(mse)\n",
        "mape = mean_absolute_percentage_error(test_ar, predictions) * 100  # in percentage\n",
        "smape = smape_kun(test_ar, predictions)\n",
        "mbe = mean_bias_error(test_ar, predictions)\n",
        "\n",
        "# Print metrics\n",
        "print(f' RMSE: {rmse:.2f}')\n",
        "print(f' MAPE: {mape:.2f}%')\n",
        "print(f' MBE : {mbe:.2f}')\n",
        "print(f' SMAPE: {smape:.2f}%')"
      ],
      "metadata": {
        "colab": {
          "base_uri": "https://localhost:8080/"
        },
        "id": "BWD75X7B1tLE",
        "outputId": "71252eaa-3f14-4a1c-9333-9447d6911117"
      },
      "execution_count": null,
      "outputs": [
        {
          "output_type": "stream",
          "name": "stdout",
          "text": [
            " RMSE: 1.96\n",
            " MAPE: 1.50%\n",
            " MBE : 0.11\n",
            " SMAPE: 1.49%\n"
          ]
        }
      ]
    },
    {
      "cell_type": "code",
      "source": [
        "import numpy as np\n",
        "import plotly.graph_objects as go\n",
        "\n",
        "# Ensure predictions is a flat array\n",
        "predictions = np.array(predictions).flatten()\n",
        "\n",
        "# Ensure test_data is a Series with proper index\n",
        "if isinstance(test_data, pd.DataFrame):\n",
        "    test_data = test_data.squeeze()\n",
        "\n",
        "# Ensure lengths match\n",
        "min_len = min(len(predictions), len(test_data))\n",
        "predictions = predictions[:min_len]\n",
        "actual = test_data.values[:min_len]\n",
        "dates = test_data.index[:min_len]\n",
        "\n",
        "# Plot with Plotly\n",
        "fig = go.Figure()\n",
        "\n",
        "fig.add_trace(go.Scatter(\n",
        "    x=dates,\n",
        "    y=predictions,\n",
        "    mode='lines',\n",
        "    name='Predicted Price',\n",
        "    line=dict(color='green', width=4)\n",
        "))\n",
        "\n",
        "fig.add_trace(go.Scatter(\n",
        "    x=dates,\n",
        "    y=actual,\n",
        "    mode='lines',\n",
        "    name='Actual Price',\n",
        "    line=dict(color='red')\n",
        "))\n",
        "\n",
        "fig.update_layout(\n",
        "    title='NKE Prices Prediction',\n",
        "    xaxis_title='Dates',\n",
        "    yaxis_title='CLsoe Price (USD)',\n",
        "    legend=dict(x=0, y=1),\n",
        "    template='plotly_white',\n",
        "    width=900,\n",
        "    height=500\n",
        ")\n",
        "\n",
        "fig.show()"
      ],
      "metadata": {
        "colab": {
          "base_uri": "https://localhost:8080/",
          "height": 517
        },
        "id": "gaMMfVEf3vX6",
        "outputId": "bfe8659b-73e9-4fa7-8cfa-6435f3edcb36"
      },
      "execution_count": null,
      "outputs": [
        {
          "output_type": "display_data",
          "data": {
            "text/html": [
              "<html>\n",
              "<head><meta charset=\"utf-8\" /></head>\n",
              "<body>\n",
              "    <div>            <script src=\"https://cdnjs.cloudflare.com/ajax/libs/mathjax/2.7.5/MathJax.js?config=TeX-AMS-MML_SVG\"></script><script type=\"text/javascript\">if (window.MathJax && window.MathJax.Hub && window.MathJax.Hub.Config) {window.MathJax.Hub.Config({SVG: {font: \"STIX-Web\"}});}</script>                <script type=\"text/javascript\">window.PlotlyConfig = {MathJaxConfig: 'local'};</script>\n",
              "        <script charset=\"utf-8\" src=\"https://cdn.plot.ly/plotly-2.35.2.min.js\"></script>                <div id=\"8ebc83fc-2f57-4077-91ff-79c876447b26\" class=\"plotly-graph-div\" style=\"height:500px; width:900px;\"></div>            <script type=\"text/javascript\">                                    window.PLOTLYENV=window.PLOTLYENV || {};                                    if (document.getElementById(\"8ebc83fc-2f57-4077-91ff-79c876447b26\")) {                    Plotly.newPlot(                        \"8ebc83fc-2f57-4077-91ff-79c876447b26\",                        [{\"line\":{\"color\":\"green\",\"width\":4},\"mode\":\"lines\",\"name\":\"Predicted Price\",\"x\":[\"2023-12-07T00:00:00\",\"2023-12-08T00:00:00\",\"2023-12-11T00:00:00\",\"2023-12-12T00:00:00\",\"2023-12-13T00:00:00\",\"2023-12-14T00:00:00\",\"2023-12-15T00:00:00\",\"2023-12-18T00:00:00\",\"2023-12-19T00:00:00\",\"2023-12-20T00:00:00\",\"2023-12-21T00:00:00\",\"2023-12-22T00:00:00\",\"2023-12-26T00:00:00\",\"2023-12-27T00:00:00\",\"2023-12-28T00:00:00\",\"2023-12-29T00:00:00\",\"2024-01-02T00:00:00\",\"2024-01-03T00:00:00\",\"2024-01-04T00:00:00\",\"2024-01-05T00:00:00\",\"2024-01-08T00:00:00\",\"2024-01-09T00:00:00\",\"2024-01-10T00:00:00\",\"2024-01-11T00:00:00\",\"2024-01-12T00:00:00\",\"2024-01-16T00:00:00\",\"2024-01-17T00:00:00\",\"2024-01-18T00:00:00\",\"2024-01-19T00:00:00\",\"2024-01-22T00:00:00\",\"2024-01-23T00:00:00\",\"2024-01-24T00:00:00\",\"2024-01-25T00:00:00\",\"2024-01-26T00:00:00\",\"2024-01-29T00:00:00\",\"2024-01-30T00:00:00\",\"2024-01-31T00:00:00\",\"2024-02-01T00:00:00\",\"2024-02-02T00:00:00\",\"2024-02-05T00:00:00\",\"2024-02-06T00:00:00\",\"2024-02-07T00:00:00\",\"2024-02-08T00:00:00\",\"2024-02-09T00:00:00\",\"2024-02-12T00:00:00\",\"2024-02-13T00:00:00\",\"2024-02-14T00:00:00\",\"2024-02-15T00:00:00\",\"2024-02-16T00:00:00\",\"2024-02-20T00:00:00\",\"2024-02-21T00:00:00\",\"2024-02-22T00:00:00\",\"2024-02-23T00:00:00\",\"2024-02-26T00:00:00\",\"2024-02-27T00:00:00\",\"2024-02-28T00:00:00\",\"2024-02-29T00:00:00\",\"2024-03-01T00:00:00\",\"2024-03-04T00:00:00\",\"2024-03-05T00:00:00\",\"2024-03-06T00:00:00\",\"2024-03-07T00:00:00\",\"2024-03-08T00:00:00\",\"2024-03-11T00:00:00\",\"2024-03-12T00:00:00\",\"2024-03-13T00:00:00\",\"2024-03-14T00:00:00\",\"2024-03-15T00:00:00\",\"2024-03-18T00:00:00\",\"2024-03-19T00:00:00\",\"2024-03-20T00:00:00\",\"2024-03-21T00:00:00\",\"2024-03-22T00:00:00\",\"2024-03-25T00:00:00\",\"2024-03-26T00:00:00\",\"2024-03-27T00:00:00\",\"2024-03-28T00:00:00\",\"2024-04-01T00:00:00\",\"2024-04-02T00:00:00\",\"2024-04-03T00:00:00\",\"2024-04-04T00:00:00\",\"2024-04-05T00:00:00\",\"2024-04-08T00:00:00\",\"2024-04-09T00:00:00\",\"2024-04-10T00:00:00\",\"2024-04-11T00:00:00\",\"2024-04-12T00:00:00\",\"2024-04-15T00:00:00\",\"2024-04-16T00:00:00\",\"2024-04-17T00:00:00\",\"2024-04-18T00:00:00\",\"2024-04-19T00:00:00\",\"2024-04-22T00:00:00\",\"2024-04-23T00:00:00\",\"2024-04-24T00:00:00\",\"2024-04-25T00:00:00\",\"2024-04-26T00:00:00\",\"2024-04-29T00:00:00\",\"2024-04-30T00:00:00\",\"2024-05-01T00:00:00\",\"2024-05-02T00:00:00\",\"2024-05-03T00:00:00\",\"2024-05-06T00:00:00\",\"2024-05-07T00:00:00\",\"2024-05-08T00:00:00\",\"2024-05-09T00:00:00\",\"2024-05-10T00:00:00\",\"2024-05-13T00:00:00\",\"2024-05-14T00:00:00\",\"2024-05-15T00:00:00\",\"2024-05-16T00:00:00\",\"2024-05-17T00:00:00\",\"2024-05-20T00:00:00\",\"2024-05-21T00:00:00\",\"2024-05-22T00:00:00\",\"2024-05-23T00:00:00\",\"2024-05-24T00:00:00\",\"2024-05-28T00:00:00\",\"2024-05-29T00:00:00\",\"2024-05-30T00:00:00\",\"2024-05-31T00:00:00\",\"2024-06-03T00:00:00\",\"2024-06-04T00:00:00\",\"2024-06-05T00:00:00\",\"2024-06-06T00:00:00\",\"2024-06-07T00:00:00\",\"2024-06-10T00:00:00\",\"2024-06-11T00:00:00\",\"2024-06-12T00:00:00\",\"2024-06-13T00:00:00\",\"2024-06-14T00:00:00\",\"2024-06-17T00:00:00\",\"2024-06-18T00:00:00\",\"2024-06-20T00:00:00\",\"2024-06-21T00:00:00\",\"2024-06-24T00:00:00\",\"2024-06-25T00:00:00\",\"2024-06-26T00:00:00\",\"2024-06-27T00:00:00\",\"2024-06-28T00:00:00\",\"2024-07-01T00:00:00\",\"2024-07-02T00:00:00\",\"2024-07-03T00:00:00\",\"2024-07-05T00:00:00\",\"2024-07-08T00:00:00\",\"2024-07-09T00:00:00\",\"2024-07-10T00:00:00\",\"2024-07-11T00:00:00\",\"2024-07-12T00:00:00\",\"2024-07-15T00:00:00\",\"2024-07-16T00:00:00\",\"2024-07-17T00:00:00\",\"2024-07-18T00:00:00\",\"2024-07-19T00:00:00\",\"2024-07-22T00:00:00\",\"2024-07-23T00:00:00\",\"2024-07-24T00:00:00\",\"2024-07-25T00:00:00\",\"2024-07-26T00:00:00\",\"2024-07-29T00:00:00\",\"2024-07-30T00:00:00\",\"2024-07-31T00:00:00\",\"2024-08-01T00:00:00\",\"2024-08-02T00:00:00\",\"2024-08-05T00:00:00\",\"2024-08-06T00:00:00\",\"2024-08-07T00:00:00\",\"2024-08-08T00:00:00\",\"2024-08-09T00:00:00\",\"2024-08-12T00:00:00\",\"2024-08-13T00:00:00\",\"2024-08-14T00:00:00\",\"2024-08-15T00:00:00\",\"2024-08-16T00:00:00\",\"2024-08-19T00:00:00\",\"2024-08-20T00:00:00\",\"2024-08-21T00:00:00\",\"2024-08-22T00:00:00\",\"2024-08-23T00:00:00\",\"2024-08-26T00:00:00\",\"2024-08-27T00:00:00\",\"2024-08-28T00:00:00\",\"2024-08-29T00:00:00\",\"2024-08-30T00:00:00\",\"2024-09-03T00:00:00\",\"2024-09-04T00:00:00\",\"2024-09-05T00:00:00\",\"2024-09-06T00:00:00\",\"2024-09-09T00:00:00\",\"2024-09-10T00:00:00\",\"2024-09-11T00:00:00\",\"2024-09-12T00:00:00\",\"2024-09-13T00:00:00\",\"2024-09-16T00:00:00\",\"2024-09-17T00:00:00\",\"2024-09-18T00:00:00\",\"2024-09-19T00:00:00\",\"2024-09-20T00:00:00\",\"2024-09-23T00:00:00\",\"2024-09-24T00:00:00\",\"2024-09-25T00:00:00\",\"2024-09-26T00:00:00\",\"2024-09-27T00:00:00\",\"2024-09-30T00:00:00\",\"2024-10-01T00:00:00\",\"2024-10-02T00:00:00\",\"2024-10-03T00:00:00\",\"2024-10-04T00:00:00\",\"2024-10-07T00:00:00\",\"2024-10-08T00:00:00\",\"2024-10-09T00:00:00\",\"2024-10-10T00:00:00\",\"2024-10-11T00:00:00\",\"2024-10-14T00:00:00\",\"2024-10-15T00:00:00\",\"2024-10-16T00:00:00\",\"2024-10-17T00:00:00\",\"2024-10-18T00:00:00\",\"2024-10-21T00:00:00\",\"2024-10-22T00:00:00\",\"2024-10-23T00:00:00\",\"2024-10-24T00:00:00\",\"2024-10-25T00:00:00\",\"2024-10-28T00:00:00\",\"2024-10-29T00:00:00\",\"2024-10-30T00:00:00\",\"2024-10-31T00:00:00\",\"2024-11-01T00:00:00\",\"2024-11-04T00:00:00\",\"2024-11-05T00:00:00\",\"2024-11-06T00:00:00\",\"2024-11-07T00:00:00\",\"2024-11-08T00:00:00\",\"2024-11-11T00:00:00\",\"2024-11-12T00:00:00\",\"2024-11-13T00:00:00\",\"2024-11-14T00:00:00\",\"2024-11-15T00:00:00\",\"2024-11-18T00:00:00\",\"2024-11-19T00:00:00\",\"2024-11-20T00:00:00\",\"2024-11-21T00:00:00\",\"2024-11-22T00:00:00\",\"2024-11-25T00:00:00\",\"2024-11-26T00:00:00\",\"2024-11-27T00:00:00\",\"2024-11-29T00:00:00\",\"2024-12-02T00:00:00\",\"2024-12-03T00:00:00\",\"2024-12-04T00:00:00\",\"2024-12-05T00:00:00\",\"2024-12-06T00:00:00\",\"2024-12-09T00:00:00\",\"2024-12-10T00:00:00\",\"2024-12-11T00:00:00\",\"2024-12-12T00:00:00\",\"2024-12-13T00:00:00\",\"2024-12-16T00:00:00\",\"2024-12-17T00:00:00\",\"2024-12-18T00:00:00\",\"2024-12-19T00:00:00\",\"2024-12-20T00:00:00\",\"2024-12-23T00:00:00\",\"2024-12-24T00:00:00\",\"2024-12-26T00:00:00\",\"2024-12-27T00:00:00\",\"2024-12-30T00:00:00\",\"2024-12-31T00:00:00\",\"2025-01-02T00:00:00\",\"2025-01-03T00:00:00\",\"2025-01-06T00:00:00\",\"2025-01-07T00:00:00\",\"2025-01-08T00:00:00\",\"2025-01-10T00:00:00\",\"2025-01-13T00:00:00\",\"2025-01-14T00:00:00\",\"2025-01-15T00:00:00\",\"2025-01-16T00:00:00\",\"2025-01-17T00:00:00\",\"2025-01-21T00:00:00\",\"2025-01-22T00:00:00\",\"2025-01-23T00:00:00\",\"2025-01-24T00:00:00\",\"2025-01-27T00:00:00\",\"2025-01-28T00:00:00\",\"2025-01-29T00:00:00\",\"2025-01-30T00:00:00\",\"2025-01-31T00:00:00\",\"2025-02-03T00:00:00\",\"2025-02-04T00:00:00\",\"2025-02-05T00:00:00\",\"2025-02-06T00:00:00\",\"2025-02-07T00:00:00\",\"2025-02-10T00:00:00\",\"2025-02-11T00:00:00\",\"2025-02-12T00:00:00\",\"2025-02-13T00:00:00\",\"2025-02-14T00:00:00\",\"2025-02-18T00:00:00\",\"2025-02-19T00:00:00\",\"2025-02-20T00:00:00\",\"2025-02-21T00:00:00\",\"2025-02-24T00:00:00\",\"2025-02-25T00:00:00\",\"2025-02-26T00:00:00\",\"2025-02-27T00:00:00\",\"2025-02-28T00:00:00\",\"2025-03-03T00:00:00\",\"2025-03-04T00:00:00\",\"2025-03-05T00:00:00\",\"2025-03-06T00:00:00\",\"2025-03-07T00:00:00\",\"2025-03-10T00:00:00\",\"2025-03-11T00:00:00\",\"2025-03-12T00:00:00\",\"2025-03-13T00:00:00\",\"2025-03-14T00:00:00\",\"2025-03-17T00:00:00\",\"2025-03-18T00:00:00\",\"2025-03-19T00:00:00\",\"2025-03-20T00:00:00\",\"2025-03-21T00:00:00\",\"2025-03-24T00:00:00\",\"2025-03-25T00:00:00\",\"2025-03-26T00:00:00\",\"2025-03-27T00:00:00\",\"2025-03-28T00:00:00\",\"2025-03-31T00:00:00\",\"2025-04-01T00:00:00\",\"2025-04-02T00:00:00\",\"2025-04-03T00:00:00\",\"2025-04-04T00:00:00\",\"2025-04-07T00:00:00\",\"2025-04-08T00:00:00\",\"2025-04-09T00:00:00\",\"2025-04-10T00:00:00\",\"2025-04-11T00:00:00\",\"2025-04-14T00:00:00\",\"2025-04-15T00:00:00\",\"2025-04-16T00:00:00\",\"2025-04-17T00:00:00\",\"2025-04-21T00:00:00\",\"2025-04-22T00:00:00\",\"2025-04-23T00:00:00\",\"2025-04-24T00:00:00\",\"2025-04-25T00:00:00\",\"2025-04-28T00:00:00\",\"2025-04-29T00:00:00\",\"2025-04-30T00:00:00\",\"2025-05-01T00:00:00\",\"2025-05-02T00:00:00\",\"2025-05-05T00:00:00\",\"2025-05-06T00:00:00\",\"2025-05-07T00:00:00\",\"2025-05-08T00:00:00\",\"2025-05-09T00:00:00\",\"2025-05-12T00:00:00\",\"2025-05-13T00:00:00\",\"2025-05-14T00:00:00\",\"2025-05-15T00:00:00\",\"2025-05-16T00:00:00\",\"2025-05-19T00:00:00\",\"2025-05-20T00:00:00\",\"2025-05-21T00:00:00\",\"2025-05-22T00:00:00\",\"2025-05-23T00:00:00\",\"2025-05-27T00:00:00\",\"2025-05-28T00:00:00\",\"2025-05-29T00:00:00\",\"2025-05-30T00:00:00\",\"2025-06-02T00:00:00\",\"2025-06-03T00:00:00\",\"2025-06-04T00:00:00\",\"2025-06-05T00:00:00\",\"2025-06-06T00:00:00\",\"2025-06-09T00:00:00\",\"2025-06-10T00:00:00\",\"2025-06-11T00:00:00\",\"2025-06-12T00:00:00\",\"2025-06-13T00:00:00\",\"2025-06-16T00:00:00\",\"2025-06-17T00:00:00\",\"2025-06-18T00:00:00\",\"2025-06-20T00:00:00\",\"2025-06-23T00:00:00\",\"2025-06-24T00:00:00\",\"2025-06-25T00:00:00\",\"2025-06-26T00:00:00\",\"2025-06-27T00:00:00\",\"2025-06-30T00:00:00\"],\"y\":[112.58910133499703,111.30778330260283,112.41162434650309,115.12234204555851,116.22948228399245,117.78690112569984,117.6953367119909,118.2201288555751,117.72546382371355,119.20599928474911,117.98039751135373,118.98340127397663,105.05266502728205,105.34039219114726,103.89144866987986,106.01923182315159,105.24787555229375,103.83437203710493,101.09951852340097,99.49832175624837,99.28735334266086,100.73375185171763,99.85466751814836,100.74785884062399,102.88004741185306,102.09216694197971,98.8034292537563,97.94980419773178,98.19041784839467,98.98572360895095,97.75634845308568,98.96300742658872,97.94782944705993,97.88873962809421,99.8378965932798,100.95673947205871,101.18200140412988,98.62337121133336,98.83961998823193,97.95618203642418,96.91071076654947,99.70638930681457,100.9025456108094,100.76981091402948,101.44759408167431,104.08925494447546,102.04859927216185,103.20929238409707,103.08040064576765,100.70296288410425,100.3350893294092,102.32195209312906,102.04654494333387,102.70399000279757,101.56672279965382,102.13746029846554,101.43594415740687,100.9966044308023,99.3922953723247,97.11554582762683,95.93268103745913,95.308533158956,95.82836063513258,96.74224151048709,98.55311939148372,97.67333592254433,98.74441662954519,97.77610992859842,97.1444763925397,96.31704190547622,97.49814496453514,97.83251193589557,98.30029510483844,91.59073570482424,91.35552202603333,90.50109554408813,91.90244030146371,91.72590129803137,90.23536503224928,88.67111996353253,88.12839961709577,86.9531657336497,86.68436659613434,87.80423675490184,88.76344878142991,86.78634881783934,89.60836196044977,89.77973360190471,90.7167629596839,91.0344378558183,92.42756120347185,93.3427109048706,92.15831327094962,91.79861846073365,91.71002381728199,92.31867581328869,91.64213502673537,91.76051093360243,91.73787062920098,89.99763496640215,88.11092564830648,90.13588899291848,89.97465631127733,90.99828121440174,91.42812496177449,91.22715683869698,91.0419357616949,88.712186005583,90.39229653789033,90.58667212050446,89.40063854338369,89.45565152117649,89.91137567621487,89.51888161149485,90.49173530588833,90.22124144809557,89.11723041944542,89.4549542948779,89.75478164494974,89.41468006580779,91.0959096420867,92.68490011995189,92.38043931003787,92.66353721642716,92.32154055584611,93.68400209751074,94.54310038415993,93.96356572857361,93.80576437878682,91.73912902641034,92.19683708621939,91.52233376510576,93.00379561315235,92.82515077493878,93.50548115656541,95.10001339950321,95.11436947152765,92.73104664389527,92.04884122762796,92.28233968640554,74.05915947074423,75.11232259053293,74.8233355560095,73.87368821728082,74.09905908679801,71.70265216318303,70.42677343909679,71.48556064014646,71.83272795697059,71.93927019618471,69.7064672245383,71.35322766137106,71.42550158665439,70.96831243470506,71.08552545840243,73.32734624695911,71.78924042512638,69.73677601515516,69.84051709612532,71.0847540187318,71.91809214853772,72.80046742166893,73.21452316201345,72.36332145267679,72.41480596550714,69.9976886757551,70.95980794851408,71.09186501352767,72.62398479981572,72.7674334532028,73.01889201793237,76.76780951450458,76.83634344370175,80.75854786790677,81.41148389888392,81.57448110719982,81.78886731686535,82.23861809554047,81.67147169587976,82.26434746059888,82.5237485988106,83.46491046697489,81.33477749502931,81.36580609356322,81.47174682167382,80.03868143727044,79.63767061666111,79.52881756457487,79.2589912918891,78.21146033766973,76.80212048280694,77.10185441483861,77.09103779248167,77.68415962877133,78.46107785776404,79.28013011306271,79.55616026686177,79.62430801339164,85.02591634518674,84.69381954474396,86.09623170919778,86.38864131597106,88.03314561004487,87.7896885898098,87.09770825648452,87.5168975862408,81.86921525809196,80.79022555420607,80.78688351276136,79.6440724486785,79.05595927076335,81.23515769580605,80.52576277573404,81.00262783955169,80.06253545158866,80.91576475858237,82.3823811379216,82.08688209852158,81.55848385863978,80.09783793762459,80.07155146108823,78.57886100016461,77.94470797005346,77.3106562165472,77.81950731386117,76.89951955589211,75.38315314623637,75.72325932226487,76.80535714904163,75.91014371888805,76.64086642022203,74.18804148537835,74.54048420417337,74.69010217118944,75.24188378107034,75.45143883184707,75.19441038187954,74.47995062907698,75.36403105164368,73.65478590366673,72.62721697893059,72.07599638831955,73.92053025995745,75.96202009507601,78.02588691739116,76.2172340456929,77.163455029875,77.32179577245797,78.27583602775456,77.85042926763207,77.53851613154472,77.6326277588581,77.96612203591636,76.808838277606,75.79337493002343,77.98897936660612,76.93950501912123,76.51701724820002,76.15029283770461,77.23585233590622,75.87488432989463,76.34397864110711,75.93171236261462,75.95758884155731,75.85175088118396,76.0518988332041,75.56988012767481,73.74550869006022,74.89245810344615,72.68482148862017,72.66553848380667,71.0136401860287,71.46843919365081,70.26903016216794,70.55603914524148,71.07942727730097,70.45047183491904,70.22327387817924,70.24854055075313,70.10954537657246,72.16479786866728,73.30125951421302,73.26958692846085,72.88885188750474,74.54469152196363,73.6174694131388,75.6314338596864,77.36129588265689,76.08584592560335,75.6333587158028,75.9249931734499,73.61822254786043,71.09107438617312,67.80055152360052,70.23666742917722,70.36854064151477,71.55762879876102,72.21879453086679,72.28509319978185,76.74423560527845,75.83185474686377,76.31434518215583,75.43588823005472,79.53496175597921,80.44564425411987,80.53802621065965,78.82720903617066,78.77723262966629,77.6919897251053,76.97533497886505,77.21705381188539,77.1894587723916,78.13351898401683,75.75494796989086,73.96139814141891,72.8337396510704,72.45760473262926,70.92761252603462,73.45214085887201,72.58071331625769,72.72745737235864,71.25663879965134,67.6264178454002,66.98003907695815,66.009466010439,65.49371501709524,65.14138995869574,63.15607242003478,62.82222012870309,64.53922956029449,64.32125918235634,55.48270333631173,56.86287078760954,55.32715737862965,53.177657913086634,58.56478943347101,54.35646387185911,53.88742686791432,55.12539050613633,54.411284585144514,53.24929150278585,55.38421864568337,55.632364264863284,56.816583072484136,56.80911153653211,58.284377823761886,57.0262706691634,57.17229908037542,56.94483691900009,56.22119516955711,56.26980562052816,58.21637951947053,56.980621324315244,56.649911703177075,58.27145427390042,58.387519090516456,58.084090701021445,61.92039332225336,62.08877985778326,61.252896467178495,62.03983247649234,62.634985000147125,61.694334551432746,62.17984000729653,59.55103268021153,61.03581621882157,59.45671907711144,62.58714327174823,61.11875160818619,61.330714155243086,59.93952968577466,61.78530352064232,62.137929031348946,62.9102338372119,62.58554977861873,62.81436513134947,61.9765115937408,63.73324872912042,63.242252796549295,62.668495590044856,60.73481828173765,61.741342177551275,60.13632050684656,59.474807092012256,59.80441628522665,60.766831175600544,61.35612973355697,60.91073539060244,62.42641335108601,71.9341692711225],\"type\":\"scatter\"},{\"line\":{\"color\":\"red\"},\"mode\":\"lines\",\"name\":\"Actual Price\",\"x\":[\"2023-12-07T00:00:00\",\"2023-12-08T00:00:00\",\"2023-12-11T00:00:00\",\"2023-12-12T00:00:00\",\"2023-12-13T00:00:00\",\"2023-12-14T00:00:00\",\"2023-12-15T00:00:00\",\"2023-12-18T00:00:00\",\"2023-12-19T00:00:00\",\"2023-12-20T00:00:00\",\"2023-12-21T00:00:00\",\"2023-12-22T00:00:00\",\"2023-12-26T00:00:00\",\"2023-12-27T00:00:00\",\"2023-12-28T00:00:00\",\"2023-12-29T00:00:00\",\"2024-01-02T00:00:00\",\"2024-01-03T00:00:00\",\"2024-01-04T00:00:00\",\"2024-01-05T00:00:00\",\"2024-01-08T00:00:00\",\"2024-01-09T00:00:00\",\"2024-01-10T00:00:00\",\"2024-01-11T00:00:00\",\"2024-01-12T00:00:00\",\"2024-01-16T00:00:00\",\"2024-01-17T00:00:00\",\"2024-01-18T00:00:00\",\"2024-01-19T00:00:00\",\"2024-01-22T00:00:00\",\"2024-01-23T00:00:00\",\"2024-01-24T00:00:00\",\"2024-01-25T00:00:00\",\"2024-01-26T00:00:00\",\"2024-01-29T00:00:00\",\"2024-01-30T00:00:00\",\"2024-01-31T00:00:00\",\"2024-02-01T00:00:00\",\"2024-02-02T00:00:00\",\"2024-02-05T00:00:00\",\"2024-02-06T00:00:00\",\"2024-02-07T00:00:00\",\"2024-02-08T00:00:00\",\"2024-02-09T00:00:00\",\"2024-02-12T00:00:00\",\"2024-02-13T00:00:00\",\"2024-02-14T00:00:00\",\"2024-02-15T00:00:00\",\"2024-02-16T00:00:00\",\"2024-02-20T00:00:00\",\"2024-02-21T00:00:00\",\"2024-02-22T00:00:00\",\"2024-02-23T00:00:00\",\"2024-02-26T00:00:00\",\"2024-02-27T00:00:00\",\"2024-02-28T00:00:00\",\"2024-02-29T00:00:00\",\"2024-03-01T00:00:00\",\"2024-03-04T00:00:00\",\"2024-03-05T00:00:00\",\"2024-03-06T00:00:00\",\"2024-03-07T00:00:00\",\"2024-03-08T00:00:00\",\"2024-03-11T00:00:00\",\"2024-03-12T00:00:00\",\"2024-03-13T00:00:00\",\"2024-03-14T00:00:00\",\"2024-03-15T00:00:00\",\"2024-03-18T00:00:00\",\"2024-03-19T00:00:00\",\"2024-03-20T00:00:00\",\"2024-03-21T00:00:00\",\"2024-03-22T00:00:00\",\"2024-03-25T00:00:00\",\"2024-03-26T00:00:00\",\"2024-03-27T00:00:00\",\"2024-03-28T00:00:00\",\"2024-04-01T00:00:00\",\"2024-04-02T00:00:00\",\"2024-04-03T00:00:00\",\"2024-04-04T00:00:00\",\"2024-04-05T00:00:00\",\"2024-04-08T00:00:00\",\"2024-04-09T00:00:00\",\"2024-04-10T00:00:00\",\"2024-04-11T00:00:00\",\"2024-04-12T00:00:00\",\"2024-04-15T00:00:00\",\"2024-04-16T00:00:00\",\"2024-04-17T00:00:00\",\"2024-04-18T00:00:00\",\"2024-04-19T00:00:00\",\"2024-04-22T00:00:00\",\"2024-04-23T00:00:00\",\"2024-04-24T00:00:00\",\"2024-04-25T00:00:00\",\"2024-04-26T00:00:00\",\"2024-04-29T00:00:00\",\"2024-04-30T00:00:00\",\"2024-05-01T00:00:00\",\"2024-05-02T00:00:00\",\"2024-05-03T00:00:00\",\"2024-05-06T00:00:00\",\"2024-05-07T00:00:00\",\"2024-05-08T00:00:00\",\"2024-05-09T00:00:00\",\"2024-05-10T00:00:00\",\"2024-05-13T00:00:00\",\"2024-05-14T00:00:00\",\"2024-05-15T00:00:00\",\"2024-05-16T00:00:00\",\"2024-05-17T00:00:00\",\"2024-05-20T00:00:00\",\"2024-05-21T00:00:00\",\"2024-05-22T00:00:00\",\"2024-05-23T00:00:00\",\"2024-05-24T00:00:00\",\"2024-05-28T00:00:00\",\"2024-05-29T00:00:00\",\"2024-05-30T00:00:00\",\"2024-05-31T00:00:00\",\"2024-06-03T00:00:00\",\"2024-06-04T00:00:00\",\"2024-06-05T00:00:00\",\"2024-06-06T00:00:00\",\"2024-06-07T00:00:00\",\"2024-06-10T00:00:00\",\"2024-06-11T00:00:00\",\"2024-06-12T00:00:00\",\"2024-06-13T00:00:00\",\"2024-06-14T00:00:00\",\"2024-06-17T00:00:00\",\"2024-06-18T00:00:00\",\"2024-06-20T00:00:00\",\"2024-06-21T00:00:00\",\"2024-06-24T00:00:00\",\"2024-06-25T00:00:00\",\"2024-06-26T00:00:00\",\"2024-06-27T00:00:00\",\"2024-06-28T00:00:00\",\"2024-07-01T00:00:00\",\"2024-07-02T00:00:00\",\"2024-07-03T00:00:00\",\"2024-07-05T00:00:00\",\"2024-07-08T00:00:00\",\"2024-07-09T00:00:00\",\"2024-07-10T00:00:00\",\"2024-07-11T00:00:00\",\"2024-07-12T00:00:00\",\"2024-07-15T00:00:00\",\"2024-07-16T00:00:00\",\"2024-07-17T00:00:00\",\"2024-07-18T00:00:00\",\"2024-07-19T00:00:00\",\"2024-07-22T00:00:00\",\"2024-07-23T00:00:00\",\"2024-07-24T00:00:00\",\"2024-07-25T00:00:00\",\"2024-07-26T00:00:00\",\"2024-07-29T00:00:00\",\"2024-07-30T00:00:00\",\"2024-07-31T00:00:00\",\"2024-08-01T00:00:00\",\"2024-08-02T00:00:00\",\"2024-08-05T00:00:00\",\"2024-08-06T00:00:00\",\"2024-08-07T00:00:00\",\"2024-08-08T00:00:00\",\"2024-08-09T00:00:00\",\"2024-08-12T00:00:00\",\"2024-08-13T00:00:00\",\"2024-08-14T00:00:00\",\"2024-08-15T00:00:00\",\"2024-08-16T00:00:00\",\"2024-08-19T00:00:00\",\"2024-08-20T00:00:00\",\"2024-08-21T00:00:00\",\"2024-08-22T00:00:00\",\"2024-08-23T00:00:00\",\"2024-08-26T00:00:00\",\"2024-08-27T00:00:00\",\"2024-08-28T00:00:00\",\"2024-08-29T00:00:00\",\"2024-08-30T00:00:00\",\"2024-09-03T00:00:00\",\"2024-09-04T00:00:00\",\"2024-09-05T00:00:00\",\"2024-09-06T00:00:00\",\"2024-09-09T00:00:00\",\"2024-09-10T00:00:00\",\"2024-09-11T00:00:00\",\"2024-09-12T00:00:00\",\"2024-09-13T00:00:00\",\"2024-09-16T00:00:00\",\"2024-09-17T00:00:00\",\"2024-09-18T00:00:00\",\"2024-09-19T00:00:00\",\"2024-09-20T00:00:00\",\"2024-09-23T00:00:00\",\"2024-09-24T00:00:00\",\"2024-09-25T00:00:00\",\"2024-09-26T00:00:00\",\"2024-09-27T00:00:00\",\"2024-09-30T00:00:00\",\"2024-10-01T00:00:00\",\"2024-10-02T00:00:00\",\"2024-10-03T00:00:00\",\"2024-10-04T00:00:00\",\"2024-10-07T00:00:00\",\"2024-10-08T00:00:00\",\"2024-10-09T00:00:00\",\"2024-10-10T00:00:00\",\"2024-10-11T00:00:00\",\"2024-10-14T00:00:00\",\"2024-10-15T00:00:00\",\"2024-10-16T00:00:00\",\"2024-10-17T00:00:00\",\"2024-10-18T00:00:00\",\"2024-10-21T00:00:00\",\"2024-10-22T00:00:00\",\"2024-10-23T00:00:00\",\"2024-10-24T00:00:00\",\"2024-10-25T00:00:00\",\"2024-10-28T00:00:00\",\"2024-10-29T00:00:00\",\"2024-10-30T00:00:00\",\"2024-10-31T00:00:00\",\"2024-11-01T00:00:00\",\"2024-11-04T00:00:00\",\"2024-11-05T00:00:00\",\"2024-11-06T00:00:00\",\"2024-11-07T00:00:00\",\"2024-11-08T00:00:00\",\"2024-11-11T00:00:00\",\"2024-11-12T00:00:00\",\"2024-11-13T00:00:00\",\"2024-11-14T00:00:00\",\"2024-11-15T00:00:00\",\"2024-11-18T00:00:00\",\"2024-11-19T00:00:00\",\"2024-11-20T00:00:00\",\"2024-11-21T00:00:00\",\"2024-11-22T00:00:00\",\"2024-11-25T00:00:00\",\"2024-11-26T00:00:00\",\"2024-11-27T00:00:00\",\"2024-11-29T00:00:00\",\"2024-12-02T00:00:00\",\"2024-12-03T00:00:00\",\"2024-12-04T00:00:00\",\"2024-12-05T00:00:00\",\"2024-12-06T00:00:00\",\"2024-12-09T00:00:00\",\"2024-12-10T00:00:00\",\"2024-12-11T00:00:00\",\"2024-12-12T00:00:00\",\"2024-12-13T00:00:00\",\"2024-12-16T00:00:00\",\"2024-12-17T00:00:00\",\"2024-12-18T00:00:00\",\"2024-12-19T00:00:00\",\"2024-12-20T00:00:00\",\"2024-12-23T00:00:00\",\"2024-12-24T00:00:00\",\"2024-12-26T00:00:00\",\"2024-12-27T00:00:00\",\"2024-12-30T00:00:00\",\"2024-12-31T00:00:00\",\"2025-01-02T00:00:00\",\"2025-01-03T00:00:00\",\"2025-01-06T00:00:00\",\"2025-01-07T00:00:00\",\"2025-01-08T00:00:00\",\"2025-01-10T00:00:00\",\"2025-01-13T00:00:00\",\"2025-01-14T00:00:00\",\"2025-01-15T00:00:00\",\"2025-01-16T00:00:00\",\"2025-01-17T00:00:00\",\"2025-01-21T00:00:00\",\"2025-01-22T00:00:00\",\"2025-01-23T00:00:00\",\"2025-01-24T00:00:00\",\"2025-01-27T00:00:00\",\"2025-01-28T00:00:00\",\"2025-01-29T00:00:00\",\"2025-01-30T00:00:00\",\"2025-01-31T00:00:00\",\"2025-02-03T00:00:00\",\"2025-02-04T00:00:00\",\"2025-02-05T00:00:00\",\"2025-02-06T00:00:00\",\"2025-02-07T00:00:00\",\"2025-02-10T00:00:00\",\"2025-02-11T00:00:00\",\"2025-02-12T00:00:00\",\"2025-02-13T00:00:00\",\"2025-02-14T00:00:00\",\"2025-02-18T00:00:00\",\"2025-02-19T00:00:00\",\"2025-02-20T00:00:00\",\"2025-02-21T00:00:00\",\"2025-02-24T00:00:00\",\"2025-02-25T00:00:00\",\"2025-02-26T00:00:00\",\"2025-02-27T00:00:00\",\"2025-02-28T00:00:00\",\"2025-03-03T00:00:00\",\"2025-03-04T00:00:00\",\"2025-03-05T00:00:00\",\"2025-03-06T00:00:00\",\"2025-03-07T00:00:00\",\"2025-03-10T00:00:00\",\"2025-03-11T00:00:00\",\"2025-03-12T00:00:00\",\"2025-03-13T00:00:00\",\"2025-03-14T00:00:00\",\"2025-03-17T00:00:00\",\"2025-03-18T00:00:00\",\"2025-03-19T00:00:00\",\"2025-03-20T00:00:00\",\"2025-03-21T00:00:00\",\"2025-03-24T00:00:00\",\"2025-03-25T00:00:00\",\"2025-03-26T00:00:00\",\"2025-03-27T00:00:00\",\"2025-03-28T00:00:00\",\"2025-03-31T00:00:00\",\"2025-04-01T00:00:00\",\"2025-04-02T00:00:00\",\"2025-04-03T00:00:00\",\"2025-04-04T00:00:00\",\"2025-04-07T00:00:00\",\"2025-04-08T00:00:00\",\"2025-04-09T00:00:00\",\"2025-04-10T00:00:00\",\"2025-04-11T00:00:00\",\"2025-04-14T00:00:00\",\"2025-04-15T00:00:00\",\"2025-04-16T00:00:00\",\"2025-04-17T00:00:00\",\"2025-04-21T00:00:00\",\"2025-04-22T00:00:00\",\"2025-04-23T00:00:00\",\"2025-04-24T00:00:00\",\"2025-04-25T00:00:00\",\"2025-04-28T00:00:00\",\"2025-04-29T00:00:00\",\"2025-04-30T00:00:00\",\"2025-05-01T00:00:00\",\"2025-05-02T00:00:00\",\"2025-05-05T00:00:00\",\"2025-05-06T00:00:00\",\"2025-05-07T00:00:00\",\"2025-05-08T00:00:00\",\"2025-05-09T00:00:00\",\"2025-05-12T00:00:00\",\"2025-05-13T00:00:00\",\"2025-05-14T00:00:00\",\"2025-05-15T00:00:00\",\"2025-05-16T00:00:00\",\"2025-05-19T00:00:00\",\"2025-05-20T00:00:00\",\"2025-05-21T00:00:00\",\"2025-05-22T00:00:00\",\"2025-05-23T00:00:00\",\"2025-05-27T00:00:00\",\"2025-05-28T00:00:00\",\"2025-05-29T00:00:00\",\"2025-05-30T00:00:00\",\"2025-06-02T00:00:00\",\"2025-06-03T00:00:00\",\"2025-06-04T00:00:00\",\"2025-06-05T00:00:00\",\"2025-06-06T00:00:00\",\"2025-06-09T00:00:00\",\"2025-06-10T00:00:00\",\"2025-06-11T00:00:00\",\"2025-06-12T00:00:00\",\"2025-06-13T00:00:00\",\"2025-06-16T00:00:00\",\"2025-06-17T00:00:00\",\"2025-06-18T00:00:00\",\"2025-06-20T00:00:00\",\"2025-06-23T00:00:00\",\"2025-06-24T00:00:00\",\"2025-06-25T00:00:00\",\"2025-06-26T00:00:00\",\"2025-06-27T00:00:00\",\"2025-06-30T00:00:00\"],\"y\":[111.56395721435547,112.63286590576172,115.25652313232422,116.25740051269531,117.744140625,117.59837341308594,118.1134033203125,117.7149887084961,119.17257690429688,117.99679565429688,119.06568908691406,104.98536682128906,104.96592712402344,104.1010971069336,105.7433090209961,105.5003890991211,103.5374984741211,101.09846496582031,99.40766906738281,99.19387817382812,100.69033813476562,99.835205078125,100.83609771728516,102.90586853027344,102.08961486816406,98.84406280517578,97.9695053100586,98.08611297607422,98.9023666381836,97.71685028076172,99.01896667480469,97.91119384765625,97.92090606689453,99.84493255615234,100.94297790527344,101.23448944091797,98.65941619873047,98.88292694091797,97.86260986328125,96.86172485351562,99.7088851928711,100.85552978515625,100.83609771728516,101.54544830322266,104.14968872070312,102.03131103515625,103.32371520996094,103.0516357421875,100.58345031738281,100.37937927246094,102.29368591308594,102.10906219482422,102.64350128173828,101.58433532714844,102.17707824707031,101.39971160888672,100.99156951904297,99.35323333740234,97.07127380371094,95.87176513671875,95.20863342285156,95.7547607421875,96.70069885253906,98.57308197021484,97.69538879394531,98.84613800048828,97.77340698242188,97.16878509521484,96.29110717773438,97.48085021972656,97.78316497802734,98.31952667236328,91.53214263916016,91.42486572265625,90.28388214111328,91.79544830322266,91.649169921875,90.26437377929688,88.6943130493164,88.08969116210938,86.8609390258789,86.63664245605469,87.76787567138672,88.74307250976562,86.79268646240234,89.71827697753906,89.71827697753906,90.79098510742188,91.07380676269531,92.48783874511719,93.36551666259766,92.1855239868164,91.85395050048828,91.68815612792969,92.29280090332031,91.61016082763672,91.78569030761719,91.72718048095703,89.9718246459961,88.09944152832031,90.11811065673828,89.86455535888672,91.04454040527344,91.4541244506836,91.26884460449219,91.07380676269531,88.6845703125,90.42041778564453,90.48868560791016,89.3964614868164,89.49397277832031,89.89380645751953,89.49397277832031,90.51792907714844,90.20587158203125,89.1331558227539,89.47447204589844,89.71827697753906,89.3964614868164,91.1323013305664,92.69263458251953,92.41850280761719,92.7513656616211,92.34017944335938,93.71080017089844,94.52337646484375,93.98492431640625,93.85765075683594,91.71361541748047,92.20310974121094,91.4297103881836,93.00590515136719,92.79052734375,93.56394958496094,95.14015197753906,95.13035583496094,92.76115417480469,92.08563995361328,92.21292114257812,73.78794860839844,75.21730041503906,74.44387817382812,73.66067504882812,73.84668731689453,71.51664733886719,70.93902587890625,71.01736450195312,71.8495101928711,71.8788833618164,69.81317138671875,71.28168487548828,71.53622436523438,70.86070251464844,71.17398834228516,73.28865814208984,71.85929870605469,69.59779357910156,69.91107177734375,71.03693389892578,72.00616455078125,72.7599868774414,73.28865814208984,72.29985809326172,72.45649719238281,69.92086029052734,70.97819519042969,71.09568786621094,72.63272094726562,72.7795639038086,73.07328033447266,76.85225677490234,76.871826171875,80.76829528808594,81.48297119140625,81.53190612792969,81.80603790283203,82.23680114746094,81.65918731689453,82.28575897216797,82.51092529296875,83.4997329711914,81.05220031738281,81.51234436035156,81.57107543945312,79.96817779541016,79.67316436767578,79.486328125,79.28964233398438,78.16859436035156,76.79186248779297,77.09671783447266,77.09671783447266,77.69657135009766,78.47344207763672,79.29947662353516,79.5551528930664,79.63382720947266,85.08172607421875,84.76705169677734,86.006103515625,86.5371322631836,87.90402221679688,87.95319366455078,86.93048095703125,87.64834594726562,81.71858215332031,80.7352066040039,80.8827133178711,79.486328125,79.42731475830078,81.07939147949219,80.7352066040039,80.78437042236328,80.24352264404297,80.75487518310547,82.54462432861328,82.01359558105469,81.54157257080078,80.1255111694336,80.06651306152344,78.71928405761719,77.72607421875,77.53923034667969,77.5982437133789,77.09671783447266,75.17912292480469,75.84782409667969,76.76236724853516,75.90682983398438,76.68370056152344,74.06790924072266,74.65794372558594,74.61860656738281,75.3266372680664,75.38565063476562,75.24796295166016,74.42192840576172,75.38565063476562,73.64506530761719,72.68135833740234,72.1405029296875,73.85157775878906,76.11334228515625,77.94242095947266,76.3198471069336,77.03770446777344,77.46055603027344,78.17220306396484,77.94487762451172,77.46056365966797,77.66812896728516,77.97452545166016,76.7390365600586,75.84947967529297,77.93499755859375,77.0553207397461,76.35356140136719,76.30413818359375,77.09485626220703,76.00762176513672,76.2052993774414,76.04715728759766,75.86924743652344,75.89889526367188,76.04715728759766,75.53318786621094,73.78373718261719,74.7918930053711,72.81510162353516,72.45928192138672,71.16448211669922,71.25343322753906,70.46272277832031,70.37376403808594,71.24356079101562,70.34410858154297,70.24527740478516,70.2848129272461,70.0179443359375,72.32090759277344,73.18081665039062,73.42791748046875,72.71627044677734,74.70294189453125,73.52674865722656,75.69133758544922,77.42103576660156,76.00762176513672,75.70121765136719,75.8297119140625,73.70465850830078,70.90750122070312,67.88301086425781,70.11678314208984,70.51213836669922,71.42147064208984,72.36044311523438,72.19241333007812,76.68961334228516,75.8890151977539,76.33380126953125,75.61226654052734,79.34839630126953,80.77169036865234,80.22806549072266,79.0914077758789,78.50826263427734,77.8923568725586,76.80955505371094,77.29631805419922,77.19697570800781,78.0711669921875,75.8956298828125,73.68034362792969,73.09424591064453,72.16044616699219,71.18692016601562,73.21344757080078,72.8260269165039,72.50813293457031,71.3855972290039,67.4914779663086,66.94510650634766,66.10072326660156,65.30599975585938,65.36560821533203,62.87217712402344,63.06092071533203,64.33247375488281,64.5311508178711,55.213077545166016,56.87205123901367,55.24287796020508,52.9183235168457,58.928382873535156,54.04086685180664,54.03092956542969,55.04419708251953,54.4680290222168,53.196475982666016,55.391883850097656,55.749507904052734,56.68330383300781,57.01112365722656,58.093929290771484,57.23960494995117,56.93165588378906,57.16013717651367,56.02766418457031,56.385284423828125,58.20320510864258,56.97138977050781,56.66343688964844,58.23300552368164,58.52109146118164,57.91511535644531,62.16686248779297,61.97811508178711,61.322471618652344,61.98805236816406,62.693363189697266,61.670166015625,62.146995544433594,59.58402633666992,60.91518020629883,59.62376403808594,62.41521453857422,61.37214279174805,61.034385681152344,60.189998626708984,61.56999969482422,62.369998931884766,62.77000045776367,62.66999816894531,62.79999923706055,61.90999984741211,63.869998931884766,63.11000061035156,62.79999923706055,60.529998779296875,61.900001525878906,60.0,59.5099983215332,59.790000915527344,60.779998779296875,61.41999816894531,60.83000183105469,62.540000915527344,72.04000091552734,71.04000091552734],\"type\":\"scatter\"}],                        {\"template\":{\"data\":{\"barpolar\":[{\"marker\":{\"line\":{\"color\":\"white\",\"width\":0.5},\"pattern\":{\"fillmode\":\"overlay\",\"size\":10,\"solidity\":0.2}},\"type\":\"barpolar\"}],\"bar\":[{\"error_x\":{\"color\":\"#2a3f5f\"},\"error_y\":{\"color\":\"#2a3f5f\"},\"marker\":{\"line\":{\"color\":\"white\",\"width\":0.5},\"pattern\":{\"fillmode\":\"overlay\",\"size\":10,\"solidity\":0.2}},\"type\":\"bar\"}],\"carpet\":[{\"aaxis\":{\"endlinecolor\":\"#2a3f5f\",\"gridcolor\":\"#C8D4E3\",\"linecolor\":\"#C8D4E3\",\"minorgridcolor\":\"#C8D4E3\",\"startlinecolor\":\"#2a3f5f\"},\"baxis\":{\"endlinecolor\":\"#2a3f5f\",\"gridcolor\":\"#C8D4E3\",\"linecolor\":\"#C8D4E3\",\"minorgridcolor\":\"#C8D4E3\",\"startlinecolor\":\"#2a3f5f\"},\"type\":\"carpet\"}],\"choropleth\":[{\"colorbar\":{\"outlinewidth\":0,\"ticks\":\"\"},\"type\":\"choropleth\"}],\"contourcarpet\":[{\"colorbar\":{\"outlinewidth\":0,\"ticks\":\"\"},\"type\":\"contourcarpet\"}],\"contour\":[{\"colorbar\":{\"outlinewidth\":0,\"ticks\":\"\"},\"colorscale\":[[0.0,\"#0d0887\"],[0.1111111111111111,\"#46039f\"],[0.2222222222222222,\"#7201a8\"],[0.3333333333333333,\"#9c179e\"],[0.4444444444444444,\"#bd3786\"],[0.5555555555555556,\"#d8576b\"],[0.6666666666666666,\"#ed7953\"],[0.7777777777777778,\"#fb9f3a\"],[0.8888888888888888,\"#fdca26\"],[1.0,\"#f0f921\"]],\"type\":\"contour\"}],\"heatmapgl\":[{\"colorbar\":{\"outlinewidth\":0,\"ticks\":\"\"},\"colorscale\":[[0.0,\"#0d0887\"],[0.1111111111111111,\"#46039f\"],[0.2222222222222222,\"#7201a8\"],[0.3333333333333333,\"#9c179e\"],[0.4444444444444444,\"#bd3786\"],[0.5555555555555556,\"#d8576b\"],[0.6666666666666666,\"#ed7953\"],[0.7777777777777778,\"#fb9f3a\"],[0.8888888888888888,\"#fdca26\"],[1.0,\"#f0f921\"]],\"type\":\"heatmapgl\"}],\"heatmap\":[{\"colorbar\":{\"outlinewidth\":0,\"ticks\":\"\"},\"colorscale\":[[0.0,\"#0d0887\"],[0.1111111111111111,\"#46039f\"],[0.2222222222222222,\"#7201a8\"],[0.3333333333333333,\"#9c179e\"],[0.4444444444444444,\"#bd3786\"],[0.5555555555555556,\"#d8576b\"],[0.6666666666666666,\"#ed7953\"],[0.7777777777777778,\"#fb9f3a\"],[0.8888888888888888,\"#fdca26\"],[1.0,\"#f0f921\"]],\"type\":\"heatmap\"}],\"histogram2dcontour\":[{\"colorbar\":{\"outlinewidth\":0,\"ticks\":\"\"},\"colorscale\":[[0.0,\"#0d0887\"],[0.1111111111111111,\"#46039f\"],[0.2222222222222222,\"#7201a8\"],[0.3333333333333333,\"#9c179e\"],[0.4444444444444444,\"#bd3786\"],[0.5555555555555556,\"#d8576b\"],[0.6666666666666666,\"#ed7953\"],[0.7777777777777778,\"#fb9f3a\"],[0.8888888888888888,\"#fdca26\"],[1.0,\"#f0f921\"]],\"type\":\"histogram2dcontour\"}],\"histogram2d\":[{\"colorbar\":{\"outlinewidth\":0,\"ticks\":\"\"},\"colorscale\":[[0.0,\"#0d0887\"],[0.1111111111111111,\"#46039f\"],[0.2222222222222222,\"#7201a8\"],[0.3333333333333333,\"#9c179e\"],[0.4444444444444444,\"#bd3786\"],[0.5555555555555556,\"#d8576b\"],[0.6666666666666666,\"#ed7953\"],[0.7777777777777778,\"#fb9f3a\"],[0.8888888888888888,\"#fdca26\"],[1.0,\"#f0f921\"]],\"type\":\"histogram2d\"}],\"histogram\":[{\"marker\":{\"pattern\":{\"fillmode\":\"overlay\",\"size\":10,\"solidity\":0.2}},\"type\":\"histogram\"}],\"mesh3d\":[{\"colorbar\":{\"outlinewidth\":0,\"ticks\":\"\"},\"type\":\"mesh3d\"}],\"parcoords\":[{\"line\":{\"colorbar\":{\"outlinewidth\":0,\"ticks\":\"\"}},\"type\":\"parcoords\"}],\"pie\":[{\"automargin\":true,\"type\":\"pie\"}],\"scatter3d\":[{\"line\":{\"colorbar\":{\"outlinewidth\":0,\"ticks\":\"\"}},\"marker\":{\"colorbar\":{\"outlinewidth\":0,\"ticks\":\"\"}},\"type\":\"scatter3d\"}],\"scattercarpet\":[{\"marker\":{\"colorbar\":{\"outlinewidth\":0,\"ticks\":\"\"}},\"type\":\"scattercarpet\"}],\"scattergeo\":[{\"marker\":{\"colorbar\":{\"outlinewidth\":0,\"ticks\":\"\"}},\"type\":\"scattergeo\"}],\"scattergl\":[{\"marker\":{\"colorbar\":{\"outlinewidth\":0,\"ticks\":\"\"}},\"type\":\"scattergl\"}],\"scattermapbox\":[{\"marker\":{\"colorbar\":{\"outlinewidth\":0,\"ticks\":\"\"}},\"type\":\"scattermapbox\"}],\"scatterpolargl\":[{\"marker\":{\"colorbar\":{\"outlinewidth\":0,\"ticks\":\"\"}},\"type\":\"scatterpolargl\"}],\"scatterpolar\":[{\"marker\":{\"colorbar\":{\"outlinewidth\":0,\"ticks\":\"\"}},\"type\":\"scatterpolar\"}],\"scatter\":[{\"fillpattern\":{\"fillmode\":\"overlay\",\"size\":10,\"solidity\":0.2},\"type\":\"scatter\"}],\"scatterternary\":[{\"marker\":{\"colorbar\":{\"outlinewidth\":0,\"ticks\":\"\"}},\"type\":\"scatterternary\"}],\"surface\":[{\"colorbar\":{\"outlinewidth\":0,\"ticks\":\"\"},\"colorscale\":[[0.0,\"#0d0887\"],[0.1111111111111111,\"#46039f\"],[0.2222222222222222,\"#7201a8\"],[0.3333333333333333,\"#9c179e\"],[0.4444444444444444,\"#bd3786\"],[0.5555555555555556,\"#d8576b\"],[0.6666666666666666,\"#ed7953\"],[0.7777777777777778,\"#fb9f3a\"],[0.8888888888888888,\"#fdca26\"],[1.0,\"#f0f921\"]],\"type\":\"surface\"}],\"table\":[{\"cells\":{\"fill\":{\"color\":\"#EBF0F8\"},\"line\":{\"color\":\"white\"}},\"header\":{\"fill\":{\"color\":\"#C8D4E3\"},\"line\":{\"color\":\"white\"}},\"type\":\"table\"}]},\"layout\":{\"annotationdefaults\":{\"arrowcolor\":\"#2a3f5f\",\"arrowhead\":0,\"arrowwidth\":1},\"autotypenumbers\":\"strict\",\"coloraxis\":{\"colorbar\":{\"outlinewidth\":0,\"ticks\":\"\"}},\"colorscale\":{\"diverging\":[[0,\"#8e0152\"],[0.1,\"#c51b7d\"],[0.2,\"#de77ae\"],[0.3,\"#f1b6da\"],[0.4,\"#fde0ef\"],[0.5,\"#f7f7f7\"],[0.6,\"#e6f5d0\"],[0.7,\"#b8e186\"],[0.8,\"#7fbc41\"],[0.9,\"#4d9221\"],[1,\"#276419\"]],\"sequential\":[[0.0,\"#0d0887\"],[0.1111111111111111,\"#46039f\"],[0.2222222222222222,\"#7201a8\"],[0.3333333333333333,\"#9c179e\"],[0.4444444444444444,\"#bd3786\"],[0.5555555555555556,\"#d8576b\"],[0.6666666666666666,\"#ed7953\"],[0.7777777777777778,\"#fb9f3a\"],[0.8888888888888888,\"#fdca26\"],[1.0,\"#f0f921\"]],\"sequentialminus\":[[0.0,\"#0d0887\"],[0.1111111111111111,\"#46039f\"],[0.2222222222222222,\"#7201a8\"],[0.3333333333333333,\"#9c179e\"],[0.4444444444444444,\"#bd3786\"],[0.5555555555555556,\"#d8576b\"],[0.6666666666666666,\"#ed7953\"],[0.7777777777777778,\"#fb9f3a\"],[0.8888888888888888,\"#fdca26\"],[1.0,\"#f0f921\"]]},\"colorway\":[\"#636efa\",\"#EF553B\",\"#00cc96\",\"#ab63fa\",\"#FFA15A\",\"#19d3f3\",\"#FF6692\",\"#B6E880\",\"#FF97FF\",\"#FECB52\"],\"font\":{\"color\":\"#2a3f5f\"},\"geo\":{\"bgcolor\":\"white\",\"lakecolor\":\"white\",\"landcolor\":\"white\",\"showlakes\":true,\"showland\":true,\"subunitcolor\":\"#C8D4E3\"},\"hoverlabel\":{\"align\":\"left\"},\"hovermode\":\"closest\",\"mapbox\":{\"style\":\"light\"},\"paper_bgcolor\":\"white\",\"plot_bgcolor\":\"white\",\"polar\":{\"angularaxis\":{\"gridcolor\":\"#EBF0F8\",\"linecolor\":\"#EBF0F8\",\"ticks\":\"\"},\"bgcolor\":\"white\",\"radialaxis\":{\"gridcolor\":\"#EBF0F8\",\"linecolor\":\"#EBF0F8\",\"ticks\":\"\"}},\"scene\":{\"xaxis\":{\"backgroundcolor\":\"white\",\"gridcolor\":\"#DFE8F3\",\"gridwidth\":2,\"linecolor\":\"#EBF0F8\",\"showbackground\":true,\"ticks\":\"\",\"zerolinecolor\":\"#EBF0F8\"},\"yaxis\":{\"backgroundcolor\":\"white\",\"gridcolor\":\"#DFE8F3\",\"gridwidth\":2,\"linecolor\":\"#EBF0F8\",\"showbackground\":true,\"ticks\":\"\",\"zerolinecolor\":\"#EBF0F8\"},\"zaxis\":{\"backgroundcolor\":\"white\",\"gridcolor\":\"#DFE8F3\",\"gridwidth\":2,\"linecolor\":\"#EBF0F8\",\"showbackground\":true,\"ticks\":\"\",\"zerolinecolor\":\"#EBF0F8\"}},\"shapedefaults\":{\"line\":{\"color\":\"#2a3f5f\"}},\"ternary\":{\"aaxis\":{\"gridcolor\":\"#DFE8F3\",\"linecolor\":\"#A2B1C6\",\"ticks\":\"\"},\"baxis\":{\"gridcolor\":\"#DFE8F3\",\"linecolor\":\"#A2B1C6\",\"ticks\":\"\"},\"bgcolor\":\"white\",\"caxis\":{\"gridcolor\":\"#DFE8F3\",\"linecolor\":\"#A2B1C6\",\"ticks\":\"\"}},\"title\":{\"x\":0.05},\"xaxis\":{\"automargin\":true,\"gridcolor\":\"#EBF0F8\",\"linecolor\":\"#EBF0F8\",\"ticks\":\"\",\"title\":{\"standoff\":15},\"zerolinecolor\":\"#EBF0F8\",\"zerolinewidth\":2},\"yaxis\":{\"automargin\":true,\"gridcolor\":\"#EBF0F8\",\"linecolor\":\"#EBF0F8\",\"ticks\":\"\",\"title\":{\"standoff\":15},\"zerolinecolor\":\"#EBF0F8\",\"zerolinewidth\":2}}},\"legend\":{\"x\":0,\"y\":1},\"title\":{\"text\":\"NKE Prices Prediction\"},\"xaxis\":{\"title\":{\"text\":\"Dates\"}},\"yaxis\":{\"title\":{\"text\":\"Prices\"}},\"width\":900,\"height\":500},                        {\"responsive\": true}                    ).then(function(){\n",
              "                            \n",
              "var gd = document.getElementById('8ebc83fc-2f57-4077-91ff-79c876447b26');\n",
              "var x = new MutationObserver(function (mutations, observer) {{\n",
              "        var display = window.getComputedStyle(gd).display;\n",
              "        if (!display || display === 'none') {{\n",
              "            console.log([gd, 'removed!']);\n",
              "            Plotly.purge(gd);\n",
              "            observer.disconnect();\n",
              "        }}\n",
              "}});\n",
              "\n",
              "// Listen for the removal of the full notebook cells\n",
              "var notebookContainer = gd.closest('#notebook-container');\n",
              "if (notebookContainer) {{\n",
              "    x.observe(notebookContainer, {childList: true});\n",
              "}}\n",
              "\n",
              "// Listen for the clearing of the current output cell\n",
              "var outputEl = gd.closest('.output');\n",
              "if (outputEl) {{\n",
              "    x.observe(outputEl, {childList: true});\n",
              "}}\n",
              "\n",
              "                        })                };                            </script>        </div>\n",
              "</body>\n",
              "</html>"
            ]
          },
          "metadata": {}
        }
      ]
    },
    {
      "cell_type": "markdown",
      "source": [
        "# JP Morgan and Chase"
      ],
      "metadata": {
        "id": "9tX1xT2BIISe"
      }
    },
    {
      "cell_type": "code",
      "source": [
        "df_JPM = df_JPM[['Date', 'Close']]\n",
        "\n",
        "# Clean 'Close' column: remove commas, convert to float\n",
        "df_JPM['Close'] = df_JPM['Close'].astype(str).str.replace(',', '', regex=False)\n",
        "df_JPM = df_JPM[df_JPM['Close'].str.replace('.', '', regex=False).str.isnumeric()]\n",
        "df_JPM['Close'] = df_JPM['Close'].astype(float)\n",
        "\n",
        "# Convert 'Date' to datetime format\n",
        "df_JPM['Date'] = pd.to_datetime(df_JPM['Date'])\n",
        "\n",
        "# Set 'Date' as index\n",
        "df_JPM.set_index('Date', inplace=True)\n",
        "\n",
        "# Display the cleaned DataFrame\n",
        "print(df_JPM.head())"
      ],
      "metadata": {
        "colab": {
          "base_uri": "https://localhost:8080/"
        },
        "id": "pKlRpiLG-TWq",
        "outputId": "2be8e268-b629-42d7-ac07-1fb366c65f5f"
      },
      "execution_count": null,
      "outputs": [
        {
          "output_type": "stream",
          "name": "stdout",
          "text": [
            "                Close\n",
            "Date                 \n",
            "2015-03-03  46.781708\n",
            "2015-03-04  46.902493\n",
            "2015-03-05  46.804356\n",
            "2015-03-06  45.966400\n",
            "2015-03-09  46.426895\n"
          ]
        },
        {
          "output_type": "stream",
          "name": "stderr",
          "text": [
            "/tmp/ipython-input-8-3487936654.py:4: SettingWithCopyWarning: \n",
            "A value is trying to be set on a copy of a slice from a DataFrame.\n",
            "Try using .loc[row_indexer,col_indexer] = value instead\n",
            "\n",
            "See the caveats in the documentation: https://pandas.pydata.org/pandas-docs/stable/user_guide/indexing.html#returning-a-view-versus-a-copy\n",
            "  df_JPM['Close'] = df_JPM['Close'].astype(str).str.replace(',', '', regex=False)\n"
          ]
        }
      ]
    },
    {
      "cell_type": "code",
      "source": [
        "#First-order differencing\n",
        "df_JPM.diff().plot(figsize=(10,5))\n",
        "plt.xlabel('Year')"
      ],
      "metadata": {
        "colab": {
          "base_uri": "https://localhost:8080/"
        },
        "id": "ajv7b0kVIk9s",
        "outputId": "3279e197-1c2a-4ec0-e9a4-d516a6d66821"
      },
      "execution_count": null,
      "outputs": [
        {
          "output_type": "execute_result",
          "data": {
            "text/plain": [
              "Text(0.5, 0, 'Year')"
            ]
          },
          "metadata": {},
          "execution_count": 22
        },
        {
          "output_type": "display_data",
          "data": {
            "text/plain": [
              "<Figure size 1000x500 with 1 Axes>"
            ],
            "image/png": "[encoded data removed]"
          },
          "metadata": {}
        }
      ]
    },
    {
      "cell_type": "code",
      "source": [
        "from pmdarima import auto_arima\n",
        "\n",
        "auto_model = auto_arima(df_JPM['Close'], seasonal=False, stepwise=True, trace=True)\n",
        "print(auto_model.summary())"
      ],
      "metadata": {
        "colab": {
          "base_uri": "https://localhost:8080/"
        },
        "id": "QhIb9BnwIuEO",
        "outputId": "9eb87f42-c82b-4246-b8b2-0c752b65ac7c"
      },
      "execution_count": null,
      "outputs": [
        {
          "output_type": "stream",
          "name": "stdout",
          "text": [
            "Performing stepwise search to minimize aic\n",
            " ARIMA(2,1,2)(0,0,0)[0] intercept   : AIC=11086.076, Time=5.74 sec\n",
            " ARIMA(0,1,0)(0,0,0)[0] intercept   : AIC=11104.710, Time=0.10 sec\n",
            " ARIMA(1,1,0)(0,0,0)[0] intercept   : AIC=11104.741, Time=0.19 sec\n",
            " ARIMA(0,1,1)(0,0,0)[0] intercept   : AIC=11104.982, Time=0.47 sec\n",
            " ARIMA(0,1,0)(0,0,0)[0]             : AIC=11108.116, Time=0.09 sec\n",
            " ARIMA(1,1,2)(0,0,0)[0] intercept   : AIC=11093.770, Time=1.38 sec\n",
            " ARIMA(2,1,1)(0,0,0)[0] intercept   : AIC=11095.475, Time=2.08 sec\n",
            " ARIMA(3,1,2)(0,0,0)[0] intercept   : AIC=11059.584, Time=6.04 sec\n",
            " ARIMA(3,1,1)(0,0,0)[0] intercept   : AIC=11094.794, Time=2.92 sec\n",
            " ARIMA(4,1,2)(0,0,0)[0] intercept   : AIC=11061.521, Time=6.09 sec\n",
            " ARIMA(3,1,3)(0,0,0)[0] intercept   : AIC=inf, Time=9.85 sec\n",
            " ARIMA(2,1,3)(0,0,0)[0] intercept   : AIC=11059.637, Time=4.00 sec\n",
            " ARIMA(4,1,1)(0,0,0)[0] intercept   : AIC=11064.205, Time=2.66 sec\n",
            " ARIMA(4,1,3)(0,0,0)[0] intercept   : AIC=11062.262, Time=9.25 sec\n",
            " ARIMA(3,1,2)(0,0,0)[0]             : AIC=11062.675, Time=2.63 sec\n",
            "\n",
            "Best model:  ARIMA(3,1,2)(0,0,0)[0] intercept\n",
            "Total fit time: 53.507 seconds\n",
            "                               SARIMAX Results                                \n",
            "==============================================================================\n",
            "Dep. Variable:                      y   No. Observations:                 2598\n",
            "Model:               SARIMAX(3, 1, 2)   Log Likelihood               -5522.792\n",
            "Date:                Wed, 02 Jul 2025   AIC                          11059.584\n",
            "Time:                        13:32:32   BIC                          11100.619\n",
            "Sample:                             0   HQIC                         11074.453\n",
            "                               - 2598                                         \n",
            "Covariance Type:                  opg                                         \n",
            "==============================================================================\n",
            "                 coef    std err          z      P>|z|      [0.025      0.975]\n",
            "------------------------------------------------------------------------------\n",
            "intercept      0.2823      0.126      2.241      0.025       0.035       0.529\n",
            "ar.L1         -1.5200      0.059    -25.922      0.000      -1.635      -1.405\n",
            "ar.L2         -0.5812      0.067     -8.685      0.000      -0.712      -0.450\n",
            "ar.L3          0.0818      0.013      6.174      0.000       0.056       0.108\n",
            "ma.L1          1.5089      0.059     25.781      0.000       1.394       1.624\n",
            "ma.L2          0.6271      0.059     10.580      0.000       0.511       0.743\n",
            "sigma2         4.1176      0.040    101.840      0.000       4.038       4.197\n",
            "===================================================================================\n",
            "Ljung-Box (L1) (Q):                   0.00   Jarque-Bera (JB):             37144.83\n",
            "Prob(Q):                              0.99   Prob(JB):                         0.00\n",
            "Heteroskedasticity (H):              10.46   Skew:                             0.10\n",
            "Prob(H) (two-sided):                  0.00   Kurtosis:                        21.53\n",
            "===================================================================================\n",
            "\n",
            "Warnings:\n",
            "[1] Covariance matrix calculated using the outer product of gradients (complex-step).\n"
          ]
        }
      ]
    },
    {
      "cell_type": "code",
      "source": [
        "train_data, test_data = df_JPM[0:int(len(df_JPM)*0.85)], df_JPM[int(len(df_JPM)*0.85):]"
      ],
      "metadata": {
        "id": "5dULqzYzWcHq"
      },
      "execution_count": null,
      "outputs": []
    },
    {
      "cell_type": "code",
      "source": [
        "import numpy as np\n",
        "import pandas as pd\n",
        "from statsmodels.tsa.arima.model import ARIMA\n",
        "from sklearn.metrics import mean_squared_error\n",
        "\n",
        "# Define SMAPE\n",
        "def smape_kun(y_true, y_pred):\n",
        "    y_true = np.array(y_true, dtype=float).flatten()\n",
        "    y_pred = np.array(y_pred, dtype=float).flatten()\n",
        "    return np.mean((np.abs(y_pred - y_true) * 200 / (np.abs(y_pred) + np.abs(y_true) + 1e-8)))\n",
        "\n",
        "# Ensure train_data and test_data are flat float arrays\n",
        "train_ar = np.array(train_data.values, dtype=float).flatten()\n",
        "test_ar = np.array(test_data.values, dtype=float).flatten()\n",
        "\n",
        "history = list(train_ar)\n",
        "predictions = []\n",
        "\n",
        "for t in range(len(test_ar)):\n",
        "    try:\n",
        "        model = ARIMA(history, order=(3,1,2))\n",
        "        model_fit = model.fit()\n",
        "        yhat = float(model_fit.forecast()[0])  # ensure scalar\n",
        "        predictions.append(yhat)\n",
        "        history.append(test_ar[t])\n",
        "    except Exception as e:\n",
        "        print(f\"Error at step {t}: {e}\")\n",
        "        predictions.append(history[-1])  # fallback prediction\n",
        "\n",
        "# Evaluation\n",
        "error = mean_squared_error(test_ar, predictions)\n",
        "print(f'Testing Mean Squared Error: {error:.3f}')\n",
        "\n",
        "error2 = smape_kun(test_ar, predictions)\n",
        "print(f'Symmetric Mean Absolute Percentage Error (SMAPE): {error2:.3f}')"
      ],
      "metadata": {
        "colab": {
          "base_uri": "https://localhost:8080/"
        },
        "id": "3iDmb_Y5Jas2",
        "outputId": "d93179fc-6d23-47b1-dfa3-d3b8fc00f22a"
      },
      "execution_count": null,
      "outputs": [
        {
          "output_type": "stream",
          "name": "stdout",
          "text": [
            "Testing Mean Squared Error: 12.411\n",
            "Symmetric Mean Absolute Percentage Error (SMAPE): 1.051\n"
          ]
        }
      ]
    },
    {
      "cell_type": "code",
      "source": [
        "import numpy as np\n",
        "import pandas as pd\n",
        "from statsmodels.tsa.arima.model import ARIMA\n",
        "from sklearn.metrics import mean_squared_error, mean_absolute_percentage_error\n",
        "\n",
        "# Define SMAPE\n",
        "def smape_kun(y_true, y_pred):\n",
        "    y_true = np.array(y_true, dtype=float).flatten()\n",
        "    y_pred = np.array(y_pred, dtype=float).flatten()\n",
        "    return np.mean((np.abs(y_pred - y_true) * 200 / (np.abs(y_pred) + np.abs(y_true) + 1e-8)))\n",
        "\n",
        "# Define MBE\n",
        "def mean_bias_error(y_true, y_pred):\n",
        "    y_true = np.array(y_true, dtype=float).flatten()\n",
        "    y_pred = np.array(y_pred, dtype=float).flatten()\n",
        "    return np.mean(y_pred - y_true)\n",
        "\n",
        "# Ensure train_data and test_data are flat float arrays\n",
        "train_ar = np.array(train_data.values, dtype=float).flatten()\n",
        "test_ar = np.array(test_data.values, dtype=float).flatten()\n",
        "\n",
        "history = list(train_ar)\n",
        "predictions = []\n",
        "\n",
        "for t in range(len(test_ar)):\n",
        "    try:\n",
        "        model = ARIMA(history, order=(3,1,2))\n",
        "        model_fit = model.fit()\n",
        "        yhat = float(model_fit.forecast()[0])  # ensure scalar\n",
        "        predictions.append(yhat)\n",
        "        history.append(test_ar[t])\n",
        "    except Exception as e:\n",
        "        print(f\"Error at step {t}: {e}\")\n",
        "        predictions.append(history[-1])  # fallback prediction\n",
        "\n",
        "# Evaluation\n",
        "mse = mean_squared_error(test_ar, predictions)\n",
        "rmse = np.sqrt(mse)\n",
        "mape = mean_absolute_percentage_error(test_ar, predictions) * 100  # in percentage\n",
        "smape = smape_kun(test_ar, predictions)\n",
        "mbe = mean_bias_error(test_ar, predictions)\n",
        "\n",
        "# Print metrics\n",
        "print(f' RMSE: {rmse:.2f}')\n",
        "print(f' MAPE: {mape:.2f}%')\n",
        "print(f' MBE : {mbe:.2f}')\n",
        "print(f' SMAPE: {smape:.2f}%')"
      ],
      "metadata": {
        "colab": {
          "base_uri": "https://localhost:8080/"
        },
        "id": "Li1jTgps6auX",
        "outputId": "a5be9c9c-bde9-4bd0-b07d-d7b72f586ffe"
      },
      "execution_count": null,
      "outputs": [
        {
          "output_type": "stream",
          "name": "stdout",
          "text": [
            " RMSE: 3.52\n",
            " MAPE: 1.05%\n",
            " MBE : -0.34\n",
            " SMAPE: 1.05%\n"
          ]
        }
      ]
    },
    {
      "cell_type": "code",
      "source": [
        "import numpy as np\n",
        "import plotly.graph_objects as go\n",
        "\n",
        "# Ensure predictions is a flat array\n",
        "predictions = np.array(predictions).flatten()\n",
        "\n",
        "# Ensure test_data is a Series with proper index\n",
        "if isinstance(test_data, pd.DataFrame):\n",
        "    test_data = test_data.squeeze()\n",
        "\n",
        "# Ensure lengths match\n",
        "min_len = min(len(predictions), len(test_data))\n",
        "predictions = predictions[:min_len]\n",
        "actual = test_data.values[:min_len]\n",
        "dates = test_data.index[:min_len]\n",
        "\n",
        "# Plot with Plotly\n",
        "fig = go.Figure()\n",
        "\n",
        "fig.add_trace(go.Scatter(\n",
        "    x=dates,\n",
        "    y=predictions,\n",
        "    mode='lines',\n",
        "    name='Predicted Price',\n",
        "    line=dict(color='green', width=4)\n",
        "))\n",
        "\n",
        "fig.add_trace(go.Scatter(\n",
        "    x=dates,\n",
        "    y=actual,\n",
        "    mode='lines',\n",
        "    name='Actual Price',\n",
        "    line=dict(color='red')\n",
        "))\n",
        "\n",
        "fig.update_layout(\n",
        "    title='JPM Prices Prediction',\n",
        "    xaxis_title='Dates',\n",
        "    yaxis_title='Close Price (USD)',\n",
        "    legend=dict(x=0, y=1),\n",
        "    template='plotly_white',\n",
        "    width=900,\n",
        "    height=500\n",
        ")\n",
        "\n",
        "fig.show()"
      ],
      "metadata": {
        "colab": {
          "base_uri": "https://localhost:8080/",
          "height": 517
        },
        "id": "4GZ3MfSwJBlh",
        "outputId": "e896d6f2-19af-4ef7-f620-7eac99a89d0d"
      },
      "execution_count": null,
      "outputs": [
        {
          "output_type": "display_data",
          "data": {
            "text/html": [
              "<html>\n",
              "<head><meta charset=\"utf-8\" /></head>\n",
              "<body>\n",
              "    <div>            <script src=\"https://cdnjs.cloudflare.com/ajax/libs/mathjax/2.7.5/MathJax.js?config=TeX-AMS-MML_SVG\"></script><script type=\"text/javascript\">if (window.MathJax && window.MathJax.Hub && window.MathJax.Hub.Config) {window.MathJax.Hub.Config({SVG: {font: \"STIX-Web\"}});}</script>                <script type=\"text/javascript\">window.PlotlyConfig = {MathJaxConfig: 'local'};</script>\n",
              "        <script charset=\"utf-8\" src=\"https://cdn.plot.ly/plotly-2.35.2.min.js\"></script>                <div id=\"c4264f81-fd6d-453c-8d01-6237f2a04938\" class=\"plotly-graph-div\" style=\"height:500px; width:900px;\"></div>            <script type=\"text/javascript\">                                    window.PLOTLYENV=window.PLOTLYENV || {};                                    if (document.getElementById(\"c4264f81-fd6d-453c-8d01-6237f2a04938\")) {                    Plotly.newPlot(                        \"c4264f81-fd6d-453c-8d01-6237f2a04938\",                        [{\"line\":{\"color\":\"green\",\"width\":4},\"mode\":\"lines\",\"name\":\"Predicted Price\",\"x\":[\"2023-12-07T00:00:00\",\"2023-12-08T00:00:00\",\"2023-12-11T00:00:00\",\"2023-12-12T00:00:00\",\"2023-12-13T00:00:00\",\"2023-12-14T00:00:00\",\"2023-12-15T00:00:00\",\"2023-12-18T00:00:00\",\"2023-12-19T00:00:00\",\"2023-12-20T00:00:00\",\"2023-12-21T00:00:00\",\"2023-12-22T00:00:00\",\"2023-12-26T00:00:00\",\"2023-12-27T00:00:00\",\"2023-12-28T00:00:00\",\"2023-12-29T00:00:00\",\"2024-01-02T00:00:00\",\"2024-01-03T00:00:00\",\"2024-01-04T00:00:00\",\"2024-01-05T00:00:00\",\"2024-01-08T00:00:00\",\"2024-01-09T00:00:00\",\"2024-01-10T00:00:00\",\"2024-01-11T00:00:00\",\"2024-01-12T00:00:00\",\"2024-01-16T00:00:00\",\"2024-01-17T00:00:00\",\"2024-01-18T00:00:00\",\"2024-01-19T00:00:00\",\"2024-01-22T00:00:00\",\"2024-01-23T00:00:00\",\"2024-01-24T00:00:00\",\"2024-01-25T00:00:00\",\"2024-01-26T00:00:00\",\"2024-01-29T00:00:00\",\"2024-01-30T00:00:00\",\"2024-01-31T00:00:00\",\"2024-02-01T00:00:00\",\"2024-02-02T00:00:00\",\"2024-02-05T00:00:00\",\"2024-02-06T00:00:00\",\"2024-02-07T00:00:00\",\"2024-02-08T00:00:00\",\"2024-02-09T00:00:00\",\"2024-02-12T00:00:00\",\"2024-02-13T00:00:00\",\"2024-02-14T00:00:00\",\"2024-02-15T00:00:00\",\"2024-02-16T00:00:00\",\"2024-02-20T00:00:00\",\"2024-02-21T00:00:00\",\"2024-02-22T00:00:00\",\"2024-02-23T00:00:00\",\"2024-02-26T00:00:00\",\"2024-02-27T00:00:00\",\"2024-02-28T00:00:00\",\"2024-02-29T00:00:00\",\"2024-03-01T00:00:00\",\"2024-03-04T00:00:00\",\"2024-03-05T00:00:00\",\"2024-03-06T00:00:00\",\"2024-03-07T00:00:00\",\"2024-03-08T00:00:00\",\"2024-03-11T00:00:00\",\"2024-03-12T00:00:00\",\"2024-03-13T00:00:00\",\"2024-03-14T00:00:00\",\"2024-03-15T00:00:00\",\"2024-03-18T00:00:00\",\"2024-03-19T00:00:00\",\"2024-03-20T00:00:00\",\"2024-03-21T00:00:00\",\"2024-03-22T00:00:00\",\"2024-03-25T00:00:00\",\"2024-03-26T00:00:00\",\"2024-03-27T00:00:00\",\"2024-03-28T00:00:00\",\"2024-04-01T00:00:00\",\"2024-04-02T00:00:00\",\"2024-04-03T00:00:00\",\"2024-04-04T00:00:00\",\"2024-04-05T00:00:00\",\"2024-04-08T00:00:00\",\"2024-04-09T00:00:00\",\"2024-04-10T00:00:00\",\"2024-04-11T00:00:00\",\"2024-04-12T00:00:00\",\"2024-04-15T00:00:00\",\"2024-04-16T00:00:00\",\"2024-04-17T00:00:00\",\"2024-04-18T00:00:00\",\"2024-04-19T00:00:00\",\"2024-04-22T00:00:00\",\"2024-04-23T00:00:00\",\"2024-04-24T00:00:00\",\"2024-04-25T00:00:00\",\"2024-04-26T00:00:00\",\"2024-04-29T00:00:00\",\"2024-04-30T00:00:00\",\"2024-05-01T00:00:00\",\"2024-05-02T00:00:00\",\"2024-05-03T00:00:00\",\"2024-05-06T00:00:00\",\"2024-05-07T00:00:00\",\"2024-05-08T00:00:00\",\"2024-05-09T00:00:00\",\"2024-05-10T00:00:00\",\"2024-05-13T00:00:00\",\"2024-05-14T00:00:00\",\"2024-05-15T00:00:00\",\"2024-05-16T00:00:00\",\"2024-05-17T00:00:00\",\"2024-05-20T00:00:00\",\"2024-05-21T00:00:00\",\"2024-05-22T00:00:00\",\"2024-05-23T00:00:00\",\"2024-05-24T00:00:00\",\"2024-05-28T00:00:00\",\"2024-05-29T00:00:00\",\"2024-05-30T00:00:00\",\"2024-05-31T00:00:00\",\"2024-06-03T00:00:00\",\"2024-06-04T00:00:00\",\"2024-06-05T00:00:00\",\"2024-06-06T00:00:00\",\"2024-06-07T00:00:00\",\"2024-06-10T00:00:00\",\"2024-06-11T00:00:00\",\"2024-06-12T00:00:00\",\"2024-06-13T00:00:00\",\"2024-06-14T00:00:00\",\"2024-06-17T00:00:00\",\"2024-06-18T00:00:00\",\"2024-06-20T00:00:00\",\"2024-06-21T00:00:00\",\"2024-06-24T00:00:00\",\"2024-06-25T00:00:00\",\"2024-06-26T00:00:00\",\"2024-06-27T00:00:00\",\"2024-06-28T00:00:00\",\"2024-07-01T00:00:00\",\"2024-07-02T00:00:00\",\"2024-07-03T00:00:00\",\"2024-07-05T00:00:00\",\"2024-07-08T00:00:00\",\"2024-07-09T00:00:00\",\"2024-07-10T00:00:00\",\"2024-07-11T00:00:00\",\"2024-07-12T00:00:00\",\"2024-07-15T00:00:00\",\"2024-07-16T00:00:00\",\"2024-07-17T00:00:00\",\"2024-07-18T00:00:00\",\"2024-07-19T00:00:00\",\"2024-07-22T00:00:00\",\"2024-07-23T00:00:00\",\"2024-07-24T00:00:00\",\"2024-07-25T00:00:00\",\"2024-07-26T00:00:00\",\"2024-07-29T00:00:00\",\"2024-07-30T00:00:00\",\"2024-07-31T00:00:00\",\"2024-08-01T00:00:00\",\"2024-08-02T00:00:00\",\"2024-08-05T00:00:00\",\"2024-08-06T00:00:00\",\"2024-08-07T00:00:00\",\"2024-08-08T00:00:00\",\"2024-08-09T00:00:00\",\"2024-08-12T00:00:00\",\"2024-08-13T00:00:00\",\"2024-08-14T00:00:00\",\"2024-08-15T00:00:00\",\"2024-08-16T00:00:00\",\"2024-08-19T00:00:00\",\"2024-08-20T00:00:00\",\"2024-08-21T00:00:00\",\"2024-08-22T00:00:00\",\"2024-08-23T00:00:00\",\"2024-08-26T00:00:00\",\"2024-08-27T00:00:00\",\"2024-08-28T00:00:00\",\"2024-08-29T00:00:00\",\"2024-08-30T00:00:00\",\"2024-09-03T00:00:00\",\"2024-09-04T00:00:00\",\"2024-09-05T00:00:00\",\"2024-09-06T00:00:00\",\"2024-09-09T00:00:00\",\"2024-09-10T00:00:00\",\"2024-09-11T00:00:00\",\"2024-09-12T00:00:00\",\"2024-09-13T00:00:00\",\"2024-09-16T00:00:00\",\"2024-09-17T00:00:00\",\"2024-09-18T00:00:00\",\"2024-09-19T00:00:00\",\"2024-09-20T00:00:00\",\"2024-09-23T00:00:00\",\"2024-09-24T00:00:00\",\"2024-09-25T00:00:00\",\"2024-09-26T00:00:00\",\"2024-09-27T00:00:00\",\"2024-09-30T00:00:00\",\"2024-10-01T00:00:00\",\"2024-10-02T00:00:00\",\"2024-10-03T00:00:00\",\"2024-10-04T00:00:00\",\"2024-10-07T00:00:00\",\"2024-10-08T00:00:00\",\"2024-10-09T00:00:00\",\"2024-10-10T00:00:00\",\"2024-10-11T00:00:00\",\"2024-10-14T00:00:00\",\"2024-10-15T00:00:00\",\"2024-10-16T00:00:00\",\"2024-10-17T00:00:00\",\"2024-10-18T00:00:00\",\"2024-10-21T00:00:00\",\"2024-10-22T00:00:00\",\"2024-10-23T00:00:00\",\"2024-10-24T00:00:00\",\"2024-10-25T00:00:00\",\"2024-10-28T00:00:00\",\"2024-10-29T00:00:00\",\"2024-10-30T00:00:00\",\"2024-10-31T00:00:00\",\"2024-11-01T00:00:00\",\"2024-11-04T00:00:00\",\"2024-11-05T00:00:00\",\"2024-11-06T00:00:00\",\"2024-11-07T00:00:00\",\"2024-11-08T00:00:00\",\"2024-11-11T00:00:00\",\"2024-11-12T00:00:00\",\"2024-11-13T00:00:00\",\"2024-11-14T00:00:00\",\"2024-11-15T00:00:00\",\"2024-11-18T00:00:00\",\"2024-11-19T00:00:00\",\"2024-11-20T00:00:00\",\"2024-11-21T00:00:00\",\"2024-11-22T00:00:00\",\"2024-11-25T00:00:00\",\"2024-11-26T00:00:00\",\"2024-11-27T00:00:00\",\"2024-11-29T00:00:00\",\"2024-12-02T00:00:00\",\"2024-12-03T00:00:00\",\"2024-12-04T00:00:00\",\"2024-12-05T00:00:00\",\"2024-12-06T00:00:00\",\"2024-12-09T00:00:00\",\"2024-12-10T00:00:00\",\"2024-12-11T00:00:00\",\"2024-12-12T00:00:00\",\"2024-12-13T00:00:00\",\"2024-12-16T00:00:00\",\"2024-12-17T00:00:00\",\"2024-12-18T00:00:00\",\"2024-12-19T00:00:00\",\"2024-12-20T00:00:00\",\"2024-12-23T00:00:00\",\"2024-12-24T00:00:00\",\"2024-12-26T00:00:00\",\"2024-12-27T00:00:00\",\"2024-12-30T00:00:00\",\"2024-12-31T00:00:00\",\"2025-01-02T00:00:00\",\"2025-01-03T00:00:00\",\"2025-01-06T00:00:00\",\"2025-01-07T00:00:00\",\"2025-01-08T00:00:00\",\"2025-01-10T00:00:00\",\"2025-01-13T00:00:00\",\"2025-01-14T00:00:00\",\"2025-01-15T00:00:00\",\"2025-01-16T00:00:00\",\"2025-01-17T00:00:00\",\"2025-01-21T00:00:00\",\"2025-01-22T00:00:00\",\"2025-01-23T00:00:00\",\"2025-01-24T00:00:00\",\"2025-01-27T00:00:00\",\"2025-01-28T00:00:00\",\"2025-01-29T00:00:00\",\"2025-01-30T00:00:00\",\"2025-01-31T00:00:00\",\"2025-02-03T00:00:00\",\"2025-02-04T00:00:00\",\"2025-02-05T00:00:00\",\"2025-02-06T00:00:00\",\"2025-02-07T00:00:00\",\"2025-02-10T00:00:00\",\"2025-02-11T00:00:00\",\"2025-02-12T00:00:00\",\"2025-02-13T00:00:00\",\"2025-02-14T00:00:00\",\"2025-02-18T00:00:00\",\"2025-02-19T00:00:00\",\"2025-02-20T00:00:00\",\"2025-02-21T00:00:00\",\"2025-02-24T00:00:00\",\"2025-02-25T00:00:00\",\"2025-02-26T00:00:00\",\"2025-02-27T00:00:00\",\"2025-02-28T00:00:00\",\"2025-03-03T00:00:00\",\"2025-03-04T00:00:00\",\"2025-03-05T00:00:00\",\"2025-03-06T00:00:00\",\"2025-03-07T00:00:00\",\"2025-03-10T00:00:00\",\"2025-03-11T00:00:00\",\"2025-03-12T00:00:00\",\"2025-03-13T00:00:00\",\"2025-03-14T00:00:00\",\"2025-03-17T00:00:00\",\"2025-03-18T00:00:00\",\"2025-03-19T00:00:00\",\"2025-03-20T00:00:00\",\"2025-03-21T00:00:00\",\"2025-03-24T00:00:00\",\"2025-03-25T00:00:00\",\"2025-03-26T00:00:00\",\"2025-03-27T00:00:00\",\"2025-03-28T00:00:00\",\"2025-03-31T00:00:00\",\"2025-04-01T00:00:00\",\"2025-04-02T00:00:00\",\"2025-04-03T00:00:00\",\"2025-04-04T00:00:00\",\"2025-04-07T00:00:00\",\"2025-04-08T00:00:00\",\"2025-04-09T00:00:00\",\"2025-04-10T00:00:00\",\"2025-04-11T00:00:00\",\"2025-04-14T00:00:00\",\"2025-04-15T00:00:00\",\"2025-04-16T00:00:00\",\"2025-04-17T00:00:00\",\"2025-04-21T00:00:00\",\"2025-04-22T00:00:00\",\"2025-04-23T00:00:00\",\"2025-04-24T00:00:00\",\"2025-04-25T00:00:00\",\"2025-04-28T00:00:00\",\"2025-04-29T00:00:00\",\"2025-04-30T00:00:00\",\"2025-05-01T00:00:00\",\"2025-05-02T00:00:00\",\"2025-05-05T00:00:00\",\"2025-05-06T00:00:00\",\"2025-05-07T00:00:00\",\"2025-05-08T00:00:00\",\"2025-05-09T00:00:00\",\"2025-05-12T00:00:00\",\"2025-05-13T00:00:00\",\"2025-05-14T00:00:00\",\"2025-05-15T00:00:00\",\"2025-05-16T00:00:00\",\"2025-05-19T00:00:00\",\"2025-05-20T00:00:00\",\"2025-05-21T00:00:00\",\"2025-05-22T00:00:00\",\"2025-05-23T00:00:00\",\"2025-05-27T00:00:00\",\"2025-05-28T00:00:00\",\"2025-05-29T00:00:00\",\"2025-05-30T00:00:00\",\"2025-06-02T00:00:00\",\"2025-06-03T00:00:00\",\"2025-06-04T00:00:00\",\"2025-06-05T00:00:00\",\"2025-06-06T00:00:00\",\"2025-06-09T00:00:00\",\"2025-06-10T00:00:00\",\"2025-06-11T00:00:00\",\"2025-06-12T00:00:00\",\"2025-06-13T00:00:00\",\"2025-06-16T00:00:00\",\"2025-06-17T00:00:00\",\"2025-06-18T00:00:00\",\"2025-06-20T00:00:00\",\"2025-06-23T00:00:00\",\"2025-06-24T00:00:00\",\"2025-06-25T00:00:00\",\"2025-06-26T00:00:00\",\"2025-06-27T00:00:00\",\"2025-06-30T00:00:00\"],\"y\":[151.06991121544223,151.18884077541142,153.18377230370243,153.6815000237689,154.99063880929373,155.60397097854138,158.30674275156633,159.67257545376705,160.61492611185292,162.52690198288877,161.1850751475488,161.4271349637843,161.82198457817478,162.61371076871177,163.47849964224244,164.69856005070645,164.0810251796125,166.3163812024205,165.4133340185783,166.63011494884412,167.24016282204647,167.43118957486544,165.59181234118603,166.29094043179273,165.3708043241839,164.39611167047678,163.04539987167456,162.46187351617107,162.52219207850473,165.50044943683002,165.45042934661342,164.1971862581927,165.4937066180729,168.17716082068995,167.47903058810215,167.78285750186456,171.1608047024856,169.78442168782243,168.5746546720601,169.7258416701609,169.75775167830193,169.91724877910383,170.6506567330899,169.76433750560747,170.0642216579057,170.7754852328078,169.44000493454055,170.86150265443558,174.77534095900938,174.27854439160168,174.3882216004245,175.8655258465757,177.8996997309093,178.78395242071852,178.330372949707,178.05018508902168,179.2859293199328,180.68928332680665,180.22509370489112,181.2368394445389,183.23764045320578,184.31105184236225,182.49926598265318,182.89537012800147,182.85921381919465,184.57934619853836,185.8245297982287,183.0090111220278,184.42223328308734,187.42651252210544,188.41730931704524,190.55067921825125,193.7112835730957,191.04350514039962,189.33858624229785,189.9089667787604,194.03865665171804,194.63628474956167,193.48977522705619,192.97164922626484,192.8714857629621,191.11602204173528,192.89118368724397,194.06349682149363,192.78590944562194,190.93107839658876,190.98708025184914,178.98148036981337,178.03432643813028,176.7855610253511,176.33013319259288,176.39327439459245,182.32237883802264,184.51596579584353,188.5406825539023,188.2366174369563,189.4260657977654,188.80871634121706,189.09765248803444,187.33503040437336,187.42227464163716,187.3855129657091,186.18103054328628,187.53853792262575,187.5336006270413,191.09451240688034,193.16721656356466,194.4374940808463,194.05347000805702,197.12387660388302,197.43109013852893,198.1335571518682,199.83140070623503,191.80113493730153,194.02710645678692,194.28462982829026,192.6648243349867,195.32266737117,196.0867014666582,192.79222443348104,195.23335638653384,197.69706759954929,197.64443028210977,194.56387825522253,192.64494147831886,192.51476650196534,195.1586205277334,195.45267114092945,189.94318273219557,186.988136145789,189.12281661607767,189.56493294391765,190.4938974172507,192.4952837088753,194.33334370464297,191.85099694887248,194.27095066922044,193.63449794103124,193.11464197199697,194.26929878365374,198.0480213634091,200.53736736713066,204.42196306945402,203.9134145330221,201.430478519447,201.32982093764141,204.14636820504109,204.31550152527,203.83666190039838,201.46681934558956,206.14492882729581,210.13751444230078,213.319848553812,206.43542803389406,206.0388786823618,206.3305498578678,207.2648361965161,204.42209394301133,205.55451394221734,207.99560961478497,207.8857438030208,210.899020793943,209.62154601095105,204.39831686852915,195.60731761505434,191.61298544624262,196.63644210828485,197.4358768637617,200.01281992338193,201.99002966138752,202.83807805417007,204.51340561435154,206.46972368709098,207.6520638632437,210.12102353047052,211.87599204906425,210.97242502483417,210.70867627613933,212.68165289847667,214.65571479765444,215.55274225491846,216.2638887343766,217.50348935912953,218.42122560070197,220.880674317127,216.79102822791214,215.22249547084277,213.80209907632405,208.94235742250746,212.5515634380292,202.93541945742396,202.67087058671325,203.133320189872,201.45946739614453,203.01095257673603,206.9613282205744,203.0882955677986,207.30800840579445,207.1888653112845,208.1092392633271,207.6704516147731,206.8478691502214,205.90470160888555,206.94922694740603,207.22893446787424,203.57952562428713,203.49521020416168,201.73600084926474,208.68145003330238,208.78152875977634,208.6953276077266,210.33466885592097,211.33288212837644,218.79728352202616,220.12079499464312,219.51139926874984,220.95676991628193,222.43421412236054,222.24058815104968,221.22388695105136,220.8763971541952,221.40508746691856,222.15981216268426,220.00937789254925,222.82351619774036,220.43471711023435,222.06642139038627,219.05821722598125,220.91641068243885,216.7602160515066,219.49774532013782,242.86117098524622,236.511115030876,233.09423751338375,236.08621247590406,237.4056743113457,238.42024475879163,240.95250047166508,242.44879014920326,242.4413709637823,240.4921460892108,238.79032028351605,241.83732690559708,245.4929318264627,247.58542997049503,246.99903485226625,247.26541051542765,246.58869676218987,244.01166338867375,241.6944075084187,240.91150203044836,242.4778530466212,244.57866728066878,241.4227543849036,239.84463518212704,240.8824725107934,238.90251936417314,237.23554207646475,236.85118911062995,235.72292994301154,228.29959953138504,229.9800020378419,234.79442366922274,235.9889949442537,238.9943664472302,240.90343588236266,238.2866296187421,236.77693647790198,236.88389611157038,237.32606507976067,240.45954785848323,239.4477999992633,241.6829670630368,241.46454303243152,238.91603309754518,241.94442405895077,246.3772141997106,250.4557732658054,252.8585261648782,257.50693859183014,261.22525276609355,261.70886795565116,264.0917292557683,263.2182062503229,264.07928769170985,265.5170867265456,265.1161973491722,266.4145691366302,265.6688414481776,265.1820878210924,266.259294893815,268.71266600134487,275.02646735476446,274.548151362081,269.49207294139006,272.6494618754646,274.02186884358383,274.7826186132213,274.7954456162082,277.9899276664284,277.64837034698763,266.1036195053291,262.34528528802747,259.6250555632675,256.1343043614986,256.9327239099913,257.45499007565223,262.8407441533746,259.41289841544585,248.9982879812325,249.26270575278107,245.3828787915516,240.671723525689,230.710251375712,227.77220963164532,225.89179187586586,224.56990824298148,229.9701134706026,233.45479260346295,233.18140067026914,237.61847996226632,237.90058854047513,239.86345971747576,246.65487810871633,249.8000597433743,249.61910832683944,246.5551013044912,241.37347889267218,243.46930372144084,242.35131418718876,244.3429908069124,227.41231435212555,209.86700480370484,212.91018834182222,218.11602067003082,233.8419579338577,228.26204738432534,235.8270091998171,234.23807495082468,234.90961849055708,227.18051916163174,234.22876073777368,226.90187513592198,237.19999937907227,239.3768937291359,246.44293370565975,242.36567695825565,244.22249580258125,243.6792933943289,245.4274650180628,246.28335298764048,252.82639968978907,252.81120251848142,249.2338227248478,249.1496861683878,253.48911467311,253.3499801180859,259.85959660513805,263.3559975585391,265.901655039708,267.2248001802269,268.1016343567568,264.4064141505155,265.9350813862025,260.80978796314,260.716412391271,260.3793564884788,265.68354349777826,263.33851478314887,264.6423960397929,263.58000836423895,265.1702184062493,265.74236300431784,264.8487459491795,261.39768110092774,265.8597691544449,266.850201861489,268.6782526997152,268.1315690350589,268.3489251304626,264.80250384941814,270.31109727591723,269.6588099560128,274.1054432945115,274.7925481839582,278.840035928353,280.71309728055763,284.88853950460896,288.1671862918024,287.9499471459366],\"type\":\"scatter\"},{\"line\":{\"color\":\"red\"},\"mode\":\"lines\",\"name\":\"Actual Price\",\"x\":[\"2023-12-07T00:00:00\",\"2023-12-08T00:00:00\",\"2023-12-11T00:00:00\",\"2023-12-12T00:00:00\",\"2023-12-13T00:00:00\",\"2023-12-14T00:00:00\",\"2023-12-15T00:00:00\",\"2023-12-18T00:00:00\",\"2023-12-19T00:00:00\",\"2023-12-20T00:00:00\",\"2023-12-21T00:00:00\",\"2023-12-22T00:00:00\",\"2023-12-26T00:00:00\",\"2023-12-27T00:00:00\",\"2023-12-28T00:00:00\",\"2023-12-29T00:00:00\",\"2024-01-02T00:00:00\",\"2024-01-03T00:00:00\",\"2024-01-04T00:00:00\",\"2024-01-05T00:00:00\",\"2024-01-08T00:00:00\",\"2024-01-09T00:00:00\",\"2024-01-10T00:00:00\",\"2024-01-11T00:00:00\",\"2024-01-12T00:00:00\",\"2024-01-16T00:00:00\",\"2024-01-17T00:00:00\",\"2024-01-18T00:00:00\",\"2024-01-19T00:00:00\",\"2024-01-22T00:00:00\",\"2024-01-23T00:00:00\",\"2024-01-24T00:00:00\",\"2024-01-25T00:00:00\",\"2024-01-26T00:00:00\",\"2024-01-29T00:00:00\",\"2024-01-30T00:00:00\",\"2024-01-31T00:00:00\",\"2024-02-01T00:00:00\",\"2024-02-02T00:00:00\",\"2024-02-05T00:00:00\",\"2024-02-06T00:00:00\",\"2024-02-07T00:00:00\",\"2024-02-08T00:00:00\",\"2024-02-09T00:00:00\",\"2024-02-12T00:00:00\",\"2024-02-13T00:00:00\",\"2024-02-14T00:00:00\",\"2024-02-15T00:00:00\",\"2024-02-16T00:00:00\",\"2024-02-20T00:00:00\",\"2024-02-21T00:00:00\",\"2024-02-22T00:00:00\",\"2024-02-23T00:00:00\",\"2024-02-26T00:00:00\",\"2024-02-27T00:00:00\",\"2024-02-28T00:00:00\",\"2024-02-29T00:00:00\",\"2024-03-01T00:00:00\",\"2024-03-04T00:00:00\",\"2024-03-05T00:00:00\",\"2024-03-06T00:00:00\",\"2024-03-07T00:00:00\",\"2024-03-08T00:00:00\",\"2024-03-11T00:00:00\",\"2024-03-12T00:00:00\",\"2024-03-13T00:00:00\",\"2024-03-14T00:00:00\",\"2024-03-15T00:00:00\",\"2024-03-18T00:00:00\",\"2024-03-19T00:00:00\",\"2024-03-20T00:00:00\",\"2024-03-21T00:00:00\",\"2024-03-22T00:00:00\",\"2024-03-25T00:00:00\",\"2024-03-26T00:00:00\",\"2024-03-27T00:00:00\",\"2024-03-28T00:00:00\",\"2024-04-01T00:00:00\",\"2024-04-02T00:00:00\",\"2024-04-03T00:00:00\",\"2024-04-04T00:00:00\",\"2024-04-05T00:00:00\",\"2024-04-08T00:00:00\",\"2024-04-09T00:00:00\",\"2024-04-10T00:00:00\",\"2024-04-11T00:00:00\",\"2024-04-12T00:00:00\",\"2024-04-15T00:00:00\",\"2024-04-16T00:00:00\",\"2024-04-17T00:00:00\",\"2024-04-18T00:00:00\",\"2024-04-19T00:00:00\",\"2024-04-22T00:00:00\",\"2024-04-23T00:00:00\",\"2024-04-24T00:00:00\",\"2024-04-25T00:00:00\",\"2024-04-26T00:00:00\",\"2024-04-29T00:00:00\",\"2024-04-30T00:00:00\",\"2024-05-01T00:00:00\",\"2024-05-02T00:00:00\",\"2024-05-03T00:00:00\",\"2024-05-06T00:00:00\",\"2024-05-07T00:00:00\",\"2024-05-08T00:00:00\",\"2024-05-09T00:00:00\",\"2024-05-10T00:00:00\",\"2024-05-13T00:00:00\",\"2024-05-14T00:00:00\",\"2024-05-15T00:00:00\",\"2024-05-16T00:00:00\",\"2024-05-17T00:00:00\",\"2024-05-20T00:00:00\",\"2024-05-21T00:00:00\",\"2024-05-22T00:00:00\",\"2024-05-23T00:00:00\",\"2024-05-24T00:00:00\",\"2024-05-28T00:00:00\",\"2024-05-29T00:00:00\",\"2024-05-30T00:00:00\",\"2024-05-31T00:00:00\",\"2024-06-03T00:00:00\",\"2024-06-04T00:00:00\",\"2024-06-05T00:00:00\",\"2024-06-06T00:00:00\",\"2024-06-07T00:00:00\",\"2024-06-10T00:00:00\",\"2024-06-11T00:00:00\",\"2024-06-12T00:00:00\",\"2024-06-13T00:00:00\",\"2024-06-14T00:00:00\",\"2024-06-17T00:00:00\",\"2024-06-18T00:00:00\",\"2024-06-20T00:00:00\",\"2024-06-21T00:00:00\",\"2024-06-24T00:00:00\",\"2024-06-25T00:00:00\",\"2024-06-26T00:00:00\",\"2024-06-27T00:00:00\",\"2024-06-28T00:00:00\",\"2024-07-01T00:00:00\",\"2024-07-02T00:00:00\",\"2024-07-03T00:00:00\",\"2024-07-05T00:00:00\",\"2024-07-08T00:00:00\",\"2024-07-09T00:00:00\",\"2024-07-10T00:00:00\",\"2024-07-11T00:00:00\",\"2024-07-12T00:00:00\",\"2024-07-15T00:00:00\",\"2024-07-16T00:00:00\",\"2024-07-17T00:00:00\",\"2024-07-18T00:00:00\",\"2024-07-19T00:00:00\",\"2024-07-22T00:00:00\",\"2024-07-23T00:00:00\",\"2024-07-24T00:00:00\",\"2024-07-25T00:00:00\",\"2024-07-26T00:00:00\",\"2024-07-29T00:00:00\",\"2024-07-30T00:00:00\",\"2024-07-31T00:00:00\",\"2024-08-01T00:00:00\",\"2024-08-02T00:00:00\",\"2024-08-05T00:00:00\",\"2024-08-06T00:00:00\",\"2024-08-07T00:00:00\",\"2024-08-08T00:00:00\",\"2024-08-09T00:00:00\",\"2024-08-12T00:00:00\",\"2024-08-13T00:00:00\",\"2024-08-14T00:00:00\",\"2024-08-15T00:00:00\",\"2024-08-16T00:00:00\",\"2024-08-19T00:00:00\",\"2024-08-20T00:00:00\",\"2024-08-21T00:00:00\",\"2024-08-22T00:00:00\",\"2024-08-23T00:00:00\",\"2024-08-26T00:00:00\",\"2024-08-27T00:00:00\",\"2024-08-28T00:00:00\",\"2024-08-29T00:00:00\",\"2024-08-30T00:00:00\",\"2024-09-03T00:00:00\",\"2024-09-04T00:00:00\",\"2024-09-05T00:00:00\",\"2024-09-06T00:00:00\",\"2024-09-09T00:00:00\",\"2024-09-10T00:00:00\",\"2024-09-11T00:00:00\",\"2024-09-12T00:00:00\",\"2024-09-13T00:00:00\",\"2024-09-16T00:00:00\",\"2024-09-17T00:00:00\",\"2024-09-18T00:00:00\",\"2024-09-19T00:00:00\",\"2024-09-20T00:00:00\",\"2024-09-23T00:00:00\",\"2024-09-24T00:00:00\",\"2024-09-25T00:00:00\",\"2024-09-26T00:00:00\",\"2024-09-27T00:00:00\",\"2024-09-30T00:00:00\",\"2024-10-01T00:00:00\",\"2024-10-02T00:00:00\",\"2024-10-03T00:00:00\",\"2024-10-04T00:00:00\",\"2024-10-07T00:00:00\",\"2024-10-08T00:00:00\",\"2024-10-09T00:00:00\",\"2024-10-10T00:00:00\",\"2024-10-11T00:00:00\",\"2024-10-14T00:00:00\",\"2024-10-15T00:00:00\",\"2024-10-16T00:00:00\",\"2024-10-17T00:00:00\",\"2024-10-18T00:00:00\",\"2024-10-21T00:00:00\",\"2024-10-22T00:00:00\",\"2024-10-23T00:00:00\",\"2024-10-24T00:00:00\",\"2024-10-25T00:00:00\",\"2024-10-28T00:00:00\",\"2024-10-29T00:00:00\",\"2024-10-30T00:00:00\",\"2024-10-31T00:00:00\",\"2024-11-01T00:00:00\",\"2024-11-04T00:00:00\",\"2024-11-05T00:00:00\",\"2024-11-06T00:00:00\",\"2024-11-07T00:00:00\",\"2024-11-08T00:00:00\",\"2024-11-11T00:00:00\",\"2024-11-12T00:00:00\",\"2024-11-13T00:00:00\",\"2024-11-14T00:00:00\",\"2024-11-15T00:00:00\",\"2024-11-18T00:00:00\",\"2024-11-19T00:00:00\",\"2024-11-20T00:00:00\",\"2024-11-21T00:00:00\",\"2024-11-22T00:00:00\",\"2024-11-25T00:00:00\",\"2024-11-26T00:00:00\",\"2024-11-27T00:00:00\",\"2024-11-29T00:00:00\",\"2024-12-02T00:00:00\",\"2024-12-03T00:00:00\",\"2024-12-04T00:00:00\",\"2024-12-05T00:00:00\",\"2024-12-06T00:00:00\",\"2024-12-09T00:00:00\",\"2024-12-10T00:00:00\",\"2024-12-11T00:00:00\",\"2024-12-12T00:00:00\",\"2024-12-13T00:00:00\",\"2024-12-16T00:00:00\",\"2024-12-17T00:00:00\",\"2024-12-18T00:00:00\",\"2024-12-19T00:00:00\",\"2024-12-20T00:00:00\",\"2024-12-23T00:00:00\",\"2024-12-24T00:00:00\",\"2024-12-26T00:00:00\",\"2024-12-27T00:00:00\",\"2024-12-30T00:00:00\",\"2024-12-31T00:00:00\",\"2025-01-02T00:00:00\",\"2025-01-03T00:00:00\",\"2025-01-06T00:00:00\",\"2025-01-07T00:00:00\",\"2025-01-08T00:00:00\",\"2025-01-10T00:00:00\",\"2025-01-13T00:00:00\",\"2025-01-14T00:00:00\",\"2025-01-15T00:00:00\",\"2025-01-16T00:00:00\",\"2025-01-17T00:00:00\",\"2025-01-21T00:00:00\",\"2025-01-22T00:00:00\",\"2025-01-23T00:00:00\",\"2025-01-24T00:00:00\",\"2025-01-27T00:00:00\",\"2025-01-28T00:00:00\",\"2025-01-29T00:00:00\",\"2025-01-30T00:00:00\",\"2025-01-31T00:00:00\",\"2025-02-03T00:00:00\",\"2025-02-04T00:00:00\",\"2025-02-05T00:00:00\",\"2025-02-06T00:00:00\",\"2025-02-07T00:00:00\",\"2025-02-10T00:00:00\",\"2025-02-11T00:00:00\",\"2025-02-12T00:00:00\",\"2025-02-13T00:00:00\",\"2025-02-14T00:00:00\",\"2025-02-18T00:00:00\",\"2025-02-19T00:00:00\",\"2025-02-20T00:00:00\",\"2025-02-21T00:00:00\",\"2025-02-24T00:00:00\",\"2025-02-25T00:00:00\",\"2025-02-26T00:00:00\",\"2025-02-27T00:00:00\",\"2025-02-28T00:00:00\",\"2025-03-03T00:00:00\",\"2025-03-04T00:00:00\",\"2025-03-05T00:00:00\",\"2025-03-06T00:00:00\",\"2025-03-07T00:00:00\",\"2025-03-10T00:00:00\",\"2025-03-11T00:00:00\",\"2025-03-12T00:00:00\",\"2025-03-13T00:00:00\",\"2025-03-14T00:00:00\",\"2025-03-17T00:00:00\",\"2025-03-18T00:00:00\",\"2025-03-19T00:00:00\",\"2025-03-20T00:00:00\",\"2025-03-21T00:00:00\",\"2025-03-24T00:00:00\",\"2025-03-25T00:00:00\",\"2025-03-26T00:00:00\",\"2025-03-27T00:00:00\",\"2025-03-28T00:00:00\",\"2025-03-31T00:00:00\",\"2025-04-01T00:00:00\",\"2025-04-02T00:00:00\",\"2025-04-03T00:00:00\",\"2025-04-04T00:00:00\",\"2025-04-07T00:00:00\",\"2025-04-08T00:00:00\",\"2025-04-09T00:00:00\",\"2025-04-10T00:00:00\",\"2025-04-11T00:00:00\",\"2025-04-14T00:00:00\",\"2025-04-15T00:00:00\",\"2025-04-16T00:00:00\",\"2025-04-17T00:00:00\",\"2025-04-21T00:00:00\",\"2025-04-22T00:00:00\",\"2025-04-23T00:00:00\",\"2025-04-24T00:00:00\",\"2025-04-25T00:00:00\",\"2025-04-28T00:00:00\",\"2025-04-29T00:00:00\",\"2025-04-30T00:00:00\",\"2025-05-01T00:00:00\",\"2025-05-02T00:00:00\",\"2025-05-05T00:00:00\",\"2025-05-06T00:00:00\",\"2025-05-07T00:00:00\",\"2025-05-08T00:00:00\",\"2025-05-09T00:00:00\",\"2025-05-12T00:00:00\",\"2025-05-13T00:00:00\",\"2025-05-14T00:00:00\",\"2025-05-15T00:00:00\",\"2025-05-16T00:00:00\",\"2025-05-19T00:00:00\",\"2025-05-20T00:00:00\",\"2025-05-21T00:00:00\",\"2025-05-22T00:00:00\",\"2025-05-23T00:00:00\",\"2025-05-27T00:00:00\",\"2025-05-28T00:00:00\",\"2025-05-29T00:00:00\",\"2025-05-30T00:00:00\",\"2025-06-02T00:00:00\",\"2025-06-03T00:00:00\",\"2025-06-04T00:00:00\",\"2025-06-05T00:00:00\",\"2025-06-06T00:00:00\",\"2025-06-09T00:00:00\",\"2025-06-10T00:00:00\",\"2025-06-11T00:00:00\",\"2025-06-12T00:00:00\",\"2025-06-13T00:00:00\",\"2025-06-16T00:00:00\",\"2025-06-17T00:00:00\",\"2025-06-18T00:00:00\",\"2025-06-20T00:00:00\",\"2025-06-23T00:00:00\",\"2025-06-24T00:00:00\",\"2025-06-25T00:00:00\",\"2025-06-26T00:00:00\",\"2025-06-27T00:00:00\",\"2025-06-30T00:00:00\"],\"y\":[151.413818359375,153.08450317382812,153.64462280273438,155.0159454345703,155.5373992919922,158.366943359375,159.56442260742188,160.53013610839844,162.67401123046875,160.83914184570312,161.75657653808594,161.66001892089844,162.61605834960938,163.5914306640625,164.4605712890625,164.26744079589844,166.17953491210938,165.4552764892578,166.55325317382812,167.3888702392578,167.14598083496094,165.82449340820312,166.17430114746094,165.4746856689453,164.2601318359375,163.2301483154297,162.35565185546875,162.67630004882812,165.48443603515625,165.29006958007812,164.20179748535156,165.66903686523438,168.0399169921875,167.39859008789062,167.83584594726562,171.27554321289062,169.41966247558594,168.80751037597656,169.7791748046875,169.55569458007812,170.13868713378906,170.4593505859375,169.84719848632812,170.05123901367188,170.8091278076172,169.32247924804688,171.0423583984375,174.77352905273438,173.95733642578125,174.63751220703125,175.77435302734375,177.88287353515625,178.7768096923828,178.16465759277344,178.25209045410156,179.15576171875,180.7881622314453,180.03994750976562,181.3905792236328,183.2075958251953,184.1598358154297,182.546875,182.88693237304688,182.9549560546875,184.46102905273438,185.95741271972656,182.64404296875,184.90802001953125,187.201171875,188.29913330078125,190.7671661376953,193.4197998046875,191.04893493652344,189.29995727539062,190.18417358398438,193.8667755126953,194.6246795654297,193.30320739746094,193.22549438476562,192.6813507080078,191.21531677246094,192.9745330810547,193.981201171875,192.68133544921875,191.0394287109375,191.0003204345703,178.64682006835938,178.7445526123047,176.70193481445312,175.99826049804688,177.14173889160156,181.58860778808594,185.11679077148438,187.784912109375,188.70359802246094,188.98703002929688,189.10430908203125,188.8990478515625,187.39398193359375,187.51124572753906,187.31578063964844,186.1918487548828,187.6480712890625,187.40374755859375,191.21531677246094,193.0233917236328,194.26463317871094,194.2255401611328,196.9425048828125,197.52891540527344,197.8807373046875,200.14816284179688,191.14694213867188,194.99761962890625,193.8150634765625,192.45655822753906,196.16065979003906,194.97808837890625,193.6195831298828,194.8119354248047,198.03712463378906,197.24549865722656,194.64578247070312,192.78884887695312,192.44679260253906,195.41787719726562,195.08558654785156,189.95457458496094,187.188720703125,189.2704620361328,189.3877410888672,190.56051635742188,192.53475952148438,194.16688537597656,191.85061645507812,194.37213134765625,193.5804901123047,192.95498657226562,194.65554809570312,197.67550659179688,200.79322814941406,204.09661865234375,203.95977783203125,201.2572021484375,201.6306610107422,204.04823303222656,204.2152862548828,203.87132263183594,201.40463256835938,206.42648315429688,209.93487548828125,213.12881469726562,206.357666015625,206.1611328125,206.65249633789062,206.70166015625,204.99166870117188,205.07028198242188,208.5786895751953,207.21267700195312,211.47781372070312,209.12904357910156,204.37254333496094,195.70468139648438,191.53781127929688,196.8839874267578,196.9429473876953,200.539794921875,202.2498016357422,202.63307189941406,204.35289001464844,206.6132049560547,207.90060424804688,210.2788543701172,211.7333221435547,210.81936645507812,210.8979949951172,212.89295959472656,214.54397583007812,215.38914489746094,216.3817138671875,217.4725799560547,218.37672424316406,220.92202758789062,216.49964904785156,215.54638671875,213.875732421875,208.79490661621094,213.06985473632812,202.013916015625,203.6551055908203,203.03598022460938,200.7953338623047,204.2742462158203,205.64027404785156,203.94993591308594,206.84906005859375,207.4485321044922,207.79249572753906,207.93991088867188,206.56405639648438,206.1611328125,206.86871337890625,207.2224884033203,203.46839904785156,203.71408081054688,201.6896209716797,208.84832763671875,208.5615692138672,208.3835906982422,211.02362060546875,210.45013427734375,219.79400634765625,218.99310302734375,219.8928985595703,221.12887573242188,221.90011596679688,222.83944702148438,220.49606323242188,221.6034698486328,220.90145874023438,222.4538116455078,219.8137969970703,222.96798706054688,220.3971710205078,221.89022827148438,219.4281768798828,220.43673706054688,217.31219482421875,219.0030059814453,244.28590393066406,233.725830078125,234.31907653808594,236.60313415527344,236.8701171875,238.4521484375,239.1541748046875,242.5555419921875,242.2786865234375,240.36045837402344,238.07640075683594,242.01170349121094,245.75917053222656,247.47962951660156,247.16322326660156,246.9852294921875,246.91603088378906,243.48500061035156,242.071044921875,240.6669921875,242.7236328125,244.58251953125,241.0723876953125,240.133056640625,240.7955322265625,238.81797790527344,237.245849609375,236.889892578125,235.68357849121094,227.78329467773438,230.34422302246094,234.93212890625,235.71324157714844,239.58921813964844,240.409912109375,238.4620361328125,236.6328125,237.0184326171875,237.30516052246094,240.54833984375,239.3755645751953,241.6813507080078,241.6416015625,238.40155029296875,242.71499633789062,245.9550323486328,250.80516052246094,252.71340942382812,257.573486328125,261.4197692871094,261.2309265136719,264.3219299316406,263.21868896484375,264.2225341796875,265.504638671875,264.9480285644531,266.58795166015625,265.66363525390625,265.1766357421875,266.2997131347656,268.77447509765625,275.2048645019531,274.1116027832031,269.3807373046875,273.3065490722656,273.7637634277344,274.62841796875,274.8967590332031,278.2362060546875,277.5404968261719,265.16668701171875,262.62237548828125,259.7401123046875,255.82423400878906,257.20574951171875,257.4641418457031,263.02984619140625,259.0245361328125,248.718017578125,249.99017333984375,245.0307159423828,240.7967987060547,230.79840087890625,227.73724365234375,226.5048370361328,223.81143188476562,231.0170440673828,232.49790954589844,233.53155517578125,237.64620971679688,237.54681396484375,240.15078735351562,246.5414276123047,249.59263610839844,249.4932403564453,246.60104370117188,241.3633270263672,243.79832458496094,242.16836547851562,244.3151397705078,227.29000854492188,210.27999877929688,214.44000244140625,216.8699951171875,234.33999633789062,227.11000061035156,236.1999969482422,234.72000122070312,233.1300048828125,229.61000061035156,231.9600067138672,228.99000549316406,235.58999633789062,240.8800048828125,244.63999938964844,243.5500030517578,243.22000122070312,244.6199951171875,244.6199951171875,246.88999938964844,252.50999450683594,252.55999755859375,249.25,249.38999938964844,253.47000122070312,253.0800018310547,260.04998779296875,263.010009765625,265.6400146484375,267.489990234375,267.55999755859375,264.8800048828125,265.67999267578125,261.0400085449219,260.6700134277344,260.7099914550781,265.2900085449219,263.489990234375,264.3699951171875,264.0,264.6600036621094,266.2699890136719,264.2200012207031,261.95001220703125,265.7300109863281,266.739990234375,268.6000061035156,268.1499938964844,268.239990234375,264.95001220703125,270.3599853515625,269.5199890136719,273.9599914550781,275.0,278.2699890136719,281.260009765625,284.05999755859375,288.75,287.1099853515625,289.9100036621094],\"type\":\"scatter\"}],                        {\"template\":{\"data\":{\"barpolar\":[{\"marker\":{\"line\":{\"color\":\"white\",\"width\":0.5},\"pattern\":{\"fillmode\":\"overlay\",\"size\":10,\"solidity\":0.2}},\"type\":\"barpolar\"}],\"bar\":[{\"error_x\":{\"color\":\"#2a3f5f\"},\"error_y\":{\"color\":\"#2a3f5f\"},\"marker\":{\"line\":{\"color\":\"white\",\"width\":0.5},\"pattern\":{\"fillmode\":\"overlay\",\"size\":10,\"solidity\":0.2}},\"type\":\"bar\"}],\"carpet\":[{\"aaxis\":{\"endlinecolor\":\"#2a3f5f\",\"gridcolor\":\"#C8D4E3\",\"linecolor\":\"#C8D4E3\",\"minorgridcolor\":\"#C8D4E3\",\"startlinecolor\":\"#2a3f5f\"},\"baxis\":{\"endlinecolor\":\"#2a3f5f\",\"gridcolor\":\"#C8D4E3\",\"linecolor\":\"#C8D4E3\",\"minorgridcolor\":\"#C8D4E3\",\"startlinecolor\":\"#2a3f5f\"},\"type\":\"carpet\"}],\"choropleth\":[{\"colorbar\":{\"outlinewidth\":0,\"ticks\":\"\"},\"type\":\"choropleth\"}],\"contourcarpet\":[{\"colorbar\":{\"outlinewidth\":0,\"ticks\":\"\"},\"type\":\"contourcarpet\"}],\"contour\":[{\"colorbar\":{\"outlinewidth\":0,\"ticks\":\"\"},\"colorscale\":[[0.0,\"#0d0887\"],[0.1111111111111111,\"#46039f\"],[0.2222222222222222,\"#7201a8\"],[0.3333333333333333,\"#9c179e\"],[0.4444444444444444,\"#bd3786\"],[0.5555555555555556,\"#d8576b\"],[0.6666666666666666,\"#ed7953\"],[0.7777777777777778,\"#fb9f3a\"],[0.8888888888888888,\"#fdca26\"],[1.0,\"#f0f921\"]],\"type\":\"contour\"}],\"heatmapgl\":[{\"colorbar\":{\"outlinewidth\":0,\"ticks\":\"\"},\"colorscale\":[[0.0,\"#0d0887\"],[0.1111111111111111,\"#46039f\"],[0.2222222222222222,\"#7201a8\"],[0.3333333333333333,\"#9c179e\"],[0.4444444444444444,\"#bd3786\"],[0.5555555555555556,\"#d8576b\"],[0.6666666666666666,\"#ed7953\"],[0.7777777777777778,\"#fb9f3a\"],[0.8888888888888888,\"#fdca26\"],[1.0,\"#f0f921\"]],\"type\":\"heatmapgl\"}],\"heatmap\":[{\"colorbar\":{\"outlinewidth\":0,\"ticks\":\"\"},\"colorscale\":[[0.0,\"#0d0887\"],[0.1111111111111111,\"#46039f\"],[0.2222222222222222,\"#7201a8\"],[0.3333333333333333,\"#9c179e\"],[0.4444444444444444,\"#bd3786\"],[0.5555555555555556,\"#d8576b\"],[0.6666666666666666,\"#ed7953\"],[0.7777777777777778,\"#fb9f3a\"],[0.8888888888888888,\"#fdca26\"],[1.0,\"#f0f921\"]],\"type\":\"heatmap\"}],\"histogram2dcontour\":[{\"colorbar\":{\"outlinewidth\":0,\"ticks\":\"\"},\"colorscale\":[[0.0,\"#0d0887\"],[0.1111111111111111,\"#46039f\"],[0.2222222222222222,\"#7201a8\"],[0.3333333333333333,\"#9c179e\"],[0.4444444444444444,\"#bd3786\"],[0.5555555555555556,\"#d8576b\"],[0.6666666666666666,\"#ed7953\"],[0.7777777777777778,\"#fb9f3a\"],[0.8888888888888888,\"#fdca26\"],[1.0,\"#f0f921\"]],\"type\":\"histogram2dcontour\"}],\"histogram2d\":[{\"colorbar\":{\"outlinewidth\":0,\"ticks\":\"\"},\"colorscale\":[[0.0,\"#0d0887\"],[0.1111111111111111,\"#46039f\"],[0.2222222222222222,\"#7201a8\"],[0.3333333333333333,\"#9c179e\"],[0.4444444444444444,\"#bd3786\"],[0.5555555555555556,\"#d8576b\"],[0.6666666666666666,\"#ed7953\"],[0.7777777777777778,\"#fb9f3a\"],[0.8888888888888888,\"#fdca26\"],[1.0,\"#f0f921\"]],\"type\":\"histogram2d\"}],\"histogram\":[{\"marker\":{\"pattern\":{\"fillmode\":\"overlay\",\"size\":10,\"solidity\":0.2}},\"type\":\"histogram\"}],\"mesh3d\":[{\"colorbar\":{\"outlinewidth\":0,\"ticks\":\"\"},\"type\":\"mesh3d\"}],\"parcoords\":[{\"line\":{\"colorbar\":{\"outlinewidth\":0,\"ticks\":\"\"}},\"type\":\"parcoords\"}],\"pie\":[{\"automargin\":true,\"type\":\"pie\"}],\"scatter3d\":[{\"line\":{\"colorbar\":{\"outlinewidth\":0,\"ticks\":\"\"}},\"marker\":{\"colorbar\":{\"outlinewidth\":0,\"ticks\":\"\"}},\"type\":\"scatter3d\"}],\"scattercarpet\":[{\"marker\":{\"colorbar\":{\"outlinewidth\":0,\"ticks\":\"\"}},\"type\":\"scattercarpet\"}],\"scattergeo\":[{\"marker\":{\"colorbar\":{\"outlinewidth\":0,\"ticks\":\"\"}},\"type\":\"scattergeo\"}],\"scattergl\":[{\"marker\":{\"colorbar\":{\"outlinewidth\":0,\"ticks\":\"\"}},\"type\":\"scattergl\"}],\"scattermapbox\":[{\"marker\":{\"colorbar\":{\"outlinewidth\":0,\"ticks\":\"\"}},\"type\":\"scattermapbox\"}],\"scatterpolargl\":[{\"marker\":{\"colorbar\":{\"outlinewidth\":0,\"ticks\":\"\"}},\"type\":\"scatterpolargl\"}],\"scatterpolar\":[{\"marker\":{\"colorbar\":{\"outlinewidth\":0,\"ticks\":\"\"}},\"type\":\"scatterpolar\"}],\"scatter\":[{\"fillpattern\":{\"fillmode\":\"overlay\",\"size\":10,\"solidity\":0.2},\"type\":\"scatter\"}],\"scatterternary\":[{\"marker\":{\"colorbar\":{\"outlinewidth\":0,\"ticks\":\"\"}},\"type\":\"scatterternary\"}],\"surface\":[{\"colorbar\":{\"outlinewidth\":0,\"ticks\":\"\"},\"colorscale\":[[0.0,\"#0d0887\"],[0.1111111111111111,\"#46039f\"],[0.2222222222222222,\"#7201a8\"],[0.3333333333333333,\"#9c179e\"],[0.4444444444444444,\"#bd3786\"],[0.5555555555555556,\"#d8576b\"],[0.6666666666666666,\"#ed7953\"],[0.7777777777777778,\"#fb9f3a\"],[0.8888888888888888,\"#fdca26\"],[1.0,\"#f0f921\"]],\"type\":\"surface\"}],\"table\":[{\"cells\":{\"fill\":{\"color\":\"#EBF0F8\"},\"line\":{\"color\":\"white\"}},\"header\":{\"fill\":{\"color\":\"#C8D4E3\"},\"line\":{\"color\":\"white\"}},\"type\":\"table\"}]},\"layout\":{\"annotationdefaults\":{\"arrowcolor\":\"#2a3f5f\",\"arrowhead\":0,\"arrowwidth\":1},\"autotypenumbers\":\"strict\",\"coloraxis\":{\"colorbar\":{\"outlinewidth\":0,\"ticks\":\"\"}},\"colorscale\":{\"diverging\":[[0,\"#8e0152\"],[0.1,\"#c51b7d\"],[0.2,\"#de77ae\"],[0.3,\"#f1b6da\"],[0.4,\"#fde0ef\"],[0.5,\"#f7f7f7\"],[0.6,\"#e6f5d0\"],[0.7,\"#b8e186\"],[0.8,\"#7fbc41\"],[0.9,\"#4d9221\"],[1,\"#276419\"]],\"sequential\":[[0.0,\"#0d0887\"],[0.1111111111111111,\"#46039f\"],[0.2222222222222222,\"#7201a8\"],[0.3333333333333333,\"#9c179e\"],[0.4444444444444444,\"#bd3786\"],[0.5555555555555556,\"#d8576b\"],[0.6666666666666666,\"#ed7953\"],[0.7777777777777778,\"#fb9f3a\"],[0.8888888888888888,\"#fdca26\"],[1.0,\"#f0f921\"]],\"sequentialminus\":[[0.0,\"#0d0887\"],[0.1111111111111111,\"#46039f\"],[0.2222222222222222,\"#7201a8\"],[0.3333333333333333,\"#9c179e\"],[0.4444444444444444,\"#bd3786\"],[0.5555555555555556,\"#d8576b\"],[0.6666666666666666,\"#ed7953\"],[0.7777777777777778,\"#fb9f3a\"],[0.8888888888888888,\"#fdca26\"],[1.0,\"#f0f921\"]]},\"colorway\":[\"#636efa\",\"#EF553B\",\"#00cc96\",\"#ab63fa\",\"#FFA15A\",\"#19d3f3\",\"#FF6692\",\"#B6E880\",\"#FF97FF\",\"#FECB52\"],\"font\":{\"color\":\"#2a3f5f\"},\"geo\":{\"bgcolor\":\"white\",\"lakecolor\":\"white\",\"landcolor\":\"white\",\"showlakes\":true,\"showland\":true,\"subunitcolor\":\"#C8D4E3\"},\"hoverlabel\":{\"align\":\"left\"},\"hovermode\":\"closest\",\"mapbox\":{\"style\":\"light\"},\"paper_bgcolor\":\"white\",\"plot_bgcolor\":\"white\",\"polar\":{\"angularaxis\":{\"gridcolor\":\"#EBF0F8\",\"linecolor\":\"#EBF0F8\",\"ticks\":\"\"},\"bgcolor\":\"white\",\"radialaxis\":{\"gridcolor\":\"#EBF0F8\",\"linecolor\":\"#EBF0F8\",\"ticks\":\"\"}},\"scene\":{\"xaxis\":{\"backgroundcolor\":\"white\",\"gridcolor\":\"#DFE8F3\",\"gridwidth\":2,\"linecolor\":\"#EBF0F8\",\"showbackground\":true,\"ticks\":\"\",\"zerolinecolor\":\"#EBF0F8\"},\"yaxis\":{\"backgroundcolor\":\"white\",\"gridcolor\":\"#DFE8F3\",\"gridwidth\":2,\"linecolor\":\"#EBF0F8\",\"showbackground\":true,\"ticks\":\"\",\"zerolinecolor\":\"#EBF0F8\"},\"zaxis\":{\"backgroundcolor\":\"white\",\"gridcolor\":\"#DFE8F3\",\"gridwidth\":2,\"linecolor\":\"#EBF0F8\",\"showbackground\":true,\"ticks\":\"\",\"zerolinecolor\":\"#EBF0F8\"}},\"shapedefaults\":{\"line\":{\"color\":\"#2a3f5f\"}},\"ternary\":{\"aaxis\":{\"gridcolor\":\"#DFE8F3\",\"linecolor\":\"#A2B1C6\",\"ticks\":\"\"},\"baxis\":{\"gridcolor\":\"#DFE8F3\",\"linecolor\":\"#A2B1C6\",\"ticks\":\"\"},\"bgcolor\":\"white\",\"caxis\":{\"gridcolor\":\"#DFE8F3\",\"linecolor\":\"#A2B1C6\",\"ticks\":\"\"}},\"title\":{\"x\":0.05},\"xaxis\":{\"automargin\":true,\"gridcolor\":\"#EBF0F8\",\"linecolor\":\"#EBF0F8\",\"ticks\":\"\",\"title\":{\"standoff\":15},\"zerolinecolor\":\"#EBF0F8\",\"zerolinewidth\":2},\"yaxis\":{\"automargin\":true,\"gridcolor\":\"#EBF0F8\",\"linecolor\":\"#EBF0F8\",\"ticks\":\"\",\"title\":{\"standoff\":15},\"zerolinecolor\":\"#EBF0F8\",\"zerolinewidth\":2}}},\"legend\":{\"x\":0,\"y\":1},\"title\":{\"text\":\"JPM Prices Prediction\"},\"xaxis\":{\"title\":{\"text\":\"Dates\"}},\"yaxis\":{\"title\":{\"text\":\"Close Price (USD)\"}},\"width\":900,\"height\":500},                        {\"responsive\": true}                    ).then(function(){\n",
              "                            \n",
              "var gd = document.getElementById('c4264f81-fd6d-453c-8d01-6237f2a04938');\n",
              "var x = new MutationObserver(function (mutations, observer) {{\n",
              "        var display = window.getComputedStyle(gd).display;\n",
              "        if (!display || display === 'none') {{\n",
              "            console.log([gd, 'removed!']);\n",
              "            Plotly.purge(gd);\n",
              "            observer.disconnect();\n",
              "        }}\n",
              "}});\n",
              "\n",
              "// Listen for the removal of the full notebook cells\n",
              "var notebookContainer = gd.closest('#notebook-container');\n",
              "if (notebookContainer) {{\n",
              "    x.observe(notebookContainer, {childList: true});\n",
              "}}\n",
              "\n",
              "// Listen for the clearing of the current output cell\n",
              "var outputEl = gd.closest('.output');\n",
              "if (outputEl) {{\n",
              "    x.observe(outputEl, {childList: true});\n",
              "}}\n",
              "\n",
              "                        })                };                            </script>        </div>\n",
              "</body>\n",
              "</html>"
            ]
          },
          "metadata": {}
        }
      ]
    },
    {
      "cell_type": "markdown",
      "source": [
        "# Pfizer"
      ],
      "metadata": {
        "id": "UOAl_HXIJCps"
      }
    },
    {
      "cell_type": "code",
      "source": [
        "# Keep only 'Date' and 'Close' columns\n",
        "df_PFE = df_PFE[['Date', 'Close']]\n",
        "\n",
        "# Clean 'Close' column: remove commas, convert to float\n",
        "df_PFE['Close'] = df_PFE['Close'].astype(str).str.replace(',', '', regex=False)\n",
        "df_PFE = df_PFE[df_PFE['Close'].str.replace('.', '', regex=False).str.isnumeric()]\n",
        "df_PFE['Close'] = df_PFE['Close'].astype(float)\n",
        "\n",
        "# Convert 'Date' to datetime format\n",
        "df_PFE['Date'] = pd.to_datetime(df_PFE['Date'])\n",
        "\n",
        "# Set 'Date' as index\n",
        "df_PFE.set_index('Date', inplace=True)\n",
        "\n",
        "# Display the cleaned DataFrame\n",
        "print(df_PFE.head())"
      ],
      "metadata": {
        "colab": {
          "base_uri": "https://localhost:8080/"
        },
        "id": "54qfCjgEJD1g",
        "outputId": "1c3b944c-c112-4454-e93c-091c5ce06b32"
      },
      "execution_count": null,
      "outputs": [
        {
          "output_type": "stream",
          "name": "stdout",
          "text": [
            "                Close\n",
            "Date                 \n",
            "2015-03-03  21.528933\n",
            "2015-03-04  21.578766\n",
            "2015-03-05  21.472868\n",
            "2015-03-06  21.161398\n",
            "2015-03-09  21.198774\n"
          ]
        },
        {
          "output_type": "stream",
          "name": "stderr",
          "text": [
            "/tmp/ipython-input-11-1623775391.py:5: SettingWithCopyWarning: \n",
            "A value is trying to be set on a copy of a slice from a DataFrame.\n",
            "Try using .loc[row_indexer,col_indexer] = value instead\n",
            "\n",
            "See the caveats in the documentation: https://pandas.pydata.org/pandas-docs/stable/user_guide/indexing.html#returning-a-view-versus-a-copy\n",
            "  df_PFE['Close'] = df_PFE['Close'].astype(str).str.replace(',', '', regex=False)\n"
          ]
        }
      ]
    },
    {
      "cell_type": "code",
      "source": [
        "import matplotlib.pyplot as plt"
      ],
      "metadata": {
        "id": "66_VIcEXSuUM"
      },
      "execution_count": null,
      "outputs": []
    },
    {
      "cell_type": "code",
      "source": [
        "#First-order differencing\n",
        "df_PFE.diff().plot(figsize=(10,5))\n",
        "plt.xlabel('Year')"
      ],
      "metadata": {
        "colab": {
          "base_uri": "https://localhost:8080/",
          "height": 453
        },
        "id": "aNgdJmrkL5Je",
        "outputId": "168ba3d2-59bd-4ba6-d6d0-a1110d806f11"
      },
      "execution_count": null,
      "outputs": [
        {
          "output_type": "execute_result",
          "data": {
            "text/plain": [
              "Text(0.5, 0, 'Year')"
            ]
          },
          "metadata": {},
          "execution_count": 14
        },
        {
          "output_type": "display_data",
          "data": {
            "text/plain": [
              "<Figure size 1000x500 with 1 Axes>"
            ],
            "image/png": "[encoded data removed]"
          },
          "metadata": {}
        }
      ]
    },
    {
      "cell_type": "code",
      "source": [
        "from pmdarima import auto_arima\n",
        "\n",
        "auto_model = auto_arima(df_PFE['Close'], seasonal=False, stepwise=True, trace=True)\n",
        "print(auto_model.summary())"
      ],
      "metadata": {
        "colab": {
          "base_uri": "https://localhost:8080/"
        },
        "id": "WKJGLXpzMA8i",
        "outputId": "ed131bc4-28d4-4f03-9620-0686aedaa5f6"
      },
      "execution_count": null,
      "outputs": [
        {
          "output_type": "stream",
          "name": "stdout",
          "text": [
            "Performing stepwise search to minimize aic\n",
            " ARIMA(2,1,2)(0,0,0)[0] intercept   : AIC=3255.186, Time=4.11 sec\n",
            " ARIMA(0,1,0)(0,0,0)[0] intercept   : AIC=3279.892, Time=0.26 sec\n",
            " ARIMA(1,1,0)(0,0,0)[0] intercept   : AIC=3280.411, Time=0.22 sec\n",
            " ARIMA(0,1,1)(0,0,0)[0] intercept   : AIC=3280.411, Time=0.42 sec\n",
            " ARIMA(0,1,0)(0,0,0)[0]             : AIC=3277.905, Time=0.30 sec\n",
            " ARIMA(1,1,2)(0,0,0)[0] intercept   : AIC=3265.804, Time=2.02 sec\n",
            " ARIMA(2,1,1)(0,0,0)[0] intercept   : AIC=3284.409, Time=0.87 sec\n",
            " ARIMA(3,1,2)(0,0,0)[0] intercept   : AIC=3263.079, Time=7.26 sec\n",
            " ARIMA(2,1,3)(0,0,0)[0] intercept   : AIC=3263.439, Time=4.15 sec\n",
            " ARIMA(1,1,1)(0,0,0)[0] intercept   : AIC=3282.410, Time=2.53 sec\n",
            " ARIMA(1,1,3)(0,0,0)[0] intercept   : AIC=3261.618, Time=4.22 sec\n",
            " ARIMA(3,1,1)(0,0,0)[0] intercept   : AIC=3261.412, Time=2.75 sec\n",
            " ARIMA(3,1,3)(0,0,0)[0] intercept   : AIC=3259.811, Time=8.43 sec\n",
            " ARIMA(2,1,2)(0,0,0)[0]             : AIC=3253.200, Time=2.31 sec\n",
            " ARIMA(1,1,2)(0,0,0)[0]             : AIC=3263.819, Time=1.07 sec\n",
            " ARIMA(2,1,1)(0,0,0)[0]             : AIC=3282.423, Time=0.34 sec\n",
            " ARIMA(3,1,2)(0,0,0)[0]             : AIC=3261.092, Time=2.47 sec\n",
            " ARIMA(2,1,3)(0,0,0)[0]             : AIC=3261.452, Time=1.76 sec\n",
            " ARIMA(1,1,1)(0,0,0)[0]             : AIC=3280.424, Time=0.56 sec\n",
            " ARIMA(1,1,3)(0,0,0)[0]             : AIC=3259.632, Time=1.24 sec\n",
            " ARIMA(3,1,1)(0,0,0)[0]             : AIC=3259.425, Time=1.10 sec\n",
            " ARIMA(3,1,3)(0,0,0)[0]             : AIC=3256.211, Time=5.46 sec\n",
            "\n",
            "Best model:  ARIMA(2,1,2)(0,0,0)[0]          \n",
            "Total fit time: 53.859 seconds\n",
            "                               SARIMAX Results                                \n",
            "==============================================================================\n",
            "Dep. Variable:                      y   No. Observations:                 2598\n",
            "Model:               SARIMAX(2, 1, 2)   Log Likelihood               -1621.600\n",
            "Date:                Wed, 02 Jul 2025   AIC                           3253.200\n",
            "Time:                        13:51:39   BIC                           3282.510\n",
            "Sample:                             0   HQIC                          3263.820\n",
            "                               - 2598                                         \n",
            "Covariance Type:                  opg                                         \n",
            "==============================================================================\n",
            "                 coef    std err          z      P>|z|      [0.025      0.975]\n",
            "------------------------------------------------------------------------------\n",
            "ar.L1         -1.7596      0.048    -36.347      0.000      -1.855      -1.665\n",
            "ar.L2         -0.8270      0.043    -19.054      0.000      -0.912      -0.742\n",
            "ma.L1          1.7566      0.053     33.385      0.000       1.653       1.860\n",
            "ma.L2          0.8072      0.049     16.415      0.000       0.711       0.904\n",
            "sigma2         0.2041      0.003     73.916      0.000       0.199       0.210\n",
            "===================================================================================\n",
            "Ljung-Box (L1) (Q):                   0.22   Jarque-Bera (JB):              4768.55\n",
            "Prob(Q):                              0.64   Prob(JB):                         0.00\n",
            "Heteroskedasticity (H):               4.54   Skew:                             0.35\n",
            "Prob(H) (two-sided):                  0.00   Kurtosis:                         9.60\n",
            "===================================================================================\n",
            "\n",
            "Warnings:\n",
            "[1] Covariance matrix calculated using the outer product of gradients (complex-step).\n"
          ]
        }
      ]
    },
    {
      "cell_type": "code",
      "source": [
        "train_data, test_data = df_PFE[0:int(len(df_PFE)*0.85)], df_PFE[int(len(df_PFE)*0.85):]"
      ],
      "metadata": {
        "id": "QQm5SQ80WnG6"
      },
      "execution_count": null,
      "outputs": []
    },
    {
      "cell_type": "code",
      "source": [
        "import numpy as np\n",
        "import pandas as pd\n",
        "from statsmodels.tsa.arima.model import ARIMA\n",
        "from sklearn.metrics import mean_squared_error\n",
        "\n",
        "# Define SMAPE\n",
        "def smape_kun(y_true, y_pred):\n",
        "    y_true = np.array(y_true, dtype=float).flatten()\n",
        "    y_pred = np.array(y_pred, dtype=float).flatten()\n",
        "    return np.mean((np.abs(y_pred - y_true) * 200 / (np.abs(y_pred) + np.abs(y_true) + 1e-8)))\n",
        "\n",
        "# Ensure train_data and test_data are flat float arrays\n",
        "train_ar = np.array(train_data.values, dtype=float).flatten()\n",
        "test_ar = np.array(test_data.values, dtype=float).flatten()\n",
        "\n",
        "history = list(train_ar)\n",
        "predictions = []\n",
        "\n",
        "for t in range(len(test_ar)):\n",
        "    try:\n",
        "        model = ARIMA(history, order=(2,1,2))\n",
        "        model_fit = model.fit()\n",
        "        yhat = float(model_fit.forecast()[0])  # ensure scalar\n",
        "        predictions.append(yhat)\n",
        "        history.append(test_ar[t])\n",
        "    except Exception as e:\n",
        "        print(f\"Error at step {t}: {e}\")\n",
        "        predictions.append(history[-1])  # fallback prediction\n",
        "\n",
        "# Evaluation\n",
        "error = mean_squared_error(test_ar, predictions)\n",
        "print(f'Testing Mean Squared Error: {error:.3f}')\n",
        "\n",
        "error2 = smape_kun(test_ar, predictions)\n",
        "print(f'Symmetric Mean Absolute Percentage Error (SMAPE): {error2:.3f}')"
      ],
      "metadata": {
        "colab": {
          "base_uri": "https://localhost:8080/"
        },
        "id": "57bLj6rWMMBy",
        "outputId": "b44dd726-c020-4a3e-f8b7-23e713704eb8"
      },
      "execution_count": null,
      "outputs": [
        {
          "output_type": "stream",
          "name": "stdout",
          "text": [
            "Testing Mean Squared Error: 0.154\n",
            "Symmetric Mean Absolute Percentage Error (SMAPE): 1.183\n"
          ]
        }
      ]
    },
    {
      "cell_type": "code",
      "source": [
        "import numpy as np\n",
        "import pandas as pd\n",
        "from statsmodels.tsa.arima.model import ARIMA\n",
        "from sklearn.metrics import mean_squared_error, mean_absolute_percentage_error\n",
        "\n",
        "# Define SMAPE\n",
        "def smape_kun(y_true, y_pred):\n",
        "    y_true = np.array(y_true, dtype=float).flatten()\n",
        "    y_pred = np.array(y_pred, dtype=float).flatten()\n",
        "    return np.mean((np.abs(y_pred - y_true) * 200 / (np.abs(y_pred) + np.abs(y_true) + 1e-8)))\n",
        "\n",
        "# Define MBE\n",
        "def mean_bias_error(y_true, y_pred):\n",
        "    y_true = np.array(y_true, dtype=float).flatten()\n",
        "    y_pred = np.array(y_pred, dtype=float).flatten()\n",
        "    return np.mean(y_pred - y_true)\n",
        "\n",
        "# Ensure train_data and test_data are flat float arrays\n",
        "train_ar = np.array(train_data.values, dtype=float).flatten()\n",
        "test_ar = np.array(test_data.values, dtype=float).flatten()\n",
        "\n",
        "history = list(train_ar)\n",
        "predictions = []\n",
        "\n",
        "for t in range(len(test_ar)):\n",
        "    try:\n",
        "        model = ARIMA(history, order=(2,1,2))\n",
        "        model_fit = model.fit()\n",
        "        yhat = float(model_fit.forecast()[0])  # ensure scalar\n",
        "        predictions.append(yhat)\n",
        "        history.append(test_ar[t])\n",
        "    except Exception as e:\n",
        "        print(f\"Error at step {t}: {e}\")\n",
        "        predictions.append(history[-1])  # fallback prediction\n",
        "\n",
        "# Evaluation\n",
        "mse = mean_squared_error(test_ar, predictions)\n",
        "rmse = np.sqrt(mse)\n",
        "mape = mean_absolute_percentage_error(test_ar, predictions) * 100  # in percentage\n",
        "smape = smape_kun(test_ar, predictions)\n",
        "mbe = mean_bias_error(test_ar, predictions)\n",
        "\n",
        "# Print metrics\n",
        "print(f' RMSE: {rmse:.2f}')\n",
        "print(f' MAPE: {mape:.2f}%')\n",
        "print(f' MBE : {mbe:.2f}')\n",
        "print(f' SMAPE: {smape:.2f}%')"
      ],
      "metadata": {
        "colab": {
          "base_uri": "https://localhost:8080/"
        },
        "id": "8rNtX7k39gSK",
        "outputId": "59741dcd-2b09-46e5-de7d-b7c8ab82902f"
      },
      "execution_count": null,
      "outputs": [
        {
          "output_type": "stream",
          "name": "stderr",
          "text": [
            "/usr/local/lib/python3.11/dist-packages/statsmodels/base/model.py:607: ConvergenceWarning: Maximum Likelihood optimization failed to converge. Check mle_retvals\n",
            "  warnings.warn(\"Maximum Likelihood optimization failed to \"\n"
          ]
        },
        {
          "output_type": "stream",
          "name": "stdout",
          "text": [
            " RMSE: 0.39\n",
            " MAPE: 1.18%\n",
            " MBE : 0.01\n",
            " SMAPE: 1.18%\n"
          ]
        }
      ]
    },
    {
      "cell_type": "code",
      "source": [
        "import numpy as np\n",
        "import plotly.graph_objects as go\n",
        "\n",
        "# Ensure predictions is a flat array\n",
        "predictions = np.array(predictions).flatten()\n",
        "\n",
        "# Ensure test_data is a Series with proper index\n",
        "if isinstance(test_data, pd.DataFrame):\n",
        "    test_data = test_data.squeeze()\n",
        "\n",
        "# Ensure lengths match\n",
        "min_len = min(len(predictions), len(test_data))\n",
        "predictions = predictions[:min_len]\n",
        "actual = test_data.values[:min_len]\n",
        "dates = test_data.index[:min_len]\n",
        "\n",
        "# Plot with Plotly\n",
        "fig = go.Figure()\n",
        "\n",
        "fig.add_trace(go.Scatter(\n",
        "    x=dates,\n",
        "    y=predictions,\n",
        "    mode='lines',\n",
        "    name='Predicted Price',\n",
        "    line=dict(color='green', width=4)\n",
        "))\n",
        "\n",
        "fig.add_trace(go.Scatter(\n",
        "    x=dates,\n",
        "    y=actual,\n",
        "    mode='lines',\n",
        "    name='Actual Price',\n",
        "    line=dict(color='red')\n",
        "))\n",
        "\n",
        "fig.update_layout(\n",
        "    title='PFE Prices Prediction',\n",
        "    xaxis_title='Dates',\n",
        "    yaxis_title='Close Price (USD)',\n",
        "    legend=dict(x=0, y=1),\n",
        "    template='plotly_white',\n",
        "    width=900,\n",
        "    height=500\n",
        ")\n",
        "\n",
        "fig.show()"
      ],
      "metadata": {
        "colab": {
          "base_uri": "https://localhost:8080/",
          "height": 517
        },
        "id": "OSJOipgOMPHs",
        "outputId": "a9a90ccb-db2c-418e-8eb2-2ac83c6ecc2c"
      },
      "execution_count": null,
      "outputs": [
        {
          "output_type": "display_data",
          "data": {
            "text/html": [
              "<html>\n",
              "<head><meta charset=\"utf-8\" /></head>\n",
              "<body>\n",
              "    <div>            <script src=\"https://cdnjs.cloudflare.com/ajax/libs/mathjax/2.7.5/MathJax.js?config=TeX-AMS-MML_SVG\"></script><script type=\"text/javascript\">if (window.MathJax && window.MathJax.Hub && window.MathJax.Hub.Config) {window.MathJax.Hub.Config({SVG: {font: \"STIX-Web\"}});}</script>                <script type=\"text/javascript\">window.PlotlyConfig = {MathJaxConfig: 'local'};</script>\n",
              "        <script charset=\"utf-8\" src=\"https://cdn.plot.ly/plotly-2.35.2.min.js\"></script>                <div id=\"74eaf1ec-345e-4c06-969e-f00730b7f51d\" class=\"plotly-graph-div\" style=\"height:500px; width:900px;\"></div>            <script type=\"text/javascript\">                                    window.PLOTLYENV=window.PLOTLYENV || {};                                    if (document.getElementById(\"74eaf1ec-345e-4c06-969e-f00730b7f51d\")) {                    Plotly.newPlot(                        \"74eaf1ec-345e-4c06-969e-f00730b7f51d\",                        [{\"line\":{\"color\":\"green\",\"width\":4},\"mode\":\"lines\",\"name\":\"Predicted Price\",\"x\":[\"2023-12-07T00:00:00\",\"2023-12-08T00:00:00\",\"2023-12-11T00:00:00\",\"2023-12-12T00:00:00\",\"2023-12-13T00:00:00\",\"2023-12-14T00:00:00\",\"2023-12-15T00:00:00\",\"2023-12-18T00:00:00\",\"2023-12-19T00:00:00\",\"2023-12-20T00:00:00\",\"2023-12-21T00:00:00\",\"2023-12-22T00:00:00\",\"2023-12-26T00:00:00\",\"2023-12-27T00:00:00\",\"2023-12-28T00:00:00\",\"2023-12-29T00:00:00\",\"2024-01-02T00:00:00\",\"2024-01-03T00:00:00\",\"2024-01-04T00:00:00\",\"2024-01-05T00:00:00\",\"2024-01-08T00:00:00\",\"2024-01-09T00:00:00\",\"2024-01-10T00:00:00\",\"2024-01-11T00:00:00\",\"2024-01-12T00:00:00\",\"2024-01-16T00:00:00\",\"2024-01-17T00:00:00\",\"2024-01-18T00:00:00\",\"2024-01-19T00:00:00\",\"2024-01-22T00:00:00\",\"2024-01-23T00:00:00\",\"2024-01-24T00:00:00\",\"2024-01-25T00:00:00\",\"2024-01-26T00:00:00\",\"2024-01-29T00:00:00\",\"2024-01-30T00:00:00\",\"2024-01-31T00:00:00\",\"2024-02-01T00:00:00\",\"2024-02-02T00:00:00\",\"2024-02-05T00:00:00\",\"2024-02-06T00:00:00\",\"2024-02-07T00:00:00\",\"2024-02-08T00:00:00\",\"2024-02-09T00:00:00\",\"2024-02-12T00:00:00\",\"2024-02-13T00:00:00\",\"2024-02-14T00:00:00\",\"2024-02-15T00:00:00\",\"2024-02-16T00:00:00\",\"2024-02-20T00:00:00\",\"2024-02-21T00:00:00\",\"2024-02-22T00:00:00\",\"2024-02-23T00:00:00\",\"2024-02-26T00:00:00\",\"2024-02-27T00:00:00\",\"2024-02-28T00:00:00\",\"2024-02-29T00:00:00\",\"2024-03-01T00:00:00\",\"2024-03-04T00:00:00\",\"2024-03-05T00:00:00\",\"2024-03-06T00:00:00\",\"2024-03-07T00:00:00\",\"2024-03-08T00:00:00\",\"2024-03-11T00:00:00\",\"2024-03-12T00:00:00\",\"2024-03-13T00:00:00\",\"2024-03-14T00:00:00\",\"2024-03-15T00:00:00\",\"2024-03-18T00:00:00\",\"2024-03-19T00:00:00\",\"2024-03-20T00:00:00\",\"2024-03-21T00:00:00\",\"2024-03-22T00:00:00\",\"2024-03-25T00:00:00\",\"2024-03-26T00:00:00\",\"2024-03-27T00:00:00\",\"2024-03-28T00:00:00\",\"2024-04-01T00:00:00\",\"2024-04-02T00:00:00\",\"2024-04-03T00:00:00\",\"2024-04-04T00:00:00\",\"2024-04-05T00:00:00\",\"2024-04-08T00:00:00\",\"2024-04-09T00:00:00\",\"2024-04-10T00:00:00\",\"2024-04-11T00:00:00\",\"2024-04-12T00:00:00\",\"2024-04-15T00:00:00\",\"2024-04-16T00:00:00\",\"2024-04-17T00:00:00\",\"2024-04-18T00:00:00\",\"2024-04-19T00:00:00\",\"2024-04-22T00:00:00\",\"2024-04-23T00:00:00\",\"2024-04-24T00:00:00\",\"2024-04-25T00:00:00\",\"2024-04-26T00:00:00\",\"2024-04-29T00:00:00\",\"2024-04-30T00:00:00\",\"2024-05-01T00:00:00\",\"2024-05-02T00:00:00\",\"2024-05-03T00:00:00\",\"2024-05-06T00:00:00\",\"2024-05-07T00:00:00\",\"2024-05-08T00:00:00\",\"2024-05-09T00:00:00\",\"2024-05-10T00:00:00\",\"2024-05-13T00:00:00\",\"2024-05-14T00:00:00\",\"2024-05-15T00:00:00\",\"2024-05-16T00:00:00\",\"2024-05-17T00:00:00\",\"2024-05-20T00:00:00\",\"2024-05-21T00:00:00\",\"2024-05-22T00:00:00\",\"2024-05-23T00:00:00\",\"2024-05-24T00:00:00\",\"2024-05-28T00:00:00\",\"2024-05-29T00:00:00\",\"2024-05-30T00:00:00\",\"2024-05-31T00:00:00\",\"2024-06-03T00:00:00\",\"2024-06-04T00:00:00\",\"2024-06-05T00:00:00\",\"2024-06-06T00:00:00\",\"2024-06-07T00:00:00\",\"2024-06-10T00:00:00\",\"2024-06-11T00:00:00\",\"2024-06-12T00:00:00\",\"2024-06-13T00:00:00\",\"2024-06-14T00:00:00\",\"2024-06-17T00:00:00\",\"2024-06-18T00:00:00\",\"2024-06-20T00:00:00\",\"2024-06-21T00:00:00\",\"2024-06-24T00:00:00\",\"2024-06-25T00:00:00\",\"2024-06-26T00:00:00\",\"2024-06-27T00:00:00\",\"2024-06-28T00:00:00\",\"2024-07-01T00:00:00\",\"2024-07-02T00:00:00\",\"2024-07-03T00:00:00\",\"2024-07-05T00:00:00\",\"2024-07-08T00:00:00\",\"2024-07-09T00:00:00\",\"2024-07-10T00:00:00\",\"2024-07-11T00:00:00\",\"2024-07-12T00:00:00\",\"2024-07-15T00:00:00\",\"2024-07-16T00:00:00\",\"2024-07-17T00:00:00\",\"2024-07-18T00:00:00\",\"2024-07-19T00:00:00\",\"2024-07-22T00:00:00\",\"2024-07-23T00:00:00\",\"2024-07-24T00:00:00\",\"2024-07-25T00:00:00\",\"2024-07-26T00:00:00\",\"2024-07-29T00:00:00\",\"2024-07-30T00:00:00\",\"2024-07-31T00:00:00\",\"2024-08-01T00:00:00\",\"2024-08-02T00:00:00\",\"2024-08-05T00:00:00\",\"2024-08-06T00:00:00\",\"2024-08-07T00:00:00\",\"2024-08-08T00:00:00\",\"2024-08-09T00:00:00\",\"2024-08-12T00:00:00\",\"2024-08-13T00:00:00\",\"2024-08-14T00:00:00\",\"2024-08-15T00:00:00\",\"2024-08-16T00:00:00\",\"2024-08-19T00:00:00\",\"2024-08-20T00:00:00\",\"2024-08-21T00:00:00\",\"2024-08-22T00:00:00\",\"2024-08-23T00:00:00\",\"2024-08-26T00:00:00\",\"2024-08-27T00:00:00\",\"2024-08-28T00:00:00\",\"2024-08-29T00:00:00\",\"2024-08-30T00:00:00\",\"2024-09-03T00:00:00\",\"2024-09-04T00:00:00\",\"2024-09-05T00:00:00\",\"2024-09-06T00:00:00\",\"2024-09-09T00:00:00\",\"2024-09-10T00:00:00\",\"2024-09-11T00:00:00\",\"2024-09-12T00:00:00\",\"2024-09-13T00:00:00\",\"2024-09-16T00:00:00\",\"2024-09-17T00:00:00\",\"2024-09-18T00:00:00\",\"2024-09-19T00:00:00\",\"2024-09-20T00:00:00\",\"2024-09-23T00:00:00\",\"2024-09-24T00:00:00\",\"2024-09-25T00:00:00\",\"2024-09-26T00:00:00\",\"2024-09-27T00:00:00\",\"2024-09-30T00:00:00\",\"2024-10-01T00:00:00\",\"2024-10-02T00:00:00\",\"2024-10-03T00:00:00\",\"2024-10-04T00:00:00\",\"2024-10-07T00:00:00\",\"2024-10-08T00:00:00\",\"2024-10-09T00:00:00\",\"2024-10-10T00:00:00\",\"2024-10-11T00:00:00\",\"2024-10-14T00:00:00\",\"2024-10-15T00:00:00\",\"2024-10-16T00:00:00\",\"2024-10-17T00:00:00\",\"2024-10-18T00:00:00\",\"2024-10-21T00:00:00\",\"2024-10-22T00:00:00\",\"2024-10-23T00:00:00\",\"2024-10-24T00:00:00\",\"2024-10-25T00:00:00\",\"2024-10-28T00:00:00\",\"2024-10-29T00:00:00\",\"2024-10-30T00:00:00\",\"2024-10-31T00:00:00\",\"2024-11-01T00:00:00\",\"2024-11-04T00:00:00\",\"2024-11-05T00:00:00\",\"2024-11-06T00:00:00\",\"2024-11-07T00:00:00\",\"2024-11-08T00:00:00\",\"2024-11-11T00:00:00\",\"2024-11-12T00:00:00\",\"2024-11-13T00:00:00\",\"2024-11-14T00:00:00\",\"2024-11-15T00:00:00\",\"2024-11-18T00:00:00\",\"2024-11-19T00:00:00\",\"2024-11-20T00:00:00\",\"2024-11-21T00:00:00\",\"2024-11-22T00:00:00\",\"2024-11-25T00:00:00\",\"2024-11-26T00:00:00\",\"2024-11-27T00:00:00\",\"2024-11-29T00:00:00\",\"2024-12-02T00:00:00\",\"2024-12-03T00:00:00\",\"2024-12-04T00:00:00\",\"2024-12-05T00:00:00\",\"2024-12-06T00:00:00\",\"2024-12-09T00:00:00\",\"2024-12-10T00:00:00\",\"2024-12-11T00:00:00\",\"2024-12-12T00:00:00\",\"2024-12-13T00:00:00\",\"2024-12-16T00:00:00\",\"2024-12-17T00:00:00\",\"2024-12-18T00:00:00\",\"2024-12-19T00:00:00\",\"2024-12-20T00:00:00\",\"2024-12-23T00:00:00\",\"2024-12-24T00:00:00\",\"2024-12-26T00:00:00\",\"2024-12-27T00:00:00\",\"2024-12-30T00:00:00\",\"2024-12-31T00:00:00\",\"2025-01-02T00:00:00\",\"2025-01-03T00:00:00\",\"2025-01-06T00:00:00\",\"2025-01-07T00:00:00\",\"2025-01-08T00:00:00\",\"2025-01-10T00:00:00\",\"2025-01-13T00:00:00\",\"2025-01-14T00:00:00\",\"2025-01-15T00:00:00\",\"2025-01-16T00:00:00\",\"2025-01-17T00:00:00\",\"2025-01-21T00:00:00\",\"2025-01-22T00:00:00\",\"2025-01-23T00:00:00\",\"2025-01-24T00:00:00\",\"2025-01-27T00:00:00\",\"2025-01-28T00:00:00\",\"2025-01-29T00:00:00\",\"2025-01-30T00:00:00\",\"2025-01-31T00:00:00\",\"2025-02-03T00:00:00\",\"2025-02-04T00:00:00\",\"2025-02-05T00:00:00\",\"2025-02-06T00:00:00\",\"2025-02-07T00:00:00\",\"2025-02-10T00:00:00\",\"2025-02-11T00:00:00\",\"2025-02-12T00:00:00\",\"2025-02-13T00:00:00\",\"2025-02-14T00:00:00\",\"2025-02-18T00:00:00\",\"2025-02-19T00:00:00\",\"2025-02-20T00:00:00\",\"2025-02-21T00:00:00\",\"2025-02-24T00:00:00\",\"2025-02-25T00:00:00\",\"2025-02-26T00:00:00\",\"2025-02-27T00:00:00\",\"2025-02-28T00:00:00\",\"2025-03-03T00:00:00\",\"2025-03-04T00:00:00\",\"2025-03-05T00:00:00\",\"2025-03-06T00:00:00\",\"2025-03-07T00:00:00\",\"2025-03-10T00:00:00\",\"2025-03-11T00:00:00\",\"2025-03-12T00:00:00\",\"2025-03-13T00:00:00\",\"2025-03-14T00:00:00\",\"2025-03-17T00:00:00\",\"2025-03-18T00:00:00\",\"2025-03-19T00:00:00\",\"2025-03-20T00:00:00\",\"2025-03-21T00:00:00\",\"2025-03-24T00:00:00\",\"2025-03-25T00:00:00\",\"2025-03-26T00:00:00\",\"2025-03-27T00:00:00\",\"2025-03-28T00:00:00\",\"2025-03-31T00:00:00\",\"2025-04-01T00:00:00\",\"2025-04-02T00:00:00\",\"2025-04-03T00:00:00\",\"2025-04-04T00:00:00\",\"2025-04-07T00:00:00\",\"2025-04-08T00:00:00\",\"2025-04-09T00:00:00\",\"2025-04-10T00:00:00\",\"2025-04-11T00:00:00\",\"2025-04-14T00:00:00\",\"2025-04-15T00:00:00\",\"2025-04-16T00:00:00\",\"2025-04-17T00:00:00\",\"2025-04-21T00:00:00\",\"2025-04-22T00:00:00\",\"2025-04-23T00:00:00\",\"2025-04-24T00:00:00\",\"2025-04-25T00:00:00\",\"2025-04-28T00:00:00\",\"2025-04-29T00:00:00\",\"2025-04-30T00:00:00\",\"2025-05-01T00:00:00\",\"2025-05-02T00:00:00\",\"2025-05-05T00:00:00\",\"2025-05-06T00:00:00\",\"2025-05-07T00:00:00\",\"2025-05-08T00:00:00\",\"2025-05-09T00:00:00\",\"2025-05-12T00:00:00\",\"2025-05-13T00:00:00\",\"2025-05-14T00:00:00\",\"2025-05-15T00:00:00\",\"2025-05-16T00:00:00\",\"2025-05-19T00:00:00\",\"2025-05-20T00:00:00\",\"2025-05-21T00:00:00\",\"2025-05-22T00:00:00\",\"2025-05-23T00:00:00\",\"2025-05-27T00:00:00\",\"2025-05-28T00:00:00\",\"2025-05-29T00:00:00\",\"2025-05-30T00:00:00\",\"2025-06-02T00:00:00\",\"2025-06-03T00:00:00\",\"2025-06-04T00:00:00\",\"2025-06-05T00:00:00\",\"2025-06-06T00:00:00\",\"2025-06-09T00:00:00\",\"2025-06-10T00:00:00\",\"2025-06-11T00:00:00\",\"2025-06-12T00:00:00\",\"2025-06-13T00:00:00\",\"2025-06-16T00:00:00\",\"2025-06-17T00:00:00\",\"2025-06-18T00:00:00\",\"2025-06-20T00:00:00\",\"2025-06-23T00:00:00\",\"2025-06-24T00:00:00\",\"2025-06-25T00:00:00\",\"2025-06-26T00:00:00\",\"2025-06-27T00:00:00\",\"2025-06-30T00:00:00\"],\"y\":[26.273896628948055,25.956926870948337,26.27239055772199,25.962818099387295,26.089456973914498,24.168157962167193,23.87590418252742,24.117021492601495,24.716583357916598,25.52459238896847,25.20276860696516,25.718678915260025,25.831884927543967,25.879674693150534,25.968104002617068,26.263684369411305,26.10623861817369,27.136141490292324,26.9403164750328,26.57684670611379,26.704367627972992,26.997005264641267,26.674253818645052,26.42980688345995,25.798742545634877,26.136292221964414,25.740170624731636,25.63288612409075,25.531940156568986,25.746420831245263,25.733918046961165,25.882116892559193,25.75313441789482,25.385648279882243,25.353305256870318,25.38114401782275,24.949323830497015,25.009522437352118,25.193160660058187,24.872185383471745,24.536213451873767,25.39420582949445,25.43394389366984,25.483667593022442,25.415836968416354,25.57966686772493,24.860399630460815,25.08945424856255,25.33787616923436,25.56844574688225,25.414551505403015,25.608877614516274,25.385806678931797,25.683571409255457,25.04996198434314,24.882632113433697,24.919690625082247,24.56692351812527,24.52693364999334,23.918165494625732,24.09416078159403,25.07610296011572,24.7677104745444,25.11404904914809,26.205990760510776,25.84915368806884,26.083518392127335,25.940109319575647,25.842727855470986,25.55153237793522,25.561480619842424,25.531632929910746,25.58377539851478,25.226964886100475,25.364563790375204,25.44340612497943,25.68021691711748,25.599190324365356,25.618800962429738,25.421244397740413,25.151268544322,24.598073180748166,24.63101872961368,24.529118208656723,24.74605560511197,24.281635288419068,24.354030006635323,23.839997646371465,23.975613891630648,23.66391506012008,23.537741848146386,23.381442457488625,24.07024364165404,24.18369523413394,24.365239096207578,24.201274129519994,23.373371465869482,23.42864536167641,23.680667077828755,23.667441619105528,25.08088526007088,25.581359027020326,25.68157641763614,25.99718268254216,25.6462797896862,26.109558789038758,26.396908564566385,26.275893802035327,26.637391367969084,26.614498505397687,27.009602790616775,27.099295998166333,26.86099941414036,26.723278061112968,26.79170650701356,27.725466682772357,26.894331712056708,27.09523807466742,26.476351669842252,26.153735017290817,26.344313721872886,26.95194363354677,27.38314770676944,27.719915087262837,27.63060353156856,27.048279393837163,26.76001305153065,26.320299488088576,26.287327394242933,25.89358645860831,25.969443784541756,25.73855339295808,25.36443662861438,25.62113780020452,26.059961320161644,25.951194411622932,26.625196615480128,26.192407377895183,25.748442280524145,26.019502039560255,26.25134973040613,26.43690599405906,26.08680692579242,25.979176920434426,26.266829284439304,26.206924788781983,25.955912996015442,26.60305152666009,26.82531370329759,27.14813234733286,27.232811152825825,27.69379328337771,28.104146821712703,27.882869213008433,28.070759547494195,27.748979072420937,27.66581002210557,28.07437617753489,28.318405898111372,29.21792091954195,29.2173951229921,29.83649896451199,29.00879388925132,29.18705448075969,28.84773453615637,28.36866856256164,27.77007676591016,27.52723372971622,27.24376906626928,27.22188164683184,26.975597566320634,27.477493981897858,27.40621648308626,27.32681565823012,26.875614607447496,27.397405762121036,27.44640539945011,27.619616981934303,27.330668323537434,27.501260360071193,27.456323550861843,27.4297937108171,27.2959475326897,27.33023738639198,27.549529227816866,26.917243468967595,26.989785029911523,27.079191667168704,27.18082290521398,27.91539201973653,28.302135394304614,28.16380638518648,27.744348304300463,27.80835182761542,28.587439166522124,28.347479971350815,28.29263619354351,28.17666336685426,27.984960691779385,27.84313558835136,28.05871162616166,27.479499295762746,27.567527672806943,27.614668102560863,27.54821936690655,27.215158406528907,27.233392241445166,26.902352261958164,27.20480869958904,27.716688725555272,27.767326507965592,28.678488632575988,27.882943403677345,27.75998434672043,27.57657379206899,28.06779450630728,28.102667556425907,27.92859634297133,27.67675023729652,27.588454638346846,27.34216771291263,27.48918008826136,27.18304778506728,27.073538717604116,27.416305275125715,27.050954578903397,27.133667734309277,26.859055707171024,26.759292648868676,26.321896947959498,26.680130802252986,25.92613220115857,26.196036465899702,25.692381388249633,25.43901616264694,25.180038905674916,25.884465930470355,25.031828846397804,24.033574760013103,23.924919784092534,24.281109083246466,24.039457664783466,24.28218760127602,24.74420046049513,25.26296580302028,24.880133021018896,24.933758539401104,25.297713196657405,24.92476785583294,24.682873934424684,24.34293165635646,24.82794921390794,24.805409001613395,25.23569623090614,24.631478118608925,24.42338676733075,24.417767328849706,24.762777470113313,24.306418874185326,25.580744018601518,24.90913116541643,24.979857217506137,25.33119263480463,25.888776256937838,25.71338888823113,25.72878380994782,25.622301026846245,25.561729128530327,25.57181784643672,25.705201874919037,25.66556918686575,25.946785014538843,26.20380710419436,25.907431027899204,25.824050970681284,25.836145519680667,25.529159482442946,25.284344261610542,25.592474989384797,25.367455873356946,25.738039457784435,25.081276489288907,25.56343900369561,25.542781172812223,26.422978282001342,26.16509383231859,26.219503027546487,26.303741745766633,26.120211189171503,25.63268377114638,25.451475450838526,25.896015626675002,25.37025678865355,25.270222923658775,25.347030079743252,25.1088360687127,24.932798657295265,25.220927003204118,24.990466810521593,25.142920585861255,25.34489124104639,25.464467844577975,25.767657652490435,26.171368459610495,26.227868980286495,25.928795455832656,25.622948102508513,25.91782130099422,25.773379077211867,25.26196753439975,25.463209423275398,25.73295651586186,26.24215113672312,26.121940138926114,25.53136918625258,25.209748042060983,25.13770934744654,25.225935723799637,25.56743718169854,25.811123457801305,25.721314821098353,25.703439000749547,25.78011922020584,25.660095021850527,25.06581051592098,24.753561359683825,24.526657278420487,24.7557268804761,24.842509025725253,24.106113327983667,24.226906488335583,23.831482233396944,22.566316569723206,22.190140227825534,21.44654011966065,22.068445578888056,21.16496595882429,21.555303475311508,21.616448943926354,22.12486392344459,21.51029919302893,21.85526385038192,21.492400130660016,22.23971702149819,21.83822885781311,22.48085957835887,22.363978498202442,22.734349490762,23.234774553438612,24.030285807735044,23.42352982896665,23.796599969929158,23.379361226900002,22.50375670699306,22.331472309457926,22.55509356328812,22.276580230205134,23.085089602150425,22.8646518683571,22.04316065339016,22.578820215377558,22.833205276144927,23.005049302379426,23.50262718329244,23.05696189197059,23.034059660784703,23.315790270316043,23.615457535790284,23.169286949936964,23.472171222839112,23.4540315324216,23.504564011156756,23.301757242090087,23.440899798332243,23.06969526484482,23.40195237477361,23.912372785422917,24.34549465988695,24.439288903159355,24.869960356171944,24.514082695061287,24.427968846409836,23.976092200521283,23.90800818716649,23.942247466781318,24.05410447641903,24.287858560581846,24.27392463049932,24.234498096595207,24.18899639639446],\"type\":\"scatter\"},{\"line\":{\"color\":\"red\"},\"mode\":\"lines\",\"name\":\"Actual Price\",\"x\":[\"2023-12-07T00:00:00\",\"2023-12-08T00:00:00\",\"2023-12-11T00:00:00\",\"2023-12-12T00:00:00\",\"2023-12-13T00:00:00\",\"2023-12-14T00:00:00\",\"2023-12-15T00:00:00\",\"2023-12-18T00:00:00\",\"2023-12-19T00:00:00\",\"2023-12-20T00:00:00\",\"2023-12-21T00:00:00\",\"2023-12-22T00:00:00\",\"2023-12-26T00:00:00\",\"2023-12-27T00:00:00\",\"2023-12-28T00:00:00\",\"2023-12-29T00:00:00\",\"2024-01-02T00:00:00\",\"2024-01-03T00:00:00\",\"2024-01-04T00:00:00\",\"2024-01-05T00:00:00\",\"2024-01-08T00:00:00\",\"2024-01-09T00:00:00\",\"2024-01-10T00:00:00\",\"2024-01-11T00:00:00\",\"2024-01-12T00:00:00\",\"2024-01-16T00:00:00\",\"2024-01-17T00:00:00\",\"2024-01-18T00:00:00\",\"2024-01-19T00:00:00\",\"2024-01-22T00:00:00\",\"2024-01-23T00:00:00\",\"2024-01-24T00:00:00\",\"2024-01-25T00:00:00\",\"2024-01-26T00:00:00\",\"2024-01-29T00:00:00\",\"2024-01-30T00:00:00\",\"2024-01-31T00:00:00\",\"2024-02-01T00:00:00\",\"2024-02-02T00:00:00\",\"2024-02-05T00:00:00\",\"2024-02-06T00:00:00\",\"2024-02-07T00:00:00\",\"2024-02-08T00:00:00\",\"2024-02-09T00:00:00\",\"2024-02-12T00:00:00\",\"2024-02-13T00:00:00\",\"2024-02-14T00:00:00\",\"2024-02-15T00:00:00\",\"2024-02-16T00:00:00\",\"2024-02-20T00:00:00\",\"2024-02-21T00:00:00\",\"2024-02-22T00:00:00\",\"2024-02-23T00:00:00\",\"2024-02-26T00:00:00\",\"2024-02-27T00:00:00\",\"2024-02-28T00:00:00\",\"2024-02-29T00:00:00\",\"2024-03-01T00:00:00\",\"2024-03-04T00:00:00\",\"2024-03-05T00:00:00\",\"2024-03-06T00:00:00\",\"2024-03-07T00:00:00\",\"2024-03-08T00:00:00\",\"2024-03-11T00:00:00\",\"2024-03-12T00:00:00\",\"2024-03-13T00:00:00\",\"2024-03-14T00:00:00\",\"2024-03-15T00:00:00\",\"2024-03-18T00:00:00\",\"2024-03-19T00:00:00\",\"2024-03-20T00:00:00\",\"2024-03-21T00:00:00\",\"2024-03-22T00:00:00\",\"2024-03-25T00:00:00\",\"2024-03-26T00:00:00\",\"2024-03-27T00:00:00\",\"2024-03-28T00:00:00\",\"2024-04-01T00:00:00\",\"2024-04-02T00:00:00\",\"2024-04-03T00:00:00\",\"2024-04-04T00:00:00\",\"2024-04-05T00:00:00\",\"2024-04-08T00:00:00\",\"2024-04-09T00:00:00\",\"2024-04-10T00:00:00\",\"2024-04-11T00:00:00\",\"2024-04-12T00:00:00\",\"2024-04-15T00:00:00\",\"2024-04-16T00:00:00\",\"2024-04-17T00:00:00\",\"2024-04-18T00:00:00\",\"2024-04-19T00:00:00\",\"2024-04-22T00:00:00\",\"2024-04-23T00:00:00\",\"2024-04-24T00:00:00\",\"2024-04-25T00:00:00\",\"2024-04-26T00:00:00\",\"2024-04-29T00:00:00\",\"2024-04-30T00:00:00\",\"2024-05-01T00:00:00\",\"2024-05-02T00:00:00\",\"2024-05-03T00:00:00\",\"2024-05-06T00:00:00\",\"2024-05-07T00:00:00\",\"2024-05-08T00:00:00\",\"2024-05-09T00:00:00\",\"2024-05-10T00:00:00\",\"2024-05-13T00:00:00\",\"2024-05-14T00:00:00\",\"2024-05-15T00:00:00\",\"2024-05-16T00:00:00\",\"2024-05-17T00:00:00\",\"2024-05-20T00:00:00\",\"2024-05-21T00:00:00\",\"2024-05-22T00:00:00\",\"2024-05-23T00:00:00\",\"2024-05-24T00:00:00\",\"2024-05-28T00:00:00\",\"2024-05-29T00:00:00\",\"2024-05-30T00:00:00\",\"2024-05-31T00:00:00\",\"2024-06-03T00:00:00\",\"2024-06-04T00:00:00\",\"2024-06-05T00:00:00\",\"2024-06-06T00:00:00\",\"2024-06-07T00:00:00\",\"2024-06-10T00:00:00\",\"2024-06-11T00:00:00\",\"2024-06-12T00:00:00\",\"2024-06-13T00:00:00\",\"2024-06-14T00:00:00\",\"2024-06-17T00:00:00\",\"2024-06-18T00:00:00\",\"2024-06-20T00:00:00\",\"2024-06-21T00:00:00\",\"2024-06-24T00:00:00\",\"2024-06-25T00:00:00\",\"2024-06-26T00:00:00\",\"2024-06-27T00:00:00\",\"2024-06-28T00:00:00\",\"2024-07-01T00:00:00\",\"2024-07-02T00:00:00\",\"2024-07-03T00:00:00\",\"2024-07-05T00:00:00\",\"2024-07-08T00:00:00\",\"2024-07-09T00:00:00\",\"2024-07-10T00:00:00\",\"2024-07-11T00:00:00\",\"2024-07-12T00:00:00\",\"2024-07-15T00:00:00\",\"2024-07-16T00:00:00\",\"2024-07-17T00:00:00\",\"2024-07-18T00:00:00\",\"2024-07-19T00:00:00\",\"2024-07-22T00:00:00\",\"2024-07-23T00:00:00\",\"2024-07-24T00:00:00\",\"2024-07-25T00:00:00\",\"2024-07-26T00:00:00\",\"2024-07-29T00:00:00\",\"2024-07-30T00:00:00\",\"2024-07-31T00:00:00\",\"2024-08-01T00:00:00\",\"2024-08-02T00:00:00\",\"2024-08-05T00:00:00\",\"2024-08-06T00:00:00\",\"2024-08-07T00:00:00\",\"2024-08-08T00:00:00\",\"2024-08-09T00:00:00\",\"2024-08-12T00:00:00\",\"2024-08-13T00:00:00\",\"2024-08-14T00:00:00\",\"2024-08-15T00:00:00\",\"2024-08-16T00:00:00\",\"2024-08-19T00:00:00\",\"2024-08-20T00:00:00\",\"2024-08-21T00:00:00\",\"2024-08-22T00:00:00\",\"2024-08-23T00:00:00\",\"2024-08-26T00:00:00\",\"2024-08-27T00:00:00\",\"2024-08-28T00:00:00\",\"2024-08-29T00:00:00\",\"2024-08-30T00:00:00\",\"2024-09-03T00:00:00\",\"2024-09-04T00:00:00\",\"2024-09-05T00:00:00\",\"2024-09-06T00:00:00\",\"2024-09-09T00:00:00\",\"2024-09-10T00:00:00\",\"2024-09-11T00:00:00\",\"2024-09-12T00:00:00\",\"2024-09-13T00:00:00\",\"2024-09-16T00:00:00\",\"2024-09-17T00:00:00\",\"2024-09-18T00:00:00\",\"2024-09-19T00:00:00\",\"2024-09-20T00:00:00\",\"2024-09-23T00:00:00\",\"2024-09-24T00:00:00\",\"2024-09-25T00:00:00\",\"2024-09-26T00:00:00\",\"2024-09-27T00:00:00\",\"2024-09-30T00:00:00\",\"2024-10-01T00:00:00\",\"2024-10-02T00:00:00\",\"2024-10-03T00:00:00\",\"2024-10-04T00:00:00\",\"2024-10-07T00:00:00\",\"2024-10-08T00:00:00\",\"2024-10-09T00:00:00\",\"2024-10-10T00:00:00\",\"2024-10-11T00:00:00\",\"2024-10-14T00:00:00\",\"2024-10-15T00:00:00\",\"2024-10-16T00:00:00\",\"2024-10-17T00:00:00\",\"2024-10-18T00:00:00\",\"2024-10-21T00:00:00\",\"2024-10-22T00:00:00\",\"2024-10-23T00:00:00\",\"2024-10-24T00:00:00\",\"2024-10-25T00:00:00\",\"2024-10-28T00:00:00\",\"2024-10-29T00:00:00\",\"2024-10-30T00:00:00\",\"2024-10-31T00:00:00\",\"2024-11-01T00:00:00\",\"2024-11-04T00:00:00\",\"2024-11-05T00:00:00\",\"2024-11-06T00:00:00\",\"2024-11-07T00:00:00\",\"2024-11-08T00:00:00\",\"2024-11-11T00:00:00\",\"2024-11-12T00:00:00\",\"2024-11-13T00:00:00\",\"2024-11-14T00:00:00\",\"2024-11-15T00:00:00\",\"2024-11-18T00:00:00\",\"2024-11-19T00:00:00\",\"2024-11-20T00:00:00\",\"2024-11-21T00:00:00\",\"2024-11-22T00:00:00\",\"2024-11-25T00:00:00\",\"2024-11-26T00:00:00\",\"2024-11-27T00:00:00\",\"2024-11-29T00:00:00\",\"2024-12-02T00:00:00\",\"2024-12-03T00:00:00\",\"2024-12-04T00:00:00\",\"2024-12-05T00:00:00\",\"2024-12-06T00:00:00\",\"2024-12-09T00:00:00\",\"2024-12-10T00:00:00\",\"2024-12-11T00:00:00\",\"2024-12-12T00:00:00\",\"2024-12-13T00:00:00\",\"2024-12-16T00:00:00\",\"2024-12-17T00:00:00\",\"2024-12-18T00:00:00\",\"2024-12-19T00:00:00\",\"2024-12-20T00:00:00\",\"2024-12-23T00:00:00\",\"2024-12-24T00:00:00\",\"2024-12-26T00:00:00\",\"2024-12-27T00:00:00\",\"2024-12-30T00:00:00\",\"2024-12-31T00:00:00\",\"2025-01-02T00:00:00\",\"2025-01-03T00:00:00\",\"2025-01-06T00:00:00\",\"2025-01-07T00:00:00\",\"2025-01-08T00:00:00\",\"2025-01-10T00:00:00\",\"2025-01-13T00:00:00\",\"2025-01-14T00:00:00\",\"2025-01-15T00:00:00\",\"2025-01-16T00:00:00\",\"2025-01-17T00:00:00\",\"2025-01-21T00:00:00\",\"2025-01-22T00:00:00\",\"2025-01-23T00:00:00\",\"2025-01-24T00:00:00\",\"2025-01-27T00:00:00\",\"2025-01-28T00:00:00\",\"2025-01-29T00:00:00\",\"2025-01-30T00:00:00\",\"2025-01-31T00:00:00\",\"2025-02-03T00:00:00\",\"2025-02-04T00:00:00\",\"2025-02-05T00:00:00\",\"2025-02-06T00:00:00\",\"2025-02-07T00:00:00\",\"2025-02-10T00:00:00\",\"2025-02-11T00:00:00\",\"2025-02-12T00:00:00\",\"2025-02-13T00:00:00\",\"2025-02-14T00:00:00\",\"2025-02-18T00:00:00\",\"2025-02-19T00:00:00\",\"2025-02-20T00:00:00\",\"2025-02-21T00:00:00\",\"2025-02-24T00:00:00\",\"2025-02-25T00:00:00\",\"2025-02-26T00:00:00\",\"2025-02-27T00:00:00\",\"2025-02-28T00:00:00\",\"2025-03-03T00:00:00\",\"2025-03-04T00:00:00\",\"2025-03-05T00:00:00\",\"2025-03-06T00:00:00\",\"2025-03-07T00:00:00\",\"2025-03-10T00:00:00\",\"2025-03-11T00:00:00\",\"2025-03-12T00:00:00\",\"2025-03-13T00:00:00\",\"2025-03-14T00:00:00\",\"2025-03-17T00:00:00\",\"2025-03-18T00:00:00\",\"2025-03-19T00:00:00\",\"2025-03-20T00:00:00\",\"2025-03-21T00:00:00\",\"2025-03-24T00:00:00\",\"2025-03-25T00:00:00\",\"2025-03-26T00:00:00\",\"2025-03-27T00:00:00\",\"2025-03-28T00:00:00\",\"2025-03-31T00:00:00\",\"2025-04-01T00:00:00\",\"2025-04-02T00:00:00\",\"2025-04-03T00:00:00\",\"2025-04-04T00:00:00\",\"2025-04-07T00:00:00\",\"2025-04-08T00:00:00\",\"2025-04-09T00:00:00\",\"2025-04-10T00:00:00\",\"2025-04-11T00:00:00\",\"2025-04-14T00:00:00\",\"2025-04-15T00:00:00\",\"2025-04-16T00:00:00\",\"2025-04-17T00:00:00\",\"2025-04-21T00:00:00\",\"2025-04-22T00:00:00\",\"2025-04-23T00:00:00\",\"2025-04-24T00:00:00\",\"2025-04-25T00:00:00\",\"2025-04-28T00:00:00\",\"2025-04-29T00:00:00\",\"2025-04-30T00:00:00\",\"2025-05-01T00:00:00\",\"2025-05-02T00:00:00\",\"2025-05-05T00:00:00\",\"2025-05-06T00:00:00\",\"2025-05-07T00:00:00\",\"2025-05-08T00:00:00\",\"2025-05-09T00:00:00\",\"2025-05-12T00:00:00\",\"2025-05-13T00:00:00\",\"2025-05-14T00:00:00\",\"2025-05-15T00:00:00\",\"2025-05-16T00:00:00\",\"2025-05-19T00:00:00\",\"2025-05-20T00:00:00\",\"2025-05-21T00:00:00\",\"2025-05-22T00:00:00\",\"2025-05-23T00:00:00\",\"2025-05-27T00:00:00\",\"2025-05-28T00:00:00\",\"2025-05-29T00:00:00\",\"2025-05-30T00:00:00\",\"2025-06-02T00:00:00\",\"2025-06-03T00:00:00\",\"2025-06-04T00:00:00\",\"2025-06-05T00:00:00\",\"2025-06-06T00:00:00\",\"2025-06-09T00:00:00\",\"2025-06-10T00:00:00\",\"2025-06-11T00:00:00\",\"2025-06-12T00:00:00\",\"2025-06-13T00:00:00\",\"2025-06-16T00:00:00\",\"2025-06-17T00:00:00\",\"2025-06-18T00:00:00\",\"2025-06-20T00:00:00\",\"2025-06-23T00:00:00\",\"2025-06-24T00:00:00\",\"2025-06-25T00:00:00\",\"2025-06-26T00:00:00\",\"2025-06-27T00:00:00\",\"2025-06-30T00:00:00\"],\"y\":[26.045076370239258,26.181533813476562,26.054174423217773,25.999591827392578,24.25294303894043,23.770793914794922,24.225650787353516,24.61682891845703,25.617511749267578,25.135364532470703,25.753969192504883,25.83584213256836,25.844940185546875,26.026884078979492,26.190629959106445,26.190629959106445,27.045759201049805,27.045759201049805,26.463544845581055,26.809234619140625,26.909305572509766,26.745553970336914,26.37257194519043,25.83584213256836,26.10875701904297,25.763063430786133,25.608417510986328,25.5538330078125,25.726680755615234,25.753969192504883,25.863134384155273,25.77216339111328,25.36586570739746,25.36586570739746,25.37510108947754,24.950334548950195,25.005741119384766,25.19965362548828,24.867229461669922,24.53480339050293,25.39356803894043,25.448970794677734,25.458206176757812,25.448970794677734,25.541311264038086,24.904163360595703,25.033443450927734,25.402801513671875,25.504377365112305,25.476675033569336,25.550548553466797,25.43973731994629,25.633651733398438,25.098079681396484,24.830291748046875,24.968801498413086,24.525569915771484,24.553272247314453,23.906888961791992,24.082338333129883,25.10731315612793,24.737953186035156,25.1350154876709,26.196928024291992,25.864503860473633,26.05841827392578,25.975311279296875,25.79986572265625,25.596715927124023,25.513608932495117,25.578250885009766,25.541311264038086,25.264293670654297,25.32893180847168,25.476675033569336,25.65212059020996,25.624420166015625,25.596715927124023,25.43973731994629,25.1350154876709,24.608675003051758,24.617910385131836,24.54404067993164,24.728717803955078,24.303953170776367,24.32242202758789,23.879186630249023,23.92535972595215,23.722209930419922,23.472890853881836,23.445186614990234,24.008464813232422,24.248550415039062,24.303953170776367,24.25778579711914,23.32514762878418,23.454421997070312,23.67603874206543,23.657573699951172,25.098079681396484,25.578250885009766,25.679821014404297,26.003015518188477,25.642887115478516,26.104589462280273,26.41390609741211,26.254562377929688,26.657615661621094,26.60137367248535,27.013795852661133,27.10753059387207,26.84507942199707,26.741971969604492,26.770090103149414,27.744915008544922,26.89194679260254,27.070035934448242,26.526384353637695,26.076467514038086,26.432655334472656,26.86382484436035,27.473087310791016,27.641807556152344,27.698043823242188,26.99505043029785,26.788837432861328,26.310802459716797,26.27330780029297,25.926494598388672,25.917123794555664,25.804643630981445,25.289112091064453,25.692163467407227,26.001482009887695,26.001482009887695,26.582626342773438,26.235815048217773,25.7015380859375,26.057722091674805,26.2264404296875,26.451398849487305,26.08584213256836,25.963991165161133,26.29205322265625,26.179574966430664,25.98273468017578,26.573251724243164,26.86382484436035,27.10753059387207,27.276248931884766,27.651180267333984,28.147964477539062,27.8480167388916,28.091726303100586,27.744915008544922,27.651180267333984,28.101097106933594,28.288564682006836,29.248626708984375,29.201095581054688,29.837970733642578,29.029998779296875,29.134557723999023,28.92543601989746,28.26955223083496,27.870317459106445,27.42355728149414,27.33800506591797,27.13838768005371,27.0433349609375,27.42355728149414,27.452072143554688,27.290477752685547,26.90074920654297,27.376028060913086,27.471084594726562,27.594655990600586,27.357017517089844,27.471084594726562,27.490095138549805,27.395038604736328,27.328502655029297,27.299983978271484,27.575647354125977,26.90074920654297,26.986299514770508,27.100366592407227,27.14789390563965,27.955867767333984,28.26955223083496,28.193506240844727,27.718229293823242,27.822792053222656,28.583236694335938,28.3551025390625,28.2790584564209,28.193506240844727,27.965373992919922,27.860811233520508,28.041418075561523,27.499601364135742,27.537622451782227,27.651689529418945,27.50910758972168,27.252456665039062,27.195423126220703,26.938772201538086,27.166906356811523,27.75625228881836,27.737239837646484,28.697301864624023,27.889328002929688,27.718229293823242,27.642183303833008,27.984386444091797,28.203012466430664,27.822792053222656,27.7752628326416,27.499601364135742,27.414051055908203,27.433063507080078,27.223939895629883,27.0433349609375,27.433063507080078,27.052839279174805,27.109872817993164,26.90074920654297,26.70113182067871,26.387449264526367,26.606077194213867,26.00722885131836,26.10228157043457,25.793380737304688,25.33002471923828,25.281761169433594,25.793380737304688,25.11765480041504,23.939964294433594,23.997882843017578,24.22956085205078,24.075109481811523,24.25851821899414,24.760486602783203,25.262453079223633,24.876325607299805,24.93424415588379,25.30106544494629,24.924591064453125,24.673606872558594,24.355051040649414,24.808753967285156,24.837711334228516,25.194881439208984,24.683259963989258,24.355051040649414,24.490198135375977,24.692914962768555,24.374359130859375,25.513437271118164,24.992162704467773,24.876325607299805,25.445865631103516,25.78372573852539,25.812686920166016,25.63892936706543,25.696847915649414,25.5037841796875,25.609970092773438,25.687196731567383,25.667888641357422,25.957483291625977,26.18916130065918,25.928525924682617,25.793380737304688,25.870603561401367,25.494131088256836,25.310718536376953,25.57135581970215,25.3879451751709,25.716154098510742,25.108001708984375,25.523090362548828,25.601593017578125,26.357179641723633,26.249237060546875,26.121671676635742,26.40624237060547,26.023544311523438,25.70953369140625,25.385711669921875,25.94504165649414,25.346460342407227,25.25814437866211,25.385711669921875,25.05207633972168,24.99319839477539,25.160017013549805,25.05207633972168,25.081514358520508,25.405336380004883,25.415149688720703,25.807661056518555,26.15110969543457,26.239423751831055,25.9254150390625,25.611406326293945,25.93522834777832,25.75859832763672,25.26795768737793,25.45440101623535,25.7487850189209,26.229612350463867,26.14129638671875,25.503463745117188,25.22870635986328,25.120765686035156,25.23851776123047,25.562341690063477,25.817474365234375,25.719345092773438,25.699722290039062,25.788036346435547,25.65065574645996,25.071701049804688,24.738065719604492,24.541810989379883,24.738065719604492,24.865633010864258,24.080610275268555,24.237613677978516,23.835289001464844,22.53999900817871,22.206363677978516,21.431154251098633,22.068984985351562,21.185832977294922,21.49984359741211,21.70591163635254,22.019922256469727,21.627410888671875,21.725536346435547,21.627410888671875,22.10823631286621,21.970855712890625,22.353557586669922,22.490936279296875,22.618501663208008,23.344650268554688,23.95304298400879,23.48202896118164,23.74697494506836,23.423152923583984,22.451683044433594,22.363370895385742,22.53999900817871,22.280000686645508,23.09000015258789,22.8700008392334,22.020000457763672,22.600000381469727,22.829999923706055,23.0,23.520000457763672,23.040000915527344,23.040000915527344,23.31999969482422,23.610000610351562,23.18000030517578,23.450000762939453,23.489999771118164,23.459999084472656,23.350000381469727,23.389999389648438,23.1200008392334,23.350000381469727,23.969999313354492,24.299999237060547,24.479999542236328,24.84000015258789,24.540000915527344,24.399999618530273,24.0,23.8799991607666,23.969999313354492,24.030000686645508,24.309999465942383,24.260000228881836,24.239999771118164,24.190000534057617,24.239999771118164],\"type\":\"scatter\"}],                        {\"template\":{\"data\":{\"barpolar\":[{\"marker\":{\"line\":{\"color\":\"white\",\"width\":0.5},\"pattern\":{\"fillmode\":\"overlay\",\"size\":10,\"solidity\":0.2}},\"type\":\"barpolar\"}],\"bar\":[{\"error_x\":{\"color\":\"#2a3f5f\"},\"error_y\":{\"color\":\"#2a3f5f\"},\"marker\":{\"line\":{\"color\":\"white\",\"width\":0.5},\"pattern\":{\"fillmode\":\"overlay\",\"size\":10,\"solidity\":0.2}},\"type\":\"bar\"}],\"carpet\":[{\"aaxis\":{\"endlinecolor\":\"#2a3f5f\",\"gridcolor\":\"#C8D4E3\",\"linecolor\":\"#C8D4E3\",\"minorgridcolor\":\"#C8D4E3\",\"startlinecolor\":\"#2a3f5f\"},\"baxis\":{\"endlinecolor\":\"#2a3f5f\",\"gridcolor\":\"#C8D4E3\",\"linecolor\":\"#C8D4E3\",\"minorgridcolor\":\"#C8D4E3\",\"startlinecolor\":\"#2a3f5f\"},\"type\":\"carpet\"}],\"choropleth\":[{\"colorbar\":{\"outlinewidth\":0,\"ticks\":\"\"},\"type\":\"choropleth\"}],\"contourcarpet\":[{\"colorbar\":{\"outlinewidth\":0,\"ticks\":\"\"},\"type\":\"contourcarpet\"}],\"contour\":[{\"colorbar\":{\"outlinewidth\":0,\"ticks\":\"\"},\"colorscale\":[[0.0,\"#0d0887\"],[0.1111111111111111,\"#46039f\"],[0.2222222222222222,\"#7201a8\"],[0.3333333333333333,\"#9c179e\"],[0.4444444444444444,\"#bd3786\"],[0.5555555555555556,\"#d8576b\"],[0.6666666666666666,\"#ed7953\"],[0.7777777777777778,\"#fb9f3a\"],[0.8888888888888888,\"#fdca26\"],[1.0,\"#f0f921\"]],\"type\":\"contour\"}],\"heatmapgl\":[{\"colorbar\":{\"outlinewidth\":0,\"ticks\":\"\"},\"colorscale\":[[0.0,\"#0d0887\"],[0.1111111111111111,\"#46039f\"],[0.2222222222222222,\"#7201a8\"],[0.3333333333333333,\"#9c179e\"],[0.4444444444444444,\"#bd3786\"],[0.5555555555555556,\"#d8576b\"],[0.6666666666666666,\"#ed7953\"],[0.7777777777777778,\"#fb9f3a\"],[0.8888888888888888,\"#fdca26\"],[1.0,\"#f0f921\"]],\"type\":\"heatmapgl\"}],\"heatmap\":[{\"colorbar\":{\"outlinewidth\":0,\"ticks\":\"\"},\"colorscale\":[[0.0,\"#0d0887\"],[0.1111111111111111,\"#46039f\"],[0.2222222222222222,\"#7201a8\"],[0.3333333333333333,\"#9c179e\"],[0.4444444444444444,\"#bd3786\"],[0.5555555555555556,\"#d8576b\"],[0.6666666666666666,\"#ed7953\"],[0.7777777777777778,\"#fb9f3a\"],[0.8888888888888888,\"#fdca26\"],[1.0,\"#f0f921\"]],\"type\":\"heatmap\"}],\"histogram2dcontour\":[{\"colorbar\":{\"outlinewidth\":0,\"ticks\":\"\"},\"colorscale\":[[0.0,\"#0d0887\"],[0.1111111111111111,\"#46039f\"],[0.2222222222222222,\"#7201a8\"],[0.3333333333333333,\"#9c179e\"],[0.4444444444444444,\"#bd3786\"],[0.5555555555555556,\"#d8576b\"],[0.6666666666666666,\"#ed7953\"],[0.7777777777777778,\"#fb9f3a\"],[0.8888888888888888,\"#fdca26\"],[1.0,\"#f0f921\"]],\"type\":\"histogram2dcontour\"}],\"histogram2d\":[{\"colorbar\":{\"outlinewidth\":0,\"ticks\":\"\"},\"colorscale\":[[0.0,\"#0d0887\"],[0.1111111111111111,\"#46039f\"],[0.2222222222222222,\"#7201a8\"],[0.3333333333333333,\"#9c179e\"],[0.4444444444444444,\"#bd3786\"],[0.5555555555555556,\"#d8576b\"],[0.6666666666666666,\"#ed7953\"],[0.7777777777777778,\"#fb9f3a\"],[0.8888888888888888,\"#fdca26\"],[1.0,\"#f0f921\"]],\"type\":\"histogram2d\"}],\"histogram\":[{\"marker\":{\"pattern\":{\"fillmode\":\"overlay\",\"size\":10,\"solidity\":0.2}},\"type\":\"histogram\"}],\"mesh3d\":[{\"colorbar\":{\"outlinewidth\":0,\"ticks\":\"\"},\"type\":\"mesh3d\"}],\"parcoords\":[{\"line\":{\"colorbar\":{\"outlinewidth\":0,\"ticks\":\"\"}},\"type\":\"parcoords\"}],\"pie\":[{\"automargin\":true,\"type\":\"pie\"}],\"scatter3d\":[{\"line\":{\"colorbar\":{\"outlinewidth\":0,\"ticks\":\"\"}},\"marker\":{\"colorbar\":{\"outlinewidth\":0,\"ticks\":\"\"}},\"type\":\"scatter3d\"}],\"scattercarpet\":[{\"marker\":{\"colorbar\":{\"outlinewidth\":0,\"ticks\":\"\"}},\"type\":\"scattercarpet\"}],\"scattergeo\":[{\"marker\":{\"colorbar\":{\"outlinewidth\":0,\"ticks\":\"\"}},\"type\":\"scattergeo\"}],\"scattergl\":[{\"marker\":{\"colorbar\":{\"outlinewidth\":0,\"ticks\":\"\"}},\"type\":\"scattergl\"}],\"scattermapbox\":[{\"marker\":{\"colorbar\":{\"outlinewidth\":0,\"ticks\":\"\"}},\"type\":\"scattermapbox\"}],\"scatterpolargl\":[{\"marker\":{\"colorbar\":{\"outlinewidth\":0,\"ticks\":\"\"}},\"type\":\"scatterpolargl\"}],\"scatterpolar\":[{\"marker\":{\"colorbar\":{\"outlinewidth\":0,\"ticks\":\"\"}},\"type\":\"scatterpolar\"}],\"scatter\":[{\"fillpattern\":{\"fillmode\":\"overlay\",\"size\":10,\"solidity\":0.2},\"type\":\"scatter\"}],\"scatterternary\":[{\"marker\":{\"colorbar\":{\"outlinewidth\":0,\"ticks\":\"\"}},\"type\":\"scatterternary\"}],\"surface\":[{\"colorbar\":{\"outlinewidth\":0,\"ticks\":\"\"},\"colorscale\":[[0.0,\"#0d0887\"],[0.1111111111111111,\"#46039f\"],[0.2222222222222222,\"#7201a8\"],[0.3333333333333333,\"#9c179e\"],[0.4444444444444444,\"#bd3786\"],[0.5555555555555556,\"#d8576b\"],[0.6666666666666666,\"#ed7953\"],[0.7777777777777778,\"#fb9f3a\"],[0.8888888888888888,\"#fdca26\"],[1.0,\"#f0f921\"]],\"type\":\"surface\"}],\"table\":[{\"cells\":{\"fill\":{\"color\":\"#EBF0F8\"},\"line\":{\"color\":\"white\"}},\"header\":{\"fill\":{\"color\":\"#C8D4E3\"},\"line\":{\"color\":\"white\"}},\"type\":\"table\"}]},\"layout\":{\"annotationdefaults\":{\"arrowcolor\":\"#2a3f5f\",\"arrowhead\":0,\"arrowwidth\":1},\"autotypenumbers\":\"strict\",\"coloraxis\":{\"colorbar\":{\"outlinewidth\":0,\"ticks\":\"\"}},\"colorscale\":{\"diverging\":[[0,\"#8e0152\"],[0.1,\"#c51b7d\"],[0.2,\"#de77ae\"],[0.3,\"#f1b6da\"],[0.4,\"#fde0ef\"],[0.5,\"#f7f7f7\"],[0.6,\"#e6f5d0\"],[0.7,\"#b8e186\"],[0.8,\"#7fbc41\"],[0.9,\"#4d9221\"],[1,\"#276419\"]],\"sequential\":[[0.0,\"#0d0887\"],[0.1111111111111111,\"#46039f\"],[0.2222222222222222,\"#7201a8\"],[0.3333333333333333,\"#9c179e\"],[0.4444444444444444,\"#bd3786\"],[0.5555555555555556,\"#d8576b\"],[0.6666666666666666,\"#ed7953\"],[0.7777777777777778,\"#fb9f3a\"],[0.8888888888888888,\"#fdca26\"],[1.0,\"#f0f921\"]],\"sequentialminus\":[[0.0,\"#0d0887\"],[0.1111111111111111,\"#46039f\"],[0.2222222222222222,\"#7201a8\"],[0.3333333333333333,\"#9c179e\"],[0.4444444444444444,\"#bd3786\"],[0.5555555555555556,\"#d8576b\"],[0.6666666666666666,\"#ed7953\"],[0.7777777777777778,\"#fb9f3a\"],[0.8888888888888888,\"#fdca26\"],[1.0,\"#f0f921\"]]},\"colorway\":[\"#636efa\",\"#EF553B\",\"#00cc96\",\"#ab63fa\",\"#FFA15A\",\"#19d3f3\",\"#FF6692\",\"#B6E880\",\"#FF97FF\",\"#FECB52\"],\"font\":{\"color\":\"#2a3f5f\"},\"geo\":{\"bgcolor\":\"white\",\"lakecolor\":\"white\",\"landcolor\":\"white\",\"showlakes\":true,\"showland\":true,\"subunitcolor\":\"#C8D4E3\"},\"hoverlabel\":{\"align\":\"left\"},\"hovermode\":\"closest\",\"mapbox\":{\"style\":\"light\"},\"paper_bgcolor\":\"white\",\"plot_bgcolor\":\"white\",\"polar\":{\"angularaxis\":{\"gridcolor\":\"#EBF0F8\",\"linecolor\":\"#EBF0F8\",\"ticks\":\"\"},\"bgcolor\":\"white\",\"radialaxis\":{\"gridcolor\":\"#EBF0F8\",\"linecolor\":\"#EBF0F8\",\"ticks\":\"\"}},\"scene\":{\"xaxis\":{\"backgroundcolor\":\"white\",\"gridcolor\":\"#DFE8F3\",\"gridwidth\":2,\"linecolor\":\"#EBF0F8\",\"showbackground\":true,\"ticks\":\"\",\"zerolinecolor\":\"#EBF0F8\"},\"yaxis\":{\"backgroundcolor\":\"white\",\"gridcolor\":\"#DFE8F3\",\"gridwidth\":2,\"linecolor\":\"#EBF0F8\",\"showbackground\":true,\"ticks\":\"\",\"zerolinecolor\":\"#EBF0F8\"},\"zaxis\":{\"backgroundcolor\":\"white\",\"gridcolor\":\"#DFE8F3\",\"gridwidth\":2,\"linecolor\":\"#EBF0F8\",\"showbackground\":true,\"ticks\":\"\",\"zerolinecolor\":\"#EBF0F8\"}},\"shapedefaults\":{\"line\":{\"color\":\"#2a3f5f\"}},\"ternary\":{\"aaxis\":{\"gridcolor\":\"#DFE8F3\",\"linecolor\":\"#A2B1C6\",\"ticks\":\"\"},\"baxis\":{\"gridcolor\":\"#DFE8F3\",\"linecolor\":\"#A2B1C6\",\"ticks\":\"\"},\"bgcolor\":\"white\",\"caxis\":{\"gridcolor\":\"#DFE8F3\",\"linecolor\":\"#A2B1C6\",\"ticks\":\"\"}},\"title\":{\"x\":0.05},\"xaxis\":{\"automargin\":true,\"gridcolor\":\"#EBF0F8\",\"linecolor\":\"#EBF0F8\",\"ticks\":\"\",\"title\":{\"standoff\":15},\"zerolinecolor\":\"#EBF0F8\",\"zerolinewidth\":2},\"yaxis\":{\"automargin\":true,\"gridcolor\":\"#EBF0F8\",\"linecolor\":\"#EBF0F8\",\"ticks\":\"\",\"title\":{\"standoff\":15},\"zerolinecolor\":\"#EBF0F8\",\"zerolinewidth\":2}}},\"legend\":{\"x\":0,\"y\":1},\"title\":{\"text\":\"PFE Prices Prediction\"},\"xaxis\":{\"title\":{\"text\":\"Dates\"}},\"yaxis\":{\"title\":{\"text\":\"Close Price (USD)\"}},\"width\":900,\"height\":500},                        {\"responsive\": true}                    ).then(function(){\n",
              "                            \n",
              "var gd = document.getElementById('74eaf1ec-345e-4c06-969e-f00730b7f51d');\n",
              "var x = new MutationObserver(function (mutations, observer) {{\n",
              "        var display = window.getComputedStyle(gd).display;\n",
              "        if (!display || display === 'none') {{\n",
              "            console.log([gd, 'removed!']);\n",
              "            Plotly.purge(gd);\n",
              "            observer.disconnect();\n",
              "        }}\n",
              "}});\n",
              "\n",
              "// Listen for the removal of the full notebook cells\n",
              "var notebookContainer = gd.closest('#notebook-container');\n",
              "if (notebookContainer) {{\n",
              "    x.observe(notebookContainer, {childList: true});\n",
              "}}\n",
              "\n",
              "// Listen for the clearing of the current output cell\n",
              "var outputEl = gd.closest('.output');\n",
              "if (outputEl) {{\n",
              "    x.observe(outputEl, {childList: true});\n",
              "}}\n",
              "\n",
              "                        })                };                            </script>        </div>\n",
              "</body>\n",
              "</html>"
            ]
          },
          "metadata": {}
        }
      ]
    },
    {
      "cell_type": "markdown",
      "source": [
        "# Johnson and Johnson"
      ],
      "metadata": {
        "id": "aqqohcCxMP-M"
      }
    },
    {
      "cell_type": "code",
      "source": [
        "# Keep only 'Date' and 'Close' columns\n",
        "df_JNJ = df_JNJ[['Date', 'Close']]\n",
        "\n",
        "# Clean 'Close' column: remove commas, convert to float\n",
        "df_JNJ['Close'] = df_JNJ['Close'].astype(str).str.replace(',', '', regex=False)\n",
        "df_JNJ = df_JNJ[df_JNJ['Close'].str.replace('.', '', regex=False).str.isnumeric()]\n",
        "df_JNJ['Close'] = df_JNJ['Close'].astype(float)\n",
        "\n",
        "# Convert 'Date' to datetime format\n",
        "df_JNJ['Date'] = pd.to_datetime(df_JNJ['Date'])\n",
        "\n",
        "# Set 'Date' as index\n",
        "df_JNJ.set_index('Date', inplace=True)\n",
        "\n",
        "# Display the cleaned DataFrame\n",
        "print(df_JNJ.head())"
      ],
      "metadata": {
        "colab": {
          "base_uri": "https://localhost:8080/"
        },
        "id": "WFGiTx1rMXYk",
        "outputId": "14f6a041-27b5-42c4-f5e5-4e11b9ce688e"
      },
      "execution_count": null,
      "outputs": [
        {
          "output_type": "stream",
          "name": "stdout",
          "text": [
            "                Close\n",
            "Date                 \n",
            "2015-03-03  76.920189\n",
            "2015-03-04  76.401588\n",
            "2015-03-05  77.055489\n",
            "2015-03-06  75.244087\n",
            "2015-03-09  75.657478\n"
          ]
        },
        {
          "output_type": "stream",
          "name": "stderr",
          "text": [
            "/tmp/ipython-input-18-237319422.py:5: SettingWithCopyWarning:\n",
            "\n",
            "\n",
            "A value is trying to be set on a copy of a slice from a DataFrame.\n",
            "Try using .loc[row_indexer,col_indexer] = value instead\n",
            "\n",
            "See the caveats in the documentation: https://pandas.pydata.org/pandas-docs/stable/user_guide/indexing.html#returning-a-view-versus-a-copy\n",
            "\n"
          ]
        }
      ]
    },
    {
      "cell_type": "code",
      "source": [
        "#First-order differencing\n",
        "df_JNJ.diff().plot(figsize=(10,5))\n",
        "plt.xlabel('Year')"
      ],
      "metadata": {
        "colab": {
          "base_uri": "https://localhost:8080/",
          "height": 456
        },
        "id": "OxJsSsYfMXNT",
        "outputId": "1baf7907-4b43-4574-8051-350f4a994abf"
      },
      "execution_count": null,
      "outputs": [
        {
          "output_type": "execute_result",
          "data": {
            "text/plain": [
              "Text(0.5, 0, 'Year')"
            ]
          },
          "metadata": {},
          "execution_count": 19
        },
        {
          "output_type": "display_data",
          "data": {
            "text/plain": [
              "<Figure size 1000x500 with 1 Axes>"
            ],
            "image/png": "[encoded data removed]"
          },
          "metadata": {}
        }
      ]
    },
    {
      "cell_type": "code",
      "source": [
        "from pmdarima import auto_arima\n",
        "\n",
        "auto_model = auto_arima(df_JNJ['Close'], seasonal=False, stepwise=True, trace=True)\n",
        "print(auto_model.summary())"
      ],
      "metadata": {
        "colab": {
          "base_uri": "https://localhost:8080/"
        },
        "id": "bp1ZYjhcMXFc",
        "outputId": "ac00c1d5-9d81-407c-e73c-116be858785f"
      },
      "execution_count": null,
      "outputs": [
        {
          "output_type": "stream",
          "name": "stdout",
          "text": [
            "Performing stepwise search to minimize aic\n",
            " ARIMA(2,1,2)(0,0,0)[0] intercept   : AIC=9286.272, Time=6.78 sec\n",
            " ARIMA(0,1,0)(0,0,0)[0] intercept   : AIC=9302.733, Time=0.12 sec\n",
            " ARIMA(1,1,0)(0,0,0)[0] intercept   : AIC=9293.472, Time=0.18 sec\n",
            " ARIMA(0,1,1)(0,0,0)[0] intercept   : AIC=9293.461, Time=0.36 sec\n",
            " ARIMA(0,1,0)(0,0,0)[0]             : AIC=9301.786, Time=0.09 sec\n",
            " ARIMA(1,1,2)(0,0,0)[0] intercept   : AIC=9297.456, Time=0.77 sec\n",
            " ARIMA(2,1,1)(0,0,0)[0] intercept   : AIC=9297.460, Time=0.75 sec\n",
            " ARIMA(3,1,2)(0,0,0)[0] intercept   : AIC=9292.385, Time=6.11 sec\n",
            " ARIMA(2,1,3)(0,0,0)[0] intercept   : AIC=9292.561, Time=8.06 sec\n",
            " ARIMA(1,1,1)(0,0,0)[0] intercept   : AIC=9295.460, Time=0.49 sec\n",
            " ARIMA(1,1,3)(0,0,0)[0] intercept   : AIC=9297.464, Time=2.07 sec\n",
            " ARIMA(3,1,1)(0,0,0)[0] intercept   : AIC=9297.713, Time=1.81 sec\n",
            " ARIMA(3,1,3)(0,0,0)[0] intercept   : AIC=9296.627, Time=6.62 sec\n",
            " ARIMA(2,1,2)(0,0,0)[0]             : AIC=9290.141, Time=2.28 sec\n",
            "\n",
            "Best model:  ARIMA(2,1,2)(0,0,0)[0] intercept\n",
            "Total fit time: 36.512 seconds\n",
            "                               SARIMAX Results                                \n",
            "==============================================================================\n",
            "Dep. Variable:                      y   No. Observations:                 2598\n",
            "Model:               SARIMAX(2, 1, 2)   Log Likelihood               -4637.136\n",
            "Date:                Wed, 02 Jul 2025   AIC                           9286.272\n",
            "Time:                        14:03:50   BIC                           9321.445\n",
            "Sample:                             0   HQIC                          9299.017\n",
            "                               - 2598                                         \n",
            "Covariance Type:                  opg                                         \n",
            "==============================================================================\n",
            "                 coef    std err          z      P>|z|      [0.025      0.975]\n",
            "------------------------------------------------------------------------------\n",
            "intercept      0.0009      0.000      1.876      0.061   -4.11e-05       0.002\n",
            "ar.L1          0.8547      0.243      3.515      0.000       0.378       1.331\n",
            "ar.L2          0.1122      0.234      0.479      0.632      -0.347       0.571\n",
            "ma.L1         -0.9174      0.245     -3.747      0.000      -1.397      -0.438\n",
            "ma.L2         -0.0701      0.241     -0.291      0.771      -0.543       0.403\n",
            "sigma2         2.0789      0.027     75.622      0.000       2.025       2.133\n",
            "===================================================================================\n",
            "Ljung-Box (L1) (Q):                   0.19   Jarque-Bera (JB):              7977.03\n",
            "Prob(Q):                              0.66   Prob(JB):                         0.00\n",
            "Heteroskedasticity (H):               3.50   Skew:                            -0.57\n",
            "Prob(H) (two-sided):                  0.00   Kurtosis:                        11.51\n",
            "===================================================================================\n",
            "\n",
            "Warnings:\n",
            "[1] Covariance matrix calculated using the outer product of gradients (complex-step).\n"
          ]
        }
      ]
    },
    {
      "cell_type": "code",
      "source": [
        "train_data, test_data = df_JNJ[0:int(len(df_JNJ)*0.85)], df_JNJ[int(len(df_JNJ)*0.85):]"
      ],
      "metadata": {
        "id": "n6jBZ4IyWyDn"
      },
      "execution_count": null,
      "outputs": []
    },
    {
      "cell_type": "code",
      "source": [
        "import numpy as np\n",
        "import pandas as pd\n",
        "from statsmodels.tsa.arima.model import ARIMA\n",
        "from sklearn.metrics import mean_squared_error\n",
        "\n",
        "# Define SMAPE\n",
        "def smape_kun(y_true, y_pred):\n",
        "    y_true = np.array(y_true, dtype=float).flatten()\n",
        "    y_pred = np.array(y_pred, dtype=float).flatten()\n",
        "    return np.mean((np.abs(y_pred - y_true) * 200 / (np.abs(y_pred) + np.abs(y_true) + 1e-8)))\n",
        "\n",
        "# Ensure train_data and test_data are flat float arrays\n",
        "train_ar = np.array(train_data.values, dtype=float).flatten()\n",
        "test_ar = np.array(test_data.values, dtype=float).flatten()\n",
        "\n",
        "history = list(train_ar)\n",
        "predictions = []\n",
        "\n",
        "for t in range(len(test_ar)):\n",
        "    try:\n",
        "        model = ARIMA(history, order=(2,1,2))\n",
        "        model_fit = model.fit()\n",
        "        yhat = float(model_fit.forecast()[0])  # ensure scalar\n",
        "        predictions.append(yhat)\n",
        "        history.append(test_ar[t])\n",
        "    except Exception as e:\n",
        "        print(f\"Error at step {t}: {e}\")\n",
        "        predictions.append(history[-1])  # fallback prediction\n",
        "\n",
        "# Evaluation\n",
        "error = mean_squared_error(test_ar, predictions)\n",
        "print(f'Testing Mean Squared Error: {error:.3f}')\n",
        "\n",
        "error2 = smape_kun(test_ar, predictions)\n",
        "print(f'Symmetric Mean Absolute Percentage Error (SMAPE): {error2:.3f}')"
      ],
      "metadata": {
        "colab": {
          "base_uri": "https://localhost:8080/"
        },
        "id": "0jY4KmaZMW7u",
        "outputId": "c4b06faf-43c4-46c1-e9b8-392ea9e15d99"
      },
      "execution_count": null,
      "outputs": [
        {
          "output_type": "stream",
          "name": "stdout",
          "text": [
            "Testing Mean Squared Error: 2.816\n",
            "Symmetric Mean Absolute Percentage Error (SMAPE): 0.785\n"
          ]
        }
      ]
    },
    {
      "cell_type": "code",
      "source": [
        "import numpy as np\n",
        "import plotly.graph_objects as go\n",
        "\n",
        "# Ensure predictions is a flat array\n",
        "predictions = np.array(predictions).flatten()\n",
        "\n",
        "# Ensure test_data is a Series with proper index\n",
        "if isinstance(test_data, pd.DataFrame):\n",
        "    test_data = test_data.squeeze()\n",
        "\n",
        "# Ensure lengths match\n",
        "min_len = min(len(predictions), len(test_data))\n",
        "predictions = predictions[:min_len]\n",
        "actual = test_data.values[:min_len]\n",
        "dates = test_data.index[:min_len]\n",
        "\n",
        "# Plot with Plotly\n",
        "fig = go.Figure()\n",
        "\n",
        "fig.add_trace(go.Scatter(\n",
        "    x=dates,\n",
        "    y=predictions,\n",
        "    mode='lines',\n",
        "    name='Predicted Price',\n",
        "    line=dict(color='green', width=4)\n",
        "))\n",
        "\n",
        "fig.add_trace(go.Scatter(\n",
        "    x=dates,\n",
        "    y=actual,\n",
        "    mode='lines',\n",
        "    name='Actual Price',\n",
        "    line=dict(color='red')\n",
        "))\n",
        "\n",
        "fig.update_layout(\n",
        "    title='JNJ Prices Prediction',\n",
        "    xaxis_title='Dates',\n",
        "    yaxis_title='Close Price (USD)',\n",
        "    legend=dict(x=0, y=1),\n",
        "    template='plotly_white',\n",
        "    width=900,\n",
        "    height=500\n",
        ")\n",
        "\n",
        "fig.show()"
      ],
      "metadata": {
        "colab": {
          "base_uri": "https://localhost:8080/",
          "height": 517
        },
        "id": "T3Pa5GuSMTti",
        "outputId": "01efe77d-3086-421f-f38f-014375285517"
      },
      "execution_count": null,
      "outputs": [
        {
          "output_type": "display_data",
          "data": {
            "text/html": [
              "<html>\n",
              "<head><meta charset=\"utf-8\" /></head>\n",
              "<body>\n",
              "    <div>            <script src=\"https://cdnjs.cloudflare.com/ajax/libs/mathjax/2.7.5/MathJax.js?config=TeX-AMS-MML_SVG\"></script><script type=\"text/javascript\">if (window.MathJax && window.MathJax.Hub && window.MathJax.Hub.Config) {window.MathJax.Hub.Config({SVG: {font: \"STIX-Web\"}});}</script>                <script type=\"text/javascript\">window.PlotlyConfig = {MathJaxConfig: 'local'};</script>\n",
              "        <script charset=\"utf-8\" src=\"https://cdn.plot.ly/plotly-2.35.2.min.js\"></script>                <div id=\"2de1623a-2302-4805-a2fa-1fbadec1d762\" class=\"plotly-graph-div\" style=\"height:500px; width:900px;\"></div>            <script type=\"text/javascript\">                                    window.PLOTLYENV=window.PLOTLYENV || {};                                    if (document.getElementById(\"2de1623a-2302-4805-a2fa-1fbadec1d762\")) {                    Plotly.newPlot(                        \"2de1623a-2302-4805-a2fa-1fbadec1d762\",                        [{\"line\":{\"color\":\"green\",\"width\":4},\"mode\":\"lines\",\"name\":\"Predicted Price\",\"x\":[\"2023-12-07T00:00:00\",\"2023-12-08T00:00:00\",\"2023-12-11T00:00:00\",\"2023-12-12T00:00:00\",\"2023-12-13T00:00:00\",\"2023-12-14T00:00:00\",\"2023-12-15T00:00:00\",\"2023-12-18T00:00:00\",\"2023-12-19T00:00:00\",\"2023-12-20T00:00:00\",\"2023-12-21T00:00:00\",\"2023-12-22T00:00:00\",\"2023-12-26T00:00:00\",\"2023-12-27T00:00:00\",\"2023-12-28T00:00:00\",\"2023-12-29T00:00:00\",\"2024-01-02T00:00:00\",\"2024-01-03T00:00:00\",\"2024-01-04T00:00:00\",\"2024-01-05T00:00:00\",\"2024-01-08T00:00:00\",\"2024-01-09T00:00:00\",\"2024-01-10T00:00:00\",\"2024-01-11T00:00:00\",\"2024-01-12T00:00:00\",\"2024-01-16T00:00:00\",\"2024-01-17T00:00:00\",\"2024-01-18T00:00:00\",\"2024-01-19T00:00:00\",\"2024-01-22T00:00:00\",\"2024-01-23T00:00:00\",\"2024-01-24T00:00:00\",\"2024-01-25T00:00:00\",\"2024-01-26T00:00:00\",\"2024-01-29T00:00:00\",\"2024-01-30T00:00:00\",\"2024-01-31T00:00:00\",\"2024-02-01T00:00:00\",\"2024-02-02T00:00:00\",\"2024-02-05T00:00:00\",\"2024-02-06T00:00:00\",\"2024-02-07T00:00:00\",\"2024-02-08T00:00:00\",\"2024-02-09T00:00:00\",\"2024-02-12T00:00:00\",\"2024-02-13T00:00:00\",\"2024-02-14T00:00:00\",\"2024-02-15T00:00:00\",\"2024-02-16T00:00:00\",\"2024-02-20T00:00:00\",\"2024-02-21T00:00:00\",\"2024-02-22T00:00:00\",\"2024-02-23T00:00:00\",\"2024-02-26T00:00:00\",\"2024-02-27T00:00:00\",\"2024-02-28T00:00:00\",\"2024-02-29T00:00:00\",\"2024-03-01T00:00:00\",\"2024-03-04T00:00:00\",\"2024-03-05T00:00:00\",\"2024-03-06T00:00:00\",\"2024-03-07T00:00:00\",\"2024-03-08T00:00:00\",\"2024-03-11T00:00:00\",\"2024-03-12T00:00:00\",\"2024-03-13T00:00:00\",\"2024-03-14T00:00:00\",\"2024-03-15T00:00:00\",\"2024-03-18T00:00:00\",\"2024-03-19T00:00:00\",\"2024-03-20T00:00:00\",\"2024-03-21T00:00:00\",\"2024-03-22T00:00:00\",\"2024-03-25T00:00:00\",\"2024-03-26T00:00:00\",\"2024-03-27T00:00:00\",\"2024-03-28T00:00:00\",\"2024-04-01T00:00:00\",\"2024-04-02T00:00:00\",\"2024-04-03T00:00:00\",\"2024-04-04T00:00:00\",\"2024-04-05T00:00:00\",\"2024-04-08T00:00:00\",\"2024-04-09T00:00:00\",\"2024-04-10T00:00:00\",\"2024-04-11T00:00:00\",\"2024-04-12T00:00:00\",\"2024-04-15T00:00:00\",\"2024-04-16T00:00:00\",\"2024-04-17T00:00:00\",\"2024-04-18T00:00:00\",\"2024-04-19T00:00:00\",\"2024-04-22T00:00:00\",\"2024-04-23T00:00:00\",\"2024-04-24T00:00:00\",\"2024-04-25T00:00:00\",\"2024-04-26T00:00:00\",\"2024-04-29T00:00:00\",\"2024-04-30T00:00:00\",\"2024-05-01T00:00:00\",\"2024-05-02T00:00:00\",\"2024-05-03T00:00:00\",\"2024-05-06T00:00:00\",\"2024-05-07T00:00:00\",\"2024-05-08T00:00:00\",\"2024-05-09T00:00:00\",\"2024-05-10T00:00:00\",\"2024-05-13T00:00:00\",\"2024-05-14T00:00:00\",\"2024-05-15T00:00:00\",\"2024-05-16T00:00:00\",\"2024-05-17T00:00:00\",\"2024-05-20T00:00:00\",\"2024-05-21T00:00:00\",\"2024-05-22T00:00:00\",\"2024-05-23T00:00:00\",\"2024-05-24T00:00:00\",\"2024-05-28T00:00:00\",\"2024-05-29T00:00:00\",\"2024-05-30T00:00:00\",\"2024-05-31T00:00:00\",\"2024-06-03T00:00:00\",\"2024-06-04T00:00:00\",\"2024-06-05T00:00:00\",\"2024-06-06T00:00:00\",\"2024-06-07T00:00:00\",\"2024-06-10T00:00:00\",\"2024-06-11T00:00:00\",\"2024-06-12T00:00:00\",\"2024-06-13T00:00:00\",\"2024-06-14T00:00:00\",\"2024-06-17T00:00:00\",\"2024-06-18T00:00:00\",\"2024-06-20T00:00:00\",\"2024-06-21T00:00:00\",\"2024-06-24T00:00:00\",\"2024-06-25T00:00:00\",\"2024-06-26T00:00:00\",\"2024-06-27T00:00:00\",\"2024-06-28T00:00:00\",\"2024-07-01T00:00:00\",\"2024-07-02T00:00:00\",\"2024-07-03T00:00:00\",\"2024-07-05T00:00:00\",\"2024-07-08T00:00:00\",\"2024-07-09T00:00:00\",\"2024-07-10T00:00:00\",\"2024-07-11T00:00:00\",\"2024-07-12T00:00:00\",\"2024-07-15T00:00:00\",\"2024-07-16T00:00:00\",\"2024-07-17T00:00:00\",\"2024-07-18T00:00:00\",\"2024-07-19T00:00:00\",\"2024-07-22T00:00:00\",\"2024-07-23T00:00:00\",\"2024-07-24T00:00:00\",\"2024-07-25T00:00:00\",\"2024-07-26T00:00:00\",\"2024-07-29T00:00:00\",\"2024-07-30T00:00:00\",\"2024-07-31T00:00:00\",\"2024-08-01T00:00:00\",\"2024-08-02T00:00:00\",\"2024-08-05T00:00:00\",\"2024-08-06T00:00:00\",\"2024-08-07T00:00:00\",\"2024-08-08T00:00:00\",\"2024-08-09T00:00:00\",\"2024-08-12T00:00:00\",\"2024-08-13T00:00:00\",\"2024-08-14T00:00:00\",\"2024-08-15T00:00:00\",\"2024-08-16T00:00:00\",\"2024-08-19T00:00:00\",\"2024-08-20T00:00:00\",\"2024-08-21T00:00:00\",\"2024-08-22T00:00:00\",\"2024-08-23T00:00:00\",\"2024-08-26T00:00:00\",\"2024-08-27T00:00:00\",\"2024-08-28T00:00:00\",\"2024-08-29T00:00:00\",\"2024-08-30T00:00:00\",\"2024-09-03T00:00:00\",\"2024-09-04T00:00:00\",\"2024-09-05T00:00:00\",\"2024-09-06T00:00:00\",\"2024-09-09T00:00:00\",\"2024-09-10T00:00:00\",\"2024-09-11T00:00:00\",\"2024-09-12T00:00:00\",\"2024-09-13T00:00:00\",\"2024-09-16T00:00:00\",\"2024-09-17T00:00:00\",\"2024-09-18T00:00:00\",\"2024-09-19T00:00:00\",\"2024-09-20T00:00:00\",\"2024-09-23T00:00:00\",\"2024-09-24T00:00:00\",\"2024-09-25T00:00:00\",\"2024-09-26T00:00:00\",\"2024-09-27T00:00:00\",\"2024-09-30T00:00:00\",\"2024-10-01T00:00:00\",\"2024-10-02T00:00:00\",\"2024-10-03T00:00:00\",\"2024-10-04T00:00:00\",\"2024-10-07T00:00:00\",\"2024-10-08T00:00:00\",\"2024-10-09T00:00:00\",\"2024-10-10T00:00:00\",\"2024-10-11T00:00:00\",\"2024-10-14T00:00:00\",\"2024-10-15T00:00:00\",\"2024-10-16T00:00:00\",\"2024-10-17T00:00:00\",\"2024-10-18T00:00:00\",\"2024-10-21T00:00:00\",\"2024-10-22T00:00:00\",\"2024-10-23T00:00:00\",\"2024-10-24T00:00:00\",\"2024-10-25T00:00:00\",\"2024-10-28T00:00:00\",\"2024-10-29T00:00:00\",\"2024-10-30T00:00:00\",\"2024-10-31T00:00:00\",\"2024-11-01T00:00:00\",\"2024-11-04T00:00:00\",\"2024-11-05T00:00:00\",\"2024-11-06T00:00:00\",\"2024-11-07T00:00:00\",\"2024-11-08T00:00:00\",\"2024-11-11T00:00:00\",\"2024-11-12T00:00:00\",\"2024-11-13T00:00:00\",\"2024-11-14T00:00:00\",\"2024-11-15T00:00:00\",\"2024-11-18T00:00:00\",\"2024-11-19T00:00:00\",\"2024-11-20T00:00:00\",\"2024-11-21T00:00:00\",\"2024-11-22T00:00:00\",\"2024-11-25T00:00:00\",\"2024-11-26T00:00:00\",\"2024-11-27T00:00:00\",\"2024-11-29T00:00:00\",\"2024-12-02T00:00:00\",\"2024-12-03T00:00:00\",\"2024-12-04T00:00:00\",\"2024-12-05T00:00:00\",\"2024-12-06T00:00:00\",\"2024-12-09T00:00:00\",\"2024-12-10T00:00:00\",\"2024-12-11T00:00:00\",\"2024-12-12T00:00:00\",\"2024-12-13T00:00:00\",\"2024-12-16T00:00:00\",\"2024-12-17T00:00:00\",\"2024-12-18T00:00:00\",\"2024-12-19T00:00:00\",\"2024-12-20T00:00:00\",\"2024-12-23T00:00:00\",\"2024-12-24T00:00:00\",\"2024-12-26T00:00:00\",\"2024-12-27T00:00:00\",\"2024-12-30T00:00:00\",\"2024-12-31T00:00:00\",\"2025-01-02T00:00:00\",\"2025-01-03T00:00:00\",\"2025-01-06T00:00:00\",\"2025-01-07T00:00:00\",\"2025-01-08T00:00:00\",\"2025-01-10T00:00:00\",\"2025-01-13T00:00:00\",\"2025-01-14T00:00:00\",\"2025-01-15T00:00:00\",\"2025-01-16T00:00:00\",\"2025-01-17T00:00:00\",\"2025-01-21T00:00:00\",\"2025-01-22T00:00:00\",\"2025-01-23T00:00:00\",\"2025-01-24T00:00:00\",\"2025-01-27T00:00:00\",\"2025-01-28T00:00:00\",\"2025-01-29T00:00:00\",\"2025-01-30T00:00:00\",\"2025-01-31T00:00:00\",\"2025-02-03T00:00:00\",\"2025-02-04T00:00:00\",\"2025-02-05T00:00:00\",\"2025-02-06T00:00:00\",\"2025-02-07T00:00:00\",\"2025-02-10T00:00:00\",\"2025-02-11T00:00:00\",\"2025-02-12T00:00:00\",\"2025-02-13T00:00:00\",\"2025-02-14T00:00:00\",\"2025-02-18T00:00:00\",\"2025-02-19T00:00:00\",\"2025-02-20T00:00:00\",\"2025-02-21T00:00:00\",\"2025-02-24T00:00:00\",\"2025-02-25T00:00:00\",\"2025-02-26T00:00:00\",\"2025-02-27T00:00:00\",\"2025-02-28T00:00:00\",\"2025-03-03T00:00:00\",\"2025-03-04T00:00:00\",\"2025-03-05T00:00:00\",\"2025-03-06T00:00:00\",\"2025-03-07T00:00:00\",\"2025-03-10T00:00:00\",\"2025-03-11T00:00:00\",\"2025-03-12T00:00:00\",\"2025-03-13T00:00:00\",\"2025-03-14T00:00:00\",\"2025-03-17T00:00:00\",\"2025-03-18T00:00:00\",\"2025-03-19T00:00:00\",\"2025-03-20T00:00:00\",\"2025-03-21T00:00:00\",\"2025-03-24T00:00:00\",\"2025-03-25T00:00:00\",\"2025-03-26T00:00:00\",\"2025-03-27T00:00:00\",\"2025-03-28T00:00:00\",\"2025-03-31T00:00:00\",\"2025-04-01T00:00:00\",\"2025-04-02T00:00:00\",\"2025-04-03T00:00:00\",\"2025-04-04T00:00:00\",\"2025-04-07T00:00:00\",\"2025-04-08T00:00:00\",\"2025-04-09T00:00:00\",\"2025-04-10T00:00:00\",\"2025-04-11T00:00:00\",\"2025-04-14T00:00:00\",\"2025-04-15T00:00:00\",\"2025-04-16T00:00:00\",\"2025-04-17T00:00:00\",\"2025-04-21T00:00:00\",\"2025-04-22T00:00:00\",\"2025-04-23T00:00:00\",\"2025-04-24T00:00:00\",\"2025-04-25T00:00:00\",\"2025-04-28T00:00:00\",\"2025-04-29T00:00:00\",\"2025-04-30T00:00:00\",\"2025-05-01T00:00:00\",\"2025-05-02T00:00:00\",\"2025-05-05T00:00:00\",\"2025-05-06T00:00:00\",\"2025-05-07T00:00:00\",\"2025-05-08T00:00:00\",\"2025-05-09T00:00:00\",\"2025-05-12T00:00:00\",\"2025-05-13T00:00:00\",\"2025-05-14T00:00:00\",\"2025-05-15T00:00:00\",\"2025-05-16T00:00:00\",\"2025-05-19T00:00:00\",\"2025-05-20T00:00:00\",\"2025-05-21T00:00:00\",\"2025-05-22T00:00:00\",\"2025-05-23T00:00:00\",\"2025-05-27T00:00:00\",\"2025-05-28T00:00:00\",\"2025-05-29T00:00:00\",\"2025-05-30T00:00:00\",\"2025-06-02T00:00:00\",\"2025-06-03T00:00:00\",\"2025-06-04T00:00:00\",\"2025-06-05T00:00:00\",\"2025-06-06T00:00:00\",\"2025-06-09T00:00:00\",\"2025-06-10T00:00:00\",\"2025-06-11T00:00:00\",\"2025-06-12T00:00:00\",\"2025-06-13T00:00:00\",\"2025-06-16T00:00:00\",\"2025-06-17T00:00:00\",\"2025-06-18T00:00:00\",\"2025-06-20T00:00:00\",\"2025-06-23T00:00:00\",\"2025-06-24T00:00:00\",\"2025-06-25T00:00:00\",\"2025-06-26T00:00:00\",\"2025-06-27T00:00:00\",\"2025-06-30T00:00:00\"],\"y\":[149.3541686527298,148.21421075597897,147.20749861111415,147.77597256311324,147.91879278760373,148.50660464326526,149.4944950067642,148.10059032783587,148.11094224649293,149.06827984676764,146.43911475200593,147.3943092863135,148.13381070480804,149.08459177231816,148.99004505301366,149.17155960844818,149.57882383002746,152.37063538860417,153.4578833762773,153.30841747125342,153.50792185367962,153.95467574077847,154.23602610228536,154.27532305967122,153.62013027339367,154.82668322191878,153.16983390954795,152.862465297051,153.63807095156156,154.26042323476236,154.85207189136193,152.45484164628743,151.55101401237147,152.03209535619936,152.15716678071615,151.96643674611605,151.32037905763858,151.50848356374973,151.05362700434736,149.34088213460717,148.4941093960517,150.60697936196576,150.76068909875525,149.16831565291116,149.2885428700004,150.5359620371775,149.3686735275449,148.3535675394039,150.4152150699576,150.63443959522235,151.54332843277737,152.30070711800232,154.25427371957124,155.4594168956226,154.44701793439972,154.66152807123325,155.1826801086698,155.047862510612,155.71321184378556,153.6759281127132,153.5953950299967,153.06853383605957,152.7093883072461,153.1584508771466,154.8151711363587,156.41413828714653,154.86285347033655,152.89244228688256,151.95392908729076,150.6997309587018,150.010991838585,149.6084614388517,149.68604664235724,149.12846608836824,149.0630453090375,149.65746549016578,151.6932503720606,152.01169317487327,151.61132052865287,151.46817137970808,148.35795913882217,146.47778128291765,146.27571598465545,145.77081715711873,146.261884180274,144.3060209248209,143.00245815237182,141.7046131349456,141.7307354889998,138.95555600258425,138.94476436004203,139.91645555745126,142.1857973008875,143.23700127879366,143.61444839728918,142.7998796368465,141.08080356862789,140.2909430385325,141.05749537694476,139.08143509756457,144.7854988001117,144.3303584635327,143.56519941591247,142.41370399294897,142.95554927642235,143.280843478722,143.72406621749192,144.03553942870266,145.3856726385904,145.3407491859198,146.58248622732947,148.27620514326813,148.58449187439587,146.52672520145995,146.4146645581046,148.56373977220198,145.24532630753495,142.32747571477054,139.71940209498942,139.96154848124607,140.6904238475775,141.92934785522988,143.1321365638561,143.1955551981917,141.3472356582733,141.7292836605651,142.48341988388938,142.51764031488446,142.08488792436995,140.8789226733551,140.84139525592974,140.9107865624876,141.3726229165482,141.07977691272575,142.98856250189186,144.11152336058854,144.47547976050652,142.53319160423362,142.14202410224635,141.2794238621039,141.50325368674555,141.77808534477035,141.50830698234012,141.07330449711463,141.76658046439135,141.01979241197174,142.31883710108312,144.59465832321462,145.1518487393856,145.11717656187943,144.43595896125004,146.26680596569133,151.50928064080475,150.68464367505825,149.8147194778549,149.2405950154142,147.70776739919842,151.1588017983529,154.50234508318695,155.78585045131376,153.56584008344805,155.93389589213717,153.25371654378392,155.51755331030992,158.63254698113442,156.68389159113102,153.58425819561705,154.2348334479781,154.81603289706496,155.7712467106125,154.7573298479919,153.45145199063205,153.51901903993655,153.92123464361913,154.53674727826245,154.38698221022818,155.27779490333396,156.12704094787995,157.38091534554806,158.77640870928744,159.40109148572222,159.18252057533124,159.79016947659514,160.21708226017367,161.94749039460075,163.0208566851579,163.28580804997233,161.19079875102784,160.2915925211823,162.4092022396459,163.52874234773074,160.837178975224,160.7001055183905,161.4036150878281,162.99240648531756,162.9616216670489,162.23818722503896,160.8004955212823,160.24547348093535,159.26792307314392,158.8618386460994,156.7104452683637,157.3593145285197,157.5902480220327,158.14488678534488,158.064469729262,157.3549052612175,156.5206295799228,156.51846531092392,155.73967995774024,155.83563352514406,156.6744132674147,156.68696061702516,157.4860635151528,157.6963519438321,160.08433063474797,160.39565806635784,160.45263947769314,161.04968052754614,159.06618188303833,159.38493769294402,161.68836542603756,160.01842936471348,157.04152579329292,157.64336386445694,156.49717425958923,156.741860633249,155.77319524657472,156.3830001030747,154.3477432320883,154.64273919426316,153.9090820344925,153.1368229327907,151.56228948023616,151.23731689983939,149.1938966799483,149.35831674758785,148.17146263900295,150.33994077522564,150.97434462639765,149.3667428747471,149.31873875192423,151.59877183590856,151.53342276958082,152.01163142547244,151.88970744913448,152.89420494082668,152.54656392227557,152.18373655646909,149.95605633708527,148.07004369465236,146.97668591261169,146.8864456138695,147.20321873915796,146.7449179199208,144.32166699851658,143.8203922110908,144.1518095044372,141.6740418368763,143.81823074831357,142.45007947206764,141.38223498803183,141.89146007976575,142.89162032041915,143.6198188361274,143.0915700276481,142.63997304931686,141.1729247771894,142.08795332088567,141.66243085898822,141.95714173363166,141.2341557014584,143.67646713535672,140.29684052786746,139.59938387966747,141.80325078929724,142.70464349439897,142.59913084745403,144.95762743977818,144.53240650334334,145.7703496900263,142.99161976899043,144.13676511713632,144.426685990426,150.01892212610716,148.2141585571104,148.7310161989617,149.9997178118632,149.91114020957735,149.5199645736521,150.59013852610002,152.2717554541716,151.28728573212285,150.32079366504806,151.63463763244056,153.79692130152566,152.66021568780246,154.44355080022234,153.85381183339183,153.6736668571916,156.20428109500406,158.4909598722547,160.6072013332963,162.49385580529042,164.70177947517888,161.86752762470522,162.30333427437319,163.43995413613138,166.02585191832807,164.0552997111934,163.5248049363903,164.49144403273064,165.34042821201652,166.12684724848182,164.57837932949687,161.6194249209403,161.3776851645139,161.46546005435866,161.6098469999523,162.65726854378838,161.67674962738238,161.73697804142057,162.08356278282108,161.94269630051963,159.844132194221,160.13767317169635,161.67235982355228,162.51916928770376,164.26421344970012,152.45925539456007,153.66438802906367,158.31556717004727,152.80497522137424,149.50141927942963,149.20685135160636,149.61832738964156,147.58661865307806,150.24551479778523,152.89213086046425,152.34226321500037,152.5537516177219,155.87373360447643,155.5996611172677,156.31030977714008,154.20202710046757,153.62705407659237,153.30124177232264,153.9848718498984,154.55222452944062,154.94870753451505,153.26822691045194,154.67432306795527,153.7713117397623,153.1873941231056,155.7723199914529,154.45203887172067,152.99407471780057,152.84724153481116,147.57548281371754,145.23455782263122,148.1942968807582,149.97444194682242,151.13335211001265,152.31085399208413,151.9348351209209,151.37086896966977,151.64299851984504,153.16304675847127,152.50095657451254,153.50403383185812,155.0996990234456,155.3707010037249,154.4614608335867,153.2843283351149,153.624607226521,154.93712287906402,155.20688046926415,156.3492270702211,155.32038647212727,156.54735773318615,157.0596174580002,155.32628547497322,152.54492423587914,150.84487663543828,149.887239260834,151.26331456293852,152.17355736265458,152.29768796918043,152.04630833445563,152.4017939898355],\"type\":\"scatter\"},{\"line\":{\"color\":\"red\"},\"mode\":\"lines\",\"name\":\"Actual Price\",\"x\":[\"2023-12-07T00:00:00\",\"2023-12-08T00:00:00\",\"2023-12-11T00:00:00\",\"2023-12-12T00:00:00\",\"2023-12-13T00:00:00\",\"2023-12-14T00:00:00\",\"2023-12-15T00:00:00\",\"2023-12-18T00:00:00\",\"2023-12-19T00:00:00\",\"2023-12-20T00:00:00\",\"2023-12-21T00:00:00\",\"2023-12-22T00:00:00\",\"2023-12-26T00:00:00\",\"2023-12-27T00:00:00\",\"2023-12-28T00:00:00\",\"2023-12-29T00:00:00\",\"2024-01-02T00:00:00\",\"2024-01-03T00:00:00\",\"2024-01-04T00:00:00\",\"2024-01-05T00:00:00\",\"2024-01-08T00:00:00\",\"2024-01-09T00:00:00\",\"2024-01-10T00:00:00\",\"2024-01-11T00:00:00\",\"2024-01-12T00:00:00\",\"2024-01-16T00:00:00\",\"2024-01-17T00:00:00\",\"2024-01-18T00:00:00\",\"2024-01-19T00:00:00\",\"2024-01-22T00:00:00\",\"2024-01-23T00:00:00\",\"2024-01-24T00:00:00\",\"2024-01-25T00:00:00\",\"2024-01-26T00:00:00\",\"2024-01-29T00:00:00\",\"2024-01-30T00:00:00\",\"2024-01-31T00:00:00\",\"2024-02-01T00:00:00\",\"2024-02-02T00:00:00\",\"2024-02-05T00:00:00\",\"2024-02-06T00:00:00\",\"2024-02-07T00:00:00\",\"2024-02-08T00:00:00\",\"2024-02-09T00:00:00\",\"2024-02-12T00:00:00\",\"2024-02-13T00:00:00\",\"2024-02-14T00:00:00\",\"2024-02-15T00:00:00\",\"2024-02-16T00:00:00\",\"2024-02-20T00:00:00\",\"2024-02-21T00:00:00\",\"2024-02-22T00:00:00\",\"2024-02-23T00:00:00\",\"2024-02-26T00:00:00\",\"2024-02-27T00:00:00\",\"2024-02-28T00:00:00\",\"2024-02-29T00:00:00\",\"2024-03-01T00:00:00\",\"2024-03-04T00:00:00\",\"2024-03-05T00:00:00\",\"2024-03-06T00:00:00\",\"2024-03-07T00:00:00\",\"2024-03-08T00:00:00\",\"2024-03-11T00:00:00\",\"2024-03-12T00:00:00\",\"2024-03-13T00:00:00\",\"2024-03-14T00:00:00\",\"2024-03-15T00:00:00\",\"2024-03-18T00:00:00\",\"2024-03-19T00:00:00\",\"2024-03-20T00:00:00\",\"2024-03-21T00:00:00\",\"2024-03-22T00:00:00\",\"2024-03-25T00:00:00\",\"2024-03-26T00:00:00\",\"2024-03-27T00:00:00\",\"2024-03-28T00:00:00\",\"2024-04-01T00:00:00\",\"2024-04-02T00:00:00\",\"2024-04-03T00:00:00\",\"2024-04-04T00:00:00\",\"2024-04-05T00:00:00\",\"2024-04-08T00:00:00\",\"2024-04-09T00:00:00\",\"2024-04-10T00:00:00\",\"2024-04-11T00:00:00\",\"2024-04-12T00:00:00\",\"2024-04-15T00:00:00\",\"2024-04-16T00:00:00\",\"2024-04-17T00:00:00\",\"2024-04-18T00:00:00\",\"2024-04-19T00:00:00\",\"2024-04-22T00:00:00\",\"2024-04-23T00:00:00\",\"2024-04-24T00:00:00\",\"2024-04-25T00:00:00\",\"2024-04-26T00:00:00\",\"2024-04-29T00:00:00\",\"2024-04-30T00:00:00\",\"2024-05-01T00:00:00\",\"2024-05-02T00:00:00\",\"2024-05-03T00:00:00\",\"2024-05-06T00:00:00\",\"2024-05-07T00:00:00\",\"2024-05-08T00:00:00\",\"2024-05-09T00:00:00\",\"2024-05-10T00:00:00\",\"2024-05-13T00:00:00\",\"2024-05-14T00:00:00\",\"2024-05-15T00:00:00\",\"2024-05-16T00:00:00\",\"2024-05-17T00:00:00\",\"2024-05-20T00:00:00\",\"2024-05-21T00:00:00\",\"2024-05-22T00:00:00\",\"2024-05-23T00:00:00\",\"2024-05-24T00:00:00\",\"2024-05-28T00:00:00\",\"2024-05-29T00:00:00\",\"2024-05-30T00:00:00\",\"2024-05-31T00:00:00\",\"2024-06-03T00:00:00\",\"2024-06-04T00:00:00\",\"2024-06-05T00:00:00\",\"2024-06-06T00:00:00\",\"2024-06-07T00:00:00\",\"2024-06-10T00:00:00\",\"2024-06-11T00:00:00\",\"2024-06-12T00:00:00\",\"2024-06-13T00:00:00\",\"2024-06-14T00:00:00\",\"2024-06-17T00:00:00\",\"2024-06-18T00:00:00\",\"2024-06-20T00:00:00\",\"2024-06-21T00:00:00\",\"2024-06-24T00:00:00\",\"2024-06-25T00:00:00\",\"2024-06-26T00:00:00\",\"2024-06-27T00:00:00\",\"2024-06-28T00:00:00\",\"2024-07-01T00:00:00\",\"2024-07-02T00:00:00\",\"2024-07-03T00:00:00\",\"2024-07-05T00:00:00\",\"2024-07-08T00:00:00\",\"2024-07-09T00:00:00\",\"2024-07-10T00:00:00\",\"2024-07-11T00:00:00\",\"2024-07-12T00:00:00\",\"2024-07-15T00:00:00\",\"2024-07-16T00:00:00\",\"2024-07-17T00:00:00\",\"2024-07-18T00:00:00\",\"2024-07-19T00:00:00\",\"2024-07-22T00:00:00\",\"2024-07-23T00:00:00\",\"2024-07-24T00:00:00\",\"2024-07-25T00:00:00\",\"2024-07-26T00:00:00\",\"2024-07-29T00:00:00\",\"2024-07-30T00:00:00\",\"2024-07-31T00:00:00\",\"2024-08-01T00:00:00\",\"2024-08-02T00:00:00\",\"2024-08-05T00:00:00\",\"2024-08-06T00:00:00\",\"2024-08-07T00:00:00\",\"2024-08-08T00:00:00\",\"2024-08-09T00:00:00\",\"2024-08-12T00:00:00\",\"2024-08-13T00:00:00\",\"2024-08-14T00:00:00\",\"2024-08-15T00:00:00\",\"2024-08-16T00:00:00\",\"2024-08-19T00:00:00\",\"2024-08-20T00:00:00\",\"2024-08-21T00:00:00\",\"2024-08-22T00:00:00\",\"2024-08-23T00:00:00\",\"2024-08-26T00:00:00\",\"2024-08-27T00:00:00\",\"2024-08-28T00:00:00\",\"2024-08-29T00:00:00\",\"2024-08-30T00:00:00\",\"2024-09-03T00:00:00\",\"2024-09-04T00:00:00\",\"2024-09-05T00:00:00\",\"2024-09-06T00:00:00\",\"2024-09-09T00:00:00\",\"2024-09-10T00:00:00\",\"2024-09-11T00:00:00\",\"2024-09-12T00:00:00\",\"2024-09-13T00:00:00\",\"2024-09-16T00:00:00\",\"2024-09-17T00:00:00\",\"2024-09-18T00:00:00\",\"2024-09-19T00:00:00\",\"2024-09-20T00:00:00\",\"2024-09-23T00:00:00\",\"2024-09-24T00:00:00\",\"2024-09-25T00:00:00\",\"2024-09-26T00:00:00\",\"2024-09-27T00:00:00\",\"2024-09-30T00:00:00\",\"2024-10-01T00:00:00\",\"2024-10-02T00:00:00\",\"2024-10-03T00:00:00\",\"2024-10-04T00:00:00\",\"2024-10-07T00:00:00\",\"2024-10-08T00:00:00\",\"2024-10-09T00:00:00\",\"2024-10-10T00:00:00\",\"2024-10-11T00:00:00\",\"2024-10-14T00:00:00\",\"2024-10-15T00:00:00\",\"2024-10-16T00:00:00\",\"2024-10-17T00:00:00\",\"2024-10-18T00:00:00\",\"2024-10-21T00:00:00\",\"2024-10-22T00:00:00\",\"2024-10-23T00:00:00\",\"2024-10-24T00:00:00\",\"2024-10-25T00:00:00\",\"2024-10-28T00:00:00\",\"2024-10-29T00:00:00\",\"2024-10-30T00:00:00\",\"2024-10-31T00:00:00\",\"2024-11-01T00:00:00\",\"2024-11-04T00:00:00\",\"2024-11-05T00:00:00\",\"2024-11-06T00:00:00\",\"2024-11-07T00:00:00\",\"2024-11-08T00:00:00\",\"2024-11-11T00:00:00\",\"2024-11-12T00:00:00\",\"2024-11-13T00:00:00\",\"2024-11-14T00:00:00\",\"2024-11-15T00:00:00\",\"2024-11-18T00:00:00\",\"2024-11-19T00:00:00\",\"2024-11-20T00:00:00\",\"2024-11-21T00:00:00\",\"2024-11-22T00:00:00\",\"2024-11-25T00:00:00\",\"2024-11-26T00:00:00\",\"2024-11-27T00:00:00\",\"2024-11-29T00:00:00\",\"2024-12-02T00:00:00\",\"2024-12-03T00:00:00\",\"2024-12-04T00:00:00\",\"2024-12-05T00:00:00\",\"2024-12-06T00:00:00\",\"2024-12-09T00:00:00\",\"2024-12-10T00:00:00\",\"2024-12-11T00:00:00\",\"2024-12-12T00:00:00\",\"2024-12-13T00:00:00\",\"2024-12-16T00:00:00\",\"2024-12-17T00:00:00\",\"2024-12-18T00:00:00\",\"2024-12-19T00:00:00\",\"2024-12-20T00:00:00\",\"2024-12-23T00:00:00\",\"2024-12-24T00:00:00\",\"2024-12-26T00:00:00\",\"2024-12-27T00:00:00\",\"2024-12-30T00:00:00\",\"2024-12-31T00:00:00\",\"2025-01-02T00:00:00\",\"2025-01-03T00:00:00\",\"2025-01-06T00:00:00\",\"2025-01-07T00:00:00\",\"2025-01-08T00:00:00\",\"2025-01-10T00:00:00\",\"2025-01-13T00:00:00\",\"2025-01-14T00:00:00\",\"2025-01-15T00:00:00\",\"2025-01-16T00:00:00\",\"2025-01-17T00:00:00\",\"2025-01-21T00:00:00\",\"2025-01-22T00:00:00\",\"2025-01-23T00:00:00\",\"2025-01-24T00:00:00\",\"2025-01-27T00:00:00\",\"2025-01-28T00:00:00\",\"2025-01-29T00:00:00\",\"2025-01-30T00:00:00\",\"2025-01-31T00:00:00\",\"2025-02-03T00:00:00\",\"2025-02-04T00:00:00\",\"2025-02-05T00:00:00\",\"2025-02-06T00:00:00\",\"2025-02-07T00:00:00\",\"2025-02-10T00:00:00\",\"2025-02-11T00:00:00\",\"2025-02-12T00:00:00\",\"2025-02-13T00:00:00\",\"2025-02-14T00:00:00\",\"2025-02-18T00:00:00\",\"2025-02-19T00:00:00\",\"2025-02-20T00:00:00\",\"2025-02-21T00:00:00\",\"2025-02-24T00:00:00\",\"2025-02-25T00:00:00\",\"2025-02-26T00:00:00\",\"2025-02-27T00:00:00\",\"2025-02-28T00:00:00\",\"2025-03-03T00:00:00\",\"2025-03-04T00:00:00\",\"2025-03-05T00:00:00\",\"2025-03-06T00:00:00\",\"2025-03-07T00:00:00\",\"2025-03-10T00:00:00\",\"2025-03-11T00:00:00\",\"2025-03-12T00:00:00\",\"2025-03-13T00:00:00\",\"2025-03-14T00:00:00\",\"2025-03-17T00:00:00\",\"2025-03-18T00:00:00\",\"2025-03-19T00:00:00\",\"2025-03-20T00:00:00\",\"2025-03-21T00:00:00\",\"2025-03-24T00:00:00\",\"2025-03-25T00:00:00\",\"2025-03-26T00:00:00\",\"2025-03-27T00:00:00\",\"2025-03-28T00:00:00\",\"2025-03-31T00:00:00\",\"2025-04-01T00:00:00\",\"2025-04-02T00:00:00\",\"2025-04-03T00:00:00\",\"2025-04-04T00:00:00\",\"2025-04-07T00:00:00\",\"2025-04-08T00:00:00\",\"2025-04-09T00:00:00\",\"2025-04-10T00:00:00\",\"2025-04-11T00:00:00\",\"2025-04-14T00:00:00\",\"2025-04-15T00:00:00\",\"2025-04-16T00:00:00\",\"2025-04-17T00:00:00\",\"2025-04-21T00:00:00\",\"2025-04-22T00:00:00\",\"2025-04-23T00:00:00\",\"2025-04-24T00:00:00\",\"2025-04-25T00:00:00\",\"2025-04-28T00:00:00\",\"2025-04-29T00:00:00\",\"2025-04-30T00:00:00\",\"2025-05-01T00:00:00\",\"2025-05-02T00:00:00\",\"2025-05-05T00:00:00\",\"2025-05-06T00:00:00\",\"2025-05-07T00:00:00\",\"2025-05-08T00:00:00\",\"2025-05-09T00:00:00\",\"2025-05-12T00:00:00\",\"2025-05-13T00:00:00\",\"2025-05-14T00:00:00\",\"2025-05-15T00:00:00\",\"2025-05-16T00:00:00\",\"2025-05-19T00:00:00\",\"2025-05-20T00:00:00\",\"2025-05-21T00:00:00\",\"2025-05-22T00:00:00\",\"2025-05-23T00:00:00\",\"2025-05-27T00:00:00\",\"2025-05-28T00:00:00\",\"2025-05-29T00:00:00\",\"2025-05-30T00:00:00\",\"2025-06-02T00:00:00\",\"2025-06-03T00:00:00\",\"2025-06-04T00:00:00\",\"2025-06-05T00:00:00\",\"2025-06-06T00:00:00\",\"2025-06-09T00:00:00\",\"2025-06-10T00:00:00\",\"2025-06-11T00:00:00\",\"2025-06-12T00:00:00\",\"2025-06-13T00:00:00\",\"2025-06-16T00:00:00\",\"2025-06-17T00:00:00\",\"2025-06-18T00:00:00\",\"2025-06-20T00:00:00\",\"2025-06-23T00:00:00\",\"2025-06-24T00:00:00\",\"2025-06-25T00:00:00\",\"2025-06-26T00:00:00\",\"2025-06-27T00:00:00\",\"2025-06-30T00:00:00\"],\"y\":[148.16477966308594,147.23040771484375,147.8406219482422,147.8501739501953,148.53662109375,149.56634521484375,147.93597412109375,148.2029571533203,149.17544555664062,146.13397216796875,147.630859375,148.2220001220703,148.87034606933594,149.07057189941406,149.28985595703125,149.44241333007812,152.5220184326172,153.47543334960938,153.1512908935547,153.62802124023438,154.00938415527344,154.104736328125,154.33355712890625,153.64707946777344,154.829345703125,153.04641723632812,152.96060180664062,153.70428466796875,154.15237426757812,154.90562438964844,152.3694610595703,151.55905151367188,152.131103515625,152.0738983154297,151.9404296875,151.3778839111328,151.50181579589844,150.98696899414062,149.31846618652344,148.54617309570312,150.70094299316406,150.6246795654297,149.11822509765625,149.46145629882812,150.500732421875,149.1849822998047,148.48898315429688,150.56744384765625,150.39454650878906,151.65301513671875,152.44078063964844,154.1411895751953,155.47653198242188,154.46780395507812,154.6503448486328,155.19793701171875,155.0346221923828,155.74554443359375,153.55516052246094,153.6800537109375,153.0748291015625,152.62332153320312,153.2477569580078,154.89051818847656,156.34115600585938,154.765625,152.949951171875,151.96044921875,150.59628295898438,150.0679168701172,149.63560485839844,149.62599182128906,149.12643432617188,149.1168212890625,149.6452178955078,151.7490997314453,151.97006225585938,151.57615661621094,151.52813720703125,148.19456481933594,146.5037841796875,146.39810180664062,145.6295623779297,146.3020477294922,144.29420471191406,142.9396514892578,141.7196044921875,141.78684997558594,138.77029418945312,139.07772827148438,140.00958251953125,142.09426879882812,143.2566680908203,143.67938232421875,142.68988037109375,141.047119140625,140.39385986328125,141.047119140625,138.90481567382812,145.23568725585938,144.02523803710938,143.40078735351562,142.7379150390625,142.87242126464844,143.09335327148438,143.95797729492188,144.01560974121094,145.27410888671875,145.42782592773438,146.66708374023438,148.2137908935547,148.55963134765625,146.49684143066406,146.46780395507812,148.656494140625,144.97637939453125,142.33253479003906,139.82427978515625,139.88235473632812,140.6958465576172,142.0419921875,143.0782470703125,143.13633728027344,141.3640899658203,141.79986572265625,142.43907165527344,142.48748779296875,142.129150390625,140.82176208496094,140.86048889160156,140.94764709472656,141.34471130371094,141.05418395996094,143.11695861816406,144.0563507080078,144.4146728515625,142.54559326171875,142.187255859375,141.19944763183594,141.54808044433594,141.8192596435547,141.42218017578125,141.09291076660156,141.8579864501953,140.8895263671875,142.4099884033203,144.7148895263672,144.97637939453125,145.15069580078125,144.53089904785156,146.2450408935547,151.63929748535156,150.51589965820312,149.80894470214844,149.37313842773438,147.5427703857422,151.3487548828125,154.6027374267578,155.57118225097656,153.55682373046875,156.23941040039062,152.86924743652344,155.68739318847656,158.9607391357422,156.16192626953125,153.95388793945312,153.88609313964844,155.16444396972656,155.55181884765625,154.8351593017578,153.39218139648438,153.47933959960938,154.07009887695312,154.36062622070312,154.5930633544922,155.10633850097656,156.33624267578125,157.22723388671875,158.95106506347656,159.41592407226562,159.00608825683594,159.95260620117188,160.25509643554688,161.8456573486328,163.11419677734375,163.30934143066406,160.99671936035156,160.40147399902344,162.57749938964844,163.32887268066406,160.83082580566406,160.65516662597656,161.51388549804688,162.94830322265625,163.02638244628906,162.12864685058594,160.83082580566406,160.1868133544922,159.26954650878906,158.84019470214844,156.7129669189453,157.4838409423828,157.49359130859375,158.1376190185547,158.06932067871094,157.2691650390625,156.61538696289062,156.4104461669922,155.66885375976562,155.82498168945312,156.76174926757812,156.62513732910156,157.55215454101562,157.6887664794922,160.1282501220703,160.30389404296875,160.4893035888672,161.12355041503906,158.8889923095703,159.49398803710938,161.8456573486328,159.70864868164062,156.98619079589844,157.6887664794922,156.21530151367188,156.7227325439453,155.99087524414062,156.2543487548828,154.4100799560547,154.51742553710938,154.0587921142578,152.93663024902344,151.70712280273438,151.28750610351562,148.94561767578125,149.53109741210938,148.19424438476562,150.272705078125,151.02407836914062,149.29690551757812,149.4042510986328,151.73638916015625,151.41436767578125,152.00961303710938,151.98995971679688,152.8555450439453,152.471923828125,152.26536560058594,149.86532592773438,148.0062713623047,147.0718231201172,146.86524963378906,147.1505126953125,146.78656005859375,144.23898315429688,143.8455352783203,144.21929931640625,141.49465942382812,144.0127410888672,142.37991333007812,141.2290802001953,142.10450744628906,142.89141845703125,143.4619140625,143.19631958007812,142.6750030517578,140.9929962158203,142.25204467773438,141.66188049316406,141.8291015625,141.30776977539062,143.83567810058594,139.94053649902344,139.7339630126953,142.10450744628906,142.37991333007812,142.59632873535156,145.35047912597656,144.62258911132812,145.7242431640625,142.89141845703125,144.23898315429688,144.41603088378906,150.3866424560547,147.91773986816406,148.6751251220703,150.36697387695312,149.65875244140625,149.38333129882812,150.97682189941406,152.15716552734375,150.99647521972656,150.6128692626953,151.7145538330078,153.57359313964844,152.71783447265625,154.6752471923828,153.59326171875,153.67257690429688,156.5479278564453,158.3227081298828,160.92044067382812,162.34820556640625,164.67822265625,161.69381713867188,162.33828735351562,163.61732482910156,165.8581085205078,164.013916015625,163.71646118164062,164.42044067382812,165.27313232421875,166.2745361328125,164.45018005371094,161.4657745361328,161.60458374023438,161.4261016845703,161.4558563232422,162.85386657714844,161.60458374023438,161.6343231201172,162.2391357421875,161.9020233154297,159.6513214111328,160.34536743164062,161.74339294433594,162.31846618652344,164.4303436279297,151.94737243652344,154.0394287109375,158.46153259277344,151.9374542236328,149.3397216796875,148.72499084472656,149.68675231933594,147.42613220214844,150.44029235839844,153.0479278564453,152.31422424316406,152.6017608642578,156.13150024414062,155.58616638183594,156.40911865234375,154.05926513671875,153.6130828857422,153.2660675048828,154.02952575683594,154.5847625732422,154.98135375976562,153.1470947265625,154.79296875,153.6824951171875,153.15699768066406,155.96295166015625,154.33688354492188,152.90911865234375,152.82980346679688,147.17825317382812,145.11593627929688,148.3383026123047,150.04368591308594,151.19383239746094,152.3538818359375,151.87796020507812,151.31280517578125,151.63999938964844,153.25,152.42999267578125,153.5800018310547,155.2100067138672,155.39999389648438,154.4199981689453,153.22000122070312,153.66000366210938,155.02999877929688,155.22999572753906,156.4499969482422,155.25999450683594,156.66000366210938,157.10000610351562,155.22000122070312,152.3800048828125,150.72999572753906,149.7899932861328,151.32000732421875,152.19000244140625,152.27999877929688,152.00999450683594,152.41000366210938,152.75],\"type\":\"scatter\"}],                        {\"template\":{\"data\":{\"barpolar\":[{\"marker\":{\"line\":{\"color\":\"white\",\"width\":0.5},\"pattern\":{\"fillmode\":\"overlay\",\"size\":10,\"solidity\":0.2}},\"type\":\"barpolar\"}],\"bar\":[{\"error_x\":{\"color\":\"#2a3f5f\"},\"error_y\":{\"color\":\"#2a3f5f\"},\"marker\":{\"line\":{\"color\":\"white\",\"width\":0.5},\"pattern\":{\"fillmode\":\"overlay\",\"size\":10,\"solidity\":0.2}},\"type\":\"bar\"}],\"carpet\":[{\"aaxis\":{\"endlinecolor\":\"#2a3f5f\",\"gridcolor\":\"#C8D4E3\",\"linecolor\":\"#C8D4E3\",\"minorgridcolor\":\"#C8D4E3\",\"startlinecolor\":\"#2a3f5f\"},\"baxis\":{\"endlinecolor\":\"#2a3f5f\",\"gridcolor\":\"#C8D4E3\",\"linecolor\":\"#C8D4E3\",\"minorgridcolor\":\"#C8D4E3\",\"startlinecolor\":\"#2a3f5f\"},\"type\":\"carpet\"}],\"choropleth\":[{\"colorbar\":{\"outlinewidth\":0,\"ticks\":\"\"},\"type\":\"choropleth\"}],\"contourcarpet\":[{\"colorbar\":{\"outlinewidth\":0,\"ticks\":\"\"},\"type\":\"contourcarpet\"}],\"contour\":[{\"colorbar\":{\"outlinewidth\":0,\"ticks\":\"\"},\"colorscale\":[[0.0,\"#0d0887\"],[0.1111111111111111,\"#46039f\"],[0.2222222222222222,\"#7201a8\"],[0.3333333333333333,\"#9c179e\"],[0.4444444444444444,\"#bd3786\"],[0.5555555555555556,\"#d8576b\"],[0.6666666666666666,\"#ed7953\"],[0.7777777777777778,\"#fb9f3a\"],[0.8888888888888888,\"#fdca26\"],[1.0,\"#f0f921\"]],\"type\":\"contour\"}],\"heatmapgl\":[{\"colorbar\":{\"outlinewidth\":0,\"ticks\":\"\"},\"colorscale\":[[0.0,\"#0d0887\"],[0.1111111111111111,\"#46039f\"],[0.2222222222222222,\"#7201a8\"],[0.3333333333333333,\"#9c179e\"],[0.4444444444444444,\"#bd3786\"],[0.5555555555555556,\"#d8576b\"],[0.6666666666666666,\"#ed7953\"],[0.7777777777777778,\"#fb9f3a\"],[0.8888888888888888,\"#fdca26\"],[1.0,\"#f0f921\"]],\"type\":\"heatmapgl\"}],\"heatmap\":[{\"colorbar\":{\"outlinewidth\":0,\"ticks\":\"\"},\"colorscale\":[[0.0,\"#0d0887\"],[0.1111111111111111,\"#46039f\"],[0.2222222222222222,\"#7201a8\"],[0.3333333333333333,\"#9c179e\"],[0.4444444444444444,\"#bd3786\"],[0.5555555555555556,\"#d8576b\"],[0.6666666666666666,\"#ed7953\"],[0.7777777777777778,\"#fb9f3a\"],[0.8888888888888888,\"#fdca26\"],[1.0,\"#f0f921\"]],\"type\":\"heatmap\"}],\"histogram2dcontour\":[{\"colorbar\":{\"outlinewidth\":0,\"ticks\":\"\"},\"colorscale\":[[0.0,\"#0d0887\"],[0.1111111111111111,\"#46039f\"],[0.2222222222222222,\"#7201a8\"],[0.3333333333333333,\"#9c179e\"],[0.4444444444444444,\"#bd3786\"],[0.5555555555555556,\"#d8576b\"],[0.6666666666666666,\"#ed7953\"],[0.7777777777777778,\"#fb9f3a\"],[0.8888888888888888,\"#fdca26\"],[1.0,\"#f0f921\"]],\"type\":\"histogram2dcontour\"}],\"histogram2d\":[{\"colorbar\":{\"outlinewidth\":0,\"ticks\":\"\"},\"colorscale\":[[0.0,\"#0d0887\"],[0.1111111111111111,\"#46039f\"],[0.2222222222222222,\"#7201a8\"],[0.3333333333333333,\"#9c179e\"],[0.4444444444444444,\"#bd3786\"],[0.5555555555555556,\"#d8576b\"],[0.6666666666666666,\"#ed7953\"],[0.7777777777777778,\"#fb9f3a\"],[0.8888888888888888,\"#fdca26\"],[1.0,\"#f0f921\"]],\"type\":\"histogram2d\"}],\"histogram\":[{\"marker\":{\"pattern\":{\"fillmode\":\"overlay\",\"size\":10,\"solidity\":0.2}},\"type\":\"histogram\"}],\"mesh3d\":[{\"colorbar\":{\"outlinewidth\":0,\"ticks\":\"\"},\"type\":\"mesh3d\"}],\"parcoords\":[{\"line\":{\"colorbar\":{\"outlinewidth\":0,\"ticks\":\"\"}},\"type\":\"parcoords\"}],\"pie\":[{\"automargin\":true,\"type\":\"pie\"}],\"scatter3d\":[{\"line\":{\"colorbar\":{\"outlinewidth\":0,\"ticks\":\"\"}},\"marker\":{\"colorbar\":{\"outlinewidth\":0,\"ticks\":\"\"}},\"type\":\"scatter3d\"}],\"scattercarpet\":[{\"marker\":{\"colorbar\":{\"outlinewidth\":0,\"ticks\":\"\"}},\"type\":\"scattercarpet\"}],\"scattergeo\":[{\"marker\":{\"colorbar\":{\"outlinewidth\":0,\"ticks\":\"\"}},\"type\":\"scattergeo\"}],\"scattergl\":[{\"marker\":{\"colorbar\":{\"outlinewidth\":0,\"ticks\":\"\"}},\"type\":\"scattergl\"}],\"scattermapbox\":[{\"marker\":{\"colorbar\":{\"outlinewidth\":0,\"ticks\":\"\"}},\"type\":\"scattermapbox\"}],\"scatterpolargl\":[{\"marker\":{\"colorbar\":{\"outlinewidth\":0,\"ticks\":\"\"}},\"type\":\"scatterpolargl\"}],\"scatterpolar\":[{\"marker\":{\"colorbar\":{\"outlinewidth\":0,\"ticks\":\"\"}},\"type\":\"scatterpolar\"}],\"scatter\":[{\"fillpattern\":{\"fillmode\":\"overlay\",\"size\":10,\"solidity\":0.2},\"type\":\"scatter\"}],\"scatterternary\":[{\"marker\":{\"colorbar\":{\"outlinewidth\":0,\"ticks\":\"\"}},\"type\":\"scatterternary\"}],\"surface\":[{\"colorbar\":{\"outlinewidth\":0,\"ticks\":\"\"},\"colorscale\":[[0.0,\"#0d0887\"],[0.1111111111111111,\"#46039f\"],[0.2222222222222222,\"#7201a8\"],[0.3333333333333333,\"#9c179e\"],[0.4444444444444444,\"#bd3786\"],[0.5555555555555556,\"#d8576b\"],[0.6666666666666666,\"#ed7953\"],[0.7777777777777778,\"#fb9f3a\"],[0.8888888888888888,\"#fdca26\"],[1.0,\"#f0f921\"]],\"type\":\"surface\"}],\"table\":[{\"cells\":{\"fill\":{\"color\":\"#EBF0F8\"},\"line\":{\"color\":\"white\"}},\"header\":{\"fill\":{\"color\":\"#C8D4E3\"},\"line\":{\"color\":\"white\"}},\"type\":\"table\"}]},\"layout\":{\"annotationdefaults\":{\"arrowcolor\":\"#2a3f5f\",\"arrowhead\":0,\"arrowwidth\":1},\"autotypenumbers\":\"strict\",\"coloraxis\":{\"colorbar\":{\"outlinewidth\":0,\"ticks\":\"\"}},\"colorscale\":{\"diverging\":[[0,\"#8e0152\"],[0.1,\"#c51b7d\"],[0.2,\"#de77ae\"],[0.3,\"#f1b6da\"],[0.4,\"#fde0ef\"],[0.5,\"#f7f7f7\"],[0.6,\"#e6f5d0\"],[0.7,\"#b8e186\"],[0.8,\"#7fbc41\"],[0.9,\"#4d9221\"],[1,\"#276419\"]],\"sequential\":[[0.0,\"#0d0887\"],[0.1111111111111111,\"#46039f\"],[0.2222222222222222,\"#7201a8\"],[0.3333333333333333,\"#9c179e\"],[0.4444444444444444,\"#bd3786\"],[0.5555555555555556,\"#d8576b\"],[0.6666666666666666,\"#ed7953\"],[0.7777777777777778,\"#fb9f3a\"],[0.8888888888888888,\"#fdca26\"],[1.0,\"#f0f921\"]],\"sequentialminus\":[[0.0,\"#0d0887\"],[0.1111111111111111,\"#46039f\"],[0.2222222222222222,\"#7201a8\"],[0.3333333333333333,\"#9c179e\"],[0.4444444444444444,\"#bd3786\"],[0.5555555555555556,\"#d8576b\"],[0.6666666666666666,\"#ed7953\"],[0.7777777777777778,\"#fb9f3a\"],[0.8888888888888888,\"#fdca26\"],[1.0,\"#f0f921\"]]},\"colorway\":[\"#636efa\",\"#EF553B\",\"#00cc96\",\"#ab63fa\",\"#FFA15A\",\"#19d3f3\",\"#FF6692\",\"#B6E880\",\"#FF97FF\",\"#FECB52\"],\"font\":{\"color\":\"#2a3f5f\"},\"geo\":{\"bgcolor\":\"white\",\"lakecolor\":\"white\",\"landcolor\":\"white\",\"showlakes\":true,\"showland\":true,\"subunitcolor\":\"#C8D4E3\"},\"hoverlabel\":{\"align\":\"left\"},\"hovermode\":\"closest\",\"mapbox\":{\"style\":\"light\"},\"paper_bgcolor\":\"white\",\"plot_bgcolor\":\"white\",\"polar\":{\"angularaxis\":{\"gridcolor\":\"#EBF0F8\",\"linecolor\":\"#EBF0F8\",\"ticks\":\"\"},\"bgcolor\":\"white\",\"radialaxis\":{\"gridcolor\":\"#EBF0F8\",\"linecolor\":\"#EBF0F8\",\"ticks\":\"\"}},\"scene\":{\"xaxis\":{\"backgroundcolor\":\"white\",\"gridcolor\":\"#DFE8F3\",\"gridwidth\":2,\"linecolor\":\"#EBF0F8\",\"showbackground\":true,\"ticks\":\"\",\"zerolinecolor\":\"#EBF0F8\"},\"yaxis\":{\"backgroundcolor\":\"white\",\"gridcolor\":\"#DFE8F3\",\"gridwidth\":2,\"linecolor\":\"#EBF0F8\",\"showbackground\":true,\"ticks\":\"\",\"zerolinecolor\":\"#EBF0F8\"},\"zaxis\":{\"backgroundcolor\":\"white\",\"gridcolor\":\"#DFE8F3\",\"gridwidth\":2,\"linecolor\":\"#EBF0F8\",\"showbackground\":true,\"ticks\":\"\",\"zerolinecolor\":\"#EBF0F8\"}},\"shapedefaults\":{\"line\":{\"color\":\"#2a3f5f\"}},\"ternary\":{\"aaxis\":{\"gridcolor\":\"#DFE8F3\",\"linecolor\":\"#A2B1C6\",\"ticks\":\"\"},\"baxis\":{\"gridcolor\":\"#DFE8F3\",\"linecolor\":\"#A2B1C6\",\"ticks\":\"\"},\"bgcolor\":\"white\",\"caxis\":{\"gridcolor\":\"#DFE8F3\",\"linecolor\":\"#A2B1C6\",\"ticks\":\"\"}},\"title\":{\"x\":0.05},\"xaxis\":{\"automargin\":true,\"gridcolor\":\"#EBF0F8\",\"linecolor\":\"#EBF0F8\",\"ticks\":\"\",\"title\":{\"standoff\":15},\"zerolinecolor\":\"#EBF0F8\",\"zerolinewidth\":2},\"yaxis\":{\"automargin\":true,\"gridcolor\":\"#EBF0F8\",\"linecolor\":\"#EBF0F8\",\"ticks\":\"\",\"title\":{\"standoff\":15},\"zerolinecolor\":\"#EBF0F8\",\"zerolinewidth\":2}}},\"legend\":{\"x\":0,\"y\":1},\"title\":{\"text\":\"JNJ Prices Prediction\"},\"xaxis\":{\"title\":{\"text\":\"Dates\"}},\"yaxis\":{\"title\":{\"text\":\"Prices\"}},\"width\":900,\"height\":500},                        {\"responsive\": true}                    ).then(function(){\n",
              "                            \n",
              "var gd = document.getElementById('2de1623a-2302-4805-a2fa-1fbadec1d762');\n",
              "var x = new MutationObserver(function (mutations, observer) {{\n",
              "        var display = window.getComputedStyle(gd).display;\n",
              "        if (!display || display === 'none') {{\n",
              "            console.log([gd, 'removed!']);\n",
              "            Plotly.purge(gd);\n",
              "            observer.disconnect();\n",
              "        }}\n",
              "}});\n",
              "\n",
              "// Listen for the removal of the full notebook cells\n",
              "var notebookContainer = gd.closest('#notebook-container');\n",
              "if (notebookContainer) {{\n",
              "    x.observe(notebookContainer, {childList: true});\n",
              "}}\n",
              "\n",
              "// Listen for the clearing of the current output cell\n",
              "var outputEl = gd.closest('.output');\n",
              "if (outputEl) {{\n",
              "    x.observe(outputEl, {childList: true});\n",
              "}}\n",
              "\n",
              "                        })                };                            </script>        </div>\n",
              "</body>\n",
              "</html>"
            ]
          },
          "metadata": {}
        }
      ]
    },
    {
      "cell_type": "code",
      "source": [
        "import numpy as np\n",
        "import pandas as pd\n",
        "from statsmodels.tsa.arima.model import ARIMA\n",
        "from sklearn.metrics import mean_squared_error, mean_absolute_percentage_error\n",
        "\n",
        "# Define SMAPE\n",
        "def smape_kun(y_true, y_pred):\n",
        "    y_true = np.array(y_true, dtype=float).flatten()\n",
        "    y_pred = np.array(y_pred, dtype=float).flatten()\n",
        "    return np.mean((np.abs(y_pred - y_true) * 200 / (np.abs(y_pred) + np.abs(y_true) + 1e-8)))\n",
        "\n",
        "# Define MBE\n",
        "def mean_bias_error(y_true, y_pred):\n",
        "    y_true = np.array(y_true, dtype=float).flatten()\n",
        "    y_pred = np.array(y_pred, dtype=float).flatten()\n",
        "    return np.mean(y_pred - y_true)\n",
        "\n",
        "# Ensure train_data and test_data are flat float arrays\n",
        "train_ar = np.array(train_data.values, dtype=float).flatten()\n",
        "test_ar = np.array(test_data.values, dtype=float).flatten()\n",
        "\n",
        "history = list(train_ar)\n",
        "predictions = []\n",
        "\n",
        "for t in range(len(test_ar)):\n",
        "    try:\n",
        "        model = ARIMA(history, order=(2,1,2))\n",
        "        model_fit = model.fit()\n",
        "        yhat = float(model_fit.forecast()[0])  # ensure scalar\n",
        "        predictions.append(yhat)\n",
        "        history.append(test_ar[t])\n",
        "    except Exception as e:\n",
        "        print(f\"Error at step {t}: {e}\")\n",
        "        predictions.append(history[-1])  # fallback prediction\n",
        "\n",
        "# Evaluation\n",
        "mse = mean_squared_error(test_ar, predictions)\n",
        "rmse = np.sqrt(mse)\n",
        "mape = mean_absolute_percentage_error(test_ar, predictions) * 100  # in percentage\n",
        "smape = smape_kun(test_ar, predictions)\n",
        "mbe = mean_bias_error(test_ar, predictions)\n",
        "\n",
        "# Print metrics\n",
        "print(f' RMSE: {rmse:.2f}')\n",
        "print(f' MAPE: {mape:.2f}%')\n",
        "print(f' MBE : {mbe:.2f}')\n",
        "print(f' SMAPE: {smape:.2f}%')"
      ],
      "metadata": {
        "colab": {
          "base_uri": "https://localhost:8080/"
        },
        "id": "2KKIPwjjeKZv",
        "outputId": "b5bb954a-c49f-4cf6-bd03-b8787531d889"
      },
      "execution_count": null,
      "outputs": [
        {
          "output_type": "stream",
          "name": "stdout",
          "text": [
            " RMSE: 1.68\n",
            " MAPE: 0.79%\n",
            " MBE : -0.01\n",
            " SMAPE: 0.78%\n"
          ]
        }
      ]
    },
    {
      "cell_type": "code",
      "source": [
        "import numpy as np\n",
        "import pandas as pd\n",
        "from statsmodels.tsa.arima.model import ARIMA\n",
        "from sklearn.metrics import mean_squared_error, mean_absolute_percentage_error\n",
        "\n",
        "# Define SMAPE\n",
        "def smape_kun(y_true, y_pred):\n",
        "    y_true = np.array(y_true, dtype=float).flatten()\n",
        "    y_pred = np.array(y_pred, dtype=float).flatten()\n",
        "    return np.mean((np.abs(y_pred - y_true) * 200 / (np.abs(y_pred) + np.abs(y_true) + 1e-8)))\n",
        "\n",
        "# Define MBE\n",
        "def mean_bias_error(y_true, y_pred):\n",
        "    y_true = np.array(y_true, dtype=float).flatten()\n",
        "    y_pred = np.array(y_pred, dtype=float).flatten()\n",
        "    return np.mean(y_pred - y_true)\n",
        "\n",
        "# Ensure train_data and test_data are flat float arrays\n",
        "train_ar = np.array(train_data.values, dtype=float).flatten()\n",
        "test_ar = np.array(test_data.values, dtype=float).flatten()\n",
        "\n",
        "history = list(train_ar)\n",
        "predictions = []\n",
        "\n",
        "for t in range(len(test_ar)):\n",
        "    try:\n",
        "        model = ARIMA(history, order=(2,1,2))\n",
        "        model_fit = model.fit()\n",
        "        yhat = float(model_fit.forecast()[0])  # ensure scalar\n",
        "        predictions.append(yhat)\n",
        "        history.append(test_ar[t])\n",
        "    except Exception as e:\n",
        "        print(f\"Error at step {t}: {e}\")\n",
        "        predictions.append(history[-1])  # fallback prediction\n",
        "\n",
        "# Evaluation\n",
        "mse = mean_squared_error(test_ar, predictions)\n",
        "rmse = np.sqrt(mse)\n",
        "mape = mean_absolute_percentage_error(test_ar, predictions) * 100  # in percentage\n",
        "smape = smape_kun(test_ar, predictions)\n",
        "mbe = mean_bias_error(test_ar, predictions)\n",
        "\n",
        "# Print metrics\n",
        "print(f' RMSE: {rmse:.2f}')\n",
        "print(f' MAPE: {mape:.2f}%')\n",
        "print(f' MBE : {mbe:.2f}')\n",
        "print(f' SMAPE: {smape:.2f}%')"
      ],
      "metadata": {
        "colab": {
          "base_uri": "https://localhost:8080/"
        },
        "id": "GhalQHR_VrFP",
        "outputId": "643067f7-dcfe-4c37-e0eb-e0fa7a6adcb2"
      },
      "execution_count": null,
      "outputs": [
        {
          "output_type": "stream",
          "name": "stderr",
          "text": [
            "/usr/local/lib/python3.11/dist-packages/statsmodels/base/model.py:607: ConvergenceWarning:\n",
            "\n",
            "Maximum Likelihood optimization failed to converge. Check mle_retvals\n",
            "\n",
            "/usr/local/lib/python3.11/dist-packages/statsmodels/base/model.py:607: ConvergenceWarning:\n",
            "\n",
            "Maximum Likelihood optimization failed to converge. Check mle_retvals\n",
            "\n",
            "/usr/local/lib/python3.11/dist-packages/statsmodels/base/model.py:607: ConvergenceWarning:\n",
            "\n",
            "Maximum Likelihood optimization failed to converge. Check mle_retvals\n",
            "\n"
          ]
        },
        {
          "output_type": "stream",
          "name": "stdout",
          "text": [
            " RMSE: 1.68\n",
            " MAPE: 0.79%\n",
            " MBE : -0.01\n",
            " SMAPE: 0.78%\n"
          ]
        }
      ]
    }
  ]
}